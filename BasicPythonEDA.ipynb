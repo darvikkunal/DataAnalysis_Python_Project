{
 "cells": [
  {
   "cell_type": "markdown",
   "metadata": {},
   "source": [
    "# Getting Started"
   ]
  },
  {
   "cell_type": "code",
   "execution_count": 273,
   "metadata": {},
   "outputs": [
    {
     "name": "stdout",
     "output_type": "stream",
     "text": [
      "4\n"
     ]
    },
    {
     "data": {
      "text/plain": [
       "20"
      ]
     },
     "execution_count": 273,
     "metadata": {},
     "output_type": "execute_result"
    }
   ],
   "source": [
    "print(2+2)\n",
    "4*5"
   ]
  },
  {
   "cell_type": "code",
   "execution_count": 274,
   "metadata": {},
   "outputs": [
    {
     "name": "stdout",
     "output_type": "stream",
     "text": [
      "42\n"
     ]
    }
   ],
   "source": [
    "job_count = 42\n",
    "print(job_count)"
   ]
  },
  {
   "cell_type": "code",
   "execution_count": 275,
   "metadata": {},
   "outputs": [
    {
     "name": "stdout",
     "output_type": "stream",
     "text": [
      "[42, 'Data Engineer', 'DataWorks', True]\n"
     ]
    }
   ],
   "source": [
    "job_title = \"Data Engineer\"\n",
    "company_name = \"DataWorks\"\n",
    "Remote_status = True\n",
    "print([job_count,job_title,company_name,Remote_status])\n"
   ]
  },
  {
   "cell_type": "code",
   "execution_count": 276,
   "metadata": {},
   "outputs": [
    {
     "name": "stdout",
     "output_type": "stream",
     "text": [
      "1220000\n"
     ]
    }
   ],
   "source": [
    "base_sal = 1200000\n",
    "Bonus = 20000\n",
    "Totl_comp = base_sal + Bonus\n",
    "print(Totl_comp)"
   ]
  },
  {
   "cell_type": "code",
   "execution_count": 277,
   "metadata": {},
   "outputs": [
    {
     "name": "stdout",
     "output_type": "stream",
     "text": [
      "6000\n"
     ]
    }
   ],
   "source": [
    "Monthly_sal = 72000\n",
    "Month = 12\n",
    "Anual_sal= int(Monthly_sal/Month)\n",
    "print(Anual_sal)"
   ]
  },
  {
   "cell_type": "code",
   "execution_count": 278,
   "metadata": {},
   "outputs": [
    {
     "name": "stdout",
     "output_type": "stream",
     "text": [
      "121000.0 AI Solutions Data Scientist 11000.0\n"
     ]
    }
   ],
   "source": [
    "Job_title = \"Data Scientist\"\n",
    "Company_name = \"AI Solutions\"\n",
    "salary = 110000\n",
    "Bonus = salary * 0.1 \n",
    "total_comp = salary + Bonus\n",
    "print(total_comp,Company_name,Job_title, Bonus)"
   ]
  },
  {
   "cell_type": "code",
   "execution_count": 279,
   "metadata": {},
   "outputs": [
    {
     "name": "stdout",
     "output_type": "stream",
     "text": [
      "<class 'str'>\n"
     ]
    }
   ],
   "source": [
    "print(type(job_title))"
   ]
  },
  {
   "cell_type": "code",
   "execution_count": 280,
   "metadata": {},
   "outputs": [
    {
     "name": "stdout",
     "output_type": "stream",
     "text": [
      "<class 'float'>\n"
     ]
    }
   ],
   "source": [
    "salary_rate = 43287023.32987\n",
    "print(type(salary_rate))"
   ]
  },
  {
   "cell_type": "code",
   "execution_count": 281,
   "metadata": {},
   "outputs": [
    {
     "name": "stdout",
     "output_type": "stream",
     "text": [
      "<class 'int'>\n"
     ]
    }
   ],
   "source": [
    "print(type(int(salary_rate)))"
   ]
  },
  {
   "cell_type": "code",
   "execution_count": 282,
   "metadata": {},
   "outputs": [
    {
     "name": "stdout",
     "output_type": "stream",
     "text": [
      "False\n"
     ]
    }
   ],
   "source": [
    "print(isinstance(Company_name,float))"
   ]
  },
  {
   "cell_type": "code",
   "execution_count": 283,
   "metadata": {},
   "outputs": [
    {
     "data": {
      "text/plain": [
       "'DATA ENGINEER'"
      ]
     },
     "execution_count": 283,
     "metadata": {},
     "output_type": "execute_result"
    }
   ],
   "source": [
    "job_title.upper()"
   ]
  },
  {
   "cell_type": "code",
   "execution_count": 284,
   "metadata": {},
   "outputs": [
    {
     "name": "stdout",
     "output_type": "stream",
     "text": [
      "Data Analyst\n"
     ]
    }
   ],
   "source": [
    "New_JT=job_title.replace('Data Engineer','Data Analyst')\n",
    "print(New_JT)"
   ]
  },
  {
   "cell_type": "code",
   "execution_count": 285,
   "metadata": {},
   "outputs": [
    {
     "name": "stdout",
     "output_type": "stream",
     "text": [
      "Senior Data Analyst\n"
     ]
    }
   ],
   "source": [
    "seniority_level = 'Senior'\n",
    "print(seniority_level + \" \" + New_JT)"
   ]
  },
  {
   "cell_type": "code",
   "execution_count": 286,
   "metadata": {},
   "outputs": [
    {
     "data": {
      "text/plain": [
       "13"
      ]
     },
     "execution_count": 286,
     "metadata": {},
     "output_type": "execute_result"
    }
   ],
   "source": [
    "len(job_title)"
   ]
  },
  {
   "cell_type": "code",
   "execution_count": 287,
   "metadata": {},
   "outputs": [
    {
     "data": {
      "text/plain": [
       "'data engineer'"
      ]
     },
     "execution_count": 287,
     "metadata": {},
     "output_type": "execute_result"
    }
   ],
   "source": [
    "job_title.lower()"
   ]
  },
  {
   "cell_type": "code",
   "execution_count": 288,
   "metadata": {},
   "outputs": [
    {
     "name": "stdout",
     "output_type": "stream",
     "text": [
      "Job Title : Data Engineer\n"
     ]
    }
   ],
   "source": [
    "print( \"Job Title :\" + \" \" + job_title )"
   ]
  },
  {
   "cell_type": "code",
   "execution_count": 289,
   "metadata": {},
   "outputs": [
    {
     "data": {
      "text/plain": [
       "'Data Scientist at DataWiz Inc.'"
      ]
     },
     "execution_count": 289,
     "metadata": {},
     "output_type": "execute_result"
    }
   ],
   "source": [
    "position = 'Data Scientist'\n",
    "company = 'DataWiz Inc.'\n",
    "f\"{position} at {company}\""
   ]
  },
  {
   "cell_type": "code",
   "execution_count": 290,
   "metadata": {},
   "outputs": [
    {
     "name": "stdout",
     "output_type": "stream",
     "text": [
      "Role: Data Analyst , Skill: Python\n"
     ]
    }
   ],
   "source": [
    "role = 'Data Analyst'\n",
    "skill = 'Python'\n",
    "print(\"Role: {} , Skill: {}\".format(role,skill))"
   ]
  },
  {
   "cell_type": "code",
   "execution_count": 291,
   "metadata": {},
   "outputs": [
    {
     "name": "stdout",
     "output_type": "stream",
     "text": [
      "Role : Data Engineer, Skill : SQL\n"
     ]
    }
   ],
   "source": [
    "role = 'Data Engineer'\n",
    "skill = 'SQL'\n",
    "print(\"Role : %s, Skill : %s\" % (role,skill))"
   ]
  },
  {
   "cell_type": "code",
   "execution_count": 292,
   "metadata": {},
   "outputs": [
    {
     "name": "stdout",
     "output_type": "stream",
     "text": [
      "96000\n"
     ]
    }
   ],
   "source": [
    "monthly_salary = 8000\n",
    "Anual_sal = monthly_salary *12\n",
    "print(Anual_sal)"
   ]
  },
  {
   "cell_type": "code",
   "execution_count": 293,
   "metadata": {},
   "outputs": [
    {
     "name": "stdout",
     "output_type": "stream",
     "text": [
      "False\n"
     ]
    }
   ],
   "source": [
    "avg_salary_analyst = 70000\n",
    "avg_salary_scientist = 85000\n",
    "print(avg_salary_analyst > avg_salary_scientist)"
   ]
  },
  {
   "cell_type": "code",
   "execution_count": 294,
   "metadata": {},
   "outputs": [
    {
     "name": "stdout",
     "output_type": "stream",
     "text": [
      "3\n"
     ]
    }
   ],
   "source": [
    "total_applications = 123\n",
    "job_openings = 10\n",
    "print(total_applications%job_openings)"
   ]
  },
  {
   "cell_type": "code",
   "execution_count": 295,
   "metadata": {},
   "outputs": [
    {
     "name": "stdout",
     "output_type": "stream",
     "text": [
      "25\n"
     ]
    }
   ],
   "source": [
    "job_postings = 20\n",
    "print(job_postings +5)"
   ]
  },
  {
   "cell_type": "code",
   "execution_count": 296,
   "metadata": {},
   "outputs": [
    {
     "name": "stdout",
     "output_type": "stream",
     "text": [
      "85000.0\n"
     ]
    }
   ],
   "source": [
    "min_salary = 50000\n",
    "max_salary = 120000\n",
    "avg_sal = (min_salary+max_salary)/2\n",
    "print(avg_sal)"
   ]
  },
  {
   "cell_type": "code",
   "execution_count": 297,
   "metadata": {},
   "outputs": [
    {
     "name": "stdout",
     "output_type": "stream",
     "text": [
      "Intermediate\n"
     ]
    }
   ],
   "source": [
    "python_experience = 3\n",
    "\n",
    "if python_experience < 2:\n",
    "    print(\"Beginer\")\n",
    "else:\n",
    "    print(\"Intermediate\")"
   ]
  },
  {
   "cell_type": "code",
   "execution_count": 298,
   "metadata": {},
   "outputs": [
    {
     "name": "stdout",
     "output_type": "stream",
     "text": [
      "Advanced\n"
     ]
    }
   ],
   "source": [
    "tools_known = 5\n",
    "if tools_known <= 1 :\n",
    "    print(\"Beginner\")\n",
    "elif tools_known <= 4:\n",
    "    print(\"Intermediate\")\n",
    "else:\n",
    "    print(\"Advanced\")"
   ]
  },
  {
   "cell_type": "code",
   "execution_count": 299,
   "metadata": {},
   "outputs": [
    {
     "name": "stdout",
     "output_type": "stream",
     "text": [
      "Senior Analyst\n"
     ]
    }
   ],
   "source": [
    "job_experience = 4\n",
    "sql_experience = 2\n",
    "\n",
    "if job_experience < 2:\n",
    "    print(\"Junior Analyst\")\n",
    "elif job_experience <=5 and sql_experience == 1:\n",
    "    print(\"Intermediate Analyst\")\n",
    "elif job_experience <= 5 and sql_experience <= 2:\n",
    "    print(\"Senior Analyst\")\n",
    "elif job_experience >=5 and sql_experience <= 3:\n",
    "    print(\"Lead Analyst\")\n",
    "elif job_experience > 5 and sql_experience <= 3:\n",
    "    print(\"Data Analyst\")   \n",
    "else:\n",
    "    print(\"NOT A ANALYST\")"
   ]
  },
  {
   "cell_type": "code",
   "execution_count": 300,
   "metadata": {},
   "outputs": [],
   "source": [
    "job_titles = ['Data Scientist', 'Data Analyst', 'Machine Learning Engineer']"
   ]
  },
  {
   "cell_type": "code",
   "execution_count": 301,
   "metadata": {},
   "outputs": [
    {
     "name": "stdout",
     "output_type": "stream",
     "text": [
      "Data Analyst\n"
     ]
    }
   ],
   "source": [
    "print(job_titles[1])"
   ]
  },
  {
   "cell_type": "code",
   "execution_count": 302,
   "metadata": {},
   "outputs": [
    {
     "name": "stdout",
     "output_type": "stream",
     "text": [
      "['Data Scientist', 'Data Analyst', 'AI specialist']\n"
     ]
    }
   ],
   "source": [
    "job_titles[2] = 'AI specialist'\n",
    "print(job_titles)"
   ]
  },
  {
   "cell_type": "code",
   "execution_count": 303,
   "metadata": {},
   "outputs": [
    {
     "name": "stdout",
     "output_type": "stream",
     "text": [
      "['Data Scientist', 'Data Analyst']\n"
     ]
    }
   ],
   "source": [
    "job_titles = ['Data Scientist', 'Data Analyst', 'Machine Learning Engineer', 'Data Engineer']\n",
    "print(job_titles[0:2])"
   ]
  },
  {
   "cell_type": "code",
   "execution_count": 304,
   "metadata": {},
   "outputs": [
    {
     "name": "stdout",
     "output_type": "stream",
     "text": [
      "['Data Scientist', 'Data Analyst', 'Machine Learning Engineer', 'Data Engineers']\n"
     ]
    }
   ],
   "source": [
    "job_titles[-1] = 'Data Engineers'\n",
    "print(job_titles)"
   ]
  },
  {
   "cell_type": "code",
   "execution_count": 305,
   "metadata": {},
   "outputs": [
    {
     "name": "stdout",
     "output_type": "stream",
     "text": [
      "['Data Scientist', 'Business Analyst', 'Data Analyst', 'Machine Learning Engineer', 'Data Engineers']\n"
     ]
    }
   ],
   "source": [
    "job_titles.insert(1,'Business Analyst')\n",
    "print(job_titles)"
   ]
  },
  {
   "cell_type": "code",
   "execution_count": 306,
   "metadata": {},
   "outputs": [
    {
     "data": {
      "text/plain": [
       "80"
      ]
     },
     "execution_count": 306,
     "metadata": {},
     "output_type": "execute_result"
    }
   ],
   "source": [
    "job_postings = {'Data Scientist': 120, 'Data Analyst': 80, 'Machine Learning Engineer': 50}\n",
    "job_postings.keys()\n",
    "job_postings['Data Analyst']"
   ]
  },
  {
   "cell_type": "code",
   "execution_count": 307,
   "metadata": {},
   "outputs": [
    {
     "name": "stdout",
     "output_type": "stream",
     "text": [
      "{'Data Scientist': 120, 'Data Analyst': 80, 'Machine Learning Engineer': 50, 'AI Specialist': 30}\n"
     ]
    }
   ],
   "source": [
    "job_postings = {'Data Scientist': 120, 'Data Analyst': 80, 'Machine Learning Engineer': 50}\n",
    "job_postings['AI Specialist'] = 30\n",
    "print(job_postings)"
   ]
  },
  {
   "cell_type": "code",
   "execution_count": 308,
   "metadata": {},
   "outputs": [
    {
     "name": "stdout",
     "output_type": "stream",
     "text": [
      "{'Data Scientist': 120, 'Data Analyst': 80}\n"
     ]
    }
   ],
   "source": [
    "job_postings = {'Data Scientist': 120, 'Data Analyst': 80, 'Machine Learning Engineer': 50}\n",
    "job_postings.pop('Machine Learning Engineer')\n",
    "print(job_postings)"
   ]
  },
  {
   "cell_type": "code",
   "execution_count": 309,
   "metadata": {},
   "outputs": [
    {
     "name": "stdout",
     "output_type": "stream",
     "text": [
      "{'Data Scientist': 120, 'Data Analyst': 80, 'Machine Learning Engineer': 50, 'AI Specialist': 30}\n"
     ]
    }
   ],
   "source": [
    "job_postings1 = {'Data Scientist': 120, 'Data Analyst': 80}\n",
    "job_postings2 = {'Machine Learning Engineer': 50, 'AI Specialist': 30}\n",
    "\n",
    "job_postings1.update(job_postings2)\n",
    "print(job_postings1)"
   ]
  },
  {
   "cell_type": "code",
   "execution_count": 310,
   "metadata": {},
   "outputs": [
    {
     "name": "stdout",
     "output_type": "stream",
     "text": [
      "{'Data Scientist': {'job_postings': 120, 'avg_sal': 120000}, 'Data Analyst': {'job_postings': 80, 'avg_sal': 80000}, 'Machine Learning Engineering': {'job_postings': 50, 'avg_sal': 110000}}\n"
     ]
    }
   ],
   "source": [
    "job_details = {\n",
    "    'Data Scientist' : {'job_postings' : 120 , 'avg_sal':120000}, \n",
    "    'Data Analyst' : {'job_postings' : 80 , 'avg_sal': 80000},\n",
    "    'Machine Learning Engineering' : {'job_postings' : 50 , 'avg_sal':110000}\n",
    "}\n",
    "\n",
    "print(job_details)\n",
    "    "
   ]
  },
  {
   "cell_type": "code",
   "execution_count": 311,
   "metadata": {},
   "outputs": [
    {
     "name": "stdout",
     "output_type": "stream",
     "text": [
      "{'Data Scientist', 'AI Specialist', 'Machine Learning Engineer', 'Data Analyst'}\n"
     ]
    }
   ],
   "source": [
    "unique_job_titles = {'Data Scientist', 'Data Analyst', 'Machine Learning Engineer'}\n",
    "unique_job_titles.add('AI Specialist')\n",
    "print(unique_job_titles)"
   ]
  },
  {
   "cell_type": "code",
   "execution_count": 312,
   "metadata": {},
   "outputs": [
    {
     "name": "stdout",
     "output_type": "stream",
     "text": [
      "{'Data Scientist', 'Machine Learning Engineer'}\n"
     ]
    }
   ],
   "source": [
    "unique_job_titles = {'Data Scientist', 'Data Analyst', 'Machine Learning Engineer'}\n",
    "unique_job_titles.remove('Data Analyst')\n",
    "print(unique_job_titles)"
   ]
  },
  {
   "cell_type": "code",
   "execution_count": 313,
   "metadata": {},
   "outputs": [
    {
     "name": "stdout",
     "output_type": "stream",
     "text": [
      "{'San Francisco', 'Austin', 'New York'}\n"
     ]
    }
   ],
   "source": [
    "job_locations = ['New York', 'San Francisco', 'New York', 'Austin', 'San Francisco']\n",
    "unique_job_locations = set(job_locations)\n",
    "print(unique_job_locations)"
   ]
  },
  {
   "cell_type": "code",
   "execution_count": 314,
   "metadata": {},
   "outputs": [
    {
     "name": "stdout",
     "output_type": "stream",
     "text": [
      "{'Python', 'SQL', 'Machine Learning', 'Tableau', 'R'}\n"
     ]
    }
   ],
   "source": [
    "skills_set1 = {'Python', 'SQL', 'Tableau'}\n",
    "skills_set2 = {'R', 'SQL', 'Machine Learning'}\n",
    "union_set = skills_set1.union(skills_set2)\n",
    "print(union_set)"
   ]
  },
  {
   "cell_type": "code",
   "execution_count": 315,
   "metadata": {},
   "outputs": [
    {
     "data": {
      "text/plain": [
       "'Data Analyst'"
      ]
     },
     "execution_count": 315,
     "metadata": {},
     "output_type": "execute_result"
    }
   ],
   "source": [
    "job_roles = ('Data Scientist', 'Data Analyst', 'Machine Learning Engineer')\n",
    "job_roles[1]"
   ]
  },
  {
   "cell_type": "code",
   "execution_count": 316,
   "metadata": {},
   "outputs": [
    {
     "name": "stdout",
     "output_type": "stream",
     "text": [
      "('Data Scientist', 'Data Analyst', 'Machine Learning Engineer', 'AI Speacialist')\n"
     ]
    }
   ],
   "source": [
    "job_roles = ('Data Scientist', 'Data Analyst', 'Machine Learning Engineer')\n",
    "extended_job_roles = job_roles + ('AI Speacialist',)\n",
    "print(extended_job_roles)"
   ]
  },
  {
   "cell_type": "code",
   "execution_count": 317,
   "metadata": {},
   "outputs": [
    {
     "name": "stdout",
     "output_type": "stream",
     "text": [
      "('Data Scientist', 'Machine Learning Engineer')\n"
     ]
    }
   ],
   "source": [
    "job_roles = ('Data Scientist', 'Data Analyst', 'Machine Learning Engineer')\n",
    "job_roles_list = list(job_roles)\n",
    "job_roles_list.remove('Data Analyst')\n",
    "updated_job_roles = tuple(job_roles_list)\n",
    "print(updated_job_roles)"
   ]
  },
  {
   "cell_type": "code",
   "execution_count": 318,
   "metadata": {},
   "outputs": [
    {
     "name": "stdout",
     "output_type": "stream",
     "text": [
      "120\n",
      "80\n",
      "50\n"
     ]
    }
   ],
   "source": [
    "job_postings = (120, 80, 50)\n",
    "data_scientist_postings, data_analyst_postings, ml_engineer_postings = job_postings\n",
    "print(data_scientist_postings)\n",
    "print(data_analyst_postings)\n",
    "print(ml_engineer_postings)"
   ]
  },
  {
   "cell_type": "code",
   "execution_count": 319,
   "metadata": {},
   "outputs": [
    {
     "name": "stdout",
     "output_type": "stream",
     "text": [
      "50\n"
     ]
    }
   ],
   "source": [
    "job_details = (('Data Scientist', 120), ('Data Analyst', 80), ('Machine Learning Engineer', 50))\n",
    "print(job_details[2][1])"
   ]
  },
  {
   "cell_type": "code",
   "execution_count": 320,
   "metadata": {},
   "outputs": [
    {
     "name": "stdout",
     "output_type": "stream",
     "text": [
      "True\n"
     ]
    }
   ],
   "source": [
    "job_title1 = 'Data Engineer'\n",
    "job_title2 = 'Data Scientist'\n",
    "print(job_title1 is not job_title2)"
   ]
  },
  {
   "cell_type": "code",
   "execution_count": 321,
   "metadata": {},
   "outputs": [
    {
     "name": "stdout",
     "output_type": "stream",
     "text": [
      "It is  True\n"
     ]
    }
   ],
   "source": [
    "job_locations = ['New York', 'San Francisco', 'Austin']\n",
    "print(\"It is \", \"New York\" in job_locations)"
   ]
  },
  {
   "cell_type": "code",
   "execution_count": 322,
   "metadata": {},
   "outputs": [
    {
     "name": "stdout",
     "output_type": "stream",
     "text": [
      "True\n"
     ]
    }
   ],
   "source": [
    "job_title = 'Data Analyst'\n",
    "job_description = 'Data Scientist at Tech Corp'\n",
    "print(job_title not in job_description)"
   ]
  },
  {
   "cell_type": "code",
   "execution_count": 323,
   "metadata": {},
   "outputs": [
    {
     "name": "stdout",
     "output_type": "stream",
     "text": [
      "True\n"
     ]
    }
   ],
   "source": [
    "job_titles = ['Data Scientist', 'Data Analyst', 'Machine Learning Engineer']\n",
    "print((\"Data Scientist\" and \"Machine Learning Engineer\") in job_titles)"
   ]
  },
  {
   "cell_type": "code",
   "execution_count": 324,
   "metadata": {},
   "outputs": [
    {
     "name": "stdout",
     "output_type": "stream",
     "text": [
      "116720\n"
     ]
    }
   ],
   "source": [
    "salary1 = 100000\n",
    "salary2 = 50000\n",
    "print(salary1 | salary2)"
   ]
  },
  {
   "cell_type": "code",
   "execution_count": 325,
   "metadata": {},
   "outputs": [
    {
     "name": "stdout",
     "output_type": "stream",
     "text": [
      "Data Scientist\n",
      "Data Analyst\n",
      "Machine Learning Engineer\n"
     ]
    }
   ],
   "source": [
    "job_titles = ['Data Scientist', 'Data Analyst', 'Machine Learning Engineer']\n",
    "\n",
    "for jobs in job_titles:\n",
    "    print(jobs)"
   ]
  },
  {
   "cell_type": "code",
   "execution_count": 326,
   "metadata": {},
   "outputs": [
    {
     "name": "stdout",
     "output_type": "stream",
     "text": [
      "75\n"
     ]
    }
   ],
   "source": [
    "job_postings = [5, 10, 15, 20, 25]\n",
    "\n",
    "total_postings = 0\n",
    "index = 0\n",
    "while index < len(job_postings):\n",
    "    total_postings += job_postings[index]\n",
    "    index += 1\n",
    "print(total_postings)"
   ]
  },
  {
   "cell_type": "code",
   "execution_count": 327,
   "metadata": {},
   "outputs": [
    {
     "name": "stdout",
     "output_type": "stream",
     "text": [
      "0: Data Scientist\n",
      "1: Data Analyst\n",
      "2: Machine Learning Engineer\n"
     ]
    }
   ],
   "source": [
    "job_titles = ['Data Scientist', 'Data Analyst', 'Machine Learning Engineer']\n",
    "\n",
    "for index, title in enumerate(job_titles):\n",
    "    print(f'{index}: {title}')"
   ]
  },
  {
   "cell_type": "code",
   "execution_count": 328,
   "metadata": {},
   "outputs": [
    {
     "name": "stdout",
     "output_type": "stream",
     "text": [
      "Machine Learning Engineer\n"
     ]
    }
   ],
   "source": [
    "index = 0\n",
    "\n",
    "while index < len(job_titles):\n",
    "    if \"Engineer\" in job_titles[index]:\n",
    "        print(job_titles[index])\n",
    "        break\n",
    "    index += 1"
   ]
  },
  {
   "cell_type": "code",
   "execution_count": 329,
   "metadata": {},
   "outputs": [
    {
     "name": "stdout",
     "output_type": "stream",
     "text": [
      "The role of Data Scientist, requires proficiency in Python.\n",
      "The role of Data Scientist, requires proficiency in R.\n",
      "The role of Data Analyst, requires proficiency in SQL.\n",
      "The role of Data Analyst, requires proficiency in Excel.\n",
      "The role of Machine Learning Engineer, requires proficiency in Python.\n",
      "The role of Machine Learning Engineer, requires proficiency in TensorFlow.\n"
     ]
    }
   ],
   "source": [
    "positions_skills = {\n",
    "    'Data Scientist': ['Python', 'R'],\n",
    "    'Data Analyst': ['SQL', 'Excel'],\n",
    "    'Machine Learning Engineer': ['Python', 'TensorFlow']\n",
    "}\n",
    "\n",
    "for position, skills  in positions_skills.items():\n",
    "    for skill in skills:\n",
    "        print(f'The role of {position}, requires proficiency in {skill}.')"
   ]
  },
  {
   "cell_type": "code",
   "execution_count": 330,
   "metadata": {},
   "outputs": [
    {
     "name": "stdout",
     "output_type": "stream",
     "text": [
      "[85000.0, 102000.0, 68000.0, 76500.0]\n"
     ]
    }
   ],
   "source": [
    "salaries_usd = [100000, 120000, 80000, 90000]\n",
    "salaries_eur = [salary * 0.85 for salary in salaries_usd]\n",
    "print(salaries_eur)"
   ]
  },
  {
   "cell_type": "code",
   "execution_count": 331,
   "metadata": {},
   "outputs": [
    {
     "name": "stdout",
     "output_type": "stream",
     "text": [
      "['Data Scientist', 'Machine Learning Specialist']\n"
     ]
    }
   ],
   "source": [
    "job_experience = {'Data Scientist': 3, 'Data Analyst': 1, 'Machine Learning Specialist': 4, 'Data Engineer': 2}\n",
    "print([job for job, exp in job_experience.items() if exp > 2])"
   ]
  },
  {
   "cell_type": "code",
   "execution_count": 332,
   "metadata": {},
   "outputs": [
    {
     "name": "stdout",
     "output_type": "stream",
     "text": [
      "['Data Scientist', 'Data Analyst']\n"
     ]
    }
   ],
   "source": [
    "job_salary_dicts = [{'job_title': 'Data Scientist', 'salary': 100000}, {'job_title': 'Data Analyst', 'salary': 120000}, {'job_title': 'Data Engineer', 'salary': 80000}, {'job_title': 'Machine Learning Engineer', 'salary': 90000}]\n",
    "\n",
    "print([job['job_title'] for job in job_salary_dicts if job['salary'] > 90000])"
   ]
  },
  {
   "cell_type": "code",
   "execution_count": 333,
   "metadata": {},
   "outputs": [],
   "source": [
    "# Define data science job roles and required skills\n",
    "job_roles = [\n",
    "    {'role': 'Data Analyst', 'skills': ['Python', 'SQL', 'Excel']},\n",
    "    {'role': 'Data Scientist', 'skills': ['Python', 'R', 'Machine Learning', 'Deep Learning']},\n",
    "    {'role': 'Machine Learning Engineer', 'skills': ['Python', 'TensorFlow', 'PyTorch', 'Scikit-Learn']},\n",
    "    {'role': 'Data Engineer', 'skills': ['Python', 'Apache Spark', 'Hadoop', 'SQL']},\n",
    "    {'role': 'Business Intelligence Analyst', 'skills': ['Python', 'SQL', 'Tableau', 'Power BI', 'Excel']},\n",
    "    {'role': 'Quantitative Analyst', 'skills': ['R', 'Python', 'MATLAB', 'Statistics']},\n",
    "    {'role': 'Operations Analyst', 'skills': ['Python', 'SQL', 'Data Visualization', 'Process Improvement']},\n",
    "    {'role': 'Database Administrator', 'skills': ['SQL', 'Oracle', 'MySQL', 'Database Management']},\n",
    "    {'role': 'AI Engineer', 'skills': ['Python', 'TensorFlow', 'PyTorch', 'Computer Vision']},\n",
    "    {'role': 'Statistician', 'skills': ['R', 'SAS', 'Python', 'Statistical Modeling']}\n",
    "]\n",
    "# My skills\n",
    "my_skills = ['Python', 'SQL', 'Excel']"
   ]
  },
  {
   "cell_type": "code",
   "execution_count": 334,
   "metadata": {},
   "outputs": [
    {
     "data": {
      "text/plain": [
       "['Data Analyst', 'Business Intelligence Analyst']"
      ]
     },
     "execution_count": 334,
     "metadata": {},
     "output_type": "execute_result"
    }
   ],
   "source": [
    "qualified_roles = []\n",
    "\n",
    "for job in job_roles:\n",
    "    qualified = True\n",
    "    \n",
    "    for skill in my_skills:\n",
    "        if skill not in job['skills']:\n",
    "            qualified = False\n",
    "            break\n",
    "    if qualified:\n",
    "        qualified_roles.append(job['role'])\n",
    "\n",
    "qualified_roles"
   ]
  },
  {
   "cell_type": "code",
   "execution_count": 335,
   "metadata": {},
   "outputs": [
    {
     "data": {
      "text/plain": [
       "True"
      ]
     },
     "execution_count": 335,
     "metadata": {},
     "output_type": "execute_result"
    }
   ],
   "source": [
    "def job_title_contains(job_title, keyword):\n",
    "    return keyword in job_title\n",
    "\n",
    "\n",
    "job_title_contains(\"Data Scientist\",\"Data\")"
   ]
  },
  {
   "cell_type": "code",
   "execution_count": 336,
   "metadata": {},
   "outputs": [
    {
     "data": {
      "text/plain": [
       "108000.0"
      ]
     },
     "execution_count": 336,
     "metadata": {},
     "output_type": "execute_result"
    }
   ],
   "source": [
    "salaries = (95000, 120000, 105000, 90000, 130000)\n",
    "def average_salary(x,y,z,k,l):\n",
    "    return sum(salaries) / len(salaries)\n",
    "\n",
    "average_salary(95000, 120000, 105000, 90000, 130000)"
   ]
  },
  {
   "cell_type": "code",
   "execution_count": 337,
   "metadata": {},
   "outputs": [],
   "source": [
    "def salary_statistics(x,y,z,u,i):\n",
    "    return {\n",
    "        f'The Minimum salary is : {min(salaries)}' ,\n",
    "        f'The Maximum salary is : {max(salaries)}',\n",
    "        f'The Average salary is : {sum(salaries)/ len(salaries)}'\n",
    "        \n",
    "    }\n"
   ]
  },
  {
   "cell_type": "code",
   "execution_count": 338,
   "metadata": {},
   "outputs": [
    {
     "data": {
      "text/plain": [
       "{'The Average salary is : 108000.0',\n",
       " 'The Maximum salary is : 130000',\n",
       " 'The Minimum salary is : 90000'}"
      ]
     },
     "execution_count": 338,
     "metadata": {},
     "output_type": "execute_result"
    }
   ],
   "source": [
    "salary_statistics(95000, 120000, 105000, 90000, 130000)"
   ]
  },
  {
   "cell_type": "code",
   "execution_count": 339,
   "metadata": {},
   "outputs": [
    {
     "data": {
      "text/plain": [
       "{'total_postings': 3,\n",
       " 'average_salary': 98333.33333333333,\n",
       " 'unique_locations': ['San Francisco', 'New York']}"
      ]
     },
     "execution_count": 339,
     "metadata": {},
     "output_type": "execute_result"
    }
   ],
   "source": [
    "def job_posting_summary(job_postings):\n",
    "    total_postings = len(job_postings)\n",
    "    total_salary = sum(posting['salary'] for posting in job_postings)\n",
    "    average_salary = total_salary / total_postings\n",
    "    unique_locations = list(set(posting['location'] for posting in job_postings))\n",
    "    return {\n",
    "        'total_postings': total_postings,\n",
    "        'average_salary': average_salary,\n",
    "        'unique_locations': unique_locations\n",
    "    }\n",
    "\n",
    "job_postings = [\n",
    "    {'title': 'Data Scientist', 'location': 'New York', 'salary': 95000},\n",
    "    {'title': 'Data Analyst', 'location': 'San Francisco', 'salary': 85000},\n",
    "    {'title': 'Machine Learning Engineer', 'location': 'New York', 'salary': 115000}\n",
    "]\n",
    "job_posting_summary(job_postings)"
   ]
  },
  {
   "cell_type": "code",
   "execution_count": 340,
   "metadata": {},
   "outputs": [
    {
     "name": "stdout",
     "output_type": "stream",
     "text": [
      "The avg sal is : 108000.0\n"
     ]
    }
   ],
   "source": [
    "salaries = [95000, 120000, 105000, 90000, 130000]\n",
    "average_sal =lambda salaries: sum(salaries) / len(salaries)\n",
    "\n",
    "print(f'The avg sal is : {average_sal(salaries)}')\n"
   ]
  },
  {
   "cell_type": "code",
   "execution_count": 341,
   "metadata": {},
   "outputs": [
    {
     "data": {
      "text/plain": [
       "['Data Scientist', 'Data Engineer', 'Data Analyst']"
      ]
     },
     "execution_count": 341,
     "metadata": {},
     "output_type": "execute_result"
    }
   ],
   "source": [
    "job_titles = ['Data Scientist', 'Data Engineer', 'Machine Learning Engineer', 'Data Analyst']\n",
    "\n",
    "contains_data = lambda title: 'Data' in title\n",
    "filtered_titles = list(filter(contains_data, job_titles))\n",
    "filtered_titles"
   ]
  },
  {
   "cell_type": "code",
   "execution_count": 342,
   "metadata": {},
   "outputs": [
    {
     "data": {
      "text/plain": [
       "[{'title': 'Data Scientist', 'skills': ['Python', 'SQL'], 'remote': True},\n",
       " {'title': 'Machine Learning Engineer',\n",
       "  'skills': ['Python', 'TensorFlow'],\n",
       "  'remote': True}]"
      ]
     },
     "execution_count": 342,
     "metadata": {},
     "output_type": "execute_result"
    }
   ],
   "source": [
    "job_postings = [\n",
    "    {'title': 'Data Scientist', 'skills': ['Python', 'SQL'], 'remote': True},\n",
    "    {'title': 'Data Analyst', 'skills': ['Excel', 'SQL'], 'remote': False},\n",
    "    {'title': 'Machine Learning Engineer', 'skills': ['Python', 'TensorFlow'], 'remote': True},\n",
    "    {'title': 'Software Developer', 'skills': ['Java', 'C++'], 'remote': True}\n",
    "]\n",
    "\n",
    "filter_postings = lambda posting: 'Python' in posting['skills'] and posting['remote']\n",
    "remote_python_postings = list(filter(filter_postings, job_postings))\n",
    "remote_python_postings"
   ]
  },
  {
   "cell_type": "code",
   "execution_count": 343,
   "metadata": {},
   "outputs": [
    {
     "name": "stdout",
     "output_type": "stream",
     "text": [
      "Overwriting salary_calculator.py\n"
     ]
    }
   ],
   "source": [
    "%%writefile salary_calculator.py\n",
    "def calculate_annual_salary(hourly_wage, hours_per_week):\n",
    "    return hourly_wage * hours_per_week * 52"
   ]
  },
  {
   "cell_type": "code",
   "execution_count": 344,
   "metadata": {},
   "outputs": [
    {
     "name": "stdout",
     "output_type": "stream",
     "text": [
      "104000\n"
     ]
    }
   ],
   "source": [
    "import salary_calculator\n",
    "annual_salary = salary_calculator.calculate_annual_salary(50, 40)\n",
    "print(annual_salary)"
   ]
  },
  {
   "cell_type": "code",
   "execution_count": 345,
   "metadata": {},
   "outputs": [
    {
     "name": "stdout",
     "output_type": "stream",
     "text": [
      "Overwriting job_filter.py\n"
     ]
    }
   ],
   "source": [
    "%%writefile job_filter.py\n",
    "def filter_by_location(job_postings, location):\n",
    "    return [job for job in job_postings if job['location'] == location]"
   ]
  },
  {
   "cell_type": "code",
   "execution_count": 346,
   "metadata": {},
   "outputs": [
    {
     "name": "stdout",
     "output_type": "stream",
     "text": [
      "[{'title': 'Data Scientist', 'location': 'New York'}, {'title': 'Machine Learning Engineer', 'location': 'New York'}]\n"
     ]
    }
   ],
   "source": [
    "import job_filter\n",
    "job_postings = [\n",
    "    {'title': 'Data Scientist', 'location': 'New York'},\n",
    "    {'title': 'Data Analyst', 'location': 'San Francisco'},\n",
    "    {'title': 'Machine Learning Engineer', 'location': 'New York'}\n",
    "]\n",
    "filtered_jobs = job_filter.filter_by_location(job_postings, 'New York')\n",
    "print(filtered_jobs)\n"
   ]
  },
  {
   "cell_type": "code",
   "execution_count": 347,
   "metadata": {},
   "outputs": [
    {
     "name": "stdout",
     "output_type": "stream",
     "text": [
      "Package                  Version\n",
      "------------------------ -----------\n",
      "aiohttp                  3.9.5\n",
      "aiosignal                1.3.1\n",
      "annotated-types          0.7.0\n",
      "anyio                    4.4.0\n",
      "asttokens                2.4.1\n",
      "attrs                    23.2.0\n",
      "certifi                  2024.2.2\n",
      "charset-normalizer       3.3.2\n",
      "colorama                 0.4.6\n",
      "comm                     0.2.2\n",
      "contourpy                1.2.1\n",
      "cycler                   0.12.1\n",
      "datasets                 2.19.2\n",
      "DateTime                 5.5\n",
      "debugpy                  1.8.1\n",
      "decorator                5.1.1\n",
      "dill                     0.3.8\n",
      "distro                   1.9.0\n",
      "et-xmlfile               1.1.0\n",
      "executing                2.0.1\n",
      "filelock                 3.15.1\n",
      "fonttools                4.53.0\n",
      "frozenlist               1.4.1\n",
      "fsspec                   2024.3.1\n",
      "greenlet                 3.0.3\n",
      "h11                      0.14.0\n",
      "httpcore                 1.0.5\n",
      "httpx                    0.27.0\n",
      "huggingface-hub          0.23.3\n",
      "idna                     3.7\n",
      "ipykernel                6.29.4\n",
      "ipython                  8.24.0\n",
      "jedi                     0.19.1\n",
      "jsonpatch                1.33\n",
      "jsonpointer              2.4\n",
      "jupyter_client           8.6.2\n",
      "jupyter_core             5.7.2\n",
      "kiwisolver               1.4.5\n",
      "langchain                0.2.1\n",
      "langchain-core           0.2.3\n",
      "langchain-text-splitters 0.2.0\n",
      "langsmith                0.1.67\n",
      "matplotlib               3.9.0\n",
      "matplotlib-inline        0.1.7\n",
      "multidict                6.0.5\n",
      "multiprocess             0.70.16\n",
      "nest-asyncio             1.6.0\n",
      "numpy                    1.26.4\n",
      "openai                   1.30.5\n",
      "openpyxl                 3.1.4\n",
      "orjson                   3.10.3\n",
      "packaging                23.2\n",
      "pandas                   2.2.2\n",
      "parso                    0.8.4\n",
      "pillow                   10.3.0\n",
      "pip                      24.0\n",
      "platformdirs             4.2.2\n",
      "prompt-toolkit           3.0.43\n",
      "psutil                   5.9.8\n",
      "pure-eval                0.2.2\n",
      "pyarrow                  16.1.0\n",
      "pyarrow-hotfix           0.6\n",
      "pydantic                 2.7.2\n",
      "pydantic_core            2.18.3\n",
      "Pygments                 2.18.0\n",
      "pyjokes                  0.6.0\n",
      "pyparsing                3.1.2\n",
      "python-dateutil          2.9.0.post0\n",
      "pytz                     2024.1\n",
      "pywin32                  306\n",
      "PyYAML                   6.0.1\n",
      "pyzmq                    26.0.3\n",
      "requests                 2.32.3\n",
      "seaborn                  0.13.2\n",
      "setuptools               70.0.0\n",
      "six                      1.16.0\n",
      "sniffio                  1.3.1\n",
      "SQLAlchemy               2.0.30\n",
      "stack-data               0.6.3\n",
      "tenacity                 8.3.0\n",
      "tornado                  6.4\n",
      "tqdm                     4.66.4\n",
      "traitlets                5.14.3\n",
      "typing_extensions        4.12.1\n",
      "tzdata                   2024.1\n",
      "urllib3                  2.2.1\n",
      "wcwidth                  0.2.13\n",
      "xxhash                   3.4.1\n",
      "yarl                     1.9.4\n",
      "zope.interface           6.4.post2\n",
      "Note: you may need to restart the kernel to use updated packages.\n"
     ]
    }
   ],
   "source": [
    "pip list"
   ]
  },
  {
   "cell_type": "code",
   "execution_count": 348,
   "metadata": {},
   "outputs": [
    {
     "name": "stdout",
     "output_type": "stream",
     "text": [
      "Requirement already satisfied: pip in c:\\users\\darvi\\appdata\\local\\programs\\python\\python312\\lib\\site-packages (24.0)\n",
      "Note: you may need to restart the kernel to use updated packages.\n"
     ]
    }
   ],
   "source": [
    "pip install --upgrade pip"
   ]
  },
  {
   "cell_type": "code",
   "execution_count": 349,
   "metadata": {},
   "outputs": [
    {
     "name": "stdout",
     "output_type": "stream",
     "text": [
      "Requirement already satisfied: pyjokes in c:\\users\\darvi\\appdata\\local\\programs\\python\\python312\\lib\\site-packages (0.6.0)\n",
      "Note: you may need to restart the kernel to use updated packages.\n"
     ]
    }
   ],
   "source": [
    "pip install pyjokes"
   ]
  },
  {
   "cell_type": "code",
   "execution_count": 350,
   "metadata": {},
   "outputs": [
    {
     "data": {
      "text/plain": [
       "'There are 10 types of people: those who understand hexadecimal and 15 others.'"
      ]
     },
     "execution_count": 350,
     "metadata": {},
     "output_type": "execute_result"
    }
   ],
   "source": [
    "import pyjokes as pyj\n",
    "pyj.get_joke()"
   ]
  },
  {
   "cell_type": "code",
   "execution_count": 351,
   "metadata": {},
   "outputs": [
    {
     "data": {
      "text/plain": [
       "['AdvancedPython.ipynb',\n",
       " 'BasicPythonEDA.ipynb',\n",
       " 'Exploratory Data Analysis.ipynb',\n",
       " 'job_filter.py',\n",
       " 'salary_calculator.py',\n",
       " '__pycache__']"
      ]
     },
     "execution_count": 351,
     "metadata": {},
     "output_type": "execute_result"
    }
   ],
   "source": [
    "import os\n",
    "os.listdir('.')"
   ]
  },
  {
   "cell_type": "code",
   "execution_count": 352,
   "metadata": {},
   "outputs": [
    {
     "name": "stdout",
     "output_type": "stream",
     "text": [
      "{'abilities': [{'ability': {'name': 'static', 'url': 'https://pokeapi.co/api/v2/ability/9/'}, 'is_hidden': False, 'slot': 1}, {'ability': {'name': 'lightning-rod', 'url': 'https://pokeapi.co/api/v2/ability/31/'}, 'is_hidden': True, 'slot': 3}], 'base_experience': 112, 'cries': {'latest': 'https://raw.githubusercontent.com/PokeAPI/cries/main/cries/pokemon/latest/25.ogg', 'legacy': 'https://raw.githubusercontent.com/PokeAPI/cries/main/cries/pokemon/legacy/25.ogg'}, 'forms': [{'name': 'pikachu', 'url': 'https://pokeapi.co/api/v2/pokemon-form/25/'}], 'game_indices': [{'game_index': 84, 'version': {'name': 'red', 'url': 'https://pokeapi.co/api/v2/version/1/'}}, {'game_index': 84, 'version': {'name': 'blue', 'url': 'https://pokeapi.co/api/v2/version/2/'}}, {'game_index': 84, 'version': {'name': 'yellow', 'url': 'https://pokeapi.co/api/v2/version/3/'}}, {'game_index': 25, 'version': {'name': 'gold', 'url': 'https://pokeapi.co/api/v2/version/4/'}}, {'game_index': 25, 'version': {'name': 'silver', 'url': 'https://pokeapi.co/api/v2/version/5/'}}, {'game_index': 25, 'version': {'name': 'crystal', 'url': 'https://pokeapi.co/api/v2/version/6/'}}, {'game_index': 25, 'version': {'name': 'ruby', 'url': 'https://pokeapi.co/api/v2/version/7/'}}, {'game_index': 25, 'version': {'name': 'sapphire', 'url': 'https://pokeapi.co/api/v2/version/8/'}}, {'game_index': 25, 'version': {'name': 'emerald', 'url': 'https://pokeapi.co/api/v2/version/9/'}}, {'game_index': 25, 'version': {'name': 'firered', 'url': 'https://pokeapi.co/api/v2/version/10/'}}, {'game_index': 25, 'version': {'name': 'leafgreen', 'url': 'https://pokeapi.co/api/v2/version/11/'}}, {'game_index': 25, 'version': {'name': 'diamond', 'url': 'https://pokeapi.co/api/v2/version/12/'}}, {'game_index': 25, 'version': {'name': 'pearl', 'url': 'https://pokeapi.co/api/v2/version/13/'}}, {'game_index': 25, 'version': {'name': 'platinum', 'url': 'https://pokeapi.co/api/v2/version/14/'}}, {'game_index': 25, 'version': {'name': 'heartgold', 'url': 'https://pokeapi.co/api/v2/version/15/'}}, {'game_index': 25, 'version': {'name': 'soulsilver', 'url': 'https://pokeapi.co/api/v2/version/16/'}}, {'game_index': 25, 'version': {'name': 'black', 'url': 'https://pokeapi.co/api/v2/version/17/'}}, {'game_index': 25, 'version': {'name': 'white', 'url': 'https://pokeapi.co/api/v2/version/18/'}}, {'game_index': 25, 'version': {'name': 'black-2', 'url': 'https://pokeapi.co/api/v2/version/21/'}}, {'game_index': 25, 'version': {'name': 'white-2', 'url': 'https://pokeapi.co/api/v2/version/22/'}}], 'height': 4, 'held_items': [{'item': {'name': 'oran-berry', 'url': 'https://pokeapi.co/api/v2/item/132/'}, 'version_details': [{'rarity': 50, 'version': {'name': 'ruby', 'url': 'https://pokeapi.co/api/v2/version/7/'}}, {'rarity': 50, 'version': {'name': 'sapphire', 'url': 'https://pokeapi.co/api/v2/version/8/'}}, {'rarity': 50, 'version': {'name': 'emerald', 'url': 'https://pokeapi.co/api/v2/version/9/'}}, {'rarity': 50, 'version': {'name': 'diamond', 'url': 'https://pokeapi.co/api/v2/version/12/'}}, {'rarity': 50, 'version': {'name': 'pearl', 'url': 'https://pokeapi.co/api/v2/version/13/'}}, {'rarity': 50, 'version': {'name': 'platinum', 'url': 'https://pokeapi.co/api/v2/version/14/'}}, {'rarity': 50, 'version': {'name': 'heartgold', 'url': 'https://pokeapi.co/api/v2/version/15/'}}, {'rarity': 50, 'version': {'name': 'soulsilver', 'url': 'https://pokeapi.co/api/v2/version/16/'}}, {'rarity': 50, 'version': {'name': 'black', 'url': 'https://pokeapi.co/api/v2/version/17/'}}, {'rarity': 50, 'version': {'name': 'white', 'url': 'https://pokeapi.co/api/v2/version/18/'}}]}, {'item': {'name': 'light-ball', 'url': 'https://pokeapi.co/api/v2/item/213/'}, 'version_details': [{'rarity': 5, 'version': {'name': 'ruby', 'url': 'https://pokeapi.co/api/v2/version/7/'}}, {'rarity': 5, 'version': {'name': 'sapphire', 'url': 'https://pokeapi.co/api/v2/version/8/'}}, {'rarity': 5, 'version': {'name': 'emerald', 'url': 'https://pokeapi.co/api/v2/version/9/'}}, {'rarity': 5, 'version': {'name': 'diamond', 'url': 'https://pokeapi.co/api/v2/version/12/'}}, {'rarity': 5, 'version': {'name': 'pearl', 'url': 'https://pokeapi.co/api/v2/version/13/'}}, {'rarity': 5, 'version': {'name': 'platinum', 'url': 'https://pokeapi.co/api/v2/version/14/'}}, {'rarity': 5, 'version': {'name': 'heartgold', 'url': 'https://pokeapi.co/api/v2/version/15/'}}, {'rarity': 5, 'version': {'name': 'soulsilver', 'url': 'https://pokeapi.co/api/v2/version/16/'}}, {'rarity': 1, 'version': {'name': 'black', 'url': 'https://pokeapi.co/api/v2/version/17/'}}, {'rarity': 1, 'version': {'name': 'white', 'url': 'https://pokeapi.co/api/v2/version/18/'}}, {'rarity': 5, 'version': {'name': 'black-2', 'url': 'https://pokeapi.co/api/v2/version/21/'}}, {'rarity': 5, 'version': {'name': 'white-2', 'url': 'https://pokeapi.co/api/v2/version/22/'}}, {'rarity': 5, 'version': {'name': 'x', 'url': 'https://pokeapi.co/api/v2/version/23/'}}, {'rarity': 5, 'version': {'name': 'y', 'url': 'https://pokeapi.co/api/v2/version/24/'}}, {'rarity': 5, 'version': {'name': 'omega-ruby', 'url': 'https://pokeapi.co/api/v2/version/25/'}}, {'rarity': 5, 'version': {'name': 'alpha-sapphire', 'url': 'https://pokeapi.co/api/v2/version/26/'}}, {'rarity': 5, 'version': {'name': 'sun', 'url': 'https://pokeapi.co/api/v2/version/27/'}}, {'rarity': 5, 'version': {'name': 'moon', 'url': 'https://pokeapi.co/api/v2/version/28/'}}, {'rarity': 5, 'version': {'name': 'ultra-sun', 'url': 'https://pokeapi.co/api/v2/version/29/'}}, {'rarity': 5, 'version': {'name': 'ultra-moon', 'url': 'https://pokeapi.co/api/v2/version/30/'}}]}], 'id': 25, 'is_default': True, 'location_area_encounters': 'https://pokeapi.co/api/v2/pokemon/25/encounters', 'moves': [{'move': {'name': 'mega-punch', 'url': 'https://pokeapi.co/api/v2/move/5/'}, 'version_group_details': [{'level_learned_at': 0, 'move_learn_method': {'name': 'machine', 'url': 'https://pokeapi.co/api/v2/move-learn-method/4/'}, 'version_group': {'name': 'red-blue', 'url': 'https://pokeapi.co/api/v2/version-group/1/'}}, {'level_learned_at': 0, 'move_learn_method': {'name': 'machine', 'url': 'https://pokeapi.co/api/v2/move-learn-method/4/'}, 'version_group': {'name': 'yellow', 'url': 'https://pokeapi.co/api/v2/version-group/2/'}}, {'level_learned_at': 0, 'move_learn_method': {'name': 'tutor', 'url': 'https://pokeapi.co/api/v2/move-learn-method/3/'}, 'version_group': {'name': 'emerald', 'url': 'https://pokeapi.co/api/v2/version-group/6/'}}, {'level_learned_at': 0, 'move_learn_method': {'name': 'tutor', 'url': 'https://pokeapi.co/api/v2/move-learn-method/3/'}, 'version_group': {'name': 'firered-leafgreen', 'url': 'https://pokeapi.co/api/v2/version-group/7/'}}, {'level_learned_at': 0, 'move_learn_method': {'name': 'machine', 'url': 'https://pokeapi.co/api/v2/move-learn-method/4/'}, 'version_group': {'name': 'sword-shield', 'url': 'https://pokeapi.co/api/v2/version-group/20/'}}]}, {'move': {'name': 'pay-day', 'url': 'https://pokeapi.co/api/v2/move/6/'}, 'version_group_details': [{'level_learned_at': 0, 'move_learn_method': {'name': 'machine', 'url': 'https://pokeapi.co/api/v2/move-learn-method/4/'}, 'version_group': {'name': 'red-blue', 'url': 'https://pokeapi.co/api/v2/version-group/1/'}}, {'level_learned_at': 0, 'move_learn_method': {'name': 'machine', 'url': 'https://pokeapi.co/api/v2/move-learn-method/4/'}, 'version_group': {'name': 'yellow', 'url': 'https://pokeapi.co/api/v2/version-group/2/'}}, {'level_learned_at': 0, 'move_learn_method': {'name': 'machine', 'url': 'https://pokeapi.co/api/v2/move-learn-method/4/'}, 'version_group': {'name': 'lets-go-pikachu-lets-go-eevee', 'url': 'https://pokeapi.co/api/v2/version-group/19/'}}, {'level_learned_at': 0, 'move_learn_method': {'name': 'machine', 'url': 'https://pokeapi.co/api/v2/move-learn-method/4/'}, 'version_group': {'name': 'sword-shield', 'url': 'https://pokeapi.co/api/v2/version-group/20/'}}]}, {'move': {'name': 'thunder-punch', 'url': 'https://pokeapi.co/api/v2/move/9/'}, 'version_group_details': [{'level_learned_at': 0, 'move_learn_method': {'name': 'machine', 'url': 'https://pokeapi.co/api/v2/move-learn-method/4/'}, 'version_group': {'name': 'gold-silver', 'url': 'https://pokeapi.co/api/v2/version-group/3/'}}, {'level_learned_at': 0, 'move_learn_method': {'name': 'machine', 'url': 'https://pokeapi.co/api/v2/move-learn-method/4/'}, 'version_group': {'name': 'crystal', 'url': 'https://pokeapi.co/api/v2/version-group/4/'}}, {'level_learned_at': 0, 'move_learn_method': {'name': 'tutor', 'url': 'https://pokeapi.co/api/v2/move-learn-method/3/'}, 'version_group': {'name': 'emerald', 'url': 'https://pokeapi.co/api/v2/version-group/6/'}}, {'level_learned_at': 0, 'move_learn_method': {'name': 'tutor', 'url': 'https://pokeapi.co/api/v2/move-learn-method/3/'}, 'version_group': {'name': 'platinum', 'url': 'https://pokeapi.co/api/v2/version-group/9/'}}, {'level_learned_at': 0, 'move_learn_method': {'name': 'tutor', 'url': 'https://pokeapi.co/api/v2/move-learn-method/3/'}, 'version_group': {'name': 'heartgold-soulsilver', 'url': 'https://pokeapi.co/api/v2/version-group/10/'}}, {'level_learned_at': 0, 'move_learn_method': {'name': 'tutor', 'url': 'https://pokeapi.co/api/v2/move-learn-method/3/'}, 'version_group': {'name': 'black-2-white-2', 'url': 'https://pokeapi.co/api/v2/version-group/14/'}}, {'level_learned_at': 0, 'move_learn_method': {'name': 'tutor', 'url': 'https://pokeapi.co/api/v2/move-learn-method/3/'}, 'version_group': {'name': 'omega-ruby-alpha-sapphire', 'url': 'https://pokeapi.co/api/v2/version-group/16/'}}, {'level_learned_at': 0, 'move_learn_method': {'name': 'tutor', 'url': 'https://pokeapi.co/api/v2/move-learn-method/3/'}, 'version_group': {'name': 'ultra-sun-ultra-moon', 'url': 'https://pokeapi.co/api/v2/version-group/18/'}}, {'level_learned_at': 0, 'move_learn_method': {'name': 'machine', 'url': 'https://pokeapi.co/api/v2/move-learn-method/4/'}, 'version_group': {'name': 'lets-go-pikachu-lets-go-eevee', 'url': 'https://pokeapi.co/api/v2/version-group/19/'}}, {'level_learned_at': 0, 'move_learn_method': {'name': 'machine', 'url': 'https://pokeapi.co/api/v2/move-learn-method/4/'}, 'version_group': {'name': 'sword-shield', 'url': 'https://pokeapi.co/api/v2/version-group/20/'}}, {'level_learned_at': 0, 'move_learn_method': {'name': 'machine', 'url': 'https://pokeapi.co/api/v2/move-learn-method/4/'}, 'version_group': {'name': 'scarlet-violet', 'url': 'https://pokeapi.co/api/v2/version-group/25/'}}]}, {'move': {'name': 'slam', 'url': 'https://pokeapi.co/api/v2/move/21/'}, 'version_group_details': [{'level_learned_at': 20, 'move_learn_method': {'name': 'level-up', 'url': 'https://pokeapi.co/api/v2/move-learn-method/1/'}, 'version_group': {'name': 'yellow', 'url': 'https://pokeapi.co/api/v2/version-group/2/'}}, {'level_learned_at': 20, 'move_learn_method': {'name': 'level-up', 'url': 'https://pokeapi.co/api/v2/move-learn-method/1/'}, 'version_group': {'name': 'gold-silver', 'url': 'https://pokeapi.co/api/v2/version-group/3/'}}, {'level_learned_at': 20, 'move_learn_method': {'name': 'level-up', 'url': 'https://pokeapi.co/api/v2/move-learn-method/1/'}, 'version_group': {'name': 'crystal', 'url': 'https://pokeapi.co/api/v2/version-group/4/'}}, {'level_learned_at': 20, 'move_learn_method': {'name': 'level-up', 'url': 'https://pokeapi.co/api/v2/move-learn-method/1/'}, 'version_group': {'name': 'ruby-sapphire', 'url': 'https://pokeapi.co/api/v2/version-group/5/'}}, {'level_learned_at': 20, 'move_learn_method': {'name': 'level-up', 'url': 'https://pokeapi.co/api/v2/move-learn-method/1/'}, 'version_group': {'name': 'emerald', 'url': 'https://pokeapi.co/api/v2/version-group/6/'}}, {'level_learned_at': 20, 'move_learn_method': {'name': 'level-up', 'url': 'https://pokeapi.co/api/v2/move-learn-method/1/'}, 'version_group': {'name': 'firered-leafgreen', 'url': 'https://pokeapi.co/api/v2/version-group/7/'}}, {'level_learned_at': 21, 'move_learn_method': {'name': 'level-up', 'url': 'https://pokeapi.co/api/v2/move-learn-method/1/'}, 'version_group': {'name': 'diamond-pearl', 'url': 'https://pokeapi.co/api/v2/version-group/8/'}}, {'level_learned_at': 21, 'move_learn_method': {'name': 'level-up', 'url': 'https://pokeapi.co/api/v2/move-learn-method/1/'}, 'version_group': {'name': 'platinum', 'url': 'https://pokeapi.co/api/v2/version-group/9/'}}, {'level_learned_at': 21, 'move_learn_method': {'name': 'level-up', 'url': 'https://pokeapi.co/api/v2/move-learn-method/1/'}, 'version_group': {'name': 'heartgold-soulsilver', 'url': 'https://pokeapi.co/api/v2/version-group/10/'}}, {'level_learned_at': 26, 'move_learn_method': {'name': 'level-up', 'url': 'https://pokeapi.co/api/v2/move-learn-method/1/'}, 'version_group': {'name': 'black-white', 'url': 'https://pokeapi.co/api/v2/version-group/11/'}}, {'level_learned_at': 20, 'move_learn_method': {'name': 'level-up', 'url': 'https://pokeapi.co/api/v2/move-learn-method/1/'}, 'version_group': {'name': 'colosseum', 'url': 'https://pokeapi.co/api/v2/version-group/12/'}}, {'level_learned_at': 20, 'move_learn_method': {'name': 'level-up', 'url': 'https://pokeapi.co/api/v2/move-learn-method/1/'}, 'version_group': {'name': 'xd', 'url': 'https://pokeapi.co/api/v2/version-group/13/'}}, {'level_learned_at': 26, 'move_learn_method': {'name': 'level-up', 'url': 'https://pokeapi.co/api/v2/move-learn-method/1/'}, 'version_group': {'name': 'black-2-white-2', 'url': 'https://pokeapi.co/api/v2/version-group/14/'}}, {'level_learned_at': 26, 'move_learn_method': {'name': 'level-up', 'url': 'https://pokeapi.co/api/v2/move-learn-method/1/'}, 'version_group': {'name': 'x-y', 'url': 'https://pokeapi.co/api/v2/version-group/15/'}}, {'level_learned_at': 37, 'move_learn_method': {'name': 'level-up', 'url': 'https://pokeapi.co/api/v2/move-learn-method/1/'}, 'version_group': {'name': 'omega-ruby-alpha-sapphire', 'url': 'https://pokeapi.co/api/v2/version-group/16/'}}, {'level_learned_at': 37, 'move_learn_method': {'name': 'level-up', 'url': 'https://pokeapi.co/api/v2/move-learn-method/1/'}, 'version_group': {'name': 'sun-moon', 'url': 'https://pokeapi.co/api/v2/version-group/17/'}}, {'level_learned_at': 37, 'move_learn_method': {'name': 'level-up', 'url': 'https://pokeapi.co/api/v2/move-learn-method/1/'}, 'version_group': {'name': 'ultra-sun-ultra-moon', 'url': 'https://pokeapi.co/api/v2/version-group/18/'}}, {'level_learned_at': 24, 'move_learn_method': {'name': 'level-up', 'url': 'https://pokeapi.co/api/v2/move-learn-method/1/'}, 'version_group': {'name': 'lets-go-pikachu-lets-go-eevee', 'url': 'https://pokeapi.co/api/v2/version-group/19/'}}, {'level_learned_at': 28, 'move_learn_method': {'name': 'level-up', 'url': 'https://pokeapi.co/api/v2/move-learn-method/1/'}, 'version_group': {'name': 'sword-shield', 'url': 'https://pokeapi.co/api/v2/version-group/20/'}}, {'level_learned_at': 28, 'move_learn_method': {'name': 'level-up', 'url': 'https://pokeapi.co/api/v2/move-learn-method/1/'}, 'version_group': {'name': 'brilliant-diamond-and-shining-pearl', 'url': 'https://pokeapi.co/api/v2/version-group/23/'}}]}, {'move': {'name': 'double-kick', 'url': 'https://pokeapi.co/api/v2/move/24/'}, 'version_group_details': [{'level_learned_at': 9, 'move_learn_method': {'name': 'level-up', 'url': 'https://pokeapi.co/api/v2/move-learn-method/1/'}, 'version_group': {'name': 'lets-go-pikachu-lets-go-eevee', 'url': 'https://pokeapi.co/api/v2/version-group/19/'}}]}, {'move': {'name': 'mega-kick', 'url': 'https://pokeapi.co/api/v2/move/25/'}, 'version_group_details': [{'level_learned_at': 0, 'move_learn_method': {'name': 'machine', 'url': 'https://pokeapi.co/api/v2/move-learn-method/4/'}, 'version_group': {'name': 'red-blue', 'url': 'https://pokeapi.co/api/v2/version-group/1/'}}, {'level_learned_at': 0, 'move_learn_method': {'name': 'machine', 'url': 'https://pokeapi.co/api/v2/move-learn-method/4/'}, 'version_group': {'name': 'yellow', 'url': 'https://pokeapi.co/api/v2/version-group/2/'}}, {'level_learned_at': 0, 'move_learn_method': {'name': 'tutor', 'url': 'https://pokeapi.co/api/v2/move-learn-method/3/'}, 'version_group': {'name': 'emerald', 'url': 'https://pokeapi.co/api/v2/version-group/6/'}}, {'level_learned_at': 0, 'move_learn_method': {'name': 'tutor', 'url': 'https://pokeapi.co/api/v2/move-learn-method/3/'}, 'version_group': {'name': 'firered-leafgreen', 'url': 'https://pokeapi.co/api/v2/version-group/7/'}}, {'level_learned_at': 0, 'move_learn_method': {'name': 'machine', 'url': 'https://pokeapi.co/api/v2/move-learn-method/4/'}, 'version_group': {'name': 'sword-shield', 'url': 'https://pokeapi.co/api/v2/version-group/20/'}}]}, {'move': {'name': 'headbutt', 'url': 'https://pokeapi.co/api/v2/move/29/'}, 'version_group_details': [{'level_learned_at': 0, 'move_learn_method': {'name': 'machine', 'url': 'https://pokeapi.co/api/v2/move-learn-method/4/'}, 'version_group': {'name': 'gold-silver', 'url': 'https://pokeapi.co/api/v2/version-group/3/'}}, {'level_learned_at': 0, 'move_learn_method': {'name': 'machine', 'url': 'https://pokeapi.co/api/v2/move-learn-method/4/'}, 'version_group': {'name': 'crystal', 'url': 'https://pokeapi.co/api/v2/version-group/4/'}}, {'level_learned_at': 0, 'move_learn_method': {'name': 'tutor', 'url': 'https://pokeapi.co/api/v2/move-learn-method/3/'}, 'version_group': {'name': 'heartgold-soulsilver', 'url': 'https://pokeapi.co/api/v2/version-group/10/'}}, {'level_learned_at': 0, 'move_learn_method': {'name': 'machine', 'url': 'https://pokeapi.co/api/v2/move-learn-method/4/'}, 'version_group': {'name': 'lets-go-pikachu-lets-go-eevee', 'url': 'https://pokeapi.co/api/v2/version-group/19/'}}]}, {'move': {'name': 'body-slam', 'url': 'https://pokeapi.co/api/v2/move/34/'}, 'version_group_details': [{'level_learned_at': 0, 'move_learn_method': {'name': 'machine', 'url': 'https://pokeapi.co/api/v2/move-learn-method/4/'}, 'version_group': {'name': 'red-blue', 'url': 'https://pokeapi.co/api/v2/version-group/1/'}}, {'level_learned_at': 0, 'move_learn_method': {'name': 'machine', 'url': 'https://pokeapi.co/api/v2/move-learn-method/4/'}, 'version_group': {'name': 'yellow', 'url': 'https://pokeapi.co/api/v2/version-group/2/'}}, {'level_learned_at': 0, 'move_learn_method': {'name': 'tutor', 'url': 'https://pokeapi.co/api/v2/move-learn-method/3/'}, 'version_group': {'name': 'emerald', 'url': 'https://pokeapi.co/api/v2/version-group/6/'}}, {'level_learned_at': 0, 'move_learn_method': {'name': 'tutor', 'url': 'https://pokeapi.co/api/v2/move-learn-method/3/'}, 'version_group': {'name': 'firered-leafgreen', 'url': 'https://pokeapi.co/api/v2/version-group/7/'}}, {'level_learned_at': 0, 'move_learn_method': {'name': 'tutor', 'url': 'https://pokeapi.co/api/v2/move-learn-method/3/'}, 'version_group': {'name': 'xd', 'url': 'https://pokeapi.co/api/v2/version-group/13/'}}, {'level_learned_at': 0, 'move_learn_method': {'name': 'machine', 'url': 'https://pokeapi.co/api/v2/move-learn-method/4/'}, 'version_group': {'name': 'sword-shield', 'url': 'https://pokeapi.co/api/v2/version-group/20/'}}, {'level_learned_at': 0, 'move_learn_method': {'name': 'machine', 'url': 'https://pokeapi.co/api/v2/move-learn-method/4/'}, 'version_group': {'name': 'scarlet-violet', 'url': 'https://pokeapi.co/api/v2/version-group/25/'}}]}, {'move': {'name': 'take-down', 'url': 'https://pokeapi.co/api/v2/move/36/'}, 'version_group_details': [{'level_learned_at': 0, 'move_learn_method': {'name': 'machine', 'url': 'https://pokeapi.co/api/v2/move-learn-method/4/'}, 'version_group': {'name': 'red-blue', 'url': 'https://pokeapi.co/api/v2/version-group/1/'}}, {'level_learned_at': 0, 'move_learn_method': {'name': 'machine', 'url': 'https://pokeapi.co/api/v2/move-learn-method/4/'}, 'version_group': {'name': 'yellow', 'url': 'https://pokeapi.co/api/v2/version-group/2/'}}, {'level_learned_at': 0, 'move_learn_method': {'name': 'machine', 'url': 'https://pokeapi.co/api/v2/move-learn-method/4/'}, 'version_group': {'name': 'scarlet-violet', 'url': 'https://pokeapi.co/api/v2/version-group/25/'}}]}, {'move': {'name': 'double-edge', 'url': 'https://pokeapi.co/api/v2/move/38/'}, 'version_group_details': [{'level_learned_at': 0, 'move_learn_method': {'name': 'machine', 'url': 'https://pokeapi.co/api/v2/move-learn-method/4/'}, 'version_group': {'name': 'red-blue', 'url': 'https://pokeapi.co/api/v2/version-group/1/'}}, {'level_learned_at': 0, 'move_learn_method': {'name': 'machine', 'url': 'https://pokeapi.co/api/v2/move-learn-method/4/'}, 'version_group': {'name': 'yellow', 'url': 'https://pokeapi.co/api/v2/version-group/2/'}}, {'level_learned_at': 0, 'move_learn_method': {'name': 'tutor', 'url': 'https://pokeapi.co/api/v2/move-learn-method/3/'}, 'version_group': {'name': 'emerald', 'url': 'https://pokeapi.co/api/v2/version-group/6/'}}, {'level_learned_at': 0, 'move_learn_method': {'name': 'tutor', 'url': 'https://pokeapi.co/api/v2/move-learn-method/3/'}, 'version_group': {'name': 'firered-leafgreen', 'url': 'https://pokeapi.co/api/v2/version-group/7/'}}, {'level_learned_at': 0, 'move_learn_method': {'name': 'tutor', 'url': 'https://pokeapi.co/api/v2/move-learn-method/3/'}, 'version_group': {'name': 'xd', 'url': 'https://pokeapi.co/api/v2/version-group/13/'}}]}, {'move': {'name': 'tail-whip', 'url': 'https://pokeapi.co/api/v2/move/39/'}, 'version_group_details': [{'level_learned_at': 6, 'move_learn_method': {'name': 'level-up', 'url': 'https://pokeapi.co/api/v2/move-learn-method/1/'}, 'version_group': {'name': 'yellow', 'url': 'https://pokeapi.co/api/v2/version-group/2/'}}, {'level_learned_at': 6, 'move_learn_method': {'name': 'level-up', 'url': 'https://pokeapi.co/api/v2/move-learn-method/1/'}, 'version_group': {'name': 'gold-silver', 'url': 'https://pokeapi.co/api/v2/version-group/3/'}}, {'level_learned_at': 6, 'move_learn_method': {'name': 'level-up', 'url': 'https://pokeapi.co/api/v2/move-learn-method/1/'}, 'version_group': {'name': 'crystal', 'url': 'https://pokeapi.co/api/v2/version-group/4/'}}, {'level_learned_at': 6, 'move_learn_method': {'name': 'level-up', 'url': 'https://pokeapi.co/api/v2/move-learn-method/1/'}, 'version_group': {'name': 'ruby-sapphire', 'url': 'https://pokeapi.co/api/v2/version-group/5/'}}, {'level_learned_at': 6, 'move_learn_method': {'name': 'level-up', 'url': 'https://pokeapi.co/api/v2/move-learn-method/1/'}, 'version_group': {'name': 'emerald', 'url': 'https://pokeapi.co/api/v2/version-group/6/'}}, {'level_learned_at': 6, 'move_learn_method': {'name': 'level-up', 'url': 'https://pokeapi.co/api/v2/move-learn-method/1/'}, 'version_group': {'name': 'firered-leafgreen', 'url': 'https://pokeapi.co/api/v2/version-group/7/'}}, {'level_learned_at': 5, 'move_learn_method': {'name': 'level-up', 'url': 'https://pokeapi.co/api/v2/move-learn-method/1/'}, 'version_group': {'name': 'diamond-pearl', 'url': 'https://pokeapi.co/api/v2/version-group/8/'}}, {'level_learned_at': 5, 'move_learn_method': {'name': 'level-up', 'url': 'https://pokeapi.co/api/v2/move-learn-method/1/'}, 'version_group': {'name': 'platinum', 'url': 'https://pokeapi.co/api/v2/version-group/9/'}}, {'level_learned_at': 5, 'move_learn_method': {'name': 'level-up', 'url': 'https://pokeapi.co/api/v2/move-learn-method/1/'}, 'version_group': {'name': 'heartgold-soulsilver', 'url': 'https://pokeapi.co/api/v2/version-group/10/'}}, {'level_learned_at': 5, 'move_learn_method': {'name': 'level-up', 'url': 'https://pokeapi.co/api/v2/move-learn-method/1/'}, 'version_group': {'name': 'black-white', 'url': 'https://pokeapi.co/api/v2/version-group/11/'}}, {'level_learned_at': 6, 'move_learn_method': {'name': 'level-up', 'url': 'https://pokeapi.co/api/v2/move-learn-method/1/'}, 'version_group': {'name': 'colosseum', 'url': 'https://pokeapi.co/api/v2/version-group/12/'}}, {'level_learned_at': 6, 'move_learn_method': {'name': 'level-up', 'url': 'https://pokeapi.co/api/v2/move-learn-method/1/'}, 'version_group': {'name': 'xd', 'url': 'https://pokeapi.co/api/v2/version-group/13/'}}, {'level_learned_at': 5, 'move_learn_method': {'name': 'level-up', 'url': 'https://pokeapi.co/api/v2/move-learn-method/1/'}, 'version_group': {'name': 'black-2-white-2', 'url': 'https://pokeapi.co/api/v2/version-group/14/'}}, {'level_learned_at': 1, 'move_learn_method': {'name': 'level-up', 'url': 'https://pokeapi.co/api/v2/move-learn-method/1/'}, 'version_group': {'name': 'x-y', 'url': 'https://pokeapi.co/api/v2/version-group/15/'}}, {'level_learned_at': 1, 'move_learn_method': {'name': 'level-up', 'url': 'https://pokeapi.co/api/v2/move-learn-method/1/'}, 'version_group': {'name': 'omega-ruby-alpha-sapphire', 'url': 'https://pokeapi.co/api/v2/version-group/16/'}}, {'level_learned_at': 1, 'move_learn_method': {'name': 'level-up', 'url': 'https://pokeapi.co/api/v2/move-learn-method/1/'}, 'version_group': {'name': 'sun-moon', 'url': 'https://pokeapi.co/api/v2/version-group/17/'}}, {'level_learned_at': 1, 'move_learn_method': {'name': 'level-up', 'url': 'https://pokeapi.co/api/v2/move-learn-method/1/'}, 'version_group': {'name': 'ultra-sun-ultra-moon', 'url': 'https://pokeapi.co/api/v2/version-group/18/'}}, {'level_learned_at': 3, 'move_learn_method': {'name': 'level-up', 'url': 'https://pokeapi.co/api/v2/move-learn-method/1/'}, 'version_group': {'name': 'lets-go-pikachu-lets-go-eevee', 'url': 'https://pokeapi.co/api/v2/version-group/19/'}}, {'level_learned_at': 1, 'move_learn_method': {'name': 'level-up', 'url': 'https://pokeapi.co/api/v2/move-learn-method/1/'}, 'version_group': {'name': 'sword-shield', 'url': 'https://pokeapi.co/api/v2/version-group/20/'}}, {'level_learned_at': 1, 'move_learn_method': {'name': 'level-up', 'url': 'https://pokeapi.co/api/v2/move-learn-method/1/'}, 'version_group': {'name': 'brilliant-diamond-and-shining-pearl', 'url': 'https://pokeapi.co/api/v2/version-group/23/'}}, {'level_learned_at': 1, 'move_learn_method': {'name': 'level-up', 'url': 'https://pokeapi.co/api/v2/move-learn-method/1/'}, 'version_group': {'name': 'scarlet-violet', 'url': 'https://pokeapi.co/api/v2/version-group/25/'}}]}, {'move': {'name': 'growl', 'url': 'https://pokeapi.co/api/v2/move/45/'}, 'version_group_details': [{'level_learned_at': 1, 'move_learn_method': {'name': 'level-up', 'url': 'https://pokeapi.co/api/v2/move-learn-method/1/'}, 'version_group': {'name': 'red-blue', 'url': 'https://pokeapi.co/api/v2/version-group/1/'}}, {'level_learned_at': 1, 'move_learn_method': {'name': 'level-up', 'url': 'https://pokeapi.co/api/v2/move-learn-method/1/'}, 'version_group': {'name': 'yellow', 'url': 'https://pokeapi.co/api/v2/version-group/2/'}}, {'level_learned_at': 1, 'move_learn_method': {'name': 'level-up', 'url': 'https://pokeapi.co/api/v2/move-learn-method/1/'}, 'version_group': {'name': 'gold-silver', 'url': 'https://pokeapi.co/api/v2/version-group/3/'}}, {'level_learned_at': 1, 'move_learn_method': {'name': 'level-up', 'url': 'https://pokeapi.co/api/v2/move-learn-method/1/'}, 'version_group': {'name': 'crystal', 'url': 'https://pokeapi.co/api/v2/version-group/4/'}}, {'level_learned_at': 1, 'move_learn_method': {'name': 'level-up', 'url': 'https://pokeapi.co/api/v2/move-learn-method/1/'}, 'version_group': {'name': 'ruby-sapphire', 'url': 'https://pokeapi.co/api/v2/version-group/5/'}}, {'level_learned_at': 1, 'move_learn_method': {'name': 'level-up', 'url': 'https://pokeapi.co/api/v2/move-learn-method/1/'}, 'version_group': {'name': 'emerald', 'url': 'https://pokeapi.co/api/v2/version-group/6/'}}, {'level_learned_at': 1, 'move_learn_method': {'name': 'level-up', 'url': 'https://pokeapi.co/api/v2/move-learn-method/1/'}, 'version_group': {'name': 'firered-leafgreen', 'url': 'https://pokeapi.co/api/v2/version-group/7/'}}, {'level_learned_at': 1, 'move_learn_method': {'name': 'level-up', 'url': 'https://pokeapi.co/api/v2/move-learn-method/1/'}, 'version_group': {'name': 'diamond-pearl', 'url': 'https://pokeapi.co/api/v2/version-group/8/'}}, {'level_learned_at': 1, 'move_learn_method': {'name': 'level-up', 'url': 'https://pokeapi.co/api/v2/move-learn-method/1/'}, 'version_group': {'name': 'platinum', 'url': 'https://pokeapi.co/api/v2/version-group/9/'}}, {'level_learned_at': 1, 'move_learn_method': {'name': 'level-up', 'url': 'https://pokeapi.co/api/v2/move-learn-method/1/'}, 'version_group': {'name': 'heartgold-soulsilver', 'url': 'https://pokeapi.co/api/v2/version-group/10/'}}, {'level_learned_at': 1, 'move_learn_method': {'name': 'level-up', 'url': 'https://pokeapi.co/api/v2/move-learn-method/1/'}, 'version_group': {'name': 'black-white', 'url': 'https://pokeapi.co/api/v2/version-group/11/'}}, {'level_learned_at': 1, 'move_learn_method': {'name': 'level-up', 'url': 'https://pokeapi.co/api/v2/move-learn-method/1/'}, 'version_group': {'name': 'colosseum', 'url': 'https://pokeapi.co/api/v2/version-group/12/'}}, {'level_learned_at': 1, 'move_learn_method': {'name': 'level-up', 'url': 'https://pokeapi.co/api/v2/move-learn-method/1/'}, 'version_group': {'name': 'xd', 'url': 'https://pokeapi.co/api/v2/version-group/13/'}}, {'level_learned_at': 1, 'move_learn_method': {'name': 'level-up', 'url': 'https://pokeapi.co/api/v2/move-learn-method/1/'}, 'version_group': {'name': 'black-2-white-2', 'url': 'https://pokeapi.co/api/v2/version-group/14/'}}, {'level_learned_at': 5, 'move_learn_method': {'name': 'level-up', 'url': 'https://pokeapi.co/api/v2/move-learn-method/1/'}, 'version_group': {'name': 'x-y', 'url': 'https://pokeapi.co/api/v2/version-group/15/'}}, {'level_learned_at': 5, 'move_learn_method': {'name': 'level-up', 'url': 'https://pokeapi.co/api/v2/move-learn-method/1/'}, 'version_group': {'name': 'omega-ruby-alpha-sapphire', 'url': 'https://pokeapi.co/api/v2/version-group/16/'}}, {'level_learned_at': 5, 'move_learn_method': {'name': 'level-up', 'url': 'https://pokeapi.co/api/v2/move-learn-method/1/'}, 'version_group': {'name': 'sun-moon', 'url': 'https://pokeapi.co/api/v2/version-group/17/'}}, {'level_learned_at': 5, 'move_learn_method': {'name': 'level-up', 'url': 'https://pokeapi.co/api/v2/move-learn-method/1/'}, 'version_group': {'name': 'ultra-sun-ultra-moon', 'url': 'https://pokeapi.co/api/v2/version-group/18/'}}, {'level_learned_at': 1, 'move_learn_method': {'name': 'level-up', 'url': 'https://pokeapi.co/api/v2/move-learn-method/1/'}, 'version_group': {'name': 'lets-go-pikachu-lets-go-eevee', 'url': 'https://pokeapi.co/api/v2/version-group/19/'}}, {'level_learned_at': 1, 'move_learn_method': {'name': 'level-up', 'url': 'https://pokeapi.co/api/v2/move-learn-method/1/'}, 'version_group': {'name': 'sword-shield', 'url': 'https://pokeapi.co/api/v2/version-group/20/'}}, {'level_learned_at': 1, 'move_learn_method': {'name': 'level-up', 'url': 'https://pokeapi.co/api/v2/move-learn-method/1/'}, 'version_group': {'name': 'brilliant-diamond-and-shining-pearl', 'url': 'https://pokeapi.co/api/v2/version-group/23/'}}, {'level_learned_at': 1, 'move_learn_method': {'name': 'level-up', 'url': 'https://pokeapi.co/api/v2/move-learn-method/1/'}, 'version_group': {'name': 'scarlet-violet', 'url': 'https://pokeapi.co/api/v2/version-group/25/'}}]}, {'move': {'name': 'surf', 'url': 'https://pokeapi.co/api/v2/move/57/'}, 'version_group_details': [{'level_learned_at': 0, 'move_learn_method': {'name': 'stadium-surfing-pikachu', 'url': 'https://pokeapi.co/api/v2/move-learn-method/5/'}, 'version_group': {'name': 'red-blue', 'url': 'https://pokeapi.co/api/v2/version-group/1/'}}, {'level_learned_at': 0, 'move_learn_method': {'name': 'stadium-surfing-pikachu', 'url': 'https://pokeapi.co/api/v2/move-learn-method/5/'}, 'version_group': {'name': 'yellow', 'url': 'https://pokeapi.co/api/v2/version-group/2/'}}, {'level_learned_at': 0, 'move_learn_method': {'name': 'machine', 'url': 'https://pokeapi.co/api/v2/move-learn-method/4/'}, 'version_group': {'name': 'sword-shield', 'url': 'https://pokeapi.co/api/v2/version-group/20/'}}, {'level_learned_at': 0, 'move_learn_method': {'name': 'machine', 'url': 'https://pokeapi.co/api/v2/move-learn-method/4/'}, 'version_group': {'name': 'brilliant-diamond-and-shining-pearl', 'url': 'https://pokeapi.co/api/v2/version-group/23/'}}, {'level_learned_at': 0, 'move_learn_method': {'name': 'machine', 'url': 'https://pokeapi.co/api/v2/move-learn-method/4/'}, 'version_group': {'name': 'scarlet-violet', 'url': 'https://pokeapi.co/api/v2/version-group/25/'}}]}, {'move': {'name': 'submission', 'url': 'https://pokeapi.co/api/v2/move/66/'}, 'version_group_details': [{'level_learned_at': 0, 'move_learn_method': {'name': 'machine', 'url': 'https://pokeapi.co/api/v2/move-learn-method/4/'}, 'version_group': {'name': 'red-blue', 'url': 'https://pokeapi.co/api/v2/version-group/1/'}}, {'level_learned_at': 0, 'move_learn_method': {'name': 'machine', 'url': 'https://pokeapi.co/api/v2/move-learn-method/4/'}, 'version_group': {'name': 'yellow', 'url': 'https://pokeapi.co/api/v2/version-group/2/'}}]}, {'move': {'name': 'counter', 'url': 'https://pokeapi.co/api/v2/move/68/'}, 'version_group_details': [{'level_learned_at': 0, 'move_learn_method': {'name': 'tutor', 'url': 'https://pokeapi.co/api/v2/move-learn-method/3/'}, 'version_group': {'name': 'emerald', 'url': 'https://pokeapi.co/api/v2/version-group/6/'}}, {'level_learned_at': 0, 'move_learn_method': {'name': 'tutor', 'url': 'https://pokeapi.co/api/v2/move-learn-method/3/'}, 'version_group': {'name': 'firered-leafgreen', 'url': 'https://pokeapi.co/api/v2/version-group/7/'}}]}, {'move': {'name': 'seismic-toss', 'url': 'https://pokeapi.co/api/v2/move/69/'}, 'version_group_details': [{'level_learned_at': 0, 'move_learn_method': {'name': 'machine', 'url': 'https://pokeapi.co/api/v2/move-learn-method/4/'}, 'version_group': {'name': 'red-blue', 'url': 'https://pokeapi.co/api/v2/version-group/1/'}}, {'level_learned_at': 0, 'move_learn_method': {'name': 'machine', 'url': 'https://pokeapi.co/api/v2/move-learn-method/4/'}, 'version_group': {'name': 'yellow', 'url': 'https://pokeapi.co/api/v2/version-group/2/'}}, {'level_learned_at': 0, 'move_learn_method': {'name': 'tutor', 'url': 'https://pokeapi.co/api/v2/move-learn-method/3/'}, 'version_group': {'name': 'emerald', 'url': 'https://pokeapi.co/api/v2/version-group/6/'}}, {'level_learned_at': 0, 'move_learn_method': {'name': 'tutor', 'url': 'https://pokeapi.co/api/v2/move-learn-method/3/'}, 'version_group': {'name': 'firered-leafgreen', 'url': 'https://pokeapi.co/api/v2/version-group/7/'}}, {'level_learned_at': 0, 'move_learn_method': {'name': 'tutor', 'url': 'https://pokeapi.co/api/v2/move-learn-method/3/'}, 'version_group': {'name': 'xd', 'url': 'https://pokeapi.co/api/v2/version-group/13/'}}, {'level_learned_at': 0, 'move_learn_method': {'name': 'machine', 'url': 'https://pokeapi.co/api/v2/move-learn-method/4/'}, 'version_group': {'name': 'lets-go-pikachu-lets-go-eevee', 'url': 'https://pokeapi.co/api/v2/version-group/19/'}}]}, {'move': {'name': 'strength', 'url': 'https://pokeapi.co/api/v2/move/70/'}, 'version_group_details': [{'level_learned_at': 0, 'move_learn_method': {'name': 'machine', 'url': 'https://pokeapi.co/api/v2/move-learn-method/4/'}, 'version_group': {'name': 'gold-silver', 'url': 'https://pokeapi.co/api/v2/version-group/3/'}}, {'level_learned_at': 0, 'move_learn_method': {'name': 'machine', 'url': 'https://pokeapi.co/api/v2/move-learn-method/4/'}, 'version_group': {'name': 'crystal', 'url': 'https://pokeapi.co/api/v2/version-group/4/'}}, {'level_learned_at': 0, 'move_learn_method': {'name': 'machine', 'url': 'https://pokeapi.co/api/v2/move-learn-method/4/'}, 'version_group': {'name': 'ruby-sapphire', 'url': 'https://pokeapi.co/api/v2/version-group/5/'}}, {'level_learned_at': 0, 'move_learn_method': {'name': 'machine', 'url': 'https://pokeapi.co/api/v2/move-learn-method/4/'}, 'version_group': {'name': 'emerald', 'url': 'https://pokeapi.co/api/v2/version-group/6/'}}, {'level_learned_at': 0, 'move_learn_method': {'name': 'machine', 'url': 'https://pokeapi.co/api/v2/move-learn-method/4/'}, 'version_group': {'name': 'firered-leafgreen', 'url': 'https://pokeapi.co/api/v2/version-group/7/'}}, {'level_learned_at': 0, 'move_learn_method': {'name': 'machine', 'url': 'https://pokeapi.co/api/v2/move-learn-method/4/'}, 'version_group': {'name': 'diamond-pearl', 'url': 'https://pokeapi.co/api/v2/version-group/8/'}}, {'level_learned_at': 0, 'move_learn_method': {'name': 'machine', 'url': 'https://pokeapi.co/api/v2/move-learn-method/4/'}, 'version_group': {'name': 'platinum', 'url': 'https://pokeapi.co/api/v2/version-group/9/'}}, {'level_learned_at': 0, 'move_learn_method': {'name': 'machine', 'url': 'https://pokeapi.co/api/v2/move-learn-method/4/'}, 'version_group': {'name': 'heartgold-soulsilver', 'url': 'https://pokeapi.co/api/v2/version-group/10/'}}, {'level_learned_at': 0, 'move_learn_method': {'name': 'machine', 'url': 'https://pokeapi.co/api/v2/move-learn-method/4/'}, 'version_group': {'name': 'black-white', 'url': 'https://pokeapi.co/api/v2/version-group/11/'}}, {'level_learned_at': 0, 'move_learn_method': {'name': 'machine', 'url': 'https://pokeapi.co/api/v2/move-learn-method/4/'}, 'version_group': {'name': 'colosseum', 'url': 'https://pokeapi.co/api/v2/version-group/12/'}}, {'level_learned_at': 0, 'move_learn_method': {'name': 'machine', 'url': 'https://pokeapi.co/api/v2/move-learn-method/4/'}, 'version_group': {'name': 'xd', 'url': 'https://pokeapi.co/api/v2/version-group/13/'}}, {'level_learned_at': 0, 'move_learn_method': {'name': 'machine', 'url': 'https://pokeapi.co/api/v2/move-learn-method/4/'}, 'version_group': {'name': 'black-2-white-2', 'url': 'https://pokeapi.co/api/v2/version-group/14/'}}, {'level_learned_at': 0, 'move_learn_method': {'name': 'machine', 'url': 'https://pokeapi.co/api/v2/move-learn-method/4/'}, 'version_group': {'name': 'x-y', 'url': 'https://pokeapi.co/api/v2/version-group/15/'}}, {'level_learned_at': 0, 'move_learn_method': {'name': 'machine', 'url': 'https://pokeapi.co/api/v2/move-learn-method/4/'}, 'version_group': {'name': 'omega-ruby-alpha-sapphire', 'url': 'https://pokeapi.co/api/v2/version-group/16/'}}, {'level_learned_at': 0, 'move_learn_method': {'name': 'machine', 'url': 'https://pokeapi.co/api/v2/move-learn-method/4/'}, 'version_group': {'name': 'brilliant-diamond-and-shining-pearl', 'url': 'https://pokeapi.co/api/v2/version-group/23/'}}]}, {'move': {'name': 'thunder-shock', 'url': 'https://pokeapi.co/api/v2/move/84/'}, 'version_group_details': [{'level_learned_at': 1, 'move_learn_method': {'name': 'level-up', 'url': 'https://pokeapi.co/api/v2/move-learn-method/1/'}, 'version_group': {'name': 'red-blue', 'url': 'https://pokeapi.co/api/v2/version-group/1/'}}, {'level_learned_at': 1, 'move_learn_method': {'name': 'level-up', 'url': 'https://pokeapi.co/api/v2/move-learn-method/1/'}, 'version_group': {'name': 'yellow', 'url': 'https://pokeapi.co/api/v2/version-group/2/'}}, {'level_learned_at': 1, 'move_learn_method': {'name': 'level-up', 'url': 'https://pokeapi.co/api/v2/move-learn-method/1/'}, 'version_group': {'name': 'gold-silver', 'url': 'https://pokeapi.co/api/v2/version-group/3/'}}, {'level_learned_at': 1, 'move_learn_method': {'name': 'level-up', 'url': 'https://pokeapi.co/api/v2/move-learn-method/1/'}, 'version_group': {'name': 'crystal', 'url': 'https://pokeapi.co/api/v2/version-group/4/'}}, {'level_learned_at': 1, 'move_learn_method': {'name': 'level-up', 'url': 'https://pokeapi.co/api/v2/move-learn-method/1/'}, 'version_group': {'name': 'ruby-sapphire', 'url': 'https://pokeapi.co/api/v2/version-group/5/'}}, {'level_learned_at': 1, 'move_learn_method': {'name': 'level-up', 'url': 'https://pokeapi.co/api/v2/move-learn-method/1/'}, 'version_group': {'name': 'emerald', 'url': 'https://pokeapi.co/api/v2/version-group/6/'}}, {'level_learned_at': 1, 'move_learn_method': {'name': 'level-up', 'url': 'https://pokeapi.co/api/v2/move-learn-method/1/'}, 'version_group': {'name': 'firered-leafgreen', 'url': 'https://pokeapi.co/api/v2/version-group/7/'}}, {'level_learned_at': 1, 'move_learn_method': {'name': 'level-up', 'url': 'https://pokeapi.co/api/v2/move-learn-method/1/'}, 'version_group': {'name': 'diamond-pearl', 'url': 'https://pokeapi.co/api/v2/version-group/8/'}}, {'level_learned_at': 1, 'move_learn_method': {'name': 'level-up', 'url': 'https://pokeapi.co/api/v2/move-learn-method/1/'}, 'version_group': {'name': 'platinum', 'url': 'https://pokeapi.co/api/v2/version-group/9/'}}, {'level_learned_at': 1, 'move_learn_method': {'name': 'level-up', 'url': 'https://pokeapi.co/api/v2/move-learn-method/1/'}, 'version_group': {'name': 'heartgold-soulsilver', 'url': 'https://pokeapi.co/api/v2/version-group/10/'}}, {'level_learned_at': 1, 'move_learn_method': {'name': 'level-up', 'url': 'https://pokeapi.co/api/v2/move-learn-method/1/'}, 'version_group': {'name': 'black-white', 'url': 'https://pokeapi.co/api/v2/version-group/11/'}}, {'level_learned_at': 1, 'move_learn_method': {'name': 'level-up', 'url': 'https://pokeapi.co/api/v2/move-learn-method/1/'}, 'version_group': {'name': 'colosseum', 'url': 'https://pokeapi.co/api/v2/version-group/12/'}}, {'level_learned_at': 1, 'move_learn_method': {'name': 'level-up', 'url': 'https://pokeapi.co/api/v2/move-learn-method/1/'}, 'version_group': {'name': 'xd', 'url': 'https://pokeapi.co/api/v2/version-group/13/'}}, {'level_learned_at': 1, 'move_learn_method': {'name': 'level-up', 'url': 'https://pokeapi.co/api/v2/move-learn-method/1/'}, 'version_group': {'name': 'black-2-white-2', 'url': 'https://pokeapi.co/api/v2/version-group/14/'}}, {'level_learned_at': 1, 'move_learn_method': {'name': 'level-up', 'url': 'https://pokeapi.co/api/v2/move-learn-method/1/'}, 'version_group': {'name': 'x-y', 'url': 'https://pokeapi.co/api/v2/version-group/15/'}}, {'level_learned_at': 1, 'move_learn_method': {'name': 'level-up', 'url': 'https://pokeapi.co/api/v2/move-learn-method/1/'}, 'version_group': {'name': 'omega-ruby-alpha-sapphire', 'url': 'https://pokeapi.co/api/v2/version-group/16/'}}, {'level_learned_at': 1, 'move_learn_method': {'name': 'level-up', 'url': 'https://pokeapi.co/api/v2/move-learn-method/1/'}, 'version_group': {'name': 'sun-moon', 'url': 'https://pokeapi.co/api/v2/version-group/17/'}}, {'level_learned_at': 1, 'move_learn_method': {'name': 'level-up', 'url': 'https://pokeapi.co/api/v2/move-learn-method/1/'}, 'version_group': {'name': 'ultra-sun-ultra-moon', 'url': 'https://pokeapi.co/api/v2/version-group/18/'}}, {'level_learned_at': 1, 'move_learn_method': {'name': 'level-up', 'url': 'https://pokeapi.co/api/v2/move-learn-method/1/'}, 'version_group': {'name': 'lets-go-pikachu-lets-go-eevee', 'url': 'https://pokeapi.co/api/v2/version-group/19/'}}, {'level_learned_at': 1, 'move_learn_method': {'name': 'level-up', 'url': 'https://pokeapi.co/api/v2/move-learn-method/1/'}, 'version_group': {'name': 'sword-shield', 'url': 'https://pokeapi.co/api/v2/version-group/20/'}}, {'level_learned_at': 1, 'move_learn_method': {'name': 'level-up', 'url': 'https://pokeapi.co/api/v2/move-learn-method/1/'}, 'version_group': {'name': 'brilliant-diamond-and-shining-pearl', 'url': 'https://pokeapi.co/api/v2/version-group/23/'}}, {'level_learned_at': 1, 'move_learn_method': {'name': 'level-up', 'url': 'https://pokeapi.co/api/v2/move-learn-method/1/'}, 'version_group': {'name': 'scarlet-violet', 'url': 'https://pokeapi.co/api/v2/version-group/25/'}}]}, {'move': {'name': 'thunderbolt', 'url': 'https://pokeapi.co/api/v2/move/85/'}, 'version_group_details': [{'level_learned_at': 0, 'move_learn_method': {'name': 'machine', 'url': 'https://pokeapi.co/api/v2/move-learn-method/4/'}, 'version_group': {'name': 'red-blue', 'url': 'https://pokeapi.co/api/v2/version-group/1/'}}, {'level_learned_at': 26, 'move_learn_method': {'name': 'level-up', 'url': 'https://pokeapi.co/api/v2/move-learn-method/1/'}, 'version_group': {'name': 'yellow', 'url': 'https://pokeapi.co/api/v2/version-group/2/'}}, {'level_learned_at': 0, 'move_learn_method': {'name': 'machine', 'url': 'https://pokeapi.co/api/v2/move-learn-method/4/'}, 'version_group': {'name': 'yellow', 'url': 'https://pokeapi.co/api/v2/version-group/2/'}}, {'level_learned_at': 26, 'move_learn_method': {'name': 'level-up', 'url': 'https://pokeapi.co/api/v2/move-learn-method/1/'}, 'version_group': {'name': 'gold-silver', 'url': 'https://pokeapi.co/api/v2/version-group/3/'}}, {'level_learned_at': 26, 'move_learn_method': {'name': 'level-up', 'url': 'https://pokeapi.co/api/v2/move-learn-method/1/'}, 'version_group': {'name': 'crystal', 'url': 'https://pokeapi.co/api/v2/version-group/4/'}}, {'level_learned_at': 0, 'move_learn_method': {'name': 'tutor', 'url': 'https://pokeapi.co/api/v2/move-learn-method/3/'}, 'version_group': {'name': 'crystal', 'url': 'https://pokeapi.co/api/v2/version-group/4/'}}, {'level_learned_at': 26, 'move_learn_method': {'name': 'level-up', 'url': 'https://pokeapi.co/api/v2/move-learn-method/1/'}, 'version_group': {'name': 'ruby-sapphire', 'url': 'https://pokeapi.co/api/v2/version-group/5/'}}, {'level_learned_at': 0, 'move_learn_method': {'name': 'machine', 'url': 'https://pokeapi.co/api/v2/move-learn-method/4/'}, 'version_group': {'name': 'ruby-sapphire', 'url': 'https://pokeapi.co/api/v2/version-group/5/'}}, {'level_learned_at': 26, 'move_learn_method': {'name': 'level-up', 'url': 'https://pokeapi.co/api/v2/move-learn-method/1/'}, 'version_group': {'name': 'emerald', 'url': 'https://pokeapi.co/api/v2/version-group/6/'}}, {'level_learned_at': 0, 'move_learn_method': {'name': 'machine', 'url': 'https://pokeapi.co/api/v2/move-learn-method/4/'}, 'version_group': {'name': 'emerald', 'url': 'https://pokeapi.co/api/v2/version-group/6/'}}, {'level_learned_at': 26, 'move_learn_method': {'name': 'level-up', 'url': 'https://pokeapi.co/api/v2/move-learn-method/1/'}, 'version_group': {'name': 'firered-leafgreen', 'url': 'https://pokeapi.co/api/v2/version-group/7/'}}, {'level_learned_at': 0, 'move_learn_method': {'name': 'machine', 'url': 'https://pokeapi.co/api/v2/move-learn-method/4/'}, 'version_group': {'name': 'firered-leafgreen', 'url': 'https://pokeapi.co/api/v2/version-group/7/'}}, {'level_learned_at': 26, 'move_learn_method': {'name': 'level-up', 'url': 'https://pokeapi.co/api/v2/move-learn-method/1/'}, 'version_group': {'name': 'diamond-pearl', 'url': 'https://pokeapi.co/api/v2/version-group/8/'}}, {'level_learned_at': 0, 'move_learn_method': {'name': 'machine', 'url': 'https://pokeapi.co/api/v2/move-learn-method/4/'}, 'version_group': {'name': 'diamond-pearl', 'url': 'https://pokeapi.co/api/v2/version-group/8/'}}, {'level_learned_at': 26, 'move_learn_method': {'name': 'level-up', 'url': 'https://pokeapi.co/api/v2/move-learn-method/1/'}, 'version_group': {'name': 'platinum', 'url': 'https://pokeapi.co/api/v2/version-group/9/'}}, {'level_learned_at': 0, 'move_learn_method': {'name': 'machine', 'url': 'https://pokeapi.co/api/v2/move-learn-method/4/'}, 'version_group': {'name': 'platinum', 'url': 'https://pokeapi.co/api/v2/version-group/9/'}}, {'level_learned_at': 26, 'move_learn_method': {'name': 'level-up', 'url': 'https://pokeapi.co/api/v2/move-learn-method/1/'}, 'version_group': {'name': 'heartgold-soulsilver', 'url': 'https://pokeapi.co/api/v2/version-group/10/'}}, {'level_learned_at': 0, 'move_learn_method': {'name': 'machine', 'url': 'https://pokeapi.co/api/v2/move-learn-method/4/'}, 'version_group': {'name': 'heartgold-soulsilver', 'url': 'https://pokeapi.co/api/v2/version-group/10/'}}, {'level_learned_at': 29, 'move_learn_method': {'name': 'level-up', 'url': 'https://pokeapi.co/api/v2/move-learn-method/1/'}, 'version_group': {'name': 'black-white', 'url': 'https://pokeapi.co/api/v2/version-group/11/'}}, {'level_learned_at': 0, 'move_learn_method': {'name': 'machine', 'url': 'https://pokeapi.co/api/v2/move-learn-method/4/'}, 'version_group': {'name': 'black-white', 'url': 'https://pokeapi.co/api/v2/version-group/11/'}}, {'level_learned_at': 26, 'move_learn_method': {'name': 'level-up', 'url': 'https://pokeapi.co/api/v2/move-learn-method/1/'}, 'version_group': {'name': 'colosseum', 'url': 'https://pokeapi.co/api/v2/version-group/12/'}}, {'level_learned_at': 0, 'move_learn_method': {'name': 'machine', 'url': 'https://pokeapi.co/api/v2/move-learn-method/4/'}, 'version_group': {'name': 'colosseum', 'url': 'https://pokeapi.co/api/v2/version-group/12/'}}, {'level_learned_at': 26, 'move_learn_method': {'name': 'level-up', 'url': 'https://pokeapi.co/api/v2/move-learn-method/1/'}, 'version_group': {'name': 'xd', 'url': 'https://pokeapi.co/api/v2/version-group/13/'}}, {'level_learned_at': 0, 'move_learn_method': {'name': 'machine', 'url': 'https://pokeapi.co/api/v2/move-learn-method/4/'}, 'version_group': {'name': 'xd', 'url': 'https://pokeapi.co/api/v2/version-group/13/'}}, {'level_learned_at': 29, 'move_learn_method': {'name': 'level-up', 'url': 'https://pokeapi.co/api/v2/move-learn-method/1/'}, 'version_group': {'name': 'black-2-white-2', 'url': 'https://pokeapi.co/api/v2/version-group/14/'}}, {'level_learned_at': 0, 'move_learn_method': {'name': 'machine', 'url': 'https://pokeapi.co/api/v2/move-learn-method/4/'}, 'version_group': {'name': 'black-2-white-2', 'url': 'https://pokeapi.co/api/v2/version-group/14/'}}, {'level_learned_at': 29, 'move_learn_method': {'name': 'level-up', 'url': 'https://pokeapi.co/api/v2/move-learn-method/1/'}, 'version_group': {'name': 'x-y', 'url': 'https://pokeapi.co/api/v2/version-group/15/'}}, {'level_learned_at': 0, 'move_learn_method': {'name': 'machine', 'url': 'https://pokeapi.co/api/v2/move-learn-method/4/'}, 'version_group': {'name': 'x-y', 'url': 'https://pokeapi.co/api/v2/version-group/15/'}}, {'level_learned_at': 42, 'move_learn_method': {'name': 'level-up', 'url': 'https://pokeapi.co/api/v2/move-learn-method/1/'}, 'version_group': {'name': 'omega-ruby-alpha-sapphire', 'url': 'https://pokeapi.co/api/v2/version-group/16/'}}, {'level_learned_at': 0, 'move_learn_method': {'name': 'machine', 'url': 'https://pokeapi.co/api/v2/move-learn-method/4/'}, 'version_group': {'name': 'omega-ruby-alpha-sapphire', 'url': 'https://pokeapi.co/api/v2/version-group/16/'}}, {'level_learned_at': 42, 'move_learn_method': {'name': 'level-up', 'url': 'https://pokeapi.co/api/v2/move-learn-method/1/'}, 'version_group': {'name': 'sun-moon', 'url': 'https://pokeapi.co/api/v2/version-group/17/'}}, {'level_learned_at': 0, 'move_learn_method': {'name': 'machine', 'url': 'https://pokeapi.co/api/v2/move-learn-method/4/'}, 'version_group': {'name': 'sun-moon', 'url': 'https://pokeapi.co/api/v2/version-group/17/'}}, {'level_learned_at': 42, 'move_learn_method': {'name': 'level-up', 'url': 'https://pokeapi.co/api/v2/move-learn-method/1/'}, 'version_group': {'name': 'ultra-sun-ultra-moon', 'url': 'https://pokeapi.co/api/v2/version-group/18/'}}, {'level_learned_at': 0, 'move_learn_method': {'name': 'machine', 'url': 'https://pokeapi.co/api/v2/move-learn-method/4/'}, 'version_group': {'name': 'ultra-sun-ultra-moon', 'url': 'https://pokeapi.co/api/v2/version-group/18/'}}, {'level_learned_at': 21, 'move_learn_method': {'name': 'level-up', 'url': 'https://pokeapi.co/api/v2/move-learn-method/1/'}, 'version_group': {'name': 'lets-go-pikachu-lets-go-eevee', 'url': 'https://pokeapi.co/api/v2/version-group/19/'}}, {'level_learned_at': 0, 'move_learn_method': {'name': 'machine', 'url': 'https://pokeapi.co/api/v2/move-learn-method/4/'}, 'version_group': {'name': 'lets-go-pikachu-lets-go-eevee', 'url': 'https://pokeapi.co/api/v2/version-group/19/'}}, {'level_learned_at': 36, 'move_learn_method': {'name': 'level-up', 'url': 'https://pokeapi.co/api/v2/move-learn-method/1/'}, 'version_group': {'name': 'sword-shield', 'url': 'https://pokeapi.co/api/v2/version-group/20/'}}, {'level_learned_at': 0, 'move_learn_method': {'name': 'machine', 'url': 'https://pokeapi.co/api/v2/move-learn-method/4/'}, 'version_group': {'name': 'sword-shield', 'url': 'https://pokeapi.co/api/v2/version-group/20/'}}, {'level_learned_at': 36, 'move_learn_method': {'name': 'level-up', 'url': 'https://pokeapi.co/api/v2/move-learn-method/1/'}, 'version_group': {'name': 'brilliant-diamond-and-shining-pearl', 'url': 'https://pokeapi.co/api/v2/version-group/23/'}}, {'level_learned_at': 0, 'move_learn_method': {'name': 'machine', 'url': 'https://pokeapi.co/api/v2/move-learn-method/4/'}, 'version_group': {'name': 'brilliant-diamond-and-shining-pearl', 'url': 'https://pokeapi.co/api/v2/version-group/23/'}}, {'level_learned_at': 36, 'move_learn_method': {'name': 'level-up', 'url': 'https://pokeapi.co/api/v2/move-learn-method/1/'}, 'version_group': {'name': 'scarlet-violet', 'url': 'https://pokeapi.co/api/v2/version-group/25/'}}, {'level_learned_at': 0, 'move_learn_method': {'name': 'machine', 'url': 'https://pokeapi.co/api/v2/move-learn-method/4/'}, 'version_group': {'name': 'scarlet-violet', 'url': 'https://pokeapi.co/api/v2/version-group/25/'}}]}, {'move': {'name': 'thunder-wave', 'url': 'https://pokeapi.co/api/v2/move/86/'}, 'version_group_details': [{'level_learned_at': 9, 'move_learn_method': {'name': 'level-up', 'url': 'https://pokeapi.co/api/v2/move-learn-method/1/'}, 'version_group': {'name': 'red-blue', 'url': 'https://pokeapi.co/api/v2/version-group/1/'}}, {'level_learned_at': 0, 'move_learn_method': {'name': 'machine', 'url': 'https://pokeapi.co/api/v2/move-learn-method/4/'}, 'version_group': {'name': 'red-blue', 'url': 'https://pokeapi.co/api/v2/version-group/1/'}}, {'level_learned_at': 8, 'move_learn_method': {'name': 'level-up', 'url': 'https://pokeapi.co/api/v2/move-learn-method/1/'}, 'version_group': {'name': 'yellow', 'url': 'https://pokeapi.co/api/v2/version-group/2/'}}, {'level_learned_at': 0, 'move_learn_method': {'name': 'machine', 'url': 'https://pokeapi.co/api/v2/move-learn-method/4/'}, 'version_group': {'name': 'yellow', 'url': 'https://pokeapi.co/api/v2/version-group/2/'}}, {'level_learned_at': 8, 'move_learn_method': {'name': 'level-up', 'url': 'https://pokeapi.co/api/v2/move-learn-method/1/'}, 'version_group': {'name': 'gold-silver', 'url': 'https://pokeapi.co/api/v2/version-group/3/'}}, {'level_learned_at': 8, 'move_learn_method': {'name': 'level-up', 'url': 'https://pokeapi.co/api/v2/move-learn-method/1/'}, 'version_group': {'name': 'crystal', 'url': 'https://pokeapi.co/api/v2/version-group/4/'}}, {'level_learned_at': 8, 'move_learn_method': {'name': 'level-up', 'url': 'https://pokeapi.co/api/v2/move-learn-method/1/'}, 'version_group': {'name': 'ruby-sapphire', 'url': 'https://pokeapi.co/api/v2/version-group/5/'}}, {'level_learned_at': 8, 'move_learn_method': {'name': 'level-up', 'url': 'https://pokeapi.co/api/v2/move-learn-method/1/'}, 'version_group': {'name': 'emerald', 'url': 'https://pokeapi.co/api/v2/version-group/6/'}}, {'level_learned_at': 0, 'move_learn_method': {'name': 'tutor', 'url': 'https://pokeapi.co/api/v2/move-learn-method/3/'}, 'version_group': {'name': 'emerald', 'url': 'https://pokeapi.co/api/v2/version-group/6/'}}, {'level_learned_at': 8, 'move_learn_method': {'name': 'level-up', 'url': 'https://pokeapi.co/api/v2/move-learn-method/1/'}, 'version_group': {'name': 'firered-leafgreen', 'url': 'https://pokeapi.co/api/v2/version-group/7/'}}, {'level_learned_at': 0, 'move_learn_method': {'name': 'tutor', 'url': 'https://pokeapi.co/api/v2/move-learn-method/3/'}, 'version_group': {'name': 'firered-leafgreen', 'url': 'https://pokeapi.co/api/v2/version-group/7/'}}, {'level_learned_at': 10, 'move_learn_method': {'name': 'level-up', 'url': 'https://pokeapi.co/api/v2/move-learn-method/1/'}, 'version_group': {'name': 'diamond-pearl', 'url': 'https://pokeapi.co/api/v2/version-group/8/'}}, {'level_learned_at': 0, 'move_learn_method': {'name': 'machine', 'url': 'https://pokeapi.co/api/v2/move-learn-method/4/'}, 'version_group': {'name': 'diamond-pearl', 'url': 'https://pokeapi.co/api/v2/version-group/8/'}}, {'level_learned_at': 10, 'move_learn_method': {'name': 'level-up', 'url': 'https://pokeapi.co/api/v2/move-learn-method/1/'}, 'version_group': {'name': 'platinum', 'url': 'https://pokeapi.co/api/v2/version-group/9/'}}, {'level_learned_at': 0, 'move_learn_method': {'name': 'machine', 'url': 'https://pokeapi.co/api/v2/move-learn-method/4/'}, 'version_group': {'name': 'platinum', 'url': 'https://pokeapi.co/api/v2/version-group/9/'}}, {'level_learned_at': 10, 'move_learn_method': {'name': 'level-up', 'url': 'https://pokeapi.co/api/v2/move-learn-method/1/'}, 'version_group': {'name': 'heartgold-soulsilver', 'url': 'https://pokeapi.co/api/v2/version-group/10/'}}, {'level_learned_at': 0, 'move_learn_method': {'name': 'machine', 'url': 'https://pokeapi.co/api/v2/move-learn-method/4/'}, 'version_group': {'name': 'heartgold-soulsilver', 'url': 'https://pokeapi.co/api/v2/version-group/10/'}}, {'level_learned_at': 10, 'move_learn_method': {'name': 'level-up', 'url': 'https://pokeapi.co/api/v2/move-learn-method/1/'}, 'version_group': {'name': 'black-white', 'url': 'https://pokeapi.co/api/v2/version-group/11/'}}, {'level_learned_at': 0, 'move_learn_method': {'name': 'machine', 'url': 'https://pokeapi.co/api/v2/move-learn-method/4/'}, 'version_group': {'name': 'black-white', 'url': 'https://pokeapi.co/api/v2/version-group/11/'}}, {'level_learned_at': 8, 'move_learn_method': {'name': 'level-up', 'url': 'https://pokeapi.co/api/v2/move-learn-method/1/'}, 'version_group': {'name': 'colosseum', 'url': 'https://pokeapi.co/api/v2/version-group/12/'}}, {'level_learned_at': 8, 'move_learn_method': {'name': 'level-up', 'url': 'https://pokeapi.co/api/v2/move-learn-method/1/'}, 'version_group': {'name': 'xd', 'url': 'https://pokeapi.co/api/v2/version-group/13/'}}, {'level_learned_at': 0, 'move_learn_method': {'name': 'tutor', 'url': 'https://pokeapi.co/api/v2/move-learn-method/3/'}, 'version_group': {'name': 'xd', 'url': 'https://pokeapi.co/api/v2/version-group/13/'}}, {'level_learned_at': 10, 'move_learn_method': {'name': 'level-up', 'url': 'https://pokeapi.co/api/v2/move-learn-method/1/'}, 'version_group': {'name': 'black-2-white-2', 'url': 'https://pokeapi.co/api/v2/version-group/14/'}}, {'level_learned_at': 0, 'move_learn_method': {'name': 'machine', 'url': 'https://pokeapi.co/api/v2/move-learn-method/4/'}, 'version_group': {'name': 'black-2-white-2', 'url': 'https://pokeapi.co/api/v2/version-group/14/'}}, {'level_learned_at': 13, 'move_learn_method': {'name': 'level-up', 'url': 'https://pokeapi.co/api/v2/move-learn-method/1/'}, 'version_group': {'name': 'x-y', 'url': 'https://pokeapi.co/api/v2/version-group/15/'}}, {'level_learned_at': 0, 'move_learn_method': {'name': 'machine', 'url': 'https://pokeapi.co/api/v2/move-learn-method/4/'}, 'version_group': {'name': 'x-y', 'url': 'https://pokeapi.co/api/v2/version-group/15/'}}, {'level_learned_at': 18, 'move_learn_method': {'name': 'level-up', 'url': 'https://pokeapi.co/api/v2/move-learn-method/1/'}, 'version_group': {'name': 'omega-ruby-alpha-sapphire', 'url': 'https://pokeapi.co/api/v2/version-group/16/'}}, {'level_learned_at': 0, 'move_learn_method': {'name': 'machine', 'url': 'https://pokeapi.co/api/v2/move-learn-method/4/'}, 'version_group': {'name': 'omega-ruby-alpha-sapphire', 'url': 'https://pokeapi.co/api/v2/version-group/16/'}}, {'level_learned_at': 18, 'move_learn_method': {'name': 'level-up', 'url': 'https://pokeapi.co/api/v2/move-learn-method/1/'}, 'version_group': {'name': 'sun-moon', 'url': 'https://pokeapi.co/api/v2/version-group/17/'}}, {'level_learned_at': 0, 'move_learn_method': {'name': 'machine', 'url': 'https://pokeapi.co/api/v2/move-learn-method/4/'}, 'version_group': {'name': 'sun-moon', 'url': 'https://pokeapi.co/api/v2/version-group/17/'}}, {'level_learned_at': 18, 'move_learn_method': {'name': 'level-up', 'url': 'https://pokeapi.co/api/v2/move-learn-method/1/'}, 'version_group': {'name': 'ultra-sun-ultra-moon', 'url': 'https://pokeapi.co/api/v2/version-group/18/'}}, {'level_learned_at': 0, 'move_learn_method': {'name': 'machine', 'url': 'https://pokeapi.co/api/v2/move-learn-method/4/'}, 'version_group': {'name': 'ultra-sun-ultra-moon', 'url': 'https://pokeapi.co/api/v2/version-group/18/'}}, {'level_learned_at': 15, 'move_learn_method': {'name': 'level-up', 'url': 'https://pokeapi.co/api/v2/move-learn-method/1/'}, 'version_group': {'name': 'lets-go-pikachu-lets-go-eevee', 'url': 'https://pokeapi.co/api/v2/version-group/19/'}}, {'level_learned_at': 0, 'move_learn_method': {'name': 'machine', 'url': 'https://pokeapi.co/api/v2/move-learn-method/4/'}, 'version_group': {'name': 'lets-go-pikachu-lets-go-eevee', 'url': 'https://pokeapi.co/api/v2/version-group/19/'}}, {'level_learned_at': 4, 'move_learn_method': {'name': 'level-up', 'url': 'https://pokeapi.co/api/v2/move-learn-method/1/'}, 'version_group': {'name': 'sword-shield', 'url': 'https://pokeapi.co/api/v2/version-group/20/'}}, {'level_learned_at': 0, 'move_learn_method': {'name': 'machine', 'url': 'https://pokeapi.co/api/v2/move-learn-method/4/'}, 'version_group': {'name': 'sword-shield', 'url': 'https://pokeapi.co/api/v2/version-group/20/'}}, {'level_learned_at': 4, 'move_learn_method': {'name': 'level-up', 'url': 'https://pokeapi.co/api/v2/move-learn-method/1/'}, 'version_group': {'name': 'brilliant-diamond-and-shining-pearl', 'url': 'https://pokeapi.co/api/v2/version-group/23/'}}, {'level_learned_at': 0, 'move_learn_method': {'name': 'machine', 'url': 'https://pokeapi.co/api/v2/move-learn-method/4/'}, 'version_group': {'name': 'brilliant-diamond-and-shining-pearl', 'url': 'https://pokeapi.co/api/v2/version-group/23/'}}, {'level_learned_at': 4, 'move_learn_method': {'name': 'level-up', 'url': 'https://pokeapi.co/api/v2/move-learn-method/1/'}, 'version_group': {'name': 'scarlet-violet', 'url': 'https://pokeapi.co/api/v2/version-group/25/'}}, {'level_learned_at': 0, 'move_learn_method': {'name': 'machine', 'url': 'https://pokeapi.co/api/v2/move-learn-method/4/'}, 'version_group': {'name': 'scarlet-violet', 'url': 'https://pokeapi.co/api/v2/version-group/25/'}}]}, {'move': {'name': 'thunder', 'url': 'https://pokeapi.co/api/v2/move/87/'}, 'version_group_details': [{'level_learned_at': 43, 'move_learn_method': {'name': 'level-up', 'url': 'https://pokeapi.co/api/v2/move-learn-method/1/'}, 'version_group': {'name': 'red-blue', 'url': 'https://pokeapi.co/api/v2/version-group/1/'}}, {'level_learned_at': 0, 'move_learn_method': {'name': 'machine', 'url': 'https://pokeapi.co/api/v2/move-learn-method/4/'}, 'version_group': {'name': 'red-blue', 'url': 'https://pokeapi.co/api/v2/version-group/1/'}}, {'level_learned_at': 41, 'move_learn_method': {'name': 'level-up', 'url': 'https://pokeapi.co/api/v2/move-learn-method/1/'}, 'version_group': {'name': 'yellow', 'url': 'https://pokeapi.co/api/v2/version-group/2/'}}, {'level_learned_at': 0, 'move_learn_method': {'name': 'machine', 'url': 'https://pokeapi.co/api/v2/move-learn-method/4/'}, 'version_group': {'name': 'yellow', 'url': 'https://pokeapi.co/api/v2/version-group/2/'}}, {'level_learned_at': 41, 'move_learn_method': {'name': 'level-up', 'url': 'https://pokeapi.co/api/v2/move-learn-method/1/'}, 'version_group': {'name': 'gold-silver', 'url': 'https://pokeapi.co/api/v2/version-group/3/'}}, {'level_learned_at': 0, 'move_learn_method': {'name': 'machine', 'url': 'https://pokeapi.co/api/v2/move-learn-method/4/'}, 'version_group': {'name': 'gold-silver', 'url': 'https://pokeapi.co/api/v2/version-group/3/'}}, {'level_learned_at': 41, 'move_learn_method': {'name': 'level-up', 'url': 'https://pokeapi.co/api/v2/move-learn-method/1/'}, 'version_group': {'name': 'crystal', 'url': 'https://pokeapi.co/api/v2/version-group/4/'}}, {'level_learned_at': 0, 'move_learn_method': {'name': 'machine', 'url': 'https://pokeapi.co/api/v2/move-learn-method/4/'}, 'version_group': {'name': 'crystal', 'url': 'https://pokeapi.co/api/v2/version-group/4/'}}, {'level_learned_at': 41, 'move_learn_method': {'name': 'level-up', 'url': 'https://pokeapi.co/api/v2/move-learn-method/1/'}, 'version_group': {'name': 'ruby-sapphire', 'url': 'https://pokeapi.co/api/v2/version-group/5/'}}, {'level_learned_at': 0, 'move_learn_method': {'name': 'machine', 'url': 'https://pokeapi.co/api/v2/move-learn-method/4/'}, 'version_group': {'name': 'ruby-sapphire', 'url': 'https://pokeapi.co/api/v2/version-group/5/'}}, {'level_learned_at': 41, 'move_learn_method': {'name': 'level-up', 'url': 'https://pokeapi.co/api/v2/move-learn-method/1/'}, 'version_group': {'name': 'emerald', 'url': 'https://pokeapi.co/api/v2/version-group/6/'}}, {'level_learned_at': 0, 'move_learn_method': {'name': 'machine', 'url': 'https://pokeapi.co/api/v2/move-learn-method/4/'}, 'version_group': {'name': 'emerald', 'url': 'https://pokeapi.co/api/v2/version-group/6/'}}, {'level_learned_at': 41, 'move_learn_method': {'name': 'level-up', 'url': 'https://pokeapi.co/api/v2/move-learn-method/1/'}, 'version_group': {'name': 'firered-leafgreen', 'url': 'https://pokeapi.co/api/v2/version-group/7/'}}, {'level_learned_at': 0, 'move_learn_method': {'name': 'machine', 'url': 'https://pokeapi.co/api/v2/move-learn-method/4/'}, 'version_group': {'name': 'firered-leafgreen', 'url': 'https://pokeapi.co/api/v2/version-group/7/'}}, {'level_learned_at': 45, 'move_learn_method': {'name': 'level-up', 'url': 'https://pokeapi.co/api/v2/move-learn-method/1/'}, 'version_group': {'name': 'diamond-pearl', 'url': 'https://pokeapi.co/api/v2/version-group/8/'}}, {'level_learned_at': 0, 'move_learn_method': {'name': 'machine', 'url': 'https://pokeapi.co/api/v2/move-learn-method/4/'}, 'version_group': {'name': 'diamond-pearl', 'url': 'https://pokeapi.co/api/v2/version-group/8/'}}, {'level_learned_at': 45, 'move_learn_method': {'name': 'level-up', 'url': 'https://pokeapi.co/api/v2/move-learn-method/1/'}, 'version_group': {'name': 'platinum', 'url': 'https://pokeapi.co/api/v2/version-group/9/'}}, {'level_learned_at': 0, 'move_learn_method': {'name': 'machine', 'url': 'https://pokeapi.co/api/v2/move-learn-method/4/'}, 'version_group': {'name': 'platinum', 'url': 'https://pokeapi.co/api/v2/version-group/9/'}}, {'level_learned_at': 45, 'move_learn_method': {'name': 'level-up', 'url': 'https://pokeapi.co/api/v2/move-learn-method/1/'}, 'version_group': {'name': 'heartgold-soulsilver', 'url': 'https://pokeapi.co/api/v2/version-group/10/'}}, {'level_learned_at': 0, 'move_learn_method': {'name': 'machine', 'url': 'https://pokeapi.co/api/v2/move-learn-method/4/'}, 'version_group': {'name': 'heartgold-soulsilver', 'url': 'https://pokeapi.co/api/v2/version-group/10/'}}, {'level_learned_at': 50, 'move_learn_method': {'name': 'level-up', 'url': 'https://pokeapi.co/api/v2/move-learn-method/1/'}, 'version_group': {'name': 'black-white', 'url': 'https://pokeapi.co/api/v2/version-group/11/'}}, {'level_learned_at': 0, 'move_learn_method': {'name': 'machine', 'url': 'https://pokeapi.co/api/v2/move-learn-method/4/'}, 'version_group': {'name': 'black-white', 'url': 'https://pokeapi.co/api/v2/version-group/11/'}}, {'level_learned_at': 41, 'move_learn_method': {'name': 'level-up', 'url': 'https://pokeapi.co/api/v2/move-learn-method/1/'}, 'version_group': {'name': 'colosseum', 'url': 'https://pokeapi.co/api/v2/version-group/12/'}}, {'level_learned_at': 0, 'move_learn_method': {'name': 'machine', 'url': 'https://pokeapi.co/api/v2/move-learn-method/4/'}, 'version_group': {'name': 'colosseum', 'url': 'https://pokeapi.co/api/v2/version-group/12/'}}, {'level_learned_at': 41, 'move_learn_method': {'name': 'level-up', 'url': 'https://pokeapi.co/api/v2/move-learn-method/1/'}, 'version_group': {'name': 'xd', 'url': 'https://pokeapi.co/api/v2/version-group/13/'}}, {'level_learned_at': 0, 'move_learn_method': {'name': 'machine', 'url': 'https://pokeapi.co/api/v2/move-learn-method/4/'}, 'version_group': {'name': 'xd', 'url': 'https://pokeapi.co/api/v2/version-group/13/'}}, {'level_learned_at': 50, 'move_learn_method': {'name': 'level-up', 'url': 'https://pokeapi.co/api/v2/move-learn-method/1/'}, 'version_group': {'name': 'black-2-white-2', 'url': 'https://pokeapi.co/api/v2/version-group/14/'}}, {'level_learned_at': 0, 'move_learn_method': {'name': 'machine', 'url': 'https://pokeapi.co/api/v2/move-learn-method/4/'}, 'version_group': {'name': 'black-2-white-2', 'url': 'https://pokeapi.co/api/v2/version-group/14/'}}, {'level_learned_at': 50, 'move_learn_method': {'name': 'level-up', 'url': 'https://pokeapi.co/api/v2/move-learn-method/1/'}, 'version_group': {'name': 'x-y', 'url': 'https://pokeapi.co/api/v2/version-group/15/'}}, {'level_learned_at': 0, 'move_learn_method': {'name': 'machine', 'url': 'https://pokeapi.co/api/v2/move-learn-method/4/'}, 'version_group': {'name': 'x-y', 'url': 'https://pokeapi.co/api/v2/version-group/15/'}}, {'level_learned_at': 58, 'move_learn_method': {'name': 'level-up', 'url': 'https://pokeapi.co/api/v2/move-learn-method/1/'}, 'version_group': {'name': 'omega-ruby-alpha-sapphire', 'url': 'https://pokeapi.co/api/v2/version-group/16/'}}, {'level_learned_at': 0, 'move_learn_method': {'name': 'machine', 'url': 'https://pokeapi.co/api/v2/move-learn-method/4/'}, 'version_group': {'name': 'omega-ruby-alpha-sapphire', 'url': 'https://pokeapi.co/api/v2/version-group/16/'}}, {'level_learned_at': 58, 'move_learn_method': {'name': 'level-up', 'url': 'https://pokeapi.co/api/v2/move-learn-method/1/'}, 'version_group': {'name': 'sun-moon', 'url': 'https://pokeapi.co/api/v2/version-group/17/'}}, {'level_learned_at': 0, 'move_learn_method': {'name': 'machine', 'url': 'https://pokeapi.co/api/v2/move-learn-method/4/'}, 'version_group': {'name': 'sun-moon', 'url': 'https://pokeapi.co/api/v2/version-group/17/'}}, {'level_learned_at': 58, 'move_learn_method': {'name': 'level-up', 'url': 'https://pokeapi.co/api/v2/move-learn-method/1/'}, 'version_group': {'name': 'ultra-sun-ultra-moon', 'url': 'https://pokeapi.co/api/v2/version-group/18/'}}, {'level_learned_at': 0, 'move_learn_method': {'name': 'machine', 'url': 'https://pokeapi.co/api/v2/move-learn-method/4/'}, 'version_group': {'name': 'ultra-sun-ultra-moon', 'url': 'https://pokeapi.co/api/v2/version-group/18/'}}, {'level_learned_at': 30, 'move_learn_method': {'name': 'level-up', 'url': 'https://pokeapi.co/api/v2/move-learn-method/1/'}, 'version_group': {'name': 'lets-go-pikachu-lets-go-eevee', 'url': 'https://pokeapi.co/api/v2/version-group/19/'}}, {'level_learned_at': 0, 'move_learn_method': {'name': 'machine', 'url': 'https://pokeapi.co/api/v2/move-learn-method/4/'}, 'version_group': {'name': 'lets-go-pikachu-lets-go-eevee', 'url': 'https://pokeapi.co/api/v2/version-group/19/'}}, {'level_learned_at': 44, 'move_learn_method': {'name': 'level-up', 'url': 'https://pokeapi.co/api/v2/move-learn-method/1/'}, 'version_group': {'name': 'sword-shield', 'url': 'https://pokeapi.co/api/v2/version-group/20/'}}, {'level_learned_at': 0, 'move_learn_method': {'name': 'machine', 'url': 'https://pokeapi.co/api/v2/move-learn-method/4/'}, 'version_group': {'name': 'sword-shield', 'url': 'https://pokeapi.co/api/v2/version-group/20/'}}, {'level_learned_at': 44, 'move_learn_method': {'name': 'level-up', 'url': 'https://pokeapi.co/api/v2/move-learn-method/1/'}, 'version_group': {'name': 'brilliant-diamond-and-shining-pearl', 'url': 'https://pokeapi.co/api/v2/version-group/23/'}}, {'level_learned_at': 0, 'move_learn_method': {'name': 'machine', 'url': 'https://pokeapi.co/api/v2/move-learn-method/4/'}, 'version_group': {'name': 'brilliant-diamond-and-shining-pearl', 'url': 'https://pokeapi.co/api/v2/version-group/23/'}}, {'level_learned_at': 44, 'move_learn_method': {'name': 'level-up', 'url': 'https://pokeapi.co/api/v2/move-learn-method/1/'}, 'version_group': {'name': 'scarlet-violet', 'url': 'https://pokeapi.co/api/v2/version-group/25/'}}, {'level_learned_at': 0, 'move_learn_method': {'name': 'machine', 'url': 'https://pokeapi.co/api/v2/move-learn-method/4/'}, 'version_group': {'name': 'scarlet-violet', 'url': 'https://pokeapi.co/api/v2/version-group/25/'}}]}, {'move': {'name': 'dig', 'url': 'https://pokeapi.co/api/v2/move/91/'}, 'version_group_details': [{'level_learned_at': 0, 'move_learn_method': {'name': 'machine', 'url': 'https://pokeapi.co/api/v2/move-learn-method/4/'}, 'version_group': {'name': 'ruby-sapphire', 'url': 'https://pokeapi.co/api/v2/version-group/5/'}}, {'level_learned_at': 0, 'move_learn_method': {'name': 'machine', 'url': 'https://pokeapi.co/api/v2/move-learn-method/4/'}, 'version_group': {'name': 'emerald', 'url': 'https://pokeapi.co/api/v2/version-group/6/'}}, {'level_learned_at': 0, 'move_learn_method': {'name': 'machine', 'url': 'https://pokeapi.co/api/v2/move-learn-method/4/'}, 'version_group': {'name': 'firered-leafgreen', 'url': 'https://pokeapi.co/api/v2/version-group/7/'}}, {'level_learned_at': 0, 'move_learn_method': {'name': 'machine', 'url': 'https://pokeapi.co/api/v2/move-learn-method/4/'}, 'version_group': {'name': 'diamond-pearl', 'url': 'https://pokeapi.co/api/v2/version-group/8/'}}, {'level_learned_at': 0, 'move_learn_method': {'name': 'machine', 'url': 'https://pokeapi.co/api/v2/move-learn-method/4/'}, 'version_group': {'name': 'platinum', 'url': 'https://pokeapi.co/api/v2/version-group/9/'}}, {'level_learned_at': 0, 'move_learn_method': {'name': 'machine', 'url': 'https://pokeapi.co/api/v2/move-learn-method/4/'}, 'version_group': {'name': 'heartgold-soulsilver', 'url': 'https://pokeapi.co/api/v2/version-group/10/'}}, {'level_learned_at': 0, 'move_learn_method': {'name': 'machine', 'url': 'https://pokeapi.co/api/v2/move-learn-method/4/'}, 'version_group': {'name': 'black-white', 'url': 'https://pokeapi.co/api/v2/version-group/11/'}}, {'level_learned_at': 0, 'move_learn_method': {'name': 'machine', 'url': 'https://pokeapi.co/api/v2/move-learn-method/4/'}, 'version_group': {'name': 'colosseum', 'url': 'https://pokeapi.co/api/v2/version-group/12/'}}, {'level_learned_at': 0, 'move_learn_method': {'name': 'machine', 'url': 'https://pokeapi.co/api/v2/move-learn-method/4/'}, 'version_group': {'name': 'xd', 'url': 'https://pokeapi.co/api/v2/version-group/13/'}}, {'level_learned_at': 0, 'move_learn_method': {'name': 'machine', 'url': 'https://pokeapi.co/api/v2/move-learn-method/4/'}, 'version_group': {'name': 'black-2-white-2', 'url': 'https://pokeapi.co/api/v2/version-group/14/'}}, {'level_learned_at': 0, 'move_learn_method': {'name': 'machine', 'url': 'https://pokeapi.co/api/v2/move-learn-method/4/'}, 'version_group': {'name': 'x-y', 'url': 'https://pokeapi.co/api/v2/version-group/15/'}}, {'level_learned_at': 0, 'move_learn_method': {'name': 'machine', 'url': 'https://pokeapi.co/api/v2/move-learn-method/4/'}, 'version_group': {'name': 'omega-ruby-alpha-sapphire', 'url': 'https://pokeapi.co/api/v2/version-group/16/'}}, {'level_learned_at': 0, 'move_learn_method': {'name': 'machine', 'url': 'https://pokeapi.co/api/v2/move-learn-method/4/'}, 'version_group': {'name': 'lets-go-pikachu-lets-go-eevee', 'url': 'https://pokeapi.co/api/v2/version-group/19/'}}, {'level_learned_at': 0, 'move_learn_method': {'name': 'machine', 'url': 'https://pokeapi.co/api/v2/move-learn-method/4/'}, 'version_group': {'name': 'sword-shield', 'url': 'https://pokeapi.co/api/v2/version-group/20/'}}, {'level_learned_at': 0, 'move_learn_method': {'name': 'machine', 'url': 'https://pokeapi.co/api/v2/move-learn-method/4/'}, 'version_group': {'name': 'brilliant-diamond-and-shining-pearl', 'url': 'https://pokeapi.co/api/v2/version-group/23/'}}, {'level_learned_at': 0, 'move_learn_method': {'name': 'machine', 'url': 'https://pokeapi.co/api/v2/move-learn-method/4/'}, 'version_group': {'name': 'scarlet-violet', 'url': 'https://pokeapi.co/api/v2/version-group/25/'}}]}, {'move': {'name': 'toxic', 'url': 'https://pokeapi.co/api/v2/move/92/'}, 'version_group_details': [{'level_learned_at': 0, 'move_learn_method': {'name': 'machine', 'url': 'https://pokeapi.co/api/v2/move-learn-method/4/'}, 'version_group': {'name': 'red-blue', 'url': 'https://pokeapi.co/api/v2/version-group/1/'}}, {'level_learned_at': 0, 'move_learn_method': {'name': 'machine', 'url': 'https://pokeapi.co/api/v2/move-learn-method/4/'}, 'version_group': {'name': 'yellow', 'url': 'https://pokeapi.co/api/v2/version-group/2/'}}, {'level_learned_at': 0, 'move_learn_method': {'name': 'machine', 'url': 'https://pokeapi.co/api/v2/move-learn-method/4/'}, 'version_group': {'name': 'gold-silver', 'url': 'https://pokeapi.co/api/v2/version-group/3/'}}, {'level_learned_at': 0, 'move_learn_method': {'name': 'machine', 'url': 'https://pokeapi.co/api/v2/move-learn-method/4/'}, 'version_group': {'name': 'crystal', 'url': 'https://pokeapi.co/api/v2/version-group/4/'}}, {'level_learned_at': 0, 'move_learn_method': {'name': 'machine', 'url': 'https://pokeapi.co/api/v2/move-learn-method/4/'}, 'version_group': {'name': 'ruby-sapphire', 'url': 'https://pokeapi.co/api/v2/version-group/5/'}}, {'level_learned_at': 0, 'move_learn_method': {'name': 'machine', 'url': 'https://pokeapi.co/api/v2/move-learn-method/4/'}, 'version_group': {'name': 'emerald', 'url': 'https://pokeapi.co/api/v2/version-group/6/'}}, {'level_learned_at': 0, 'move_learn_method': {'name': 'machine', 'url': 'https://pokeapi.co/api/v2/move-learn-method/4/'}, 'version_group': {'name': 'firered-leafgreen', 'url': 'https://pokeapi.co/api/v2/version-group/7/'}}, {'level_learned_at': 0, 'move_learn_method': {'name': 'machine', 'url': 'https://pokeapi.co/api/v2/move-learn-method/4/'}, 'version_group': {'name': 'diamond-pearl', 'url': 'https://pokeapi.co/api/v2/version-group/8/'}}, {'level_learned_at': 0, 'move_learn_method': {'name': 'machine', 'url': 'https://pokeapi.co/api/v2/move-learn-method/4/'}, 'version_group': {'name': 'platinum', 'url': 'https://pokeapi.co/api/v2/version-group/9/'}}, {'level_learned_at': 0, 'move_learn_method': {'name': 'machine', 'url': 'https://pokeapi.co/api/v2/move-learn-method/4/'}, 'version_group': {'name': 'heartgold-soulsilver', 'url': 'https://pokeapi.co/api/v2/version-group/10/'}}, {'level_learned_at': 0, 'move_learn_method': {'name': 'machine', 'url': 'https://pokeapi.co/api/v2/move-learn-method/4/'}, 'version_group': {'name': 'black-white', 'url': 'https://pokeapi.co/api/v2/version-group/11/'}}, {'level_learned_at': 0, 'move_learn_method': {'name': 'machine', 'url': 'https://pokeapi.co/api/v2/move-learn-method/4/'}, 'version_group': {'name': 'colosseum', 'url': 'https://pokeapi.co/api/v2/version-group/12/'}}, {'level_learned_at': 0, 'move_learn_method': {'name': 'machine', 'url': 'https://pokeapi.co/api/v2/move-learn-method/4/'}, 'version_group': {'name': 'xd', 'url': 'https://pokeapi.co/api/v2/version-group/13/'}}, {'level_learned_at': 0, 'move_learn_method': {'name': 'machine', 'url': 'https://pokeapi.co/api/v2/move-learn-method/4/'}, 'version_group': {'name': 'black-2-white-2', 'url': 'https://pokeapi.co/api/v2/version-group/14/'}}, {'level_learned_at': 0, 'move_learn_method': {'name': 'machine', 'url': 'https://pokeapi.co/api/v2/move-learn-method/4/'}, 'version_group': {'name': 'x-y', 'url': 'https://pokeapi.co/api/v2/version-group/15/'}}, {'level_learned_at': 0, 'move_learn_method': {'name': 'machine', 'url': 'https://pokeapi.co/api/v2/move-learn-method/4/'}, 'version_group': {'name': 'omega-ruby-alpha-sapphire', 'url': 'https://pokeapi.co/api/v2/version-group/16/'}}, {'level_learned_at': 0, 'move_learn_method': {'name': 'machine', 'url': 'https://pokeapi.co/api/v2/move-learn-method/4/'}, 'version_group': {'name': 'sun-moon', 'url': 'https://pokeapi.co/api/v2/version-group/17/'}}, {'level_learned_at': 0, 'move_learn_method': {'name': 'machine', 'url': 'https://pokeapi.co/api/v2/move-learn-method/4/'}, 'version_group': {'name': 'ultra-sun-ultra-moon', 'url': 'https://pokeapi.co/api/v2/version-group/18/'}}, {'level_learned_at': 0, 'move_learn_method': {'name': 'machine', 'url': 'https://pokeapi.co/api/v2/move-learn-method/4/'}, 'version_group': {'name': 'lets-go-pikachu-lets-go-eevee', 'url': 'https://pokeapi.co/api/v2/version-group/19/'}}]}, {'move': {'name': 'agility', 'url': 'https://pokeapi.co/api/v2/move/97/'}, 'version_group_details': [{'level_learned_at': 33, 'move_learn_method': {'name': 'level-up', 'url': 'https://pokeapi.co/api/v2/move-learn-method/1/'}, 'version_group': {'name': 'red-blue', 'url': 'https://pokeapi.co/api/v2/version-group/1/'}}, {'level_learned_at': 33, 'move_learn_method': {'name': 'level-up', 'url': 'https://pokeapi.co/api/v2/move-learn-method/1/'}, 'version_group': {'name': 'yellow', 'url': 'https://pokeapi.co/api/v2/version-group/2/'}}, {'level_learned_at': 33, 'move_learn_method': {'name': 'level-up', 'url': 'https://pokeapi.co/api/v2/move-learn-method/1/'}, 'version_group': {'name': 'gold-silver', 'url': 'https://pokeapi.co/api/v2/version-group/3/'}}, {'level_learned_at': 33, 'move_learn_method': {'name': 'level-up', 'url': 'https://pokeapi.co/api/v2/move-learn-method/1/'}, 'version_group': {'name': 'crystal', 'url': 'https://pokeapi.co/api/v2/version-group/4/'}}, {'level_learned_at': 33, 'move_learn_method': {'name': 'level-up', 'url': 'https://pokeapi.co/api/v2/move-learn-method/1/'}, 'version_group': {'name': 'ruby-sapphire', 'url': 'https://pokeapi.co/api/v2/version-group/5/'}}, {'level_learned_at': 33, 'move_learn_method': {'name': 'level-up', 'url': 'https://pokeapi.co/api/v2/move-learn-method/1/'}, 'version_group': {'name': 'emerald', 'url': 'https://pokeapi.co/api/v2/version-group/6/'}}, {'level_learned_at': 33, 'move_learn_method': {'name': 'level-up', 'url': 'https://pokeapi.co/api/v2/move-learn-method/1/'}, 'version_group': {'name': 'firered-leafgreen', 'url': 'https://pokeapi.co/api/v2/version-group/7/'}}, {'level_learned_at': 34, 'move_learn_method': {'name': 'level-up', 'url': 'https://pokeapi.co/api/v2/move-learn-method/1/'}, 'version_group': {'name': 'diamond-pearl', 'url': 'https://pokeapi.co/api/v2/version-group/8/'}}, {'level_learned_at': 34, 'move_learn_method': {'name': 'level-up', 'url': 'https://pokeapi.co/api/v2/move-learn-method/1/'}, 'version_group': {'name': 'platinum', 'url': 'https://pokeapi.co/api/v2/version-group/9/'}}, {'level_learned_at': 34, 'move_learn_method': {'name': 'level-up', 'url': 'https://pokeapi.co/api/v2/move-learn-method/1/'}, 'version_group': {'name': 'heartgold-soulsilver', 'url': 'https://pokeapi.co/api/v2/version-group/10/'}}, {'level_learned_at': 37, 'move_learn_method': {'name': 'level-up', 'url': 'https://pokeapi.co/api/v2/move-learn-method/1/'}, 'version_group': {'name': 'black-white', 'url': 'https://pokeapi.co/api/v2/version-group/11/'}}, {'level_learned_at': 33, 'move_learn_method': {'name': 'level-up', 'url': 'https://pokeapi.co/api/v2/move-learn-method/1/'}, 'version_group': {'name': 'colosseum', 'url': 'https://pokeapi.co/api/v2/version-group/12/'}}, {'level_learned_at': 33, 'move_learn_method': {'name': 'level-up', 'url': 'https://pokeapi.co/api/v2/move-learn-method/1/'}, 'version_group': {'name': 'xd', 'url': 'https://pokeapi.co/api/v2/version-group/13/'}}, {'level_learned_at': 37, 'move_learn_method': {'name': 'level-up', 'url': 'https://pokeapi.co/api/v2/move-learn-method/1/'}, 'version_group': {'name': 'black-2-white-2', 'url': 'https://pokeapi.co/api/v2/version-group/14/'}}, {'level_learned_at': 37, 'move_learn_method': {'name': 'level-up', 'url': 'https://pokeapi.co/api/v2/move-learn-method/1/'}, 'version_group': {'name': 'x-y', 'url': 'https://pokeapi.co/api/v2/version-group/15/'}}, {'level_learned_at': 45, 'move_learn_method': {'name': 'level-up', 'url': 'https://pokeapi.co/api/v2/move-learn-method/1/'}, 'version_group': {'name': 'omega-ruby-alpha-sapphire', 'url': 'https://pokeapi.co/api/v2/version-group/16/'}}, {'level_learned_at': 45, 'move_learn_method': {'name': 'level-up', 'url': 'https://pokeapi.co/api/v2/move-learn-method/1/'}, 'version_group': {'name': 'sun-moon', 'url': 'https://pokeapi.co/api/v2/version-group/17/'}}, {'level_learned_at': 45, 'move_learn_method': {'name': 'level-up', 'url': 'https://pokeapi.co/api/v2/move-learn-method/1/'}, 'version_group': {'name': 'ultra-sun-ultra-moon', 'url': 'https://pokeapi.co/api/v2/version-group/18/'}}, {'level_learned_at': 27, 'move_learn_method': {'name': 'level-up', 'url': 'https://pokeapi.co/api/v2/move-learn-method/1/'}, 'version_group': {'name': 'lets-go-pikachu-lets-go-eevee', 'url': 'https://pokeapi.co/api/v2/version-group/19/'}}, {'level_learned_at': 24, 'move_learn_method': {'name': 'level-up', 'url': 'https://pokeapi.co/api/v2/move-learn-method/1/'}, 'version_group': {'name': 'sword-shield', 'url': 'https://pokeapi.co/api/v2/version-group/20/'}}, {'level_learned_at': 0, 'move_learn_method': {'name': 'machine', 'url': 'https://pokeapi.co/api/v2/move-learn-method/4/'}, 'version_group': {'name': 'sword-shield', 'url': 'https://pokeapi.co/api/v2/version-group/20/'}}, {'level_learned_at': 24, 'move_learn_method': {'name': 'level-up', 'url': 'https://pokeapi.co/api/v2/move-learn-method/1/'}, 'version_group': {'name': 'brilliant-diamond-and-shining-pearl', 'url': 'https://pokeapi.co/api/v2/version-group/23/'}}, {'level_learned_at': 24, 'move_learn_method': {'name': 'level-up', 'url': 'https://pokeapi.co/api/v2/move-learn-method/1/'}, 'version_group': {'name': 'scarlet-violet', 'url': 'https://pokeapi.co/api/v2/version-group/25/'}}, {'level_learned_at': 0, 'move_learn_method': {'name': 'machine', 'url': 'https://pokeapi.co/api/v2/move-learn-method/4/'}, 'version_group': {'name': 'scarlet-violet', 'url': 'https://pokeapi.co/api/v2/version-group/25/'}}]}, {'move': {'name': 'quick-attack', 'url': 'https://pokeapi.co/api/v2/move/98/'}, 'version_group_details': [{'level_learned_at': 16, 'move_learn_method': {'name': 'level-up', 'url': 'https://pokeapi.co/api/v2/move-learn-method/1/'}, 'version_group': {'name': 'red-blue', 'url': 'https://pokeapi.co/api/v2/version-group/1/'}}, {'level_learned_at': 11, 'move_learn_method': {'name': 'level-up', 'url': 'https://pokeapi.co/api/v2/move-learn-method/1/'}, 'version_group': {'name': 'yellow', 'url': 'https://pokeapi.co/api/v2/version-group/2/'}}, {'level_learned_at': 11, 'move_learn_method': {'name': 'level-up', 'url': 'https://pokeapi.co/api/v2/move-learn-method/1/'}, 'version_group': {'name': 'gold-silver', 'url': 'https://pokeapi.co/api/v2/version-group/3/'}}, {'level_learned_at': 11, 'move_learn_method': {'name': 'level-up', 'url': 'https://pokeapi.co/api/v2/move-learn-method/1/'}, 'version_group': {'name': 'crystal', 'url': 'https://pokeapi.co/api/v2/version-group/4/'}}, {'level_learned_at': 11, 'move_learn_method': {'name': 'level-up', 'url': 'https://pokeapi.co/api/v2/move-learn-method/1/'}, 'version_group': {'name': 'ruby-sapphire', 'url': 'https://pokeapi.co/api/v2/version-group/5/'}}, {'level_learned_at': 11, 'move_learn_method': {'name': 'level-up', 'url': 'https://pokeapi.co/api/v2/move-learn-method/1/'}, 'version_group': {'name': 'emerald', 'url': 'https://pokeapi.co/api/v2/version-group/6/'}}, {'level_learned_at': 11, 'move_learn_method': {'name': 'level-up', 'url': 'https://pokeapi.co/api/v2/move-learn-method/1/'}, 'version_group': {'name': 'firered-leafgreen', 'url': 'https://pokeapi.co/api/v2/version-group/7/'}}, {'level_learned_at': 13, 'move_learn_method': {'name': 'level-up', 'url': 'https://pokeapi.co/api/v2/move-learn-method/1/'}, 'version_group': {'name': 'diamond-pearl', 'url': 'https://pokeapi.co/api/v2/version-group/8/'}}, {'level_learned_at': 13, 'move_learn_method': {'name': 'level-up', 'url': 'https://pokeapi.co/api/v2/move-learn-method/1/'}, 'version_group': {'name': 'platinum', 'url': 'https://pokeapi.co/api/v2/version-group/9/'}}, {'level_learned_at': 13, 'move_learn_method': {'name': 'level-up', 'url': 'https://pokeapi.co/api/v2/move-learn-method/1/'}, 'version_group': {'name': 'heartgold-soulsilver', 'url': 'https://pokeapi.co/api/v2/version-group/10/'}}, {'level_learned_at': 13, 'move_learn_method': {'name': 'level-up', 'url': 'https://pokeapi.co/api/v2/move-learn-method/1/'}, 'version_group': {'name': 'black-white', 'url': 'https://pokeapi.co/api/v2/version-group/11/'}}, {'level_learned_at': 11, 'move_learn_method': {'name': 'level-up', 'url': 'https://pokeapi.co/api/v2/move-learn-method/1/'}, 'version_group': {'name': 'colosseum', 'url': 'https://pokeapi.co/api/v2/version-group/12/'}}, {'level_learned_at': 11, 'move_learn_method': {'name': 'level-up', 'url': 'https://pokeapi.co/api/v2/move-learn-method/1/'}, 'version_group': {'name': 'xd', 'url': 'https://pokeapi.co/api/v2/version-group/13/'}}, {'level_learned_at': 13, 'move_learn_method': {'name': 'level-up', 'url': 'https://pokeapi.co/api/v2/move-learn-method/1/'}, 'version_group': {'name': 'black-2-white-2', 'url': 'https://pokeapi.co/api/v2/version-group/14/'}}, {'level_learned_at': 10, 'move_learn_method': {'name': 'level-up', 'url': 'https://pokeapi.co/api/v2/move-learn-method/1/'}, 'version_group': {'name': 'x-y', 'url': 'https://pokeapi.co/api/v2/version-group/15/'}}, {'level_learned_at': 10, 'move_learn_method': {'name': 'level-up', 'url': 'https://pokeapi.co/api/v2/move-learn-method/1/'}, 'version_group': {'name': 'omega-ruby-alpha-sapphire', 'url': 'https://pokeapi.co/api/v2/version-group/16/'}}, {'level_learned_at': 10, 'move_learn_method': {'name': 'level-up', 'url': 'https://pokeapi.co/api/v2/move-learn-method/1/'}, 'version_group': {'name': 'sun-moon', 'url': 'https://pokeapi.co/api/v2/version-group/17/'}}, {'level_learned_at': 10, 'move_learn_method': {'name': 'level-up', 'url': 'https://pokeapi.co/api/v2/move-learn-method/1/'}, 'version_group': {'name': 'ultra-sun-ultra-moon', 'url': 'https://pokeapi.co/api/v2/version-group/18/'}}, {'level_learned_at': 6, 'move_learn_method': {'name': 'level-up', 'url': 'https://pokeapi.co/api/v2/move-learn-method/1/'}, 'version_group': {'name': 'lets-go-pikachu-lets-go-eevee', 'url': 'https://pokeapi.co/api/v2/version-group/19/'}}, {'level_learned_at': 1, 'move_learn_method': {'name': 'level-up', 'url': 'https://pokeapi.co/api/v2/move-learn-method/1/'}, 'version_group': {'name': 'sword-shield', 'url': 'https://pokeapi.co/api/v2/version-group/20/'}}, {'level_learned_at': 1, 'move_learn_method': {'name': 'level-up', 'url': 'https://pokeapi.co/api/v2/move-learn-method/1/'}, 'version_group': {'name': 'brilliant-diamond-and-shining-pearl', 'url': 'https://pokeapi.co/api/v2/version-group/23/'}}, {'level_learned_at': 1, 'move_learn_method': {'name': 'level-up', 'url': 'https://pokeapi.co/api/v2/move-learn-method/1/'}, 'version_group': {'name': 'scarlet-violet', 'url': 'https://pokeapi.co/api/v2/version-group/25/'}}]}, {'move': {'name': 'rage', 'url': 'https://pokeapi.co/api/v2/move/99/'}, 'version_group_details': [{'level_learned_at': 0, 'move_learn_method': {'name': 'machine', 'url': 'https://pokeapi.co/api/v2/move-learn-method/4/'}, 'version_group': {'name': 'red-blue', 'url': 'https://pokeapi.co/api/v2/version-group/1/'}}, {'level_learned_at': 0, 'move_learn_method': {'name': 'machine', 'url': 'https://pokeapi.co/api/v2/move-learn-method/4/'}, 'version_group': {'name': 'yellow', 'url': 'https://pokeapi.co/api/v2/version-group/2/'}}]}, {'move': {'name': 'mimic', 'url': 'https://pokeapi.co/api/v2/move/102/'}, 'version_group_details': [{'level_learned_at': 0, 'move_learn_method': {'name': 'machine', 'url': 'https://pokeapi.co/api/v2/move-learn-method/4/'}, 'version_group': {'name': 'red-blue', 'url': 'https://pokeapi.co/api/v2/version-group/1/'}}, {'level_learned_at': 0, 'move_learn_method': {'name': 'machine', 'url': 'https://pokeapi.co/api/v2/move-learn-method/4/'}, 'version_group': {'name': 'yellow', 'url': 'https://pokeapi.co/api/v2/version-group/2/'}}, {'level_learned_at': 0, 'move_learn_method': {'name': 'tutor', 'url': 'https://pokeapi.co/api/v2/move-learn-method/3/'}, 'version_group': {'name': 'emerald', 'url': 'https://pokeapi.co/api/v2/version-group/6/'}}, {'level_learned_at': 0, 'move_learn_method': {'name': 'tutor', 'url': 'https://pokeapi.co/api/v2/move-learn-method/3/'}, 'version_group': {'name': 'firered-leafgreen', 'url': 'https://pokeapi.co/api/v2/version-group/7/'}}, {'level_learned_at': 0, 'move_learn_method': {'name': 'tutor', 'url': 'https://pokeapi.co/api/v2/move-learn-method/3/'}, 'version_group': {'name': 'xd', 'url': 'https://pokeapi.co/api/v2/version-group/13/'}}]}, {'move': {'name': 'double-team', 'url': 'https://pokeapi.co/api/v2/move/104/'}, 'version_group_details': [{'level_learned_at': 0, 'move_learn_method': {'name': 'machine', 'url': 'https://pokeapi.co/api/v2/move-learn-method/4/'}, 'version_group': {'name': 'red-blue', 'url': 'https://pokeapi.co/api/v2/version-group/1/'}}, {'level_learned_at': 15, 'move_learn_method': {'name': 'level-up', 'url': 'https://pokeapi.co/api/v2/move-learn-method/1/'}, 'version_group': {'name': 'yellow', 'url': 'https://pokeapi.co/api/v2/version-group/2/'}}, {'level_learned_at': 0, 'move_learn_method': {'name': 'machine', 'url': 'https://pokeapi.co/api/v2/move-learn-method/4/'}, 'version_group': {'name': 'yellow', 'url': 'https://pokeapi.co/api/v2/version-group/2/'}}, {'level_learned_at': 15, 'move_learn_method': {'name': 'level-up', 'url': 'https://pokeapi.co/api/v2/move-learn-method/1/'}, 'version_group': {'name': 'gold-silver', 'url': 'https://pokeapi.co/api/v2/version-group/3/'}}, {'level_learned_at': 0, 'move_learn_method': {'name': 'machine', 'url': 'https://pokeapi.co/api/v2/move-learn-method/4/'}, 'version_group': {'name': 'gold-silver', 'url': 'https://pokeapi.co/api/v2/version-group/3/'}}, {'level_learned_at': 15, 'move_learn_method': {'name': 'level-up', 'url': 'https://pokeapi.co/api/v2/move-learn-method/1/'}, 'version_group': {'name': 'crystal', 'url': 'https://pokeapi.co/api/v2/version-group/4/'}}, {'level_learned_at': 0, 'move_learn_method': {'name': 'machine', 'url': 'https://pokeapi.co/api/v2/move-learn-method/4/'}, 'version_group': {'name': 'crystal', 'url': 'https://pokeapi.co/api/v2/version-group/4/'}}, {'level_learned_at': 15, 'move_learn_method': {'name': 'level-up', 'url': 'https://pokeapi.co/api/v2/move-learn-method/1/'}, 'version_group': {'name': 'ruby-sapphire', 'url': 'https://pokeapi.co/api/v2/version-group/5/'}}, {'level_learned_at': 0, 'move_learn_method': {'name': 'machine', 'url': 'https://pokeapi.co/api/v2/move-learn-method/4/'}, 'version_group': {'name': 'ruby-sapphire', 'url': 'https://pokeapi.co/api/v2/version-group/5/'}}, {'level_learned_at': 15, 'move_learn_method': {'name': 'level-up', 'url': 'https://pokeapi.co/api/v2/move-learn-method/1/'}, 'version_group': {'name': 'emerald', 'url': 'https://pokeapi.co/api/v2/version-group/6/'}}, {'level_learned_at': 0, 'move_learn_method': {'name': 'machine', 'url': 'https://pokeapi.co/api/v2/move-learn-method/4/'}, 'version_group': {'name': 'emerald', 'url': 'https://pokeapi.co/api/v2/version-group/6/'}}, {'level_learned_at': 15, 'move_learn_method': {'name': 'level-up', 'url': 'https://pokeapi.co/api/v2/move-learn-method/1/'}, 'version_group': {'name': 'firered-leafgreen', 'url': 'https://pokeapi.co/api/v2/version-group/7/'}}, {'level_learned_at': 0, 'move_learn_method': {'name': 'machine', 'url': 'https://pokeapi.co/api/v2/move-learn-method/4/'}, 'version_group': {'name': 'firered-leafgreen', 'url': 'https://pokeapi.co/api/v2/version-group/7/'}}, {'level_learned_at': 18, 'move_learn_method': {'name': 'level-up', 'url': 'https://pokeapi.co/api/v2/move-learn-method/1/'}, 'version_group': {'name': 'diamond-pearl', 'url': 'https://pokeapi.co/api/v2/version-group/8/'}}, {'level_learned_at': 0, 'move_learn_method': {'name': 'machine', 'url': 'https://pokeapi.co/api/v2/move-learn-method/4/'}, 'version_group': {'name': 'diamond-pearl', 'url': 'https://pokeapi.co/api/v2/version-group/8/'}}, {'level_learned_at': 18, 'move_learn_method': {'name': 'level-up', 'url': 'https://pokeapi.co/api/v2/move-learn-method/1/'}, 'version_group': {'name': 'platinum', 'url': 'https://pokeapi.co/api/v2/version-group/9/'}}, {'level_learned_at': 0, 'move_learn_method': {'name': 'machine', 'url': 'https://pokeapi.co/api/v2/move-learn-method/4/'}, 'version_group': {'name': 'platinum', 'url': 'https://pokeapi.co/api/v2/version-group/9/'}}, {'level_learned_at': 18, 'move_learn_method': {'name': 'level-up', 'url': 'https://pokeapi.co/api/v2/move-learn-method/1/'}, 'version_group': {'name': 'heartgold-soulsilver', 'url': 'https://pokeapi.co/api/v2/version-group/10/'}}, {'level_learned_at': 0, 'move_learn_method': {'name': 'machine', 'url': 'https://pokeapi.co/api/v2/move-learn-method/4/'}, 'version_group': {'name': 'heartgold-soulsilver', 'url': 'https://pokeapi.co/api/v2/version-group/10/'}}, {'level_learned_at': 21, 'move_learn_method': {'name': 'level-up', 'url': 'https://pokeapi.co/api/v2/move-learn-method/1/'}, 'version_group': {'name': 'black-white', 'url': 'https://pokeapi.co/api/v2/version-group/11/'}}, {'level_learned_at': 0, 'move_learn_method': {'name': 'machine', 'url': 'https://pokeapi.co/api/v2/move-learn-method/4/'}, 'version_group': {'name': 'black-white', 'url': 'https://pokeapi.co/api/v2/version-group/11/'}}, {'level_learned_at': 15, 'move_learn_method': {'name': 'level-up', 'url': 'https://pokeapi.co/api/v2/move-learn-method/1/'}, 'version_group': {'name': 'colosseum', 'url': 'https://pokeapi.co/api/v2/version-group/12/'}}, {'level_learned_at': 0, 'move_learn_method': {'name': 'machine', 'url': 'https://pokeapi.co/api/v2/move-learn-method/4/'}, 'version_group': {'name': 'colosseum', 'url': 'https://pokeapi.co/api/v2/version-group/12/'}}, {'level_learned_at': 15, 'move_learn_method': {'name': 'level-up', 'url': 'https://pokeapi.co/api/v2/move-learn-method/1/'}, 'version_group': {'name': 'xd', 'url': 'https://pokeapi.co/api/v2/version-group/13/'}}, {'level_learned_at': 0, 'move_learn_method': {'name': 'machine', 'url': 'https://pokeapi.co/api/v2/move-learn-method/4/'}, 'version_group': {'name': 'xd', 'url': 'https://pokeapi.co/api/v2/version-group/13/'}}, {'level_learned_at': 21, 'move_learn_method': {'name': 'level-up', 'url': 'https://pokeapi.co/api/v2/move-learn-method/1/'}, 'version_group': {'name': 'black-2-white-2', 'url': 'https://pokeapi.co/api/v2/version-group/14/'}}, {'level_learned_at': 0, 'move_learn_method': {'name': 'machine', 'url': 'https://pokeapi.co/api/v2/move-learn-method/4/'}, 'version_group': {'name': 'black-2-white-2', 'url': 'https://pokeapi.co/api/v2/version-group/14/'}}, {'level_learned_at': 21, 'move_learn_method': {'name': 'level-up', 'url': 'https://pokeapi.co/api/v2/move-learn-method/1/'}, 'version_group': {'name': 'x-y', 'url': 'https://pokeapi.co/api/v2/version-group/15/'}}, {'level_learned_at': 0, 'move_learn_method': {'name': 'machine', 'url': 'https://pokeapi.co/api/v2/move-learn-method/4/'}, 'version_group': {'name': 'x-y', 'url': 'https://pokeapi.co/api/v2/version-group/15/'}}, {'level_learned_at': 23, 'move_learn_method': {'name': 'level-up', 'url': 'https://pokeapi.co/api/v2/move-learn-method/1/'}, 'version_group': {'name': 'omega-ruby-alpha-sapphire', 'url': 'https://pokeapi.co/api/v2/version-group/16/'}}, {'level_learned_at': 0, 'move_learn_method': {'name': 'machine', 'url': 'https://pokeapi.co/api/v2/move-learn-method/4/'}, 'version_group': {'name': 'omega-ruby-alpha-sapphire', 'url': 'https://pokeapi.co/api/v2/version-group/16/'}}, {'level_learned_at': 23, 'move_learn_method': {'name': 'level-up', 'url': 'https://pokeapi.co/api/v2/move-learn-method/1/'}, 'version_group': {'name': 'sun-moon', 'url': 'https://pokeapi.co/api/v2/version-group/17/'}}, {'level_learned_at': 0, 'move_learn_method': {'name': 'machine', 'url': 'https://pokeapi.co/api/v2/move-learn-method/4/'}, 'version_group': {'name': 'sun-moon', 'url': 'https://pokeapi.co/api/v2/version-group/17/'}}, {'level_learned_at': 23, 'move_learn_method': {'name': 'level-up', 'url': 'https://pokeapi.co/api/v2/move-learn-method/1/'}, 'version_group': {'name': 'ultra-sun-ultra-moon', 'url': 'https://pokeapi.co/api/v2/version-group/18/'}}, {'level_learned_at': 0, 'move_learn_method': {'name': 'machine', 'url': 'https://pokeapi.co/api/v2/move-learn-method/4/'}, 'version_group': {'name': 'ultra-sun-ultra-moon', 'url': 'https://pokeapi.co/api/v2/version-group/18/'}}, {'level_learned_at': 12, 'move_learn_method': {'name': 'level-up', 'url': 'https://pokeapi.co/api/v2/move-learn-method/1/'}, 'version_group': {'name': 'lets-go-pikachu-lets-go-eevee', 'url': 'https://pokeapi.co/api/v2/version-group/19/'}}, {'level_learned_at': 8, 'move_learn_method': {'name': 'level-up', 'url': 'https://pokeapi.co/api/v2/move-learn-method/1/'}, 'version_group': {'name': 'sword-shield', 'url': 'https://pokeapi.co/api/v2/version-group/20/'}}, {'level_learned_at': 8, 'move_learn_method': {'name': 'level-up', 'url': 'https://pokeapi.co/api/v2/move-learn-method/1/'}, 'version_group': {'name': 'brilliant-diamond-and-shining-pearl', 'url': 'https://pokeapi.co/api/v2/version-group/23/'}}, {'level_learned_at': 0, 'move_learn_method': {'name': 'machine', 'url': 'https://pokeapi.co/api/v2/move-learn-method/4/'}, 'version_group': {'name': 'brilliant-diamond-and-shining-pearl', 'url': 'https://pokeapi.co/api/v2/version-group/23/'}}, {'level_learned_at': 8, 'move_learn_method': {'name': 'level-up', 'url': 'https://pokeapi.co/api/v2/move-learn-method/1/'}, 'version_group': {'name': 'scarlet-violet', 'url': 'https://pokeapi.co/api/v2/version-group/25/'}}]}, {'move': {'name': 'defense-curl', 'url': 'https://pokeapi.co/api/v2/move/111/'}, 'version_group_details': [{'level_learned_at': 0, 'move_learn_method': {'name': 'machine', 'url': 'https://pokeapi.co/api/v2/move-learn-method/4/'}, 'version_group': {'name': 'gold-silver', 'url': 'https://pokeapi.co/api/v2/version-group/3/'}}, {'level_learned_at': 0, 'move_learn_method': {'name': 'machine', 'url': 'https://pokeapi.co/api/v2/move-learn-method/4/'}, 'version_group': {'name': 'crystal', 'url': 'https://pokeapi.co/api/v2/version-group/4/'}}, {'level_learned_at': 0, 'move_learn_method': {'name': 'tutor', 'url': 'https://pokeapi.co/api/v2/move-learn-method/3/'}, 'version_group': {'name': 'emerald', 'url': 'https://pokeapi.co/api/v2/version-group/6/'}}]}, {'move': {'name': 'light-screen', 'url': 'https://pokeapi.co/api/v2/move/113/'}, 'version_group_details': [{'level_learned_at': 50, 'move_learn_method': {'name': 'level-up', 'url': 'https://pokeapi.co/api/v2/move-learn-method/1/'}, 'version_group': {'name': 'yellow', 'url': 'https://pokeapi.co/api/v2/version-group/2/'}}, {'level_learned_at': 50, 'move_learn_method': {'name': 'level-up', 'url': 'https://pokeapi.co/api/v2/move-learn-method/1/'}, 'version_group': {'name': 'gold-silver', 'url': 'https://pokeapi.co/api/v2/version-group/3/'}}, {'level_learned_at': 50, 'move_learn_method': {'name': 'level-up', 'url': 'https://pokeapi.co/api/v2/move-learn-method/1/'}, 'version_group': {'name': 'crystal', 'url': 'https://pokeapi.co/api/v2/version-group/4/'}}, {'level_learned_at': 50, 'move_learn_method': {'name': 'level-up', 'url': 'https://pokeapi.co/api/v2/move-learn-method/1/'}, 'version_group': {'name': 'ruby-sapphire', 'url': 'https://pokeapi.co/api/v2/version-group/5/'}}, {'level_learned_at': 0, 'move_learn_method': {'name': 'machine', 'url': 'https://pokeapi.co/api/v2/move-learn-method/4/'}, 'version_group': {'name': 'ruby-sapphire', 'url': 'https://pokeapi.co/api/v2/version-group/5/'}}, {'level_learned_at': 50, 'move_learn_method': {'name': 'level-up', 'url': 'https://pokeapi.co/api/v2/move-learn-method/1/'}, 'version_group': {'name': 'emerald', 'url': 'https://pokeapi.co/api/v2/version-group/6/'}}, {'level_learned_at': 0, 'move_learn_method': {'name': 'machine', 'url': 'https://pokeapi.co/api/v2/move-learn-method/4/'}, 'version_group': {'name': 'emerald', 'url': 'https://pokeapi.co/api/v2/version-group/6/'}}, {'level_learned_at': 50, 'move_learn_method': {'name': 'level-up', 'url': 'https://pokeapi.co/api/v2/move-learn-method/1/'}, 'version_group': {'name': 'firered-leafgreen', 'url': 'https://pokeapi.co/api/v2/version-group/7/'}}, {'level_learned_at': 0, 'move_learn_method': {'name': 'machine', 'url': 'https://pokeapi.co/api/v2/move-learn-method/4/'}, 'version_group': {'name': 'firered-leafgreen', 'url': 'https://pokeapi.co/api/v2/version-group/7/'}}, {'level_learned_at': 42, 'move_learn_method': {'name': 'level-up', 'url': 'https://pokeapi.co/api/v2/move-learn-method/1/'}, 'version_group': {'name': 'diamond-pearl', 'url': 'https://pokeapi.co/api/v2/version-group/8/'}}, {'level_learned_at': 0, 'move_learn_method': {'name': 'machine', 'url': 'https://pokeapi.co/api/v2/move-learn-method/4/'}, 'version_group': {'name': 'diamond-pearl', 'url': 'https://pokeapi.co/api/v2/version-group/8/'}}, {'level_learned_at': 42, 'move_learn_method': {'name': 'level-up', 'url': 'https://pokeapi.co/api/v2/move-learn-method/1/'}, 'version_group': {'name': 'platinum', 'url': 'https://pokeapi.co/api/v2/version-group/9/'}}, {'level_learned_at': 0, 'move_learn_method': {'name': 'machine', 'url': 'https://pokeapi.co/api/v2/move-learn-method/4/'}, 'version_group': {'name': 'platinum', 'url': 'https://pokeapi.co/api/v2/version-group/9/'}}, {'level_learned_at': 42, 'move_learn_method': {'name': 'level-up', 'url': 'https://pokeapi.co/api/v2/move-learn-method/1/'}, 'version_group': {'name': 'heartgold-soulsilver', 'url': 'https://pokeapi.co/api/v2/version-group/10/'}}, {'level_learned_at': 0, 'move_learn_method': {'name': 'machine', 'url': 'https://pokeapi.co/api/v2/move-learn-method/4/'}, 'version_group': {'name': 'heartgold-soulsilver', 'url': 'https://pokeapi.co/api/v2/version-group/10/'}}, {'level_learned_at': 45, 'move_learn_method': {'name': 'level-up', 'url': 'https://pokeapi.co/api/v2/move-learn-method/1/'}, 'version_group': {'name': 'black-white', 'url': 'https://pokeapi.co/api/v2/version-group/11/'}}, {'level_learned_at': 0, 'move_learn_method': {'name': 'machine', 'url': 'https://pokeapi.co/api/v2/move-learn-method/4/'}, 'version_group': {'name': 'black-white', 'url': 'https://pokeapi.co/api/v2/version-group/11/'}}, {'level_learned_at': 50, 'move_learn_method': {'name': 'level-up', 'url': 'https://pokeapi.co/api/v2/move-learn-method/1/'}, 'version_group': {'name': 'colosseum', 'url': 'https://pokeapi.co/api/v2/version-group/12/'}}, {'level_learned_at': 0, 'move_learn_method': {'name': 'machine', 'url': 'https://pokeapi.co/api/v2/move-learn-method/4/'}, 'version_group': {'name': 'colosseum', 'url': 'https://pokeapi.co/api/v2/version-group/12/'}}, {'level_learned_at': 50, 'move_learn_method': {'name': 'level-up', 'url': 'https://pokeapi.co/api/v2/move-learn-method/1/'}, 'version_group': {'name': 'xd', 'url': 'https://pokeapi.co/api/v2/version-group/13/'}}, {'level_learned_at': 0, 'move_learn_method': {'name': 'machine', 'url': 'https://pokeapi.co/api/v2/move-learn-method/4/'}, 'version_group': {'name': 'xd', 'url': 'https://pokeapi.co/api/v2/version-group/13/'}}, {'level_learned_at': 45, 'move_learn_method': {'name': 'level-up', 'url': 'https://pokeapi.co/api/v2/move-learn-method/1/'}, 'version_group': {'name': 'black-2-white-2', 'url': 'https://pokeapi.co/api/v2/version-group/14/'}}, {'level_learned_at': 0, 'move_learn_method': {'name': 'machine', 'url': 'https://pokeapi.co/api/v2/move-learn-method/4/'}, 'version_group': {'name': 'black-2-white-2', 'url': 'https://pokeapi.co/api/v2/version-group/14/'}}, {'level_learned_at': 45, 'move_learn_method': {'name': 'level-up', 'url': 'https://pokeapi.co/api/v2/move-learn-method/1/'}, 'version_group': {'name': 'x-y', 'url': 'https://pokeapi.co/api/v2/version-group/15/'}}, {'level_learned_at': 0, 'move_learn_method': {'name': 'machine', 'url': 'https://pokeapi.co/api/v2/move-learn-method/4/'}, 'version_group': {'name': 'x-y', 'url': 'https://pokeapi.co/api/v2/version-group/15/'}}, {'level_learned_at': 53, 'move_learn_method': {'name': 'level-up', 'url': 'https://pokeapi.co/api/v2/move-learn-method/1/'}, 'version_group': {'name': 'omega-ruby-alpha-sapphire', 'url': 'https://pokeapi.co/api/v2/version-group/16/'}}, {'level_learned_at': 0, 'move_learn_method': {'name': 'machine', 'url': 'https://pokeapi.co/api/v2/move-learn-method/4/'}, 'version_group': {'name': 'omega-ruby-alpha-sapphire', 'url': 'https://pokeapi.co/api/v2/version-group/16/'}}, {'level_learned_at': 53, 'move_learn_method': {'name': 'level-up', 'url': 'https://pokeapi.co/api/v2/move-learn-method/1/'}, 'version_group': {'name': 'sun-moon', 'url': 'https://pokeapi.co/api/v2/version-group/17/'}}, {'level_learned_at': 0, 'move_learn_method': {'name': 'machine', 'url': 'https://pokeapi.co/api/v2/move-learn-method/4/'}, 'version_group': {'name': 'sun-moon', 'url': 'https://pokeapi.co/api/v2/version-group/17/'}}, {'level_learned_at': 53, 'move_learn_method': {'name': 'level-up', 'url': 'https://pokeapi.co/api/v2/move-learn-method/1/'}, 'version_group': {'name': 'ultra-sun-ultra-moon', 'url': 'https://pokeapi.co/api/v2/version-group/18/'}}, {'level_learned_at': 0, 'move_learn_method': {'name': 'machine', 'url': 'https://pokeapi.co/api/v2/move-learn-method/4/'}, 'version_group': {'name': 'ultra-sun-ultra-moon', 'url': 'https://pokeapi.co/api/v2/version-group/18/'}}, {'level_learned_at': 18, 'move_learn_method': {'name': 'level-up', 'url': 'https://pokeapi.co/api/v2/move-learn-method/1/'}, 'version_group': {'name': 'lets-go-pikachu-lets-go-eevee', 'url': 'https://pokeapi.co/api/v2/version-group/19/'}}, {'level_learned_at': 0, 'move_learn_method': {'name': 'machine', 'url': 'https://pokeapi.co/api/v2/move-learn-method/4/'}, 'version_group': {'name': 'lets-go-pikachu-lets-go-eevee', 'url': 'https://pokeapi.co/api/v2/version-group/19/'}}, {'level_learned_at': 40, 'move_learn_method': {'name': 'level-up', 'url': 'https://pokeapi.co/api/v2/move-learn-method/1/'}, 'version_group': {'name': 'sword-shield', 'url': 'https://pokeapi.co/api/v2/version-group/20/'}}, {'level_learned_at': 0, 'move_learn_method': {'name': 'machine', 'url': 'https://pokeapi.co/api/v2/move-learn-method/4/'}, 'version_group': {'name': 'sword-shield', 'url': 'https://pokeapi.co/api/v2/version-group/20/'}}, {'level_learned_at': 40, 'move_learn_method': {'name': 'level-up', 'url': 'https://pokeapi.co/api/v2/move-learn-method/1/'}, 'version_group': {'name': 'brilliant-diamond-and-shining-pearl', 'url': 'https://pokeapi.co/api/v2/version-group/23/'}}, {'level_learned_at': 0, 'move_learn_method': {'name': 'machine', 'url': 'https://pokeapi.co/api/v2/move-learn-method/4/'}, 'version_group': {'name': 'brilliant-diamond-and-shining-pearl', 'url': 'https://pokeapi.co/api/v2/version-group/23/'}}, {'level_learned_at': 40, 'move_learn_method': {'name': 'level-up', 'url': 'https://pokeapi.co/api/v2/move-learn-method/1/'}, 'version_group': {'name': 'scarlet-violet', 'url': 'https://pokeapi.co/api/v2/version-group/25/'}}, {'level_learned_at': 0, 'move_learn_method': {'name': 'machine', 'url': 'https://pokeapi.co/api/v2/move-learn-method/4/'}, 'version_group': {'name': 'scarlet-violet', 'url': 'https://pokeapi.co/api/v2/version-group/25/'}}]}, {'move': {'name': 'reflect', 'url': 'https://pokeapi.co/api/v2/move/115/'}, 'version_group_details': [{'level_learned_at': 0, 'move_learn_method': {'name': 'machine', 'url': 'https://pokeapi.co/api/v2/move-learn-method/4/'}, 'version_group': {'name': 'red-blue', 'url': 'https://pokeapi.co/api/v2/version-group/1/'}}, {'level_learned_at': 0, 'move_learn_method': {'name': 'machine', 'url': 'https://pokeapi.co/api/v2/move-learn-method/4/'}, 'version_group': {'name': 'yellow', 'url': 'https://pokeapi.co/api/v2/version-group/2/'}}, {'level_learned_at': 0, 'move_learn_method': {'name': 'machine', 'url': 'https://pokeapi.co/api/v2/move-learn-method/4/'}, 'version_group': {'name': 'lets-go-pikachu-lets-go-eevee', 'url': 'https://pokeapi.co/api/v2/version-group/19/'}}, {'level_learned_at': 0, 'move_learn_method': {'name': 'machine', 'url': 'https://pokeapi.co/api/v2/move-learn-method/4/'}, 'version_group': {'name': 'sword-shield', 'url': 'https://pokeapi.co/api/v2/version-group/20/'}}, {'level_learned_at': 0, 'move_learn_method': {'name': 'machine', 'url': 'https://pokeapi.co/api/v2/move-learn-method/4/'}, 'version_group': {'name': 'brilliant-diamond-and-shining-pearl', 'url': 'https://pokeapi.co/api/v2/version-group/23/'}}, {'level_learned_at': 0, 'move_learn_method': {'name': 'machine', 'url': 'https://pokeapi.co/api/v2/move-learn-method/4/'}, 'version_group': {'name': 'scarlet-violet', 'url': 'https://pokeapi.co/api/v2/version-group/25/'}}]}, {'move': {'name': 'bide', 'url': 'https://pokeapi.co/api/v2/move/117/'}, 'version_group_details': [{'level_learned_at': 0, 'move_learn_method': {'name': 'machine', 'url': 'https://pokeapi.co/api/v2/move-learn-method/4/'}, 'version_group': {'name': 'red-blue', 'url': 'https://pokeapi.co/api/v2/version-group/1/'}}, {'level_learned_at': 0, 'move_learn_method': {'name': 'machine', 'url': 'https://pokeapi.co/api/v2/move-learn-method/4/'}, 'version_group': {'name': 'yellow', 'url': 'https://pokeapi.co/api/v2/version-group/2/'}}]}, {'move': {'name': 'swift', 'url': 'https://pokeapi.co/api/v2/move/129/'}, 'version_group_details': [{'level_learned_at': 26, 'move_learn_method': {'name': 'level-up', 'url': 'https://pokeapi.co/api/v2/move-learn-method/1/'}, 'version_group': {'name': 'red-blue', 'url': 'https://pokeapi.co/api/v2/version-group/1/'}}, {'level_learned_at': 0, 'move_learn_method': {'name': 'machine', 'url': 'https://pokeapi.co/api/v2/move-learn-method/4/'}, 'version_group': {'name': 'red-blue', 'url': 'https://pokeapi.co/api/v2/version-group/1/'}}, {'level_learned_at': 0, 'move_learn_method': {'name': 'machine', 'url': 'https://pokeapi.co/api/v2/move-learn-method/4/'}, 'version_group': {'name': 'yellow', 'url': 'https://pokeapi.co/api/v2/version-group/2/'}}, {'level_learned_at': 0, 'move_learn_method': {'name': 'machine', 'url': 'https://pokeapi.co/api/v2/move-learn-method/4/'}, 'version_group': {'name': 'gold-silver', 'url': 'https://pokeapi.co/api/v2/version-group/3/'}}, {'level_learned_at': 0, 'move_learn_method': {'name': 'machine', 'url': 'https://pokeapi.co/api/v2/move-learn-method/4/'}, 'version_group': {'name': 'crystal', 'url': 'https://pokeapi.co/api/v2/version-group/4/'}}, {'level_learned_at': 0, 'move_learn_method': {'name': 'tutor', 'url': 'https://pokeapi.co/api/v2/move-learn-method/3/'}, 'version_group': {'name': 'emerald', 'url': 'https://pokeapi.co/api/v2/version-group/6/'}}, {'level_learned_at': 0, 'move_learn_method': {'name': 'tutor', 'url': 'https://pokeapi.co/api/v2/move-learn-method/3/'}, 'version_group': {'name': 'platinum', 'url': 'https://pokeapi.co/api/v2/version-group/9/'}}, {'level_learned_at': 0, 'move_learn_method': {'name': 'tutor', 'url': 'https://pokeapi.co/api/v2/move-learn-method/3/'}, 'version_group': {'name': 'heartgold-soulsilver', 'url': 'https://pokeapi.co/api/v2/version-group/10/'}}, {'level_learned_at': 0, 'move_learn_method': {'name': 'machine', 'url': 'https://pokeapi.co/api/v2/move-learn-method/4/'}, 'version_group': {'name': 'sword-shield', 'url': 'https://pokeapi.co/api/v2/version-group/20/'}}, {'level_learned_at': 0, 'move_learn_method': {'name': 'machine', 'url': 'https://pokeapi.co/api/v2/move-learn-method/4/'}, 'version_group': {'name': 'scarlet-violet', 'url': 'https://pokeapi.co/api/v2/version-group/25/'}}]}, {'move': {'name': 'skull-bash', 'url': 'https://pokeapi.co/api/v2/move/130/'}, 'version_group_details': [{'level_learned_at': 0, 'move_learn_method': {'name': 'machine', 'url': 'https://pokeapi.co/api/v2/move-learn-method/4/'}, 'version_group': {'name': 'red-blue', 'url': 'https://pokeapi.co/api/v2/version-group/1/'}}, {'level_learned_at': 0, 'move_learn_method': {'name': 'machine', 'url': 'https://pokeapi.co/api/v2/move-learn-method/4/'}, 'version_group': {'name': 'yellow', 'url': 'https://pokeapi.co/api/v2/version-group/2/'}}]}, {'move': {'name': 'flash', 'url': 'https://pokeapi.co/api/v2/move/148/'}, 'version_group_details': [{'level_learned_at': 0, 'move_learn_method': {'name': 'machine', 'url': 'https://pokeapi.co/api/v2/move-learn-method/4/'}, 'version_group': {'name': 'red-blue', 'url': 'https://pokeapi.co/api/v2/version-group/1/'}}, {'level_learned_at': 0, 'move_learn_method': {'name': 'machine', 'url': 'https://pokeapi.co/api/v2/move-learn-method/4/'}, 'version_group': {'name': 'yellow', 'url': 'https://pokeapi.co/api/v2/version-group/2/'}}, {'level_learned_at': 0, 'move_learn_method': {'name': 'machine', 'url': 'https://pokeapi.co/api/v2/move-learn-method/4/'}, 'version_group': {'name': 'gold-silver', 'url': 'https://pokeapi.co/api/v2/version-group/3/'}}, {'level_learned_at': 0, 'move_learn_method': {'name': 'machine', 'url': 'https://pokeapi.co/api/v2/move-learn-method/4/'}, 'version_group': {'name': 'crystal', 'url': 'https://pokeapi.co/api/v2/version-group/4/'}}, {'level_learned_at': 0, 'move_learn_method': {'name': 'machine', 'url': 'https://pokeapi.co/api/v2/move-learn-method/4/'}, 'version_group': {'name': 'ruby-sapphire', 'url': 'https://pokeapi.co/api/v2/version-group/5/'}}, {'level_learned_at': 0, 'move_learn_method': {'name': 'machine', 'url': 'https://pokeapi.co/api/v2/move-learn-method/4/'}, 'version_group': {'name': 'emerald', 'url': 'https://pokeapi.co/api/v2/version-group/6/'}}, {'level_learned_at': 0, 'move_learn_method': {'name': 'machine', 'url': 'https://pokeapi.co/api/v2/move-learn-method/4/'}, 'version_group': {'name': 'firered-leafgreen', 'url': 'https://pokeapi.co/api/v2/version-group/7/'}}, {'level_learned_at': 0, 'move_learn_method': {'name': 'machine', 'url': 'https://pokeapi.co/api/v2/move-learn-method/4/'}, 'version_group': {'name': 'diamond-pearl', 'url': 'https://pokeapi.co/api/v2/version-group/8/'}}, {'level_learned_at': 0, 'move_learn_method': {'name': 'machine', 'url': 'https://pokeapi.co/api/v2/move-learn-method/4/'}, 'version_group': {'name': 'platinum', 'url': 'https://pokeapi.co/api/v2/version-group/9/'}}, {'level_learned_at': 0, 'move_learn_method': {'name': 'machine', 'url': 'https://pokeapi.co/api/v2/move-learn-method/4/'}, 'version_group': {'name': 'heartgold-soulsilver', 'url': 'https://pokeapi.co/api/v2/version-group/10/'}}, {'level_learned_at': 0, 'move_learn_method': {'name': 'machine', 'url': 'https://pokeapi.co/api/v2/move-learn-method/4/'}, 'version_group': {'name': 'black-white', 'url': 'https://pokeapi.co/api/v2/version-group/11/'}}, {'level_learned_at': 0, 'move_learn_method': {'name': 'machine', 'url': 'https://pokeapi.co/api/v2/move-learn-method/4/'}, 'version_group': {'name': 'colosseum', 'url': 'https://pokeapi.co/api/v2/version-group/12/'}}, {'level_learned_at': 0, 'move_learn_method': {'name': 'machine', 'url': 'https://pokeapi.co/api/v2/move-learn-method/4/'}, 'version_group': {'name': 'xd', 'url': 'https://pokeapi.co/api/v2/version-group/13/'}}, {'level_learned_at': 0, 'move_learn_method': {'name': 'machine', 'url': 'https://pokeapi.co/api/v2/move-learn-method/4/'}, 'version_group': {'name': 'black-2-white-2', 'url': 'https://pokeapi.co/api/v2/version-group/14/'}}, {'level_learned_at': 0, 'move_learn_method': {'name': 'machine', 'url': 'https://pokeapi.co/api/v2/move-learn-method/4/'}, 'version_group': {'name': 'x-y', 'url': 'https://pokeapi.co/api/v2/version-group/15/'}}, {'level_learned_at': 0, 'move_learn_method': {'name': 'machine', 'url': 'https://pokeapi.co/api/v2/move-learn-method/4/'}, 'version_group': {'name': 'omega-ruby-alpha-sapphire', 'url': 'https://pokeapi.co/api/v2/version-group/16/'}}, {'level_learned_at': 0, 'move_learn_method': {'name': 'machine', 'url': 'https://pokeapi.co/api/v2/move-learn-method/4/'}, 'version_group': {'name': 'brilliant-diamond-and-shining-pearl', 'url': 'https://pokeapi.co/api/v2/version-group/23/'}}]}, {'move': {'name': 'rest', 'url': 'https://pokeapi.co/api/v2/move/156/'}, 'version_group_details': [{'level_learned_at': 0, 'move_learn_method': {'name': 'machine', 'url': 'https://pokeapi.co/api/v2/move-learn-method/4/'}, 'version_group': {'name': 'red-blue', 'url': 'https://pokeapi.co/api/v2/version-group/1/'}}, {'level_learned_at': 0, 'move_learn_method': {'name': 'machine', 'url': 'https://pokeapi.co/api/v2/move-learn-method/4/'}, 'version_group': {'name': 'yellow', 'url': 'https://pokeapi.co/api/v2/version-group/2/'}}, {'level_learned_at': 0, 'move_learn_method': {'name': 'machine', 'url': 'https://pokeapi.co/api/v2/move-learn-method/4/'}, 'version_group': {'name': 'gold-silver', 'url': 'https://pokeapi.co/api/v2/version-group/3/'}}, {'level_learned_at': 0, 'move_learn_method': {'name': 'machine', 'url': 'https://pokeapi.co/api/v2/move-learn-method/4/'}, 'version_group': {'name': 'crystal', 'url': 'https://pokeapi.co/api/v2/version-group/4/'}}, {'level_learned_at': 0, 'move_learn_method': {'name': 'machine', 'url': 'https://pokeapi.co/api/v2/move-learn-method/4/'}, 'version_group': {'name': 'ruby-sapphire', 'url': 'https://pokeapi.co/api/v2/version-group/5/'}}, {'level_learned_at': 0, 'move_learn_method': {'name': 'machine', 'url': 'https://pokeapi.co/api/v2/move-learn-method/4/'}, 'version_group': {'name': 'emerald', 'url': 'https://pokeapi.co/api/v2/version-group/6/'}}, {'level_learned_at': 0, 'move_learn_method': {'name': 'machine', 'url': 'https://pokeapi.co/api/v2/move-learn-method/4/'}, 'version_group': {'name': 'firered-leafgreen', 'url': 'https://pokeapi.co/api/v2/version-group/7/'}}, {'level_learned_at': 0, 'move_learn_method': {'name': 'machine', 'url': 'https://pokeapi.co/api/v2/move-learn-method/4/'}, 'version_group': {'name': 'diamond-pearl', 'url': 'https://pokeapi.co/api/v2/version-group/8/'}}, {'level_learned_at': 0, 'move_learn_method': {'name': 'machine', 'url': 'https://pokeapi.co/api/v2/move-learn-method/4/'}, 'version_group': {'name': 'platinum', 'url': 'https://pokeapi.co/api/v2/version-group/9/'}}, {'level_learned_at': 0, 'move_learn_method': {'name': 'machine', 'url': 'https://pokeapi.co/api/v2/move-learn-method/4/'}, 'version_group': {'name': 'heartgold-soulsilver', 'url': 'https://pokeapi.co/api/v2/version-group/10/'}}, {'level_learned_at': 0, 'move_learn_method': {'name': 'machine', 'url': 'https://pokeapi.co/api/v2/move-learn-method/4/'}, 'version_group': {'name': 'black-white', 'url': 'https://pokeapi.co/api/v2/version-group/11/'}}, {'level_learned_at': 0, 'move_learn_method': {'name': 'machine', 'url': 'https://pokeapi.co/api/v2/move-learn-method/4/'}, 'version_group': {'name': 'colosseum', 'url': 'https://pokeapi.co/api/v2/version-group/12/'}}, {'level_learned_at': 0, 'move_learn_method': {'name': 'machine', 'url': 'https://pokeapi.co/api/v2/move-learn-method/4/'}, 'version_group': {'name': 'xd', 'url': 'https://pokeapi.co/api/v2/version-group/13/'}}, {'level_learned_at': 0, 'move_learn_method': {'name': 'machine', 'url': 'https://pokeapi.co/api/v2/move-learn-method/4/'}, 'version_group': {'name': 'black-2-white-2', 'url': 'https://pokeapi.co/api/v2/version-group/14/'}}, {'level_learned_at': 0, 'move_learn_method': {'name': 'machine', 'url': 'https://pokeapi.co/api/v2/move-learn-method/4/'}, 'version_group': {'name': 'x-y', 'url': 'https://pokeapi.co/api/v2/version-group/15/'}}, {'level_learned_at': 0, 'move_learn_method': {'name': 'machine', 'url': 'https://pokeapi.co/api/v2/move-learn-method/4/'}, 'version_group': {'name': 'omega-ruby-alpha-sapphire', 'url': 'https://pokeapi.co/api/v2/version-group/16/'}}, {'level_learned_at': 0, 'move_learn_method': {'name': 'machine', 'url': 'https://pokeapi.co/api/v2/move-learn-method/4/'}, 'version_group': {'name': 'sun-moon', 'url': 'https://pokeapi.co/api/v2/version-group/17/'}}, {'level_learned_at': 0, 'move_learn_method': {'name': 'machine', 'url': 'https://pokeapi.co/api/v2/move-learn-method/4/'}, 'version_group': {'name': 'ultra-sun-ultra-moon', 'url': 'https://pokeapi.co/api/v2/version-group/18/'}}, {'level_learned_at': 0, 'move_learn_method': {'name': 'machine', 'url': 'https://pokeapi.co/api/v2/move-learn-method/4/'}, 'version_group': {'name': 'lets-go-pikachu-lets-go-eevee', 'url': 'https://pokeapi.co/api/v2/version-group/19/'}}, {'level_learned_at': 0, 'move_learn_method': {'name': 'machine', 'url': 'https://pokeapi.co/api/v2/move-learn-method/4/'}, 'version_group': {'name': 'sword-shield', 'url': 'https://pokeapi.co/api/v2/version-group/20/'}}, {'level_learned_at': 0, 'move_learn_method': {'name': 'machine', 'url': 'https://pokeapi.co/api/v2/move-learn-method/4/'}, 'version_group': {'name': 'brilliant-diamond-and-shining-pearl', 'url': 'https://pokeapi.co/api/v2/version-group/23/'}}, {'level_learned_at': 0, 'move_learn_method': {'name': 'machine', 'url': 'https://pokeapi.co/api/v2/move-learn-method/4/'}, 'version_group': {'name': 'scarlet-violet', 'url': 'https://pokeapi.co/api/v2/version-group/25/'}}]}, {'move': {'name': 'substitute', 'url': 'https://pokeapi.co/api/v2/move/164/'}, 'version_group_details': [{'level_learned_at': 0, 'move_learn_method': {'name': 'machine', 'url': 'https://pokeapi.co/api/v2/move-learn-method/4/'}, 'version_group': {'name': 'red-blue', 'url': 'https://pokeapi.co/api/v2/version-group/1/'}}, {'level_learned_at': 0, 'move_learn_method': {'name': 'machine', 'url': 'https://pokeapi.co/api/v2/move-learn-method/4/'}, 'version_group': {'name': 'yellow', 'url': 'https://pokeapi.co/api/v2/version-group/2/'}}, {'level_learned_at': 0, 'move_learn_method': {'name': 'tutor', 'url': 'https://pokeapi.co/api/v2/move-learn-method/3/'}, 'version_group': {'name': 'emerald', 'url': 'https://pokeapi.co/api/v2/version-group/6/'}}, {'level_learned_at': 0, 'move_learn_method': {'name': 'tutor', 'url': 'https://pokeapi.co/api/v2/move-learn-method/3/'}, 'version_group': {'name': 'firered-leafgreen', 'url': 'https://pokeapi.co/api/v2/version-group/7/'}}, {'level_learned_at': 0, 'move_learn_method': {'name': 'machine', 'url': 'https://pokeapi.co/api/v2/move-learn-method/4/'}, 'version_group': {'name': 'diamond-pearl', 'url': 'https://pokeapi.co/api/v2/version-group/8/'}}, {'level_learned_at': 0, 'move_learn_method': {'name': 'machine', 'url': 'https://pokeapi.co/api/v2/move-learn-method/4/'}, 'version_group': {'name': 'platinum', 'url': 'https://pokeapi.co/api/v2/version-group/9/'}}, {'level_learned_at': 0, 'move_learn_method': {'name': 'machine', 'url': 'https://pokeapi.co/api/v2/move-learn-method/4/'}, 'version_group': {'name': 'heartgold-soulsilver', 'url': 'https://pokeapi.co/api/v2/version-group/10/'}}, {'level_learned_at': 0, 'move_learn_method': {'name': 'machine', 'url': 'https://pokeapi.co/api/v2/move-learn-method/4/'}, 'version_group': {'name': 'black-white', 'url': 'https://pokeapi.co/api/v2/version-group/11/'}}, {'level_learned_at': 0, 'move_learn_method': {'name': 'tutor', 'url': 'https://pokeapi.co/api/v2/move-learn-method/3/'}, 'version_group': {'name': 'xd', 'url': 'https://pokeapi.co/api/v2/version-group/13/'}}, {'level_learned_at': 0, 'move_learn_method': {'name': 'machine', 'url': 'https://pokeapi.co/api/v2/move-learn-method/4/'}, 'version_group': {'name': 'black-2-white-2', 'url': 'https://pokeapi.co/api/v2/version-group/14/'}}, {'level_learned_at': 0, 'move_learn_method': {'name': 'machine', 'url': 'https://pokeapi.co/api/v2/move-learn-method/4/'}, 'version_group': {'name': 'x-y', 'url': 'https://pokeapi.co/api/v2/version-group/15/'}}, {'level_learned_at': 0, 'move_learn_method': {'name': 'machine', 'url': 'https://pokeapi.co/api/v2/move-learn-method/4/'}, 'version_group': {'name': 'omega-ruby-alpha-sapphire', 'url': 'https://pokeapi.co/api/v2/version-group/16/'}}, {'level_learned_at': 0, 'move_learn_method': {'name': 'machine', 'url': 'https://pokeapi.co/api/v2/move-learn-method/4/'}, 'version_group': {'name': 'sun-moon', 'url': 'https://pokeapi.co/api/v2/version-group/17/'}}, {'level_learned_at': 0, 'move_learn_method': {'name': 'machine', 'url': 'https://pokeapi.co/api/v2/move-learn-method/4/'}, 'version_group': {'name': 'ultra-sun-ultra-moon', 'url': 'https://pokeapi.co/api/v2/version-group/18/'}}, {'level_learned_at': 0, 'move_learn_method': {'name': 'machine', 'url': 'https://pokeapi.co/api/v2/move-learn-method/4/'}, 'version_group': {'name': 'lets-go-pikachu-lets-go-eevee', 'url': 'https://pokeapi.co/api/v2/version-group/19/'}}, {'level_learned_at': 0, 'move_learn_method': {'name': 'machine', 'url': 'https://pokeapi.co/api/v2/move-learn-method/4/'}, 'version_group': {'name': 'sword-shield', 'url': 'https://pokeapi.co/api/v2/version-group/20/'}}, {'level_learned_at': 0, 'move_learn_method': {'name': 'machine', 'url': 'https://pokeapi.co/api/v2/move-learn-method/4/'}, 'version_group': {'name': 'brilliant-diamond-and-shining-pearl', 'url': 'https://pokeapi.co/api/v2/version-group/23/'}}, {'level_learned_at': 0, 'move_learn_method': {'name': 'machine', 'url': 'https://pokeapi.co/api/v2/move-learn-method/4/'}, 'version_group': {'name': 'scarlet-violet', 'url': 'https://pokeapi.co/api/v2/version-group/25/'}}]}, {'move': {'name': 'thief', 'url': 'https://pokeapi.co/api/v2/move/168/'}, 'version_group_details': [{'level_learned_at': 0, 'move_learn_method': {'name': 'machine', 'url': 'https://pokeapi.co/api/v2/move-learn-method/4/'}, 'version_group': {'name': 'sword-shield', 'url': 'https://pokeapi.co/api/v2/version-group/20/'}}, {'level_learned_at': 0, 'move_learn_method': {'name': 'machine', 'url': 'https://pokeapi.co/api/v2/move-learn-method/4/'}, 'version_group': {'name': 'brilliant-diamond-and-shining-pearl', 'url': 'https://pokeapi.co/api/v2/version-group/23/'}}, {'level_learned_at': 0, 'move_learn_method': {'name': 'machine', 'url': 'https://pokeapi.co/api/v2/move-learn-method/4/'}, 'version_group': {'name': 'scarlet-violet', 'url': 'https://pokeapi.co/api/v2/version-group/25/'}}]}, {'move': {'name': 'snore', 'url': 'https://pokeapi.co/api/v2/move/173/'}, 'version_group_details': [{'level_learned_at': 0, 'move_learn_method': {'name': 'machine', 'url': 'https://pokeapi.co/api/v2/move-learn-method/4/'}, 'version_group': {'name': 'gold-silver', 'url': 'https://pokeapi.co/api/v2/version-group/3/'}}, {'level_learned_at': 0, 'move_learn_method': {'name': 'machine', 'url': 'https://pokeapi.co/api/v2/move-learn-method/4/'}, 'version_group': {'name': 'crystal', 'url': 'https://pokeapi.co/api/v2/version-group/4/'}}, {'level_learned_at': 0, 'move_learn_method': {'name': 'tutor', 'url': 'https://pokeapi.co/api/v2/move-learn-method/3/'}, 'version_group': {'name': 'emerald', 'url': 'https://pokeapi.co/api/v2/version-group/6/'}}, {'level_learned_at': 0, 'move_learn_method': {'name': 'tutor', 'url': 'https://pokeapi.co/api/v2/move-learn-method/3/'}, 'version_group': {'name': 'platinum', 'url': 'https://pokeapi.co/api/v2/version-group/9/'}}, {'level_learned_at': 0, 'move_learn_method': {'name': 'tutor', 'url': 'https://pokeapi.co/api/v2/move-learn-method/3/'}, 'version_group': {'name': 'heartgold-soulsilver', 'url': 'https://pokeapi.co/api/v2/version-group/10/'}}, {'level_learned_at': 0, 'move_learn_method': {'name': 'tutor', 'url': 'https://pokeapi.co/api/v2/move-learn-method/3/'}, 'version_group': {'name': 'black-2-white-2', 'url': 'https://pokeapi.co/api/v2/version-group/14/'}}, {'level_learned_at': 0, 'move_learn_method': {'name': 'tutor', 'url': 'https://pokeapi.co/api/v2/move-learn-method/3/'}, 'version_group': {'name': 'omega-ruby-alpha-sapphire', 'url': 'https://pokeapi.co/api/v2/version-group/16/'}}, {'level_learned_at': 0, 'move_learn_method': {'name': 'tutor', 'url': 'https://pokeapi.co/api/v2/move-learn-method/3/'}, 'version_group': {'name': 'ultra-sun-ultra-moon', 'url': 'https://pokeapi.co/api/v2/version-group/18/'}}, {'level_learned_at': 0, 'move_learn_method': {'name': 'machine', 'url': 'https://pokeapi.co/api/v2/move-learn-method/4/'}, 'version_group': {'name': 'sword-shield', 'url': 'https://pokeapi.co/api/v2/version-group/20/'}}]}, {'move': {'name': 'curse', 'url': 'https://pokeapi.co/api/v2/move/174/'}, 'version_group_details': [{'level_learned_at': 0, 'move_learn_method': {'name': 'machine', 'url': 'https://pokeapi.co/api/v2/move-learn-method/4/'}, 'version_group': {'name': 'gold-silver', 'url': 'https://pokeapi.co/api/v2/version-group/3/'}}, {'level_learned_at': 0, 'move_learn_method': {'name': 'machine', 'url': 'https://pokeapi.co/api/v2/move-learn-method/4/'}, 'version_group': {'name': 'crystal', 'url': 'https://pokeapi.co/api/v2/version-group/4/'}}]}, {'move': {'name': 'reversal', 'url': 'https://pokeapi.co/api/v2/move/179/'}, 'version_group_details': [{'level_learned_at': 0, 'move_learn_method': {'name': 'machine', 'url': 'https://pokeapi.co/api/v2/move-learn-method/4/'}, 'version_group': {'name': 'sword-shield', 'url': 'https://pokeapi.co/api/v2/version-group/20/'}}, {'level_learned_at': 0, 'move_learn_method': {'name': 'machine', 'url': 'https://pokeapi.co/api/v2/move-learn-method/4/'}, 'version_group': {'name': 'scarlet-violet', 'url': 'https://pokeapi.co/api/v2/version-group/25/'}}]}, {'move': {'name': 'protect', 'url': 'https://pokeapi.co/api/v2/move/182/'}, 'version_group_details': [{'level_learned_at': 0, 'move_learn_method': {'name': 'machine', 'url': 'https://pokeapi.co/api/v2/move-learn-method/4/'}, 'version_group': {'name': 'gold-silver', 'url': 'https://pokeapi.co/api/v2/version-group/3/'}}, {'level_learned_at': 0, 'move_learn_method': {'name': 'machine', 'url': 'https://pokeapi.co/api/v2/move-learn-method/4/'}, 'version_group': {'name': 'crystal', 'url': 'https://pokeapi.co/api/v2/version-group/4/'}}, {'level_learned_at': 0, 'move_learn_method': {'name': 'machine', 'url': 'https://pokeapi.co/api/v2/move-learn-method/4/'}, 'version_group': {'name': 'ruby-sapphire', 'url': 'https://pokeapi.co/api/v2/version-group/5/'}}, {'level_learned_at': 0, 'move_learn_method': {'name': 'machine', 'url': 'https://pokeapi.co/api/v2/move-learn-method/4/'}, 'version_group': {'name': 'emerald', 'url': 'https://pokeapi.co/api/v2/version-group/6/'}}, {'level_learned_at': 0, 'move_learn_method': {'name': 'machine', 'url': 'https://pokeapi.co/api/v2/move-learn-method/4/'}, 'version_group': {'name': 'firered-leafgreen', 'url': 'https://pokeapi.co/api/v2/version-group/7/'}}, {'level_learned_at': 0, 'move_learn_method': {'name': 'machine', 'url': 'https://pokeapi.co/api/v2/move-learn-method/4/'}, 'version_group': {'name': 'diamond-pearl', 'url': 'https://pokeapi.co/api/v2/version-group/8/'}}, {'level_learned_at': 0, 'move_learn_method': {'name': 'machine', 'url': 'https://pokeapi.co/api/v2/move-learn-method/4/'}, 'version_group': {'name': 'platinum', 'url': 'https://pokeapi.co/api/v2/version-group/9/'}}, {'level_learned_at': 0, 'move_learn_method': {'name': 'machine', 'url': 'https://pokeapi.co/api/v2/move-learn-method/4/'}, 'version_group': {'name': 'heartgold-soulsilver', 'url': 'https://pokeapi.co/api/v2/version-group/10/'}}, {'level_learned_at': 0, 'move_learn_method': {'name': 'machine', 'url': 'https://pokeapi.co/api/v2/move-learn-method/4/'}, 'version_group': {'name': 'black-white', 'url': 'https://pokeapi.co/api/v2/version-group/11/'}}, {'level_learned_at': 0, 'move_learn_method': {'name': 'machine', 'url': 'https://pokeapi.co/api/v2/move-learn-method/4/'}, 'version_group': {'name': 'colosseum', 'url': 'https://pokeapi.co/api/v2/version-group/12/'}}, {'level_learned_at': 0, 'move_learn_method': {'name': 'machine', 'url': 'https://pokeapi.co/api/v2/move-learn-method/4/'}, 'version_group': {'name': 'xd', 'url': 'https://pokeapi.co/api/v2/version-group/13/'}}, {'level_learned_at': 0, 'move_learn_method': {'name': 'machine', 'url': 'https://pokeapi.co/api/v2/move-learn-method/4/'}, 'version_group': {'name': 'black-2-white-2', 'url': 'https://pokeapi.co/api/v2/version-group/14/'}}, {'level_learned_at': 0, 'move_learn_method': {'name': 'machine', 'url': 'https://pokeapi.co/api/v2/move-learn-method/4/'}, 'version_group': {'name': 'x-y', 'url': 'https://pokeapi.co/api/v2/version-group/15/'}}, {'level_learned_at': 0, 'move_learn_method': {'name': 'machine', 'url': 'https://pokeapi.co/api/v2/move-learn-method/4/'}, 'version_group': {'name': 'omega-ruby-alpha-sapphire', 'url': 'https://pokeapi.co/api/v2/version-group/16/'}}, {'level_learned_at': 0, 'move_learn_method': {'name': 'machine', 'url': 'https://pokeapi.co/api/v2/move-learn-method/4/'}, 'version_group': {'name': 'sun-moon', 'url': 'https://pokeapi.co/api/v2/version-group/17/'}}, {'level_learned_at': 0, 'move_learn_method': {'name': 'machine', 'url': 'https://pokeapi.co/api/v2/move-learn-method/4/'}, 'version_group': {'name': 'ultra-sun-ultra-moon', 'url': 'https://pokeapi.co/api/v2/version-group/18/'}}, {'level_learned_at': 0, 'move_learn_method': {'name': 'machine', 'url': 'https://pokeapi.co/api/v2/move-learn-method/4/'}, 'version_group': {'name': 'lets-go-pikachu-lets-go-eevee', 'url': 'https://pokeapi.co/api/v2/version-group/19/'}}, {'level_learned_at': 0, 'move_learn_method': {'name': 'machine', 'url': 'https://pokeapi.co/api/v2/move-learn-method/4/'}, 'version_group': {'name': 'sword-shield', 'url': 'https://pokeapi.co/api/v2/version-group/20/'}}, {'level_learned_at': 0, 'move_learn_method': {'name': 'machine', 'url': 'https://pokeapi.co/api/v2/move-learn-method/4/'}, 'version_group': {'name': 'brilliant-diamond-and-shining-pearl', 'url': 'https://pokeapi.co/api/v2/version-group/23/'}}, {'level_learned_at': 0, 'move_learn_method': {'name': 'machine', 'url': 'https://pokeapi.co/api/v2/move-learn-method/4/'}, 'version_group': {'name': 'scarlet-violet', 'url': 'https://pokeapi.co/api/v2/version-group/25/'}}]}, {'move': {'name': 'sweet-kiss', 'url': 'https://pokeapi.co/api/v2/move/186/'}, 'version_group_details': [{'level_learned_at': 1, 'move_learn_method': {'name': 'level-up', 'url': 'https://pokeapi.co/api/v2/move-learn-method/1/'}, 'version_group': {'name': 'sword-shield', 'url': 'https://pokeapi.co/api/v2/version-group/20/'}}, {'level_learned_at': 1, 'move_learn_method': {'name': 'level-up', 'url': 'https://pokeapi.co/api/v2/move-learn-method/1/'}, 'version_group': {'name': 'brilliant-diamond-and-shining-pearl', 'url': 'https://pokeapi.co/api/v2/version-group/23/'}}, {'level_learned_at': 1, 'move_learn_method': {'name': 'level-up', 'url': 'https://pokeapi.co/api/v2/move-learn-method/1/'}, 'version_group': {'name': 'scarlet-violet', 'url': 'https://pokeapi.co/api/v2/version-group/25/'}}]}, {'move': {'name': 'mud-slap', 'url': 'https://pokeapi.co/api/v2/move/189/'}, 'version_group_details': [{'level_learned_at': 0, 'move_learn_method': {'name': 'machine', 'url': 'https://pokeapi.co/api/v2/move-learn-method/4/'}, 'version_group': {'name': 'gold-silver', 'url': 'https://pokeapi.co/api/v2/version-group/3/'}}, {'level_learned_at': 0, 'move_learn_method': {'name': 'machine', 'url': 'https://pokeapi.co/api/v2/move-learn-method/4/'}, 'version_group': {'name': 'crystal', 'url': 'https://pokeapi.co/api/v2/version-group/4/'}}, {'level_learned_at': 0, 'move_learn_method': {'name': 'tutor', 'url': 'https://pokeapi.co/api/v2/move-learn-method/3/'}, 'version_group': {'name': 'emerald', 'url': 'https://pokeapi.co/api/v2/version-group/6/'}}, {'level_learned_at': 0, 'move_learn_method': {'name': 'tutor', 'url': 'https://pokeapi.co/api/v2/move-learn-method/3/'}, 'version_group': {'name': 'platinum', 'url': 'https://pokeapi.co/api/v2/version-group/9/'}}, {'level_learned_at': 0, 'move_learn_method': {'name': 'tutor', 'url': 'https://pokeapi.co/api/v2/move-learn-method/3/'}, 'version_group': {'name': 'heartgold-soulsilver', 'url': 'https://pokeapi.co/api/v2/version-group/10/'}}]}, {'move': {'name': 'zap-cannon', 'url': 'https://pokeapi.co/api/v2/move/192/'}, 'version_group_details': [{'level_learned_at': 0, 'move_learn_method': {'name': 'machine', 'url': 'https://pokeapi.co/api/v2/move-learn-method/4/'}, 'version_group': {'name': 'gold-silver', 'url': 'https://pokeapi.co/api/v2/version-group/3/'}}, {'level_learned_at': 0, 'move_learn_method': {'name': 'machine', 'url': 'https://pokeapi.co/api/v2/move-learn-method/4/'}, 'version_group': {'name': 'crystal', 'url': 'https://pokeapi.co/api/v2/version-group/4/'}}]}, {'move': {'name': 'detect', 'url': 'https://pokeapi.co/api/v2/move/197/'}, 'version_group_details': [{'level_learned_at': 0, 'move_learn_method': {'name': 'machine', 'url': 'https://pokeapi.co/api/v2/move-learn-method/4/'}, 'version_group': {'name': 'gold-silver', 'url': 'https://pokeapi.co/api/v2/version-group/3/'}}, {'level_learned_at': 0, 'move_learn_method': {'name': 'machine', 'url': 'https://pokeapi.co/api/v2/move-learn-method/4/'}, 'version_group': {'name': 'crystal', 'url': 'https://pokeapi.co/api/v2/version-group/4/'}}]}, {'move': {'name': 'endure', 'url': 'https://pokeapi.co/api/v2/move/203/'}, 'version_group_details': [{'level_learned_at': 0, 'move_learn_method': {'name': 'machine', 'url': 'https://pokeapi.co/api/v2/move-learn-method/4/'}, 'version_group': {'name': 'gold-silver', 'url': 'https://pokeapi.co/api/v2/version-group/3/'}}, {'level_learned_at': 0, 'move_learn_method': {'name': 'machine', 'url': 'https://pokeapi.co/api/v2/move-learn-method/4/'}, 'version_group': {'name': 'crystal', 'url': 'https://pokeapi.co/api/v2/version-group/4/'}}, {'level_learned_at': 0, 'move_learn_method': {'name': 'tutor', 'url': 'https://pokeapi.co/api/v2/move-learn-method/3/'}, 'version_group': {'name': 'emerald', 'url': 'https://pokeapi.co/api/v2/version-group/6/'}}, {'level_learned_at': 0, 'move_learn_method': {'name': 'machine', 'url': 'https://pokeapi.co/api/v2/move-learn-method/4/'}, 'version_group': {'name': 'diamond-pearl', 'url': 'https://pokeapi.co/api/v2/version-group/8/'}}, {'level_learned_at': 0, 'move_learn_method': {'name': 'machine', 'url': 'https://pokeapi.co/api/v2/move-learn-method/4/'}, 'version_group': {'name': 'platinum', 'url': 'https://pokeapi.co/api/v2/version-group/9/'}}, {'level_learned_at': 0, 'move_learn_method': {'name': 'machine', 'url': 'https://pokeapi.co/api/v2/move-learn-method/4/'}, 'version_group': {'name': 'heartgold-soulsilver', 'url': 'https://pokeapi.co/api/v2/version-group/10/'}}, {'level_learned_at': 0, 'move_learn_method': {'name': 'machine', 'url': 'https://pokeapi.co/api/v2/move-learn-method/4/'}, 'version_group': {'name': 'sword-shield', 'url': 'https://pokeapi.co/api/v2/version-group/20/'}}, {'level_learned_at': 0, 'move_learn_method': {'name': 'machine', 'url': 'https://pokeapi.co/api/v2/move-learn-method/4/'}, 'version_group': {'name': 'brilliant-diamond-and-shining-pearl', 'url': 'https://pokeapi.co/api/v2/version-group/23/'}}, {'level_learned_at': 0, 'move_learn_method': {'name': 'machine', 'url': 'https://pokeapi.co/api/v2/move-learn-method/4/'}, 'version_group': {'name': 'scarlet-violet', 'url': 'https://pokeapi.co/api/v2/version-group/25/'}}]}, {'move': {'name': 'charm', 'url': 'https://pokeapi.co/api/v2/move/204/'}, 'version_group_details': [{'level_learned_at': 1, 'move_learn_method': {'name': 'level-up', 'url': 'https://pokeapi.co/api/v2/move-learn-method/1/'}, 'version_group': {'name': 'sword-shield', 'url': 'https://pokeapi.co/api/v2/version-group/20/'}}, {'level_learned_at': 0, 'move_learn_method': {'name': 'machine', 'url': 'https://pokeapi.co/api/v2/move-learn-method/4/'}, 'version_group': {'name': 'sword-shield', 'url': 'https://pokeapi.co/api/v2/version-group/20/'}}, {'level_learned_at': 1, 'move_learn_method': {'name': 'level-up', 'url': 'https://pokeapi.co/api/v2/move-learn-method/1/'}, 'version_group': {'name': 'brilliant-diamond-and-shining-pearl', 'url': 'https://pokeapi.co/api/v2/version-group/23/'}}, {'level_learned_at': 1, 'move_learn_method': {'name': 'level-up', 'url': 'https://pokeapi.co/api/v2/move-learn-method/1/'}, 'version_group': {'name': 'scarlet-violet', 'url': 'https://pokeapi.co/api/v2/version-group/25/'}}, {'level_learned_at': 0, 'move_learn_method': {'name': 'machine', 'url': 'https://pokeapi.co/api/v2/move-learn-method/4/'}, 'version_group': {'name': 'scarlet-violet', 'url': 'https://pokeapi.co/api/v2/version-group/25/'}}]}, {'move': {'name': 'rollout', 'url': 'https://pokeapi.co/api/v2/move/205/'}, 'version_group_details': [{'level_learned_at': 0, 'move_learn_method': {'name': 'machine', 'url': 'https://pokeapi.co/api/v2/move-learn-method/4/'}, 'version_group': {'name': 'gold-silver', 'url': 'https://pokeapi.co/api/v2/version-group/3/'}}, {'level_learned_at': 0, 'move_learn_method': {'name': 'machine', 'url': 'https://pokeapi.co/api/v2/move-learn-method/4/'}, 'version_group': {'name': 'crystal', 'url': 'https://pokeapi.co/api/v2/version-group/4/'}}, {'level_learned_at': 0, 'move_learn_method': {'name': 'tutor', 'url': 'https://pokeapi.co/api/v2/move-learn-method/3/'}, 'version_group': {'name': 'emerald', 'url': 'https://pokeapi.co/api/v2/version-group/6/'}}, {'level_learned_at': 0, 'move_learn_method': {'name': 'tutor', 'url': 'https://pokeapi.co/api/v2/move-learn-method/3/'}, 'version_group': {'name': 'platinum', 'url': 'https://pokeapi.co/api/v2/version-group/9/'}}, {'level_learned_at': 0, 'move_learn_method': {'name': 'tutor', 'url': 'https://pokeapi.co/api/v2/move-learn-method/3/'}, 'version_group': {'name': 'heartgold-soulsilver', 'url': 'https://pokeapi.co/api/v2/version-group/10/'}}]}, {'move': {'name': 'swagger', 'url': 'https://pokeapi.co/api/v2/move/207/'}, 'version_group_details': [{'level_learned_at': 0, 'move_learn_method': {'name': 'machine', 'url': 'https://pokeapi.co/api/v2/move-learn-method/4/'}, 'version_group': {'name': 'gold-silver', 'url': 'https://pokeapi.co/api/v2/version-group/3/'}}, {'level_learned_at': 0, 'move_learn_method': {'name': 'machine', 'url': 'https://pokeapi.co/api/v2/move-learn-method/4/'}, 'version_group': {'name': 'crystal', 'url': 'https://pokeapi.co/api/v2/version-group/4/'}}, {'level_learned_at': 0, 'move_learn_method': {'name': 'tutor', 'url': 'https://pokeapi.co/api/v2/move-learn-method/3/'}, 'version_group': {'name': 'emerald', 'url': 'https://pokeapi.co/api/v2/version-group/6/'}}, {'level_learned_at': 0, 'move_learn_method': {'name': 'machine', 'url': 'https://pokeapi.co/api/v2/move-learn-method/4/'}, 'version_group': {'name': 'diamond-pearl', 'url': 'https://pokeapi.co/api/v2/version-group/8/'}}, {'level_learned_at': 0, 'move_learn_method': {'name': 'machine', 'url': 'https://pokeapi.co/api/v2/move-learn-method/4/'}, 'version_group': {'name': 'platinum', 'url': 'https://pokeapi.co/api/v2/version-group/9/'}}, {'level_learned_at': 0, 'move_learn_method': {'name': 'machine', 'url': 'https://pokeapi.co/api/v2/move-learn-method/4/'}, 'version_group': {'name': 'heartgold-soulsilver', 'url': 'https://pokeapi.co/api/v2/version-group/10/'}}, {'level_learned_at': 0, 'move_learn_method': {'name': 'machine', 'url': 'https://pokeapi.co/api/v2/move-learn-method/4/'}, 'version_group': {'name': 'black-white', 'url': 'https://pokeapi.co/api/v2/version-group/11/'}}, {'level_learned_at': 0, 'move_learn_method': {'name': 'tutor', 'url': 'https://pokeapi.co/api/v2/move-learn-method/3/'}, 'version_group': {'name': 'xd', 'url': 'https://pokeapi.co/api/v2/version-group/13/'}}, {'level_learned_at': 0, 'move_learn_method': {'name': 'machine', 'url': 'https://pokeapi.co/api/v2/move-learn-method/4/'}, 'version_group': {'name': 'black-2-white-2', 'url': 'https://pokeapi.co/api/v2/version-group/14/'}}, {'level_learned_at': 0, 'move_learn_method': {'name': 'machine', 'url': 'https://pokeapi.co/api/v2/move-learn-method/4/'}, 'version_group': {'name': 'x-y', 'url': 'https://pokeapi.co/api/v2/version-group/15/'}}, {'level_learned_at': 0, 'move_learn_method': {'name': 'machine', 'url': 'https://pokeapi.co/api/v2/move-learn-method/4/'}, 'version_group': {'name': 'omega-ruby-alpha-sapphire', 'url': 'https://pokeapi.co/api/v2/version-group/16/'}}, {'level_learned_at': 0, 'move_learn_method': {'name': 'machine', 'url': 'https://pokeapi.co/api/v2/move-learn-method/4/'}, 'version_group': {'name': 'sun-moon', 'url': 'https://pokeapi.co/api/v2/version-group/17/'}}, {'level_learned_at': 0, 'move_learn_method': {'name': 'machine', 'url': 'https://pokeapi.co/api/v2/move-learn-method/4/'}, 'version_group': {'name': 'ultra-sun-ultra-moon', 'url': 'https://pokeapi.co/api/v2/version-group/18/'}}, {'level_learned_at': 0, 'move_learn_method': {'name': 'machine', 'url': 'https://pokeapi.co/api/v2/move-learn-method/4/'}, 'version_group': {'name': 'brilliant-diamond-and-shining-pearl', 'url': 'https://pokeapi.co/api/v2/version-group/23/'}}]}, {'move': {'name': 'spark', 'url': 'https://pokeapi.co/api/v2/move/209/'}, 'version_group_details': [{'level_learned_at': 26, 'move_learn_method': {'name': 'level-up', 'url': 'https://pokeapi.co/api/v2/move-learn-method/1/'}, 'version_group': {'name': 'omega-ruby-alpha-sapphire', 'url': 'https://pokeapi.co/api/v2/version-group/16/'}}, {'level_learned_at': 26, 'move_learn_method': {'name': 'level-up', 'url': 'https://pokeapi.co/api/v2/move-learn-method/1/'}, 'version_group': {'name': 'sun-moon', 'url': 'https://pokeapi.co/api/v2/version-group/17/'}}, {'level_learned_at': 26, 'move_learn_method': {'name': 'level-up', 'url': 'https://pokeapi.co/api/v2/move-learn-method/1/'}, 'version_group': {'name': 'ultra-sun-ultra-moon', 'url': 'https://pokeapi.co/api/v2/version-group/18/'}}, {'level_learned_at': 20, 'move_learn_method': {'name': 'level-up', 'url': 'https://pokeapi.co/api/v2/move-learn-method/1/'}, 'version_group': {'name': 'sword-shield', 'url': 'https://pokeapi.co/api/v2/version-group/20/'}}, {'level_learned_at': 20, 'move_learn_method': {'name': 'level-up', 'url': 'https://pokeapi.co/api/v2/move-learn-method/1/'}, 'version_group': {'name': 'brilliant-diamond-and-shining-pearl', 'url': 'https://pokeapi.co/api/v2/version-group/23/'}}, {'level_learned_at': 20, 'move_learn_method': {'name': 'level-up', 'url': 'https://pokeapi.co/api/v2/move-learn-method/1/'}, 'version_group': {'name': 'scarlet-violet', 'url': 'https://pokeapi.co/api/v2/version-group/25/'}}]}, {'move': {'name': 'attract', 'url': 'https://pokeapi.co/api/v2/move/213/'}, 'version_group_details': [{'level_learned_at': 0, 'move_learn_method': {'name': 'machine', 'url': 'https://pokeapi.co/api/v2/move-learn-method/4/'}, 'version_group': {'name': 'gold-silver', 'url': 'https://pokeapi.co/api/v2/version-group/3/'}}, {'level_learned_at': 0, 'move_learn_method': {'name': 'machine', 'url': 'https://pokeapi.co/api/v2/move-learn-method/4/'}, 'version_group': {'name': 'crystal', 'url': 'https://pokeapi.co/api/v2/version-group/4/'}}, {'level_learned_at': 0, 'move_learn_method': {'name': 'machine', 'url': 'https://pokeapi.co/api/v2/move-learn-method/4/'}, 'version_group': {'name': 'ruby-sapphire', 'url': 'https://pokeapi.co/api/v2/version-group/5/'}}, {'level_learned_at': 0, 'move_learn_method': {'name': 'machine', 'url': 'https://pokeapi.co/api/v2/move-learn-method/4/'}, 'version_group': {'name': 'emerald', 'url': 'https://pokeapi.co/api/v2/version-group/6/'}}, {'level_learned_at': 0, 'move_learn_method': {'name': 'machine', 'url': 'https://pokeapi.co/api/v2/move-learn-method/4/'}, 'version_group': {'name': 'firered-leafgreen', 'url': 'https://pokeapi.co/api/v2/version-group/7/'}}, {'level_learned_at': 0, 'move_learn_method': {'name': 'machine', 'url': 'https://pokeapi.co/api/v2/move-learn-method/4/'}, 'version_group': {'name': 'diamond-pearl', 'url': 'https://pokeapi.co/api/v2/version-group/8/'}}, {'level_learned_at': 0, 'move_learn_method': {'name': 'machine', 'url': 'https://pokeapi.co/api/v2/move-learn-method/4/'}, 'version_group': {'name': 'platinum', 'url': 'https://pokeapi.co/api/v2/version-group/9/'}}, {'level_learned_at': 0, 'move_learn_method': {'name': 'machine', 'url': 'https://pokeapi.co/api/v2/move-learn-method/4/'}, 'version_group': {'name': 'heartgold-soulsilver', 'url': 'https://pokeapi.co/api/v2/version-group/10/'}}, {'level_learned_at': 0, 'move_learn_method': {'name': 'machine', 'url': 'https://pokeapi.co/api/v2/move-learn-method/4/'}, 'version_group': {'name': 'black-white', 'url': 'https://pokeapi.co/api/v2/version-group/11/'}}, {'level_learned_at': 0, 'move_learn_method': {'name': 'machine', 'url': 'https://pokeapi.co/api/v2/move-learn-method/4/'}, 'version_group': {'name': 'colosseum', 'url': 'https://pokeapi.co/api/v2/version-group/12/'}}, {'level_learned_at': 0, 'move_learn_method': {'name': 'machine', 'url': 'https://pokeapi.co/api/v2/move-learn-method/4/'}, 'version_group': {'name': 'xd', 'url': 'https://pokeapi.co/api/v2/version-group/13/'}}, {'level_learned_at': 0, 'move_learn_method': {'name': 'machine', 'url': 'https://pokeapi.co/api/v2/move-learn-method/4/'}, 'version_group': {'name': 'black-2-white-2', 'url': 'https://pokeapi.co/api/v2/version-group/14/'}}, {'level_learned_at': 0, 'move_learn_method': {'name': 'machine', 'url': 'https://pokeapi.co/api/v2/move-learn-method/4/'}, 'version_group': {'name': 'x-y', 'url': 'https://pokeapi.co/api/v2/version-group/15/'}}, {'level_learned_at': 0, 'move_learn_method': {'name': 'machine', 'url': 'https://pokeapi.co/api/v2/move-learn-method/4/'}, 'version_group': {'name': 'omega-ruby-alpha-sapphire', 'url': 'https://pokeapi.co/api/v2/version-group/16/'}}, {'level_learned_at': 0, 'move_learn_method': {'name': 'machine', 'url': 'https://pokeapi.co/api/v2/move-learn-method/4/'}, 'version_group': {'name': 'sun-moon', 'url': 'https://pokeapi.co/api/v2/version-group/17/'}}, {'level_learned_at': 0, 'move_learn_method': {'name': 'machine', 'url': 'https://pokeapi.co/api/v2/move-learn-method/4/'}, 'version_group': {'name': 'ultra-sun-ultra-moon', 'url': 'https://pokeapi.co/api/v2/version-group/18/'}}, {'level_learned_at': 0, 'move_learn_method': {'name': 'machine', 'url': 'https://pokeapi.co/api/v2/move-learn-method/4/'}, 'version_group': {'name': 'sword-shield', 'url': 'https://pokeapi.co/api/v2/version-group/20/'}}, {'level_learned_at': 0, 'move_learn_method': {'name': 'machine', 'url': 'https://pokeapi.co/api/v2/move-learn-method/4/'}, 'version_group': {'name': 'brilliant-diamond-and-shining-pearl', 'url': 'https://pokeapi.co/api/v2/version-group/23/'}}]}, {'move': {'name': 'sleep-talk', 'url': 'https://pokeapi.co/api/v2/move/214/'}, 'version_group_details': [{'level_learned_at': 0, 'move_learn_method': {'name': 'machine', 'url': 'https://pokeapi.co/api/v2/move-learn-method/4/'}, 'version_group': {'name': 'gold-silver', 'url': 'https://pokeapi.co/api/v2/version-group/3/'}}, {'level_learned_at': 0, 'move_learn_method': {'name': 'machine', 'url': 'https://pokeapi.co/api/v2/move-learn-method/4/'}, 'version_group': {'name': 'crystal', 'url': 'https://pokeapi.co/api/v2/version-group/4/'}}, {'level_learned_at': 0, 'move_learn_method': {'name': 'tutor', 'url': 'https://pokeapi.co/api/v2/move-learn-method/3/'}, 'version_group': {'name': 'emerald', 'url': 'https://pokeapi.co/api/v2/version-group/6/'}}, {'level_learned_at': 0, 'move_learn_method': {'name': 'machine', 'url': 'https://pokeapi.co/api/v2/move-learn-method/4/'}, 'version_group': {'name': 'diamond-pearl', 'url': 'https://pokeapi.co/api/v2/version-group/8/'}}, {'level_learned_at': 0, 'move_learn_method': {'name': 'machine', 'url': 'https://pokeapi.co/api/v2/move-learn-method/4/'}, 'version_group': {'name': 'platinum', 'url': 'https://pokeapi.co/api/v2/version-group/9/'}}, {'level_learned_at': 0, 'move_learn_method': {'name': 'machine', 'url': 'https://pokeapi.co/api/v2/move-learn-method/4/'}, 'version_group': {'name': 'heartgold-soulsilver', 'url': 'https://pokeapi.co/api/v2/version-group/10/'}}, {'level_learned_at': 0, 'move_learn_method': {'name': 'tutor', 'url': 'https://pokeapi.co/api/v2/move-learn-method/3/'}, 'version_group': {'name': 'black-2-white-2', 'url': 'https://pokeapi.co/api/v2/version-group/14/'}}, {'level_learned_at': 0, 'move_learn_method': {'name': 'machine', 'url': 'https://pokeapi.co/api/v2/move-learn-method/4/'}, 'version_group': {'name': 'x-y', 'url': 'https://pokeapi.co/api/v2/version-group/15/'}}, {'level_learned_at': 0, 'move_learn_method': {'name': 'machine', 'url': 'https://pokeapi.co/api/v2/move-learn-method/4/'}, 'version_group': {'name': 'omega-ruby-alpha-sapphire', 'url': 'https://pokeapi.co/api/v2/version-group/16/'}}, {'level_learned_at': 0, 'move_learn_method': {'name': 'machine', 'url': 'https://pokeapi.co/api/v2/move-learn-method/4/'}, 'version_group': {'name': 'sun-moon', 'url': 'https://pokeapi.co/api/v2/version-group/17/'}}, {'level_learned_at': 0, 'move_learn_method': {'name': 'machine', 'url': 'https://pokeapi.co/api/v2/move-learn-method/4/'}, 'version_group': {'name': 'ultra-sun-ultra-moon', 'url': 'https://pokeapi.co/api/v2/version-group/18/'}}, {'level_learned_at': 0, 'move_learn_method': {'name': 'machine', 'url': 'https://pokeapi.co/api/v2/move-learn-method/4/'}, 'version_group': {'name': 'sword-shield', 'url': 'https://pokeapi.co/api/v2/version-group/20/'}}, {'level_learned_at': 0, 'move_learn_method': {'name': 'machine', 'url': 'https://pokeapi.co/api/v2/move-learn-method/4/'}, 'version_group': {'name': 'brilliant-diamond-and-shining-pearl', 'url': 'https://pokeapi.co/api/v2/version-group/23/'}}, {'level_learned_at': 0, 'move_learn_method': {'name': 'machine', 'url': 'https://pokeapi.co/api/v2/move-learn-method/4/'}, 'version_group': {'name': 'scarlet-violet', 'url': 'https://pokeapi.co/api/v2/version-group/25/'}}]}, {'move': {'name': 'return', 'url': 'https://pokeapi.co/api/v2/move/216/'}, 'version_group_details': [{'level_learned_at': 0, 'move_learn_method': {'name': 'machine', 'url': 'https://pokeapi.co/api/v2/move-learn-method/4/'}, 'version_group': {'name': 'gold-silver', 'url': 'https://pokeapi.co/api/v2/version-group/3/'}}, {'level_learned_at': 0, 'move_learn_method': {'name': 'machine', 'url': 'https://pokeapi.co/api/v2/move-learn-method/4/'}, 'version_group': {'name': 'crystal', 'url': 'https://pokeapi.co/api/v2/version-group/4/'}}, {'level_learned_at': 0, 'move_learn_method': {'name': 'machine', 'url': 'https://pokeapi.co/api/v2/move-learn-method/4/'}, 'version_group': {'name': 'ruby-sapphire', 'url': 'https://pokeapi.co/api/v2/version-group/5/'}}, {'level_learned_at': 0, 'move_learn_method': {'name': 'machine', 'url': 'https://pokeapi.co/api/v2/move-learn-method/4/'}, 'version_group': {'name': 'emerald', 'url': 'https://pokeapi.co/api/v2/version-group/6/'}}, {'level_learned_at': 0, 'move_learn_method': {'name': 'machine', 'url': 'https://pokeapi.co/api/v2/move-learn-method/4/'}, 'version_group': {'name': 'firered-leafgreen', 'url': 'https://pokeapi.co/api/v2/version-group/7/'}}, {'level_learned_at': 0, 'move_learn_method': {'name': 'machine', 'url': 'https://pokeapi.co/api/v2/move-learn-method/4/'}, 'version_group': {'name': 'diamond-pearl', 'url': 'https://pokeapi.co/api/v2/version-group/8/'}}, {'level_learned_at': 0, 'move_learn_method': {'name': 'machine', 'url': 'https://pokeapi.co/api/v2/move-learn-method/4/'}, 'version_group': {'name': 'platinum', 'url': 'https://pokeapi.co/api/v2/version-group/9/'}}, {'level_learned_at': 0, 'move_learn_method': {'name': 'machine', 'url': 'https://pokeapi.co/api/v2/move-learn-method/4/'}, 'version_group': {'name': 'heartgold-soulsilver', 'url': 'https://pokeapi.co/api/v2/version-group/10/'}}, {'level_learned_at': 0, 'move_learn_method': {'name': 'machine', 'url': 'https://pokeapi.co/api/v2/move-learn-method/4/'}, 'version_group': {'name': 'black-white', 'url': 'https://pokeapi.co/api/v2/version-group/11/'}}, {'level_learned_at': 0, 'move_learn_method': {'name': 'machine', 'url': 'https://pokeapi.co/api/v2/move-learn-method/4/'}, 'version_group': {'name': 'colosseum', 'url': 'https://pokeapi.co/api/v2/version-group/12/'}}, {'level_learned_at': 0, 'move_learn_method': {'name': 'machine', 'url': 'https://pokeapi.co/api/v2/move-learn-method/4/'}, 'version_group': {'name': 'xd', 'url': 'https://pokeapi.co/api/v2/version-group/13/'}}, {'level_learned_at': 0, 'move_learn_method': {'name': 'machine', 'url': 'https://pokeapi.co/api/v2/move-learn-method/4/'}, 'version_group': {'name': 'black-2-white-2', 'url': 'https://pokeapi.co/api/v2/version-group/14/'}}, {'level_learned_at': 0, 'move_learn_method': {'name': 'machine', 'url': 'https://pokeapi.co/api/v2/move-learn-method/4/'}, 'version_group': {'name': 'x-y', 'url': 'https://pokeapi.co/api/v2/version-group/15/'}}, {'level_learned_at': 0, 'move_learn_method': {'name': 'machine', 'url': 'https://pokeapi.co/api/v2/move-learn-method/4/'}, 'version_group': {'name': 'omega-ruby-alpha-sapphire', 'url': 'https://pokeapi.co/api/v2/version-group/16/'}}, {'level_learned_at': 0, 'move_learn_method': {'name': 'machine', 'url': 'https://pokeapi.co/api/v2/move-learn-method/4/'}, 'version_group': {'name': 'sun-moon', 'url': 'https://pokeapi.co/api/v2/version-group/17/'}}, {'level_learned_at': 0, 'move_learn_method': {'name': 'machine', 'url': 'https://pokeapi.co/api/v2/move-learn-method/4/'}, 'version_group': {'name': 'ultra-sun-ultra-moon', 'url': 'https://pokeapi.co/api/v2/version-group/18/'}}]}, {'move': {'name': 'frustration', 'url': 'https://pokeapi.co/api/v2/move/218/'}, 'version_group_details': [{'level_learned_at': 0, 'move_learn_method': {'name': 'machine', 'url': 'https://pokeapi.co/api/v2/move-learn-method/4/'}, 'version_group': {'name': 'gold-silver', 'url': 'https://pokeapi.co/api/v2/version-group/3/'}}, {'level_learned_at': 0, 'move_learn_method': {'name': 'machine', 'url': 'https://pokeapi.co/api/v2/move-learn-method/4/'}, 'version_group': {'name': 'crystal', 'url': 'https://pokeapi.co/api/v2/version-group/4/'}}, {'level_learned_at': 0, 'move_learn_method': {'name': 'machine', 'url': 'https://pokeapi.co/api/v2/move-learn-method/4/'}, 'version_group': {'name': 'ruby-sapphire', 'url': 'https://pokeapi.co/api/v2/version-group/5/'}}, {'level_learned_at': 0, 'move_learn_method': {'name': 'machine', 'url': 'https://pokeapi.co/api/v2/move-learn-method/4/'}, 'version_group': {'name': 'emerald', 'url': 'https://pokeapi.co/api/v2/version-group/6/'}}, {'level_learned_at': 0, 'move_learn_method': {'name': 'machine', 'url': 'https://pokeapi.co/api/v2/move-learn-method/4/'}, 'version_group': {'name': 'firered-leafgreen', 'url': 'https://pokeapi.co/api/v2/version-group/7/'}}, {'level_learned_at': 0, 'move_learn_method': {'name': 'machine', 'url': 'https://pokeapi.co/api/v2/move-learn-method/4/'}, 'version_group': {'name': 'diamond-pearl', 'url': 'https://pokeapi.co/api/v2/version-group/8/'}}, {'level_learned_at': 0, 'move_learn_method': {'name': 'machine', 'url': 'https://pokeapi.co/api/v2/move-learn-method/4/'}, 'version_group': {'name': 'platinum', 'url': 'https://pokeapi.co/api/v2/version-group/9/'}}, {'level_learned_at': 0, 'move_learn_method': {'name': 'machine', 'url': 'https://pokeapi.co/api/v2/move-learn-method/4/'}, 'version_group': {'name': 'heartgold-soulsilver', 'url': 'https://pokeapi.co/api/v2/version-group/10/'}}, {'level_learned_at': 0, 'move_learn_method': {'name': 'machine', 'url': 'https://pokeapi.co/api/v2/move-learn-method/4/'}, 'version_group': {'name': 'black-white', 'url': 'https://pokeapi.co/api/v2/version-group/11/'}}, {'level_learned_at': 0, 'move_learn_method': {'name': 'machine', 'url': 'https://pokeapi.co/api/v2/move-learn-method/4/'}, 'version_group': {'name': 'colosseum', 'url': 'https://pokeapi.co/api/v2/version-group/12/'}}, {'level_learned_at': 0, 'move_learn_method': {'name': 'machine', 'url': 'https://pokeapi.co/api/v2/move-learn-method/4/'}, 'version_group': {'name': 'xd', 'url': 'https://pokeapi.co/api/v2/version-group/13/'}}, {'level_learned_at': 0, 'move_learn_method': {'name': 'machine', 'url': 'https://pokeapi.co/api/v2/move-learn-method/4/'}, 'version_group': {'name': 'black-2-white-2', 'url': 'https://pokeapi.co/api/v2/version-group/14/'}}, {'level_learned_at': 0, 'move_learn_method': {'name': 'machine', 'url': 'https://pokeapi.co/api/v2/move-learn-method/4/'}, 'version_group': {'name': 'x-y', 'url': 'https://pokeapi.co/api/v2/version-group/15/'}}, {'level_learned_at': 0, 'move_learn_method': {'name': 'machine', 'url': 'https://pokeapi.co/api/v2/move-learn-method/4/'}, 'version_group': {'name': 'omega-ruby-alpha-sapphire', 'url': 'https://pokeapi.co/api/v2/version-group/16/'}}, {'level_learned_at': 0, 'move_learn_method': {'name': 'machine', 'url': 'https://pokeapi.co/api/v2/move-learn-method/4/'}, 'version_group': {'name': 'sun-moon', 'url': 'https://pokeapi.co/api/v2/version-group/17/'}}, {'level_learned_at': 0, 'move_learn_method': {'name': 'machine', 'url': 'https://pokeapi.co/api/v2/move-learn-method/4/'}, 'version_group': {'name': 'ultra-sun-ultra-moon', 'url': 'https://pokeapi.co/api/v2/version-group/18/'}}]}, {'move': {'name': 'dynamic-punch', 'url': 'https://pokeapi.co/api/v2/move/223/'}, 'version_group_details': [{'level_learned_at': 0, 'move_learn_method': {'name': 'machine', 'url': 'https://pokeapi.co/api/v2/move-learn-method/4/'}, 'version_group': {'name': 'gold-silver', 'url': 'https://pokeapi.co/api/v2/version-group/3/'}}, {'level_learned_at': 0, 'move_learn_method': {'name': 'machine', 'url': 'https://pokeapi.co/api/v2/move-learn-method/4/'}, 'version_group': {'name': 'crystal', 'url': 'https://pokeapi.co/api/v2/version-group/4/'}}, {'level_learned_at': 0, 'move_learn_method': {'name': 'tutor', 'url': 'https://pokeapi.co/api/v2/move-learn-method/3/'}, 'version_group': {'name': 'emerald', 'url': 'https://pokeapi.co/api/v2/version-group/6/'}}]}, {'move': {'name': 'encore', 'url': 'https://pokeapi.co/api/v2/move/227/'}, 'version_group_details': [{'level_learned_at': 0, 'move_learn_method': {'name': 'machine', 'url': 'https://pokeapi.co/api/v2/move-learn-method/4/'}, 'version_group': {'name': 'sword-shield', 'url': 'https://pokeapi.co/api/v2/version-group/20/'}}, {'level_learned_at': 0, 'move_learn_method': {'name': 'machine', 'url': 'https://pokeapi.co/api/v2/move-learn-method/4/'}, 'version_group': {'name': 'scarlet-violet', 'url': 'https://pokeapi.co/api/v2/version-group/25/'}}]}, {'move': {'name': 'iron-tail', 'url': 'https://pokeapi.co/api/v2/move/231/'}, 'version_group_details': [{'level_learned_at': 0, 'move_learn_method': {'name': 'machine', 'url': 'https://pokeapi.co/api/v2/move-learn-method/4/'}, 'version_group': {'name': 'gold-silver', 'url': 'https://pokeapi.co/api/v2/version-group/3/'}}, {'level_learned_at': 0, 'move_learn_method': {'name': 'machine', 'url': 'https://pokeapi.co/api/v2/move-learn-method/4/'}, 'version_group': {'name': 'crystal', 'url': 'https://pokeapi.co/api/v2/version-group/4/'}}, {'level_learned_at': 0, 'move_learn_method': {'name': 'machine', 'url': 'https://pokeapi.co/api/v2/move-learn-method/4/'}, 'version_group': {'name': 'ruby-sapphire', 'url': 'https://pokeapi.co/api/v2/version-group/5/'}}, {'level_learned_at': 0, 'move_learn_method': {'name': 'machine', 'url': 'https://pokeapi.co/api/v2/move-learn-method/4/'}, 'version_group': {'name': 'emerald', 'url': 'https://pokeapi.co/api/v2/version-group/6/'}}, {'level_learned_at': 0, 'move_learn_method': {'name': 'machine', 'url': 'https://pokeapi.co/api/v2/move-learn-method/4/'}, 'version_group': {'name': 'firered-leafgreen', 'url': 'https://pokeapi.co/api/v2/version-group/7/'}}, {'level_learned_at': 0, 'move_learn_method': {'name': 'machine', 'url': 'https://pokeapi.co/api/v2/move-learn-method/4/'}, 'version_group': {'name': 'diamond-pearl', 'url': 'https://pokeapi.co/api/v2/version-group/8/'}}, {'level_learned_at': 0, 'move_learn_method': {'name': 'machine', 'url': 'https://pokeapi.co/api/v2/move-learn-method/4/'}, 'version_group': {'name': 'platinum', 'url': 'https://pokeapi.co/api/v2/version-group/9/'}}, {'level_learned_at': 0, 'move_learn_method': {'name': 'machine', 'url': 'https://pokeapi.co/api/v2/move-learn-method/4/'}, 'version_group': {'name': 'heartgold-soulsilver', 'url': 'https://pokeapi.co/api/v2/version-group/10/'}}, {'level_learned_at': 0, 'move_learn_method': {'name': 'machine', 'url': 'https://pokeapi.co/api/v2/move-learn-method/4/'}, 'version_group': {'name': 'colosseum', 'url': 'https://pokeapi.co/api/v2/version-group/12/'}}, {'level_learned_at': 0, 'move_learn_method': {'name': 'machine', 'url': 'https://pokeapi.co/api/v2/move-learn-method/4/'}, 'version_group': {'name': 'xd', 'url': 'https://pokeapi.co/api/v2/version-group/13/'}}, {'level_learned_at': 0, 'move_learn_method': {'name': 'tutor', 'url': 'https://pokeapi.co/api/v2/move-learn-method/3/'}, 'version_group': {'name': 'black-2-white-2', 'url': 'https://pokeapi.co/api/v2/version-group/14/'}}, {'level_learned_at': 0, 'move_learn_method': {'name': 'tutor', 'url': 'https://pokeapi.co/api/v2/move-learn-method/3/'}, 'version_group': {'name': 'omega-ruby-alpha-sapphire', 'url': 'https://pokeapi.co/api/v2/version-group/16/'}}, {'level_learned_at': 0, 'move_learn_method': {'name': 'tutor', 'url': 'https://pokeapi.co/api/v2/move-learn-method/3/'}, 'version_group': {'name': 'ultra-sun-ultra-moon', 'url': 'https://pokeapi.co/api/v2/version-group/18/'}}, {'level_learned_at': 0, 'move_learn_method': {'name': 'machine', 'url': 'https://pokeapi.co/api/v2/move-learn-method/4/'}, 'version_group': {'name': 'lets-go-pikachu-lets-go-eevee', 'url': 'https://pokeapi.co/api/v2/version-group/19/'}}, {'level_learned_at': 0, 'move_learn_method': {'name': 'machine', 'url': 'https://pokeapi.co/api/v2/move-learn-method/4/'}, 'version_group': {'name': 'sword-shield', 'url': 'https://pokeapi.co/api/v2/version-group/20/'}}, {'level_learned_at': 0, 'move_learn_method': {'name': 'machine', 'url': 'https://pokeapi.co/api/v2/move-learn-method/4/'}, 'version_group': {'name': 'brilliant-diamond-and-shining-pearl', 'url': 'https://pokeapi.co/api/v2/version-group/23/'}}, {'level_learned_at': 28, 'move_learn_method': {'name': 'level-up', 'url': 'https://pokeapi.co/api/v2/move-learn-method/1/'}, 'version_group': {'name': 'scarlet-violet', 'url': 'https://pokeapi.co/api/v2/version-group/25/'}}]}, {'move': {'name': 'hidden-power', 'url': 'https://pokeapi.co/api/v2/move/237/'}, 'version_group_details': [{'level_learned_at': 0, 'move_learn_method': {'name': 'machine', 'url': 'https://pokeapi.co/api/v2/move-learn-method/4/'}, 'version_group': {'name': 'gold-silver', 'url': 'https://pokeapi.co/api/v2/version-group/3/'}}, {'level_learned_at': 0, 'move_learn_method': {'name': 'machine', 'url': 'https://pokeapi.co/api/v2/move-learn-method/4/'}, 'version_group': {'name': 'crystal', 'url': 'https://pokeapi.co/api/v2/version-group/4/'}}, {'level_learned_at': 0, 'move_learn_method': {'name': 'machine', 'url': 'https://pokeapi.co/api/v2/move-learn-method/4/'}, 'version_group': {'name': 'ruby-sapphire', 'url': 'https://pokeapi.co/api/v2/version-group/5/'}}, {'level_learned_at': 0, 'move_learn_method': {'name': 'machine', 'url': 'https://pokeapi.co/api/v2/move-learn-method/4/'}, 'version_group': {'name': 'emerald', 'url': 'https://pokeapi.co/api/v2/version-group/6/'}}, {'level_learned_at': 0, 'move_learn_method': {'name': 'machine', 'url': 'https://pokeapi.co/api/v2/move-learn-method/4/'}, 'version_group': {'name': 'firered-leafgreen', 'url': 'https://pokeapi.co/api/v2/version-group/7/'}}, {'level_learned_at': 0, 'move_learn_method': {'name': 'machine', 'url': 'https://pokeapi.co/api/v2/move-learn-method/4/'}, 'version_group': {'name': 'diamond-pearl', 'url': 'https://pokeapi.co/api/v2/version-group/8/'}}, {'level_learned_at': 0, 'move_learn_method': {'name': 'machine', 'url': 'https://pokeapi.co/api/v2/move-learn-method/4/'}, 'version_group': {'name': 'platinum', 'url': 'https://pokeapi.co/api/v2/version-group/9/'}}, {'level_learned_at': 0, 'move_learn_method': {'name': 'machine', 'url': 'https://pokeapi.co/api/v2/move-learn-method/4/'}, 'version_group': {'name': 'heartgold-soulsilver', 'url': 'https://pokeapi.co/api/v2/version-group/10/'}}, {'level_learned_at': 0, 'move_learn_method': {'name': 'machine', 'url': 'https://pokeapi.co/api/v2/move-learn-method/4/'}, 'version_group': {'name': 'black-white', 'url': 'https://pokeapi.co/api/v2/version-group/11/'}}, {'level_learned_at': 0, 'move_learn_method': {'name': 'machine', 'url': 'https://pokeapi.co/api/v2/move-learn-method/4/'}, 'version_group': {'name': 'colosseum', 'url': 'https://pokeapi.co/api/v2/version-group/12/'}}, {'level_learned_at': 0, 'move_learn_method': {'name': 'machine', 'url': 'https://pokeapi.co/api/v2/move-learn-method/4/'}, 'version_group': {'name': 'xd', 'url': 'https://pokeapi.co/api/v2/version-group/13/'}}, {'level_learned_at': 0, 'move_learn_method': {'name': 'machine', 'url': 'https://pokeapi.co/api/v2/move-learn-method/4/'}, 'version_group': {'name': 'black-2-white-2', 'url': 'https://pokeapi.co/api/v2/version-group/14/'}}, {'level_learned_at': 0, 'move_learn_method': {'name': 'machine', 'url': 'https://pokeapi.co/api/v2/move-learn-method/4/'}, 'version_group': {'name': 'x-y', 'url': 'https://pokeapi.co/api/v2/version-group/15/'}}, {'level_learned_at': 0, 'move_learn_method': {'name': 'machine', 'url': 'https://pokeapi.co/api/v2/move-learn-method/4/'}, 'version_group': {'name': 'omega-ruby-alpha-sapphire', 'url': 'https://pokeapi.co/api/v2/version-group/16/'}}, {'level_learned_at': 0, 'move_learn_method': {'name': 'machine', 'url': 'https://pokeapi.co/api/v2/move-learn-method/4/'}, 'version_group': {'name': 'sun-moon', 'url': 'https://pokeapi.co/api/v2/version-group/17/'}}, {'level_learned_at': 0, 'move_learn_method': {'name': 'machine', 'url': 'https://pokeapi.co/api/v2/move-learn-method/4/'}, 'version_group': {'name': 'ultra-sun-ultra-moon', 'url': 'https://pokeapi.co/api/v2/version-group/18/'}}]}, {'move': {'name': 'rain-dance', 'url': 'https://pokeapi.co/api/v2/move/240/'}, 'version_group_details': [{'level_learned_at': 0, 'move_learn_method': {'name': 'machine', 'url': 'https://pokeapi.co/api/v2/move-learn-method/4/'}, 'version_group': {'name': 'gold-silver', 'url': 'https://pokeapi.co/api/v2/version-group/3/'}}, {'level_learned_at': 0, 'move_learn_method': {'name': 'machine', 'url': 'https://pokeapi.co/api/v2/move-learn-method/4/'}, 'version_group': {'name': 'crystal', 'url': 'https://pokeapi.co/api/v2/version-group/4/'}}, {'level_learned_at': 0, 'move_learn_method': {'name': 'machine', 'url': 'https://pokeapi.co/api/v2/move-learn-method/4/'}, 'version_group': {'name': 'ruby-sapphire', 'url': 'https://pokeapi.co/api/v2/version-group/5/'}}, {'level_learned_at': 0, 'move_learn_method': {'name': 'machine', 'url': 'https://pokeapi.co/api/v2/move-learn-method/4/'}, 'version_group': {'name': 'emerald', 'url': 'https://pokeapi.co/api/v2/version-group/6/'}}, {'level_learned_at': 0, 'move_learn_method': {'name': 'machine', 'url': 'https://pokeapi.co/api/v2/move-learn-method/4/'}, 'version_group': {'name': 'firered-leafgreen', 'url': 'https://pokeapi.co/api/v2/version-group/7/'}}, {'level_learned_at': 0, 'move_learn_method': {'name': 'machine', 'url': 'https://pokeapi.co/api/v2/move-learn-method/4/'}, 'version_group': {'name': 'diamond-pearl', 'url': 'https://pokeapi.co/api/v2/version-group/8/'}}, {'level_learned_at': 0, 'move_learn_method': {'name': 'machine', 'url': 'https://pokeapi.co/api/v2/move-learn-method/4/'}, 'version_group': {'name': 'platinum', 'url': 'https://pokeapi.co/api/v2/version-group/9/'}}, {'level_learned_at': 0, 'move_learn_method': {'name': 'machine', 'url': 'https://pokeapi.co/api/v2/move-learn-method/4/'}, 'version_group': {'name': 'heartgold-soulsilver', 'url': 'https://pokeapi.co/api/v2/version-group/10/'}}, {'level_learned_at': 0, 'move_learn_method': {'name': 'machine', 'url': 'https://pokeapi.co/api/v2/move-learn-method/4/'}, 'version_group': {'name': 'black-white', 'url': 'https://pokeapi.co/api/v2/version-group/11/'}}, {'level_learned_at': 0, 'move_learn_method': {'name': 'machine', 'url': 'https://pokeapi.co/api/v2/move-learn-method/4/'}, 'version_group': {'name': 'colosseum', 'url': 'https://pokeapi.co/api/v2/version-group/12/'}}, {'level_learned_at': 0, 'move_learn_method': {'name': 'machine', 'url': 'https://pokeapi.co/api/v2/move-learn-method/4/'}, 'version_group': {'name': 'xd', 'url': 'https://pokeapi.co/api/v2/version-group/13/'}}, {'level_learned_at': 0, 'move_learn_method': {'name': 'machine', 'url': 'https://pokeapi.co/api/v2/move-learn-method/4/'}, 'version_group': {'name': 'black-2-white-2', 'url': 'https://pokeapi.co/api/v2/version-group/14/'}}, {'level_learned_at': 0, 'move_learn_method': {'name': 'machine', 'url': 'https://pokeapi.co/api/v2/move-learn-method/4/'}, 'version_group': {'name': 'x-y', 'url': 'https://pokeapi.co/api/v2/version-group/15/'}}, {'level_learned_at': 0, 'move_learn_method': {'name': 'machine', 'url': 'https://pokeapi.co/api/v2/move-learn-method/4/'}, 'version_group': {'name': 'omega-ruby-alpha-sapphire', 'url': 'https://pokeapi.co/api/v2/version-group/16/'}}, {'level_learned_at': 0, 'move_learn_method': {'name': 'machine', 'url': 'https://pokeapi.co/api/v2/move-learn-method/4/'}, 'version_group': {'name': 'sun-moon', 'url': 'https://pokeapi.co/api/v2/version-group/17/'}}, {'level_learned_at': 0, 'move_learn_method': {'name': 'machine', 'url': 'https://pokeapi.co/api/v2/move-learn-method/4/'}, 'version_group': {'name': 'ultra-sun-ultra-moon', 'url': 'https://pokeapi.co/api/v2/version-group/18/'}}, {'level_learned_at': 0, 'move_learn_method': {'name': 'machine', 'url': 'https://pokeapi.co/api/v2/move-learn-method/4/'}, 'version_group': {'name': 'sword-shield', 'url': 'https://pokeapi.co/api/v2/version-group/20/'}}, {'level_learned_at': 0, 'move_learn_method': {'name': 'machine', 'url': 'https://pokeapi.co/api/v2/move-learn-method/4/'}, 'version_group': {'name': 'brilliant-diamond-and-shining-pearl', 'url': 'https://pokeapi.co/api/v2/version-group/23/'}}, {'level_learned_at': 0, 'move_learn_method': {'name': 'machine', 'url': 'https://pokeapi.co/api/v2/move-learn-method/4/'}, 'version_group': {'name': 'scarlet-violet', 'url': 'https://pokeapi.co/api/v2/version-group/25/'}}]}, {'move': {'name': 'rock-smash', 'url': 'https://pokeapi.co/api/v2/move/249/'}, 'version_group_details': [{'level_learned_at': 0, 'move_learn_method': {'name': 'machine', 'url': 'https://pokeapi.co/api/v2/move-learn-method/4/'}, 'version_group': {'name': 'ruby-sapphire', 'url': 'https://pokeapi.co/api/v2/version-group/5/'}}, {'level_learned_at': 0, 'move_learn_method': {'name': 'machine', 'url': 'https://pokeapi.co/api/v2/move-learn-method/4/'}, 'version_group': {'name': 'emerald', 'url': 'https://pokeapi.co/api/v2/version-group/6/'}}, {'level_learned_at': 0, 'move_learn_method': {'name': 'machine', 'url': 'https://pokeapi.co/api/v2/move-learn-method/4/'}, 'version_group': {'name': 'firered-leafgreen', 'url': 'https://pokeapi.co/api/v2/version-group/7/'}}, {'level_learned_at': 0, 'move_learn_method': {'name': 'machine', 'url': 'https://pokeapi.co/api/v2/move-learn-method/4/'}, 'version_group': {'name': 'diamond-pearl', 'url': 'https://pokeapi.co/api/v2/version-group/8/'}}, {'level_learned_at': 0, 'move_learn_method': {'name': 'machine', 'url': 'https://pokeapi.co/api/v2/move-learn-method/4/'}, 'version_group': {'name': 'platinum', 'url': 'https://pokeapi.co/api/v2/version-group/9/'}}, {'level_learned_at': 0, 'move_learn_method': {'name': 'machine', 'url': 'https://pokeapi.co/api/v2/move-learn-method/4/'}, 'version_group': {'name': 'heartgold-soulsilver', 'url': 'https://pokeapi.co/api/v2/version-group/10/'}}, {'level_learned_at': 0, 'move_learn_method': {'name': 'machine', 'url': 'https://pokeapi.co/api/v2/move-learn-method/4/'}, 'version_group': {'name': 'black-white', 'url': 'https://pokeapi.co/api/v2/version-group/11/'}}, {'level_learned_at': 0, 'move_learn_method': {'name': 'machine', 'url': 'https://pokeapi.co/api/v2/move-learn-method/4/'}, 'version_group': {'name': 'colosseum', 'url': 'https://pokeapi.co/api/v2/version-group/12/'}}, {'level_learned_at': 0, 'move_learn_method': {'name': 'machine', 'url': 'https://pokeapi.co/api/v2/move-learn-method/4/'}, 'version_group': {'name': 'xd', 'url': 'https://pokeapi.co/api/v2/version-group/13/'}}, {'level_learned_at': 0, 'move_learn_method': {'name': 'machine', 'url': 'https://pokeapi.co/api/v2/move-learn-method/4/'}, 'version_group': {'name': 'black-2-white-2', 'url': 'https://pokeapi.co/api/v2/version-group/14/'}}, {'level_learned_at': 0, 'move_learn_method': {'name': 'machine', 'url': 'https://pokeapi.co/api/v2/move-learn-method/4/'}, 'version_group': {'name': 'x-y', 'url': 'https://pokeapi.co/api/v2/version-group/15/'}}, {'level_learned_at': 0, 'move_learn_method': {'name': 'machine', 'url': 'https://pokeapi.co/api/v2/move-learn-method/4/'}, 'version_group': {'name': 'omega-ruby-alpha-sapphire', 'url': 'https://pokeapi.co/api/v2/version-group/16/'}}, {'level_learned_at': 0, 'move_learn_method': {'name': 'machine', 'url': 'https://pokeapi.co/api/v2/move-learn-method/4/'}, 'version_group': {'name': 'brilliant-diamond-and-shining-pearl', 'url': 'https://pokeapi.co/api/v2/version-group/23/'}}]}, {'move': {'name': 'uproar', 'url': 'https://pokeapi.co/api/v2/move/253/'}, 'version_group_details': [{'level_learned_at': 0, 'move_learn_method': {'name': 'machine', 'url': 'https://pokeapi.co/api/v2/move-learn-method/4/'}, 'version_group': {'name': 'sword-shield', 'url': 'https://pokeapi.co/api/v2/version-group/20/'}}]}, {'move': {'name': 'facade', 'url': 'https://pokeapi.co/api/v2/move/263/'}, 'version_group_details': [{'level_learned_at': 0, 'move_learn_method': {'name': 'machine', 'url': 'https://pokeapi.co/api/v2/move-learn-method/4/'}, 'version_group': {'name': 'ruby-sapphire', 'url': 'https://pokeapi.co/api/v2/version-group/5/'}}, {'level_learned_at': 0, 'move_learn_method': {'name': 'machine', 'url': 'https://pokeapi.co/api/v2/move-learn-method/4/'}, 'version_group': {'name': 'emerald', 'url': 'https://pokeapi.co/api/v2/version-group/6/'}}, {'level_learned_at': 0, 'move_learn_method': {'name': 'machine', 'url': 'https://pokeapi.co/api/v2/move-learn-method/4/'}, 'version_group': {'name': 'firered-leafgreen', 'url': 'https://pokeapi.co/api/v2/version-group/7/'}}, {'level_learned_at': 0, 'move_learn_method': {'name': 'machine', 'url': 'https://pokeapi.co/api/v2/move-learn-method/4/'}, 'version_group': {'name': 'diamond-pearl', 'url': 'https://pokeapi.co/api/v2/version-group/8/'}}, {'level_learned_at': 0, 'move_learn_method': {'name': 'machine', 'url': 'https://pokeapi.co/api/v2/move-learn-method/4/'}, 'version_group': {'name': 'platinum', 'url': 'https://pokeapi.co/api/v2/version-group/9/'}}, {'level_learned_at': 0, 'move_learn_method': {'name': 'machine', 'url': 'https://pokeapi.co/api/v2/move-learn-method/4/'}, 'version_group': {'name': 'heartgold-soulsilver', 'url': 'https://pokeapi.co/api/v2/version-group/10/'}}, {'level_learned_at': 0, 'move_learn_method': {'name': 'machine', 'url': 'https://pokeapi.co/api/v2/move-learn-method/4/'}, 'version_group': {'name': 'black-white', 'url': 'https://pokeapi.co/api/v2/version-group/11/'}}, {'level_learned_at': 0, 'move_learn_method': {'name': 'machine', 'url': 'https://pokeapi.co/api/v2/move-learn-method/4/'}, 'version_group': {'name': 'colosseum', 'url': 'https://pokeapi.co/api/v2/version-group/12/'}}, {'level_learned_at': 0, 'move_learn_method': {'name': 'machine', 'url': 'https://pokeapi.co/api/v2/move-learn-method/4/'}, 'version_group': {'name': 'xd', 'url': 'https://pokeapi.co/api/v2/version-group/13/'}}, {'level_learned_at': 0, 'move_learn_method': {'name': 'machine', 'url': 'https://pokeapi.co/api/v2/move-learn-method/4/'}, 'version_group': {'name': 'black-2-white-2', 'url': 'https://pokeapi.co/api/v2/version-group/14/'}}, {'level_learned_at': 0, 'move_learn_method': {'name': 'machine', 'url': 'https://pokeapi.co/api/v2/move-learn-method/4/'}, 'version_group': {'name': 'x-y', 'url': 'https://pokeapi.co/api/v2/version-group/15/'}}, {'level_learned_at': 0, 'move_learn_method': {'name': 'machine', 'url': 'https://pokeapi.co/api/v2/move-learn-method/4/'}, 'version_group': {'name': 'omega-ruby-alpha-sapphire', 'url': 'https://pokeapi.co/api/v2/version-group/16/'}}, {'level_learned_at': 0, 'move_learn_method': {'name': 'machine', 'url': 'https://pokeapi.co/api/v2/move-learn-method/4/'}, 'version_group': {'name': 'sun-moon', 'url': 'https://pokeapi.co/api/v2/version-group/17/'}}, {'level_learned_at': 0, 'move_learn_method': {'name': 'machine', 'url': 'https://pokeapi.co/api/v2/move-learn-method/4/'}, 'version_group': {'name': 'ultra-sun-ultra-moon', 'url': 'https://pokeapi.co/api/v2/version-group/18/'}}, {'level_learned_at': 0, 'move_learn_method': {'name': 'machine', 'url': 'https://pokeapi.co/api/v2/move-learn-method/4/'}, 'version_group': {'name': 'lets-go-pikachu-lets-go-eevee', 'url': 'https://pokeapi.co/api/v2/version-group/19/'}}, {'level_learned_at': 0, 'move_learn_method': {'name': 'machine', 'url': 'https://pokeapi.co/api/v2/move-learn-method/4/'}, 'version_group': {'name': 'sword-shield', 'url': 'https://pokeapi.co/api/v2/version-group/20/'}}, {'level_learned_at': 0, 'move_learn_method': {'name': 'machine', 'url': 'https://pokeapi.co/api/v2/move-learn-method/4/'}, 'version_group': {'name': 'brilliant-diamond-and-shining-pearl', 'url': 'https://pokeapi.co/api/v2/version-group/23/'}}, {'level_learned_at': 0, 'move_learn_method': {'name': 'machine', 'url': 'https://pokeapi.co/api/v2/move-learn-method/4/'}, 'version_group': {'name': 'scarlet-violet', 'url': 'https://pokeapi.co/api/v2/version-group/25/'}}]}, {'move': {'name': 'focus-punch', 'url': 'https://pokeapi.co/api/v2/move/264/'}, 'version_group_details': [{'level_learned_at': 0, 'move_learn_method': {'name': 'machine', 'url': 'https://pokeapi.co/api/v2/move-learn-method/4/'}, 'version_group': {'name': 'ruby-sapphire', 'url': 'https://pokeapi.co/api/v2/version-group/5/'}}, {'level_learned_at': 0, 'move_learn_method': {'name': 'machine', 'url': 'https://pokeapi.co/api/v2/move-learn-method/4/'}, 'version_group': {'name': 'emerald', 'url': 'https://pokeapi.co/api/v2/version-group/6/'}}, {'level_learned_at': 0, 'move_learn_method': {'name': 'machine', 'url': 'https://pokeapi.co/api/v2/move-learn-method/4/'}, 'version_group': {'name': 'firered-leafgreen', 'url': 'https://pokeapi.co/api/v2/version-group/7/'}}, {'level_learned_at': 0, 'move_learn_method': {'name': 'machine', 'url': 'https://pokeapi.co/api/v2/move-learn-method/4/'}, 'version_group': {'name': 'diamond-pearl', 'url': 'https://pokeapi.co/api/v2/version-group/8/'}}, {'level_learned_at': 0, 'move_learn_method': {'name': 'machine', 'url': 'https://pokeapi.co/api/v2/move-learn-method/4/'}, 'version_group': {'name': 'platinum', 'url': 'https://pokeapi.co/api/v2/version-group/9/'}}, {'level_learned_at': 0, 'move_learn_method': {'name': 'machine', 'url': 'https://pokeapi.co/api/v2/move-learn-method/4/'}, 'version_group': {'name': 'heartgold-soulsilver', 'url': 'https://pokeapi.co/api/v2/version-group/10/'}}, {'level_learned_at': 0, 'move_learn_method': {'name': 'machine', 'url': 'https://pokeapi.co/api/v2/move-learn-method/4/'}, 'version_group': {'name': 'colosseum', 'url': 'https://pokeapi.co/api/v2/version-group/12/'}}, {'level_learned_at': 0, 'move_learn_method': {'name': 'machine', 'url': 'https://pokeapi.co/api/v2/move-learn-method/4/'}, 'version_group': {'name': 'xd', 'url': 'https://pokeapi.co/api/v2/version-group/13/'}}, {'level_learned_at': 0, 'move_learn_method': {'name': 'tutor', 'url': 'https://pokeapi.co/api/v2/move-learn-method/3/'}, 'version_group': {'name': 'omega-ruby-alpha-sapphire', 'url': 'https://pokeapi.co/api/v2/version-group/16/'}}, {'level_learned_at': 0, 'move_learn_method': {'name': 'tutor', 'url': 'https://pokeapi.co/api/v2/move-learn-method/3/'}, 'version_group': {'name': 'ultra-sun-ultra-moon', 'url': 'https://pokeapi.co/api/v2/version-group/18/'}}, {'level_learned_at': 0, 'move_learn_method': {'name': 'machine', 'url': 'https://pokeapi.co/api/v2/move-learn-method/4/'}, 'version_group': {'name': 'brilliant-diamond-and-shining-pearl', 'url': 'https://pokeapi.co/api/v2/version-group/23/'}}, {'level_learned_at': 0, 'move_learn_method': {'name': 'machine', 'url': 'https://pokeapi.co/api/v2/move-learn-method/4/'}, 'version_group': {'name': 'scarlet-violet', 'url': 'https://pokeapi.co/api/v2/version-group/25/'}}]}, {'move': {'name': 'charge', 'url': 'https://pokeapi.co/api/v2/move/268/'}, 'version_group_details': [{'level_learned_at': 0, 'move_learn_method': {'name': 'machine', 'url': 'https://pokeapi.co/api/v2/move-learn-method/4/'}, 'version_group': {'name': 'scarlet-violet', 'url': 'https://pokeapi.co/api/v2/version-group/25/'}}]}, {'move': {'name': 'helping-hand', 'url': 'https://pokeapi.co/api/v2/move/270/'}, 'version_group_details': [{'level_learned_at': 0, 'move_learn_method': {'name': 'tutor', 'url': 'https://pokeapi.co/api/v2/move-learn-method/3/'}, 'version_group': {'name': 'platinum', 'url': 'https://pokeapi.co/api/v2/version-group/9/'}}, {'level_learned_at': 0, 'move_learn_method': {'name': 'tutor', 'url': 'https://pokeapi.co/api/v2/move-learn-method/3/'}, 'version_group': {'name': 'heartgold-soulsilver', 'url': 'https://pokeapi.co/api/v2/version-group/10/'}}, {'level_learned_at': 0, 'move_learn_method': {'name': 'tutor', 'url': 'https://pokeapi.co/api/v2/move-learn-method/3/'}, 'version_group': {'name': 'black-2-white-2', 'url': 'https://pokeapi.co/api/v2/version-group/14/'}}, {'level_learned_at': 0, 'move_learn_method': {'name': 'tutor', 'url': 'https://pokeapi.co/api/v2/move-learn-method/3/'}, 'version_group': {'name': 'omega-ruby-alpha-sapphire', 'url': 'https://pokeapi.co/api/v2/version-group/16/'}}, {'level_learned_at': 0, 'move_learn_method': {'name': 'tutor', 'url': 'https://pokeapi.co/api/v2/move-learn-method/3/'}, 'version_group': {'name': 'ultra-sun-ultra-moon', 'url': 'https://pokeapi.co/api/v2/version-group/18/'}}, {'level_learned_at': 0, 'move_learn_method': {'name': 'machine', 'url': 'https://pokeapi.co/api/v2/move-learn-method/4/'}, 'version_group': {'name': 'lets-go-pikachu-lets-go-eevee', 'url': 'https://pokeapi.co/api/v2/version-group/19/'}}, {'level_learned_at': 0, 'move_learn_method': {'name': 'machine', 'url': 'https://pokeapi.co/api/v2/move-learn-method/4/'}, 'version_group': {'name': 'sword-shield', 'url': 'https://pokeapi.co/api/v2/version-group/20/'}}, {'level_learned_at': 0, 'move_learn_method': {'name': 'machine', 'url': 'https://pokeapi.co/api/v2/move-learn-method/4/'}, 'version_group': {'name': 'scarlet-violet', 'url': 'https://pokeapi.co/api/v2/version-group/25/'}}]}, {'move': {'name': 'brick-break', 'url': 'https://pokeapi.co/api/v2/move/280/'}, 'version_group_details': [{'level_learned_at': 0, 'move_learn_method': {'name': 'machine', 'url': 'https://pokeapi.co/api/v2/move-learn-method/4/'}, 'version_group': {'name': 'ruby-sapphire', 'url': 'https://pokeapi.co/api/v2/version-group/5/'}}, {'level_learned_at': 0, 'move_learn_method': {'name': 'machine', 'url': 'https://pokeapi.co/api/v2/move-learn-method/4/'}, 'version_group': {'name': 'emerald', 'url': 'https://pokeapi.co/api/v2/version-group/6/'}}, {'level_learned_at': 0, 'move_learn_method': {'name': 'machine', 'url': 'https://pokeapi.co/api/v2/move-learn-method/4/'}, 'version_group': {'name': 'firered-leafgreen', 'url': 'https://pokeapi.co/api/v2/version-group/7/'}}, {'level_learned_at': 0, 'move_learn_method': {'name': 'machine', 'url': 'https://pokeapi.co/api/v2/move-learn-method/4/'}, 'version_group': {'name': 'diamond-pearl', 'url': 'https://pokeapi.co/api/v2/version-group/8/'}}, {'level_learned_at': 0, 'move_learn_method': {'name': 'machine', 'url': 'https://pokeapi.co/api/v2/move-learn-method/4/'}, 'version_group': {'name': 'platinum', 'url': 'https://pokeapi.co/api/v2/version-group/9/'}}, {'level_learned_at': 0, 'move_learn_method': {'name': 'machine', 'url': 'https://pokeapi.co/api/v2/move-learn-method/4/'}, 'version_group': {'name': 'heartgold-soulsilver', 'url': 'https://pokeapi.co/api/v2/version-group/10/'}}, {'level_learned_at': 0, 'move_learn_method': {'name': 'machine', 'url': 'https://pokeapi.co/api/v2/move-learn-method/4/'}, 'version_group': {'name': 'black-white', 'url': 'https://pokeapi.co/api/v2/version-group/11/'}}, {'level_learned_at': 0, 'move_learn_method': {'name': 'machine', 'url': 'https://pokeapi.co/api/v2/move-learn-method/4/'}, 'version_group': {'name': 'colosseum', 'url': 'https://pokeapi.co/api/v2/version-group/12/'}}, {'level_learned_at': 0, 'move_learn_method': {'name': 'machine', 'url': 'https://pokeapi.co/api/v2/move-learn-method/4/'}, 'version_group': {'name': 'xd', 'url': 'https://pokeapi.co/api/v2/version-group/13/'}}, {'level_learned_at': 0, 'move_learn_method': {'name': 'machine', 'url': 'https://pokeapi.co/api/v2/move-learn-method/4/'}, 'version_group': {'name': 'black-2-white-2', 'url': 'https://pokeapi.co/api/v2/version-group/14/'}}, {'level_learned_at': 0, 'move_learn_method': {'name': 'machine', 'url': 'https://pokeapi.co/api/v2/move-learn-method/4/'}, 'version_group': {'name': 'x-y', 'url': 'https://pokeapi.co/api/v2/version-group/15/'}}, {'level_learned_at': 0, 'move_learn_method': {'name': 'machine', 'url': 'https://pokeapi.co/api/v2/move-learn-method/4/'}, 'version_group': {'name': 'omega-ruby-alpha-sapphire', 'url': 'https://pokeapi.co/api/v2/version-group/16/'}}, {'level_learned_at': 0, 'move_learn_method': {'name': 'machine', 'url': 'https://pokeapi.co/api/v2/move-learn-method/4/'}, 'version_group': {'name': 'sun-moon', 'url': 'https://pokeapi.co/api/v2/version-group/17/'}}, {'level_learned_at': 0, 'move_learn_method': {'name': 'machine', 'url': 'https://pokeapi.co/api/v2/move-learn-method/4/'}, 'version_group': {'name': 'ultra-sun-ultra-moon', 'url': 'https://pokeapi.co/api/v2/version-group/18/'}}, {'level_learned_at': 0, 'move_learn_method': {'name': 'machine', 'url': 'https://pokeapi.co/api/v2/move-learn-method/4/'}, 'version_group': {'name': 'lets-go-pikachu-lets-go-eevee', 'url': 'https://pokeapi.co/api/v2/version-group/19/'}}, {'level_learned_at': 0, 'move_learn_method': {'name': 'machine', 'url': 'https://pokeapi.co/api/v2/move-learn-method/4/'}, 'version_group': {'name': 'sword-shield', 'url': 'https://pokeapi.co/api/v2/version-group/20/'}}, {'level_learned_at': 0, 'move_learn_method': {'name': 'machine', 'url': 'https://pokeapi.co/api/v2/move-learn-method/4/'}, 'version_group': {'name': 'brilliant-diamond-and-shining-pearl', 'url': 'https://pokeapi.co/api/v2/version-group/23/'}}, {'level_learned_at': 0, 'move_learn_method': {'name': 'machine', 'url': 'https://pokeapi.co/api/v2/move-learn-method/4/'}, 'version_group': {'name': 'scarlet-violet', 'url': 'https://pokeapi.co/api/v2/version-group/25/'}}]}, {'move': {'name': 'knock-off', 'url': 'https://pokeapi.co/api/v2/move/282/'}, 'version_group_details': [{'level_learned_at': 0, 'move_learn_method': {'name': 'tutor', 'url': 'https://pokeapi.co/api/v2/move-learn-method/3/'}, 'version_group': {'name': 'platinum', 'url': 'https://pokeapi.co/api/v2/version-group/9/'}}, {'level_learned_at': 0, 'move_learn_method': {'name': 'tutor', 'url': 'https://pokeapi.co/api/v2/move-learn-method/3/'}, 'version_group': {'name': 'heartgold-soulsilver', 'url': 'https://pokeapi.co/api/v2/version-group/10/'}}, {'level_learned_at': 0, 'move_learn_method': {'name': 'tutor', 'url': 'https://pokeapi.co/api/v2/move-learn-method/3/'}, 'version_group': {'name': 'black-2-white-2', 'url': 'https://pokeapi.co/api/v2/version-group/14/'}}, {'level_learned_at': 0, 'move_learn_method': {'name': 'tutor', 'url': 'https://pokeapi.co/api/v2/move-learn-method/3/'}, 'version_group': {'name': 'omega-ruby-alpha-sapphire', 'url': 'https://pokeapi.co/api/v2/version-group/16/'}}, {'level_learned_at': 0, 'move_learn_method': {'name': 'tutor', 'url': 'https://pokeapi.co/api/v2/move-learn-method/3/'}, 'version_group': {'name': 'ultra-sun-ultra-moon', 'url': 'https://pokeapi.co/api/v2/version-group/18/'}}, {'level_learned_at': 0, 'move_learn_method': {'name': 'machine', 'url': 'https://pokeapi.co/api/v2/move-learn-method/4/'}, 'version_group': {'name': 'scarlet-violet', 'url': 'https://pokeapi.co/api/v2/version-group/25/'}}]}, {'move': {'name': 'endeavor', 'url': 'https://pokeapi.co/api/v2/move/283/'}, 'version_group_details': [{'level_learned_at': 0, 'move_learn_method': {'name': 'machine', 'url': 'https://pokeapi.co/api/v2/move-learn-method/4/'}, 'version_group': {'name': 'scarlet-violet', 'url': 'https://pokeapi.co/api/v2/version-group/25/'}}]}, {'move': {'name': 'secret-power', 'url': 'https://pokeapi.co/api/v2/move/290/'}, 'version_group_details': [{'level_learned_at': 0, 'move_learn_method': {'name': 'machine', 'url': 'https://pokeapi.co/api/v2/move-learn-method/4/'}, 'version_group': {'name': 'ruby-sapphire', 'url': 'https://pokeapi.co/api/v2/version-group/5/'}}, {'level_learned_at': 0, 'move_learn_method': {'name': 'machine', 'url': 'https://pokeapi.co/api/v2/move-learn-method/4/'}, 'version_group': {'name': 'emerald', 'url': 'https://pokeapi.co/api/v2/version-group/6/'}}, {'level_learned_at': 0, 'move_learn_method': {'name': 'machine', 'url': 'https://pokeapi.co/api/v2/move-learn-method/4/'}, 'version_group': {'name': 'firered-leafgreen', 'url': 'https://pokeapi.co/api/v2/version-group/7/'}}, {'level_learned_at': 0, 'move_learn_method': {'name': 'machine', 'url': 'https://pokeapi.co/api/v2/move-learn-method/4/'}, 'version_group': {'name': 'diamond-pearl', 'url': 'https://pokeapi.co/api/v2/version-group/8/'}}, {'level_learned_at': 0, 'move_learn_method': {'name': 'machine', 'url': 'https://pokeapi.co/api/v2/move-learn-method/4/'}, 'version_group': {'name': 'platinum', 'url': 'https://pokeapi.co/api/v2/version-group/9/'}}, {'level_learned_at': 0, 'move_learn_method': {'name': 'machine', 'url': 'https://pokeapi.co/api/v2/move-learn-method/4/'}, 'version_group': {'name': 'heartgold-soulsilver', 'url': 'https://pokeapi.co/api/v2/version-group/10/'}}, {'level_learned_at': 0, 'move_learn_method': {'name': 'machine', 'url': 'https://pokeapi.co/api/v2/move-learn-method/4/'}, 'version_group': {'name': 'colosseum', 'url': 'https://pokeapi.co/api/v2/version-group/12/'}}, {'level_learned_at': 0, 'move_learn_method': {'name': 'machine', 'url': 'https://pokeapi.co/api/v2/move-learn-method/4/'}, 'version_group': {'name': 'xd', 'url': 'https://pokeapi.co/api/v2/version-group/13/'}}, {'level_learned_at': 0, 'move_learn_method': {'name': 'machine', 'url': 'https://pokeapi.co/api/v2/move-learn-method/4/'}, 'version_group': {'name': 'omega-ruby-alpha-sapphire', 'url': 'https://pokeapi.co/api/v2/version-group/16/'}}]}, {'move': {'name': 'fake-tears', 'url': 'https://pokeapi.co/api/v2/move/313/'}, 'version_group_details': [{'level_learned_at': 0, 'move_learn_method': {'name': 'machine', 'url': 'https://pokeapi.co/api/v2/move-learn-method/4/'}, 'version_group': {'name': 'scarlet-violet', 'url': 'https://pokeapi.co/api/v2/version-group/25/'}}]}, {'move': {'name': 'signal-beam', 'url': 'https://pokeapi.co/api/v2/move/324/'}, 'version_group_details': [{'level_learned_at': 0, 'move_learn_method': {'name': 'tutor', 'url': 'https://pokeapi.co/api/v2/move-learn-method/3/'}, 'version_group': {'name': 'platinum', 'url': 'https://pokeapi.co/api/v2/version-group/9/'}}, {'level_learned_at': 0, 'move_learn_method': {'name': 'tutor', 'url': 'https://pokeapi.co/api/v2/move-learn-method/3/'}, 'version_group': {'name': 'heartgold-soulsilver', 'url': 'https://pokeapi.co/api/v2/version-group/10/'}}, {'level_learned_at': 0, 'move_learn_method': {'name': 'tutor', 'url': 'https://pokeapi.co/api/v2/move-learn-method/3/'}, 'version_group': {'name': 'black-2-white-2', 'url': 'https://pokeapi.co/api/v2/version-group/14/'}}, {'level_learned_at': 0, 'move_learn_method': {'name': 'tutor', 'url': 'https://pokeapi.co/api/v2/move-learn-method/3/'}, 'version_group': {'name': 'omega-ruby-alpha-sapphire', 'url': 'https://pokeapi.co/api/v2/version-group/16/'}}, {'level_learned_at': 0, 'move_learn_method': {'name': 'tutor', 'url': 'https://pokeapi.co/api/v2/move-learn-method/3/'}, 'version_group': {'name': 'ultra-sun-ultra-moon', 'url': 'https://pokeapi.co/api/v2/version-group/18/'}}]}, {'move': {'name': 'covet', 'url': 'https://pokeapi.co/api/v2/move/343/'}, 'version_group_details': [{'level_learned_at': 0, 'move_learn_method': {'name': 'tutor', 'url': 'https://pokeapi.co/api/v2/move-learn-method/3/'}, 'version_group': {'name': 'black-2-white-2', 'url': 'https://pokeapi.co/api/v2/version-group/14/'}}, {'level_learned_at': 0, 'move_learn_method': {'name': 'tutor', 'url': 'https://pokeapi.co/api/v2/move-learn-method/3/'}, 'version_group': {'name': 'omega-ruby-alpha-sapphire', 'url': 'https://pokeapi.co/api/v2/version-group/16/'}}, {'level_learned_at': 0, 'move_learn_method': {'name': 'tutor', 'url': 'https://pokeapi.co/api/v2/move-learn-method/3/'}, 'version_group': {'name': 'ultra-sun-ultra-moon', 'url': 'https://pokeapi.co/api/v2/version-group/18/'}}]}, {'move': {'name': 'volt-tackle', 'url': 'https://pokeapi.co/api/v2/move/344/'}, 'version_group_details': [{'level_learned_at': 0, 'move_learn_method': {'name': 'tutor', 'url': 'https://pokeapi.co/api/v2/move-learn-method/3/'}, 'version_group': {'name': 'sun-moon', 'url': 'https://pokeapi.co/api/v2/version-group/17/'}}, {'level_learned_at': 0, 'move_learn_method': {'name': 'tutor', 'url': 'https://pokeapi.co/api/v2/move-learn-method/3/'}, 'version_group': {'name': 'ultra-sun-ultra-moon', 'url': 'https://pokeapi.co/api/v2/version-group/18/'}}]}, {'move': {'name': 'calm-mind', 'url': 'https://pokeapi.co/api/v2/move/347/'}, 'version_group_details': [{'level_learned_at': 0, 'move_learn_method': {'name': 'machine', 'url': 'https://pokeapi.co/api/v2/move-learn-method/4/'}, 'version_group': {'name': 'lets-go-pikachu-lets-go-eevee', 'url': 'https://pokeapi.co/api/v2/version-group/19/'}}]}, {'move': {'name': 'shock-wave', 'url': 'https://pokeapi.co/api/v2/move/351/'}, 'version_group_details': [{'level_learned_at': 0, 'move_learn_method': {'name': 'machine', 'url': 'https://pokeapi.co/api/v2/move-learn-method/4/'}, 'version_group': {'name': 'ruby-sapphire', 'url': 'https://pokeapi.co/api/v2/version-group/5/'}}, {'level_learned_at': 0, 'move_learn_method': {'name': 'machine', 'url': 'https://pokeapi.co/api/v2/move-learn-method/4/'}, 'version_group': {'name': 'emerald', 'url': 'https://pokeapi.co/api/v2/version-group/6/'}}, {'level_learned_at': 0, 'move_learn_method': {'name': 'machine', 'url': 'https://pokeapi.co/api/v2/move-learn-method/4/'}, 'version_group': {'name': 'firered-leafgreen', 'url': 'https://pokeapi.co/api/v2/version-group/7/'}}, {'level_learned_at': 0, 'move_learn_method': {'name': 'machine', 'url': 'https://pokeapi.co/api/v2/move-learn-method/4/'}, 'version_group': {'name': 'diamond-pearl', 'url': 'https://pokeapi.co/api/v2/version-group/8/'}}, {'level_learned_at': 0, 'move_learn_method': {'name': 'machine', 'url': 'https://pokeapi.co/api/v2/move-learn-method/4/'}, 'version_group': {'name': 'platinum', 'url': 'https://pokeapi.co/api/v2/version-group/9/'}}, {'level_learned_at': 0, 'move_learn_method': {'name': 'machine', 'url': 'https://pokeapi.co/api/v2/move-learn-method/4/'}, 'version_group': {'name': 'heartgold-soulsilver', 'url': 'https://pokeapi.co/api/v2/version-group/10/'}}, {'level_learned_at': 0, 'move_learn_method': {'name': 'machine', 'url': 'https://pokeapi.co/api/v2/move-learn-method/4/'}, 'version_group': {'name': 'colosseum', 'url': 'https://pokeapi.co/api/v2/version-group/12/'}}, {'level_learned_at': 0, 'move_learn_method': {'name': 'machine', 'url': 'https://pokeapi.co/api/v2/move-learn-method/4/'}, 'version_group': {'name': 'xd', 'url': 'https://pokeapi.co/api/v2/version-group/13/'}}, {'level_learned_at': 0, 'move_learn_method': {'name': 'tutor', 'url': 'https://pokeapi.co/api/v2/move-learn-method/3/'}, 'version_group': {'name': 'omega-ruby-alpha-sapphire', 'url': 'https://pokeapi.co/api/v2/version-group/16/'}}, {'level_learned_at': 0, 'move_learn_method': {'name': 'tutor', 'url': 'https://pokeapi.co/api/v2/move-learn-method/3/'}, 'version_group': {'name': 'ultra-sun-ultra-moon', 'url': 'https://pokeapi.co/api/v2/version-group/18/'}}, {'level_learned_at': 0, 'move_learn_method': {'name': 'machine', 'url': 'https://pokeapi.co/api/v2/move-learn-method/4/'}, 'version_group': {'name': 'brilliant-diamond-and-shining-pearl', 'url': 'https://pokeapi.co/api/v2/version-group/23/'}}]}, {'move': {'name': 'natural-gift', 'url': 'https://pokeapi.co/api/v2/move/363/'}, 'version_group_details': [{'level_learned_at': 0, 'move_learn_method': {'name': 'machine', 'url': 'https://pokeapi.co/api/v2/move-learn-method/4/'}, 'version_group': {'name': 'diamond-pearl', 'url': 'https://pokeapi.co/api/v2/version-group/8/'}}, {'level_learned_at': 0, 'move_learn_method': {'name': 'machine', 'url': 'https://pokeapi.co/api/v2/move-learn-method/4/'}, 'version_group': {'name': 'platinum', 'url': 'https://pokeapi.co/api/v2/version-group/9/'}}, {'level_learned_at': 0, 'move_learn_method': {'name': 'machine', 'url': 'https://pokeapi.co/api/v2/move-learn-method/4/'}, 'version_group': {'name': 'heartgold-soulsilver', 'url': 'https://pokeapi.co/api/v2/version-group/10/'}}]}, {'move': {'name': 'feint', 'url': 'https://pokeapi.co/api/v2/move/364/'}, 'version_group_details': [{'level_learned_at': 29, 'move_learn_method': {'name': 'level-up', 'url': 'https://pokeapi.co/api/v2/move-learn-method/1/'}, 'version_group': {'name': 'diamond-pearl', 'url': 'https://pokeapi.co/api/v2/version-group/8/'}}, {'level_learned_at': 29, 'move_learn_method': {'name': 'level-up', 'url': 'https://pokeapi.co/api/v2/move-learn-method/1/'}, 'version_group': {'name': 'platinum', 'url': 'https://pokeapi.co/api/v2/version-group/9/'}}, {'level_learned_at': 29, 'move_learn_method': {'name': 'level-up', 'url': 'https://pokeapi.co/api/v2/move-learn-method/1/'}, 'version_group': {'name': 'heartgold-soulsilver', 'url': 'https://pokeapi.co/api/v2/version-group/10/'}}, {'level_learned_at': 34, 'move_learn_method': {'name': 'level-up', 'url': 'https://pokeapi.co/api/v2/move-learn-method/1/'}, 'version_group': {'name': 'black-white', 'url': 'https://pokeapi.co/api/v2/version-group/11/'}}, {'level_learned_at': 34, 'move_learn_method': {'name': 'level-up', 'url': 'https://pokeapi.co/api/v2/move-learn-method/1/'}, 'version_group': {'name': 'black-2-white-2', 'url': 'https://pokeapi.co/api/v2/version-group/14/'}}, {'level_learned_at': 34, 'move_learn_method': {'name': 'level-up', 'url': 'https://pokeapi.co/api/v2/move-learn-method/1/'}, 'version_group': {'name': 'x-y', 'url': 'https://pokeapi.co/api/v2/version-group/15/'}}, {'level_learned_at': 21, 'move_learn_method': {'name': 'level-up', 'url': 'https://pokeapi.co/api/v2/move-learn-method/1/'}, 'version_group': {'name': 'omega-ruby-alpha-sapphire', 'url': 'https://pokeapi.co/api/v2/version-group/16/'}}, {'level_learned_at': 21, 'move_learn_method': {'name': 'level-up', 'url': 'https://pokeapi.co/api/v2/move-learn-method/1/'}, 'version_group': {'name': 'sun-moon', 'url': 'https://pokeapi.co/api/v2/version-group/17/'}}, {'level_learned_at': 21, 'move_learn_method': {'name': 'level-up', 'url': 'https://pokeapi.co/api/v2/move-learn-method/1/'}, 'version_group': {'name': 'ultra-sun-ultra-moon', 'url': 'https://pokeapi.co/api/v2/version-group/18/'}}, {'level_learned_at': 16, 'move_learn_method': {'name': 'level-up', 'url': 'https://pokeapi.co/api/v2/move-learn-method/1/'}, 'version_group': {'name': 'sword-shield', 'url': 'https://pokeapi.co/api/v2/version-group/20/'}}, {'level_learned_at': 16, 'move_learn_method': {'name': 'level-up', 'url': 'https://pokeapi.co/api/v2/move-learn-method/1/'}, 'version_group': {'name': 'brilliant-diamond-and-shining-pearl', 'url': 'https://pokeapi.co/api/v2/version-group/23/'}}, {'level_learned_at': 16, 'move_learn_method': {'name': 'level-up', 'url': 'https://pokeapi.co/api/v2/move-learn-method/1/'}, 'version_group': {'name': 'scarlet-violet', 'url': 'https://pokeapi.co/api/v2/version-group/25/'}}]}, {'move': {'name': 'fling', 'url': 'https://pokeapi.co/api/v2/move/374/'}, 'version_group_details': [{'level_learned_at': 0, 'move_learn_method': {'name': 'machine', 'url': 'https://pokeapi.co/api/v2/move-learn-method/4/'}, 'version_group': {'name': 'diamond-pearl', 'url': 'https://pokeapi.co/api/v2/version-group/8/'}}, {'level_learned_at': 0, 'move_learn_method': {'name': 'machine', 'url': 'https://pokeapi.co/api/v2/move-learn-method/4/'}, 'version_group': {'name': 'platinum', 'url': 'https://pokeapi.co/api/v2/version-group/9/'}}, {'level_learned_at': 0, 'move_learn_method': {'name': 'machine', 'url': 'https://pokeapi.co/api/v2/move-learn-method/4/'}, 'version_group': {'name': 'heartgold-soulsilver', 'url': 'https://pokeapi.co/api/v2/version-group/10/'}}, {'level_learned_at': 0, 'move_learn_method': {'name': 'machine', 'url': 'https://pokeapi.co/api/v2/move-learn-method/4/'}, 'version_group': {'name': 'black-white', 'url': 'https://pokeapi.co/api/v2/version-group/11/'}}, {'level_learned_at': 0, 'move_learn_method': {'name': 'machine', 'url': 'https://pokeapi.co/api/v2/move-learn-method/4/'}, 'version_group': {'name': 'black-2-white-2', 'url': 'https://pokeapi.co/api/v2/version-group/14/'}}, {'level_learned_at': 0, 'move_learn_method': {'name': 'machine', 'url': 'https://pokeapi.co/api/v2/move-learn-method/4/'}, 'version_group': {'name': 'x-y', 'url': 'https://pokeapi.co/api/v2/version-group/15/'}}, {'level_learned_at': 0, 'move_learn_method': {'name': 'machine', 'url': 'https://pokeapi.co/api/v2/move-learn-method/4/'}, 'version_group': {'name': 'omega-ruby-alpha-sapphire', 'url': 'https://pokeapi.co/api/v2/version-group/16/'}}, {'level_learned_at': 0, 'move_learn_method': {'name': 'machine', 'url': 'https://pokeapi.co/api/v2/move-learn-method/4/'}, 'version_group': {'name': 'sun-moon', 'url': 'https://pokeapi.co/api/v2/version-group/17/'}}, {'level_learned_at': 0, 'move_learn_method': {'name': 'machine', 'url': 'https://pokeapi.co/api/v2/move-learn-method/4/'}, 'version_group': {'name': 'ultra-sun-ultra-moon', 'url': 'https://pokeapi.co/api/v2/version-group/18/'}}, {'level_learned_at': 0, 'move_learn_method': {'name': 'machine', 'url': 'https://pokeapi.co/api/v2/move-learn-method/4/'}, 'version_group': {'name': 'sword-shield', 'url': 'https://pokeapi.co/api/v2/version-group/20/'}}, {'level_learned_at': 0, 'move_learn_method': {'name': 'machine', 'url': 'https://pokeapi.co/api/v2/move-learn-method/4/'}, 'version_group': {'name': 'brilliant-diamond-and-shining-pearl', 'url': 'https://pokeapi.co/api/v2/version-group/23/'}}, {'level_learned_at': 0, 'move_learn_method': {'name': 'machine', 'url': 'https://pokeapi.co/api/v2/move-learn-method/4/'}, 'version_group': {'name': 'scarlet-violet', 'url': 'https://pokeapi.co/api/v2/version-group/25/'}}]}, {'move': {'name': 'magnet-rise', 'url': 'https://pokeapi.co/api/v2/move/393/'}, 'version_group_details': [{'level_learned_at': 0, 'move_learn_method': {'name': 'tutor', 'url': 'https://pokeapi.co/api/v2/move-learn-method/3/'}, 'version_group': {'name': 'platinum', 'url': 'https://pokeapi.co/api/v2/version-group/9/'}}, {'level_learned_at': 0, 'move_learn_method': {'name': 'tutor', 'url': 'https://pokeapi.co/api/v2/move-learn-method/3/'}, 'version_group': {'name': 'heartgold-soulsilver', 'url': 'https://pokeapi.co/api/v2/version-group/10/'}}, {'level_learned_at': 0, 'move_learn_method': {'name': 'tutor', 'url': 'https://pokeapi.co/api/v2/move-learn-method/3/'}, 'version_group': {'name': 'black-2-white-2', 'url': 'https://pokeapi.co/api/v2/version-group/14/'}}, {'level_learned_at': 0, 'move_learn_method': {'name': 'tutor', 'url': 'https://pokeapi.co/api/v2/move-learn-method/3/'}, 'version_group': {'name': 'omega-ruby-alpha-sapphire', 'url': 'https://pokeapi.co/api/v2/version-group/16/'}}, {'level_learned_at': 0, 'move_learn_method': {'name': 'tutor', 'url': 'https://pokeapi.co/api/v2/move-learn-method/3/'}, 'version_group': {'name': 'ultra-sun-ultra-moon', 'url': 'https://pokeapi.co/api/v2/version-group/18/'}}]}, {'move': {'name': 'nasty-plot', 'url': 'https://pokeapi.co/api/v2/move/417/'}, 'version_group_details': [{'level_learned_at': 1, 'move_learn_method': {'name': 'level-up', 'url': 'https://pokeapi.co/api/v2/move-learn-method/1/'}, 'version_group': {'name': 'sword-shield', 'url': 'https://pokeapi.co/api/v2/version-group/20/'}}, {'level_learned_at': 0, 'move_learn_method': {'name': 'machine', 'url': 'https://pokeapi.co/api/v2/move-learn-method/4/'}, 'version_group': {'name': 'sword-shield', 'url': 'https://pokeapi.co/api/v2/version-group/20/'}}, {'level_learned_at': 1, 'move_learn_method': {'name': 'level-up', 'url': 'https://pokeapi.co/api/v2/move-learn-method/1/'}, 'version_group': {'name': 'brilliant-diamond-and-shining-pearl', 'url': 'https://pokeapi.co/api/v2/version-group/23/'}}, {'level_learned_at': 0, 'move_learn_method': {'name': 'machine', 'url': 'https://pokeapi.co/api/v2/move-learn-method/4/'}, 'version_group': {'name': 'brilliant-diamond-and-shining-pearl', 'url': 'https://pokeapi.co/api/v2/version-group/23/'}}, {'level_learned_at': 1, 'move_learn_method': {'name': 'level-up', 'url': 'https://pokeapi.co/api/v2/move-learn-method/1/'}, 'version_group': {'name': 'scarlet-violet', 'url': 'https://pokeapi.co/api/v2/version-group/25/'}}, {'level_learned_at': 0, 'move_learn_method': {'name': 'machine', 'url': 'https://pokeapi.co/api/v2/move-learn-method/4/'}, 'version_group': {'name': 'scarlet-violet', 'url': 'https://pokeapi.co/api/v2/version-group/25/'}}]}, {'move': {'name': 'discharge', 'url': 'https://pokeapi.co/api/v2/move/435/'}, 'version_group_details': [{'level_learned_at': 37, 'move_learn_method': {'name': 'level-up', 'url': 'https://pokeapi.co/api/v2/move-learn-method/1/'}, 'version_group': {'name': 'diamond-pearl', 'url': 'https://pokeapi.co/api/v2/version-group/8/'}}, {'level_learned_at': 37, 'move_learn_method': {'name': 'level-up', 'url': 'https://pokeapi.co/api/v2/move-learn-method/1/'}, 'version_group': {'name': 'platinum', 'url': 'https://pokeapi.co/api/v2/version-group/9/'}}, {'level_learned_at': 37, 'move_learn_method': {'name': 'level-up', 'url': 'https://pokeapi.co/api/v2/move-learn-method/1/'}, 'version_group': {'name': 'heartgold-soulsilver', 'url': 'https://pokeapi.co/api/v2/version-group/10/'}}, {'level_learned_at': 42, 'move_learn_method': {'name': 'level-up', 'url': 'https://pokeapi.co/api/v2/move-learn-method/1/'}, 'version_group': {'name': 'black-white', 'url': 'https://pokeapi.co/api/v2/version-group/11/'}}, {'level_learned_at': 42, 'move_learn_method': {'name': 'level-up', 'url': 'https://pokeapi.co/api/v2/move-learn-method/1/'}, 'version_group': {'name': 'black-2-white-2', 'url': 'https://pokeapi.co/api/v2/version-group/14/'}}, {'level_learned_at': 42, 'move_learn_method': {'name': 'level-up', 'url': 'https://pokeapi.co/api/v2/move-learn-method/1/'}, 'version_group': {'name': 'x-y', 'url': 'https://pokeapi.co/api/v2/version-group/15/'}}, {'level_learned_at': 34, 'move_learn_method': {'name': 'level-up', 'url': 'https://pokeapi.co/api/v2/move-learn-method/1/'}, 'version_group': {'name': 'omega-ruby-alpha-sapphire', 'url': 'https://pokeapi.co/api/v2/version-group/16/'}}, {'level_learned_at': 34, 'move_learn_method': {'name': 'level-up', 'url': 'https://pokeapi.co/api/v2/move-learn-method/1/'}, 'version_group': {'name': 'sun-moon', 'url': 'https://pokeapi.co/api/v2/version-group/17/'}}, {'level_learned_at': 34, 'move_learn_method': {'name': 'level-up', 'url': 'https://pokeapi.co/api/v2/move-learn-method/1/'}, 'version_group': {'name': 'ultra-sun-ultra-moon', 'url': 'https://pokeapi.co/api/v2/version-group/18/'}}, {'level_learned_at': 32, 'move_learn_method': {'name': 'level-up', 'url': 'https://pokeapi.co/api/v2/move-learn-method/1/'}, 'version_group': {'name': 'sword-shield', 'url': 'https://pokeapi.co/api/v2/version-group/20/'}}, {'level_learned_at': 32, 'move_learn_method': {'name': 'level-up', 'url': 'https://pokeapi.co/api/v2/move-learn-method/1/'}, 'version_group': {'name': 'brilliant-diamond-and-shining-pearl', 'url': 'https://pokeapi.co/api/v2/version-group/23/'}}, {'level_learned_at': 32, 'move_learn_method': {'name': 'level-up', 'url': 'https://pokeapi.co/api/v2/move-learn-method/1/'}, 'version_group': {'name': 'scarlet-violet', 'url': 'https://pokeapi.co/api/v2/version-group/25/'}}]}, {'move': {'name': 'captivate', 'url': 'https://pokeapi.co/api/v2/move/445/'}, 'version_group_details': [{'level_learned_at': 0, 'move_learn_method': {'name': 'machine', 'url': 'https://pokeapi.co/api/v2/move-learn-method/4/'}, 'version_group': {'name': 'diamond-pearl', 'url': 'https://pokeapi.co/api/v2/version-group/8/'}}, {'level_learned_at': 0, 'move_learn_method': {'name': 'machine', 'url': 'https://pokeapi.co/api/v2/move-learn-method/4/'}, 'version_group': {'name': 'platinum', 'url': 'https://pokeapi.co/api/v2/version-group/9/'}}, {'level_learned_at': 0, 'move_learn_method': {'name': 'machine', 'url': 'https://pokeapi.co/api/v2/move-learn-method/4/'}, 'version_group': {'name': 'heartgold-soulsilver', 'url': 'https://pokeapi.co/api/v2/version-group/10/'}}]}, {'move': {'name': 'grass-knot', 'url': 'https://pokeapi.co/api/v2/move/447/'}, 'version_group_details': [{'level_learned_at': 0, 'move_learn_method': {'name': 'machine', 'url': 'https://pokeapi.co/api/v2/move-learn-method/4/'}, 'version_group': {'name': 'diamond-pearl', 'url': 'https://pokeapi.co/api/v2/version-group/8/'}}, {'level_learned_at': 0, 'move_learn_method': {'name': 'machine', 'url': 'https://pokeapi.co/api/v2/move-learn-method/4/'}, 'version_group': {'name': 'platinum', 'url': 'https://pokeapi.co/api/v2/version-group/9/'}}, {'level_learned_at': 0, 'move_learn_method': {'name': 'machine', 'url': 'https://pokeapi.co/api/v2/move-learn-method/4/'}, 'version_group': {'name': 'heartgold-soulsilver', 'url': 'https://pokeapi.co/api/v2/version-group/10/'}}, {'level_learned_at': 0, 'move_learn_method': {'name': 'machine', 'url': 'https://pokeapi.co/api/v2/move-learn-method/4/'}, 'version_group': {'name': 'black-white', 'url': 'https://pokeapi.co/api/v2/version-group/11/'}}, {'level_learned_at': 0, 'move_learn_method': {'name': 'machine', 'url': 'https://pokeapi.co/api/v2/move-learn-method/4/'}, 'version_group': {'name': 'black-2-white-2', 'url': 'https://pokeapi.co/api/v2/version-group/14/'}}, {'level_learned_at': 0, 'move_learn_method': {'name': 'machine', 'url': 'https://pokeapi.co/api/v2/move-learn-method/4/'}, 'version_group': {'name': 'x-y', 'url': 'https://pokeapi.co/api/v2/version-group/15/'}}, {'level_learned_at': 0, 'move_learn_method': {'name': 'machine', 'url': 'https://pokeapi.co/api/v2/move-learn-method/4/'}, 'version_group': {'name': 'omega-ruby-alpha-sapphire', 'url': 'https://pokeapi.co/api/v2/version-group/16/'}}, {'level_learned_at': 0, 'move_learn_method': {'name': 'machine', 'url': 'https://pokeapi.co/api/v2/move-learn-method/4/'}, 'version_group': {'name': 'sun-moon', 'url': 'https://pokeapi.co/api/v2/version-group/17/'}}, {'level_learned_at': 0, 'move_learn_method': {'name': 'machine', 'url': 'https://pokeapi.co/api/v2/move-learn-method/4/'}, 'version_group': {'name': 'ultra-sun-ultra-moon', 'url': 'https://pokeapi.co/api/v2/version-group/18/'}}, {'level_learned_at': 0, 'move_learn_method': {'name': 'machine', 'url': 'https://pokeapi.co/api/v2/move-learn-method/4/'}, 'version_group': {'name': 'sword-shield', 'url': 'https://pokeapi.co/api/v2/version-group/20/'}}, {'level_learned_at': 0, 'move_learn_method': {'name': 'machine', 'url': 'https://pokeapi.co/api/v2/move-learn-method/4/'}, 'version_group': {'name': 'brilliant-diamond-and-shining-pearl', 'url': 'https://pokeapi.co/api/v2/version-group/23/'}}, {'level_learned_at': 0, 'move_learn_method': {'name': 'machine', 'url': 'https://pokeapi.co/api/v2/move-learn-method/4/'}, 'version_group': {'name': 'scarlet-violet', 'url': 'https://pokeapi.co/api/v2/version-group/25/'}}]}, {'move': {'name': 'charge-beam', 'url': 'https://pokeapi.co/api/v2/move/451/'}, 'version_group_details': [{'level_learned_at': 0, 'move_learn_method': {'name': 'machine', 'url': 'https://pokeapi.co/api/v2/move-learn-method/4/'}, 'version_group': {'name': 'diamond-pearl', 'url': 'https://pokeapi.co/api/v2/version-group/8/'}}, {'level_learned_at': 0, 'move_learn_method': {'name': 'machine', 'url': 'https://pokeapi.co/api/v2/move-learn-method/4/'}, 'version_group': {'name': 'platinum', 'url': 'https://pokeapi.co/api/v2/version-group/9/'}}, {'level_learned_at': 0, 'move_learn_method': {'name': 'machine', 'url': 'https://pokeapi.co/api/v2/move-learn-method/4/'}, 'version_group': {'name': 'heartgold-soulsilver', 'url': 'https://pokeapi.co/api/v2/version-group/10/'}}, {'level_learned_at': 0, 'move_learn_method': {'name': 'machine', 'url': 'https://pokeapi.co/api/v2/move-learn-method/4/'}, 'version_group': {'name': 'black-white', 'url': 'https://pokeapi.co/api/v2/version-group/11/'}}, {'level_learned_at': 0, 'move_learn_method': {'name': 'machine', 'url': 'https://pokeapi.co/api/v2/move-learn-method/4/'}, 'version_group': {'name': 'black-2-white-2', 'url': 'https://pokeapi.co/api/v2/version-group/14/'}}, {'level_learned_at': 0, 'move_learn_method': {'name': 'machine', 'url': 'https://pokeapi.co/api/v2/move-learn-method/4/'}, 'version_group': {'name': 'x-y', 'url': 'https://pokeapi.co/api/v2/version-group/15/'}}, {'level_learned_at': 0, 'move_learn_method': {'name': 'machine', 'url': 'https://pokeapi.co/api/v2/move-learn-method/4/'}, 'version_group': {'name': 'omega-ruby-alpha-sapphire', 'url': 'https://pokeapi.co/api/v2/version-group/16/'}}, {'level_learned_at': 0, 'move_learn_method': {'name': 'machine', 'url': 'https://pokeapi.co/api/v2/move-learn-method/4/'}, 'version_group': {'name': 'sun-moon', 'url': 'https://pokeapi.co/api/v2/version-group/17/'}}, {'level_learned_at': 0, 'move_learn_method': {'name': 'machine', 'url': 'https://pokeapi.co/api/v2/move-learn-method/4/'}, 'version_group': {'name': 'ultra-sun-ultra-moon', 'url': 'https://pokeapi.co/api/v2/version-group/18/'}}, {'level_learned_at': 0, 'move_learn_method': {'name': 'machine', 'url': 'https://pokeapi.co/api/v2/move-learn-method/4/'}, 'version_group': {'name': 'brilliant-diamond-and-shining-pearl', 'url': 'https://pokeapi.co/api/v2/version-group/23/'}}, {'level_learned_at': 0, 'move_learn_method': {'name': 'machine', 'url': 'https://pokeapi.co/api/v2/move-learn-method/4/'}, 'version_group': {'name': 'scarlet-violet', 'url': 'https://pokeapi.co/api/v2/version-group/25/'}}]}, {'move': {'name': 'electro-ball', 'url': 'https://pokeapi.co/api/v2/move/486/'}, 'version_group_details': [{'level_learned_at': 18, 'move_learn_method': {'name': 'level-up', 'url': 'https://pokeapi.co/api/v2/move-learn-method/1/'}, 'version_group': {'name': 'black-white', 'url': 'https://pokeapi.co/api/v2/version-group/11/'}}, {'level_learned_at': 18, 'move_learn_method': {'name': 'level-up', 'url': 'https://pokeapi.co/api/v2/move-learn-method/1/'}, 'version_group': {'name': 'black-2-white-2', 'url': 'https://pokeapi.co/api/v2/version-group/14/'}}, {'level_learned_at': 18, 'move_learn_method': {'name': 'level-up', 'url': 'https://pokeapi.co/api/v2/move-learn-method/1/'}, 'version_group': {'name': 'x-y', 'url': 'https://pokeapi.co/api/v2/version-group/15/'}}, {'level_learned_at': 13, 'move_learn_method': {'name': 'level-up', 'url': 'https://pokeapi.co/api/v2/move-learn-method/1/'}, 'version_group': {'name': 'omega-ruby-alpha-sapphire', 'url': 'https://pokeapi.co/api/v2/version-group/16/'}}, {'level_learned_at': 13, 'move_learn_method': {'name': 'level-up', 'url': 'https://pokeapi.co/api/v2/move-learn-method/1/'}, 'version_group': {'name': 'sun-moon', 'url': 'https://pokeapi.co/api/v2/version-group/17/'}}, {'level_learned_at': 13, 'move_learn_method': {'name': 'level-up', 'url': 'https://pokeapi.co/api/v2/move-learn-method/1/'}, 'version_group': {'name': 'ultra-sun-ultra-moon', 'url': 'https://pokeapi.co/api/v2/version-group/18/'}}, {'level_learned_at': 12, 'move_learn_method': {'name': 'level-up', 'url': 'https://pokeapi.co/api/v2/move-learn-method/1/'}, 'version_group': {'name': 'sword-shield', 'url': 'https://pokeapi.co/api/v2/version-group/20/'}}, {'level_learned_at': 0, 'move_learn_method': {'name': 'machine', 'url': 'https://pokeapi.co/api/v2/move-learn-method/4/'}, 'version_group': {'name': 'sword-shield', 'url': 'https://pokeapi.co/api/v2/version-group/20/'}}, {'level_learned_at': 12, 'move_learn_method': {'name': 'level-up', 'url': 'https://pokeapi.co/api/v2/move-learn-method/1/'}, 'version_group': {'name': 'brilliant-diamond-and-shining-pearl', 'url': 'https://pokeapi.co/api/v2/version-group/23/'}}, {'level_learned_at': 12, 'move_learn_method': {'name': 'level-up', 'url': 'https://pokeapi.co/api/v2/move-learn-method/1/'}, 'version_group': {'name': 'scarlet-violet', 'url': 'https://pokeapi.co/api/v2/version-group/25/'}}, {'level_learned_at': 0, 'move_learn_method': {'name': 'machine', 'url': 'https://pokeapi.co/api/v2/move-learn-method/4/'}, 'version_group': {'name': 'scarlet-violet', 'url': 'https://pokeapi.co/api/v2/version-group/25/'}}]}, {'move': {'name': 'round', 'url': 'https://pokeapi.co/api/v2/move/496/'}, 'version_group_details': [{'level_learned_at': 0, 'move_learn_method': {'name': 'machine', 'url': 'https://pokeapi.co/api/v2/move-learn-method/4/'}, 'version_group': {'name': 'black-white', 'url': 'https://pokeapi.co/api/v2/version-group/11/'}}, {'level_learned_at': 0, 'move_learn_method': {'name': 'machine', 'url': 'https://pokeapi.co/api/v2/move-learn-method/4/'}, 'version_group': {'name': 'black-2-white-2', 'url': 'https://pokeapi.co/api/v2/version-group/14/'}}, {'level_learned_at': 0, 'move_learn_method': {'name': 'machine', 'url': 'https://pokeapi.co/api/v2/move-learn-method/4/'}, 'version_group': {'name': 'x-y', 'url': 'https://pokeapi.co/api/v2/version-group/15/'}}, {'level_learned_at': 0, 'move_learn_method': {'name': 'machine', 'url': 'https://pokeapi.co/api/v2/move-learn-method/4/'}, 'version_group': {'name': 'omega-ruby-alpha-sapphire', 'url': 'https://pokeapi.co/api/v2/version-group/16/'}}, {'level_learned_at': 0, 'move_learn_method': {'name': 'machine', 'url': 'https://pokeapi.co/api/v2/move-learn-method/4/'}, 'version_group': {'name': 'sun-moon', 'url': 'https://pokeapi.co/api/v2/version-group/17/'}}, {'level_learned_at': 0, 'move_learn_method': {'name': 'machine', 'url': 'https://pokeapi.co/api/v2/move-learn-method/4/'}, 'version_group': {'name': 'ultra-sun-ultra-moon', 'url': 'https://pokeapi.co/api/v2/version-group/18/'}}, {'level_learned_at': 0, 'move_learn_method': {'name': 'machine', 'url': 'https://pokeapi.co/api/v2/move-learn-method/4/'}, 'version_group': {'name': 'sword-shield', 'url': 'https://pokeapi.co/api/v2/version-group/20/'}}]}, {'move': {'name': 'echoed-voice', 'url': 'https://pokeapi.co/api/v2/move/497/'}, 'version_group_details': [{'level_learned_at': 0, 'move_learn_method': {'name': 'machine', 'url': 'https://pokeapi.co/api/v2/move-learn-method/4/'}, 'version_group': {'name': 'black-white', 'url': 'https://pokeapi.co/api/v2/version-group/11/'}}, {'level_learned_at': 0, 'move_learn_method': {'name': 'machine', 'url': 'https://pokeapi.co/api/v2/move-learn-method/4/'}, 'version_group': {'name': 'black-2-white-2', 'url': 'https://pokeapi.co/api/v2/version-group/14/'}}, {'level_learned_at': 0, 'move_learn_method': {'name': 'machine', 'url': 'https://pokeapi.co/api/v2/move-learn-method/4/'}, 'version_group': {'name': 'x-y', 'url': 'https://pokeapi.co/api/v2/version-group/15/'}}, {'level_learned_at': 0, 'move_learn_method': {'name': 'machine', 'url': 'https://pokeapi.co/api/v2/move-learn-method/4/'}, 'version_group': {'name': 'omega-ruby-alpha-sapphire', 'url': 'https://pokeapi.co/api/v2/version-group/16/'}}, {'level_learned_at': 0, 'move_learn_method': {'name': 'machine', 'url': 'https://pokeapi.co/api/v2/move-learn-method/4/'}, 'version_group': {'name': 'sun-moon', 'url': 'https://pokeapi.co/api/v2/version-group/17/'}}, {'level_learned_at': 0, 'move_learn_method': {'name': 'machine', 'url': 'https://pokeapi.co/api/v2/move-learn-method/4/'}, 'version_group': {'name': 'ultra-sun-ultra-moon', 'url': 'https://pokeapi.co/api/v2/version-group/18/'}}]}, {'move': {'name': 'volt-switch', 'url': 'https://pokeapi.co/api/v2/move/521/'}, 'version_group_details': [{'level_learned_at': 0, 'move_learn_method': {'name': 'machine', 'url': 'https://pokeapi.co/api/v2/move-learn-method/4/'}, 'version_group': {'name': 'black-white', 'url': 'https://pokeapi.co/api/v2/version-group/11/'}}, {'level_learned_at': 0, 'move_learn_method': {'name': 'machine', 'url': 'https://pokeapi.co/api/v2/move-learn-method/4/'}, 'version_group': {'name': 'black-2-white-2', 'url': 'https://pokeapi.co/api/v2/version-group/14/'}}, {'level_learned_at': 0, 'move_learn_method': {'name': 'machine', 'url': 'https://pokeapi.co/api/v2/move-learn-method/4/'}, 'version_group': {'name': 'x-y', 'url': 'https://pokeapi.co/api/v2/version-group/15/'}}, {'level_learned_at': 0, 'move_learn_method': {'name': 'machine', 'url': 'https://pokeapi.co/api/v2/move-learn-method/4/'}, 'version_group': {'name': 'omega-ruby-alpha-sapphire', 'url': 'https://pokeapi.co/api/v2/version-group/16/'}}, {'level_learned_at': 0, 'move_learn_method': {'name': 'machine', 'url': 'https://pokeapi.co/api/v2/move-learn-method/4/'}, 'version_group': {'name': 'sun-moon', 'url': 'https://pokeapi.co/api/v2/version-group/17/'}}, {'level_learned_at': 0, 'move_learn_method': {'name': 'machine', 'url': 'https://pokeapi.co/api/v2/move-learn-method/4/'}, 'version_group': {'name': 'ultra-sun-ultra-moon', 'url': 'https://pokeapi.co/api/v2/version-group/18/'}}, {'level_learned_at': 0, 'move_learn_method': {'name': 'machine', 'url': 'https://pokeapi.co/api/v2/move-learn-method/4/'}, 'version_group': {'name': 'sword-shield', 'url': 'https://pokeapi.co/api/v2/version-group/20/'}}, {'level_learned_at': 0, 'move_learn_method': {'name': 'machine', 'url': 'https://pokeapi.co/api/v2/move-learn-method/4/'}, 'version_group': {'name': 'brilliant-diamond-and-shining-pearl', 'url': 'https://pokeapi.co/api/v2/version-group/23/'}}, {'level_learned_at': 0, 'move_learn_method': {'name': 'machine', 'url': 'https://pokeapi.co/api/v2/move-learn-method/4/'}, 'version_group': {'name': 'scarlet-violet', 'url': 'https://pokeapi.co/api/v2/version-group/25/'}}]}, {'move': {'name': 'electroweb', 'url': 'https://pokeapi.co/api/v2/move/527/'}, 'version_group_details': [{'level_learned_at': 0, 'move_learn_method': {'name': 'tutor', 'url': 'https://pokeapi.co/api/v2/move-learn-method/3/'}, 'version_group': {'name': 'omega-ruby-alpha-sapphire', 'url': 'https://pokeapi.co/api/v2/version-group/16/'}}, {'level_learned_at': 0, 'move_learn_method': {'name': 'tutor', 'url': 'https://pokeapi.co/api/v2/move-learn-method/3/'}, 'version_group': {'name': 'ultra-sun-ultra-moon', 'url': 'https://pokeapi.co/api/v2/version-group/18/'}}, {'level_learned_at': 0, 'move_learn_method': {'name': 'machine', 'url': 'https://pokeapi.co/api/v2/move-learn-method/4/'}, 'version_group': {'name': 'sword-shield', 'url': 'https://pokeapi.co/api/v2/version-group/20/'}}, {'level_learned_at': 0, 'move_learn_method': {'name': 'machine', 'url': 'https://pokeapi.co/api/v2/move-learn-method/4/'}, 'version_group': {'name': 'scarlet-violet', 'url': 'https://pokeapi.co/api/v2/version-group/25/'}}]}, {'move': {'name': 'wild-charge', 'url': 'https://pokeapi.co/api/v2/move/528/'}, 'version_group_details': [{'level_learned_at': 0, 'move_learn_method': {'name': 'machine', 'url': 'https://pokeapi.co/api/v2/move-learn-method/4/'}, 'version_group': {'name': 'black-white', 'url': 'https://pokeapi.co/api/v2/version-group/11/'}}, {'level_learned_at': 0, 'move_learn_method': {'name': 'machine', 'url': 'https://pokeapi.co/api/v2/move-learn-method/4/'}, 'version_group': {'name': 'black-2-white-2', 'url': 'https://pokeapi.co/api/v2/version-group/14/'}}, {'level_learned_at': 0, 'move_learn_method': {'name': 'machine', 'url': 'https://pokeapi.co/api/v2/move-learn-method/4/'}, 'version_group': {'name': 'x-y', 'url': 'https://pokeapi.co/api/v2/version-group/15/'}}, {'level_learned_at': 50, 'move_learn_method': {'name': 'level-up', 'url': 'https://pokeapi.co/api/v2/move-learn-method/1/'}, 'version_group': {'name': 'omega-ruby-alpha-sapphire', 'url': 'https://pokeapi.co/api/v2/version-group/16/'}}, {'level_learned_at': 0, 'move_learn_method': {'name': 'machine', 'url': 'https://pokeapi.co/api/v2/move-learn-method/4/'}, 'version_group': {'name': 'omega-ruby-alpha-sapphire', 'url': 'https://pokeapi.co/api/v2/version-group/16/'}}, {'level_learned_at': 50, 'move_learn_method': {'name': 'level-up', 'url': 'https://pokeapi.co/api/v2/move-learn-method/1/'}, 'version_group': {'name': 'sun-moon', 'url': 'https://pokeapi.co/api/v2/version-group/17/'}}, {'level_learned_at': 0, 'move_learn_method': {'name': 'machine', 'url': 'https://pokeapi.co/api/v2/move-learn-method/4/'}, 'version_group': {'name': 'sun-moon', 'url': 'https://pokeapi.co/api/v2/version-group/17/'}}, {'level_learned_at': 50, 'move_learn_method': {'name': 'level-up', 'url': 'https://pokeapi.co/api/v2/move-learn-method/1/'}, 'version_group': {'name': 'ultra-sun-ultra-moon', 'url': 'https://pokeapi.co/api/v2/version-group/18/'}}, {'level_learned_at': 0, 'move_learn_method': {'name': 'machine', 'url': 'https://pokeapi.co/api/v2/move-learn-method/4/'}, 'version_group': {'name': 'ultra-sun-ultra-moon', 'url': 'https://pokeapi.co/api/v2/version-group/18/'}}, {'level_learned_at': 0, 'move_learn_method': {'name': 'machine', 'url': 'https://pokeapi.co/api/v2/move-learn-method/4/'}, 'version_group': {'name': 'sword-shield', 'url': 'https://pokeapi.co/api/v2/version-group/20/'}}, {'level_learned_at': 0, 'move_learn_method': {'name': 'machine', 'url': 'https://pokeapi.co/api/v2/move-learn-method/4/'}, 'version_group': {'name': 'scarlet-violet', 'url': 'https://pokeapi.co/api/v2/version-group/25/'}}]}, {'move': {'name': 'disarming-voice', 'url': 'https://pokeapi.co/api/v2/move/574/'}, 'version_group_details': [{'level_learned_at': 0, 'move_learn_method': {'name': 'machine', 'url': 'https://pokeapi.co/api/v2/move-learn-method/4/'}, 'version_group': {'name': 'scarlet-violet', 'url': 'https://pokeapi.co/api/v2/version-group/25/'}}]}, {'move': {'name': 'draining-kiss', 'url': 'https://pokeapi.co/api/v2/move/577/'}, 'version_group_details': [{'level_learned_at': 0, 'move_learn_method': {'name': 'machine', 'url': 'https://pokeapi.co/api/v2/move-learn-method/4/'}, 'version_group': {'name': 'sword-shield', 'url': 'https://pokeapi.co/api/v2/version-group/20/'}}, {'level_learned_at': 0, 'move_learn_method': {'name': 'machine', 'url': 'https://pokeapi.co/api/v2/move-learn-method/4/'}, 'version_group': {'name': 'scarlet-violet', 'url': 'https://pokeapi.co/api/v2/version-group/25/'}}]}, {'move': {'name': 'play-rough', 'url': 'https://pokeapi.co/api/v2/move/583/'}, 'version_group_details': [{'level_learned_at': 0, 'move_learn_method': {'name': 'machine', 'url': 'https://pokeapi.co/api/v2/move-learn-method/4/'}, 'version_group': {'name': 'sword-shield', 'url': 'https://pokeapi.co/api/v2/version-group/20/'}}, {'level_learned_at': 0, 'move_learn_method': {'name': 'machine', 'url': 'https://pokeapi.co/api/v2/move-learn-method/4/'}, 'version_group': {'name': 'scarlet-violet', 'url': 'https://pokeapi.co/api/v2/version-group/25/'}}]}, {'move': {'name': 'play-nice', 'url': 'https://pokeapi.co/api/v2/move/589/'}, 'version_group_details': [{'level_learned_at': 7, 'move_learn_method': {'name': 'level-up', 'url': 'https://pokeapi.co/api/v2/move-learn-method/1/'}, 'version_group': {'name': 'x-y', 'url': 'https://pokeapi.co/api/v2/version-group/15/'}}, {'level_learned_at': 7, 'move_learn_method': {'name': 'level-up', 'url': 'https://pokeapi.co/api/v2/move-learn-method/1/'}, 'version_group': {'name': 'omega-ruby-alpha-sapphire', 'url': 'https://pokeapi.co/api/v2/version-group/16/'}}, {'level_learned_at': 7, 'move_learn_method': {'name': 'level-up', 'url': 'https://pokeapi.co/api/v2/move-learn-method/1/'}, 'version_group': {'name': 'sun-moon', 'url': 'https://pokeapi.co/api/v2/version-group/17/'}}, {'level_learned_at': 7, 'move_learn_method': {'name': 'level-up', 'url': 'https://pokeapi.co/api/v2/move-learn-method/1/'}, 'version_group': {'name': 'ultra-sun-ultra-moon', 'url': 'https://pokeapi.co/api/v2/version-group/18/'}}, {'level_learned_at': 1, 'move_learn_method': {'name': 'level-up', 'url': 'https://pokeapi.co/api/v2/move-learn-method/1/'}, 'version_group': {'name': 'sword-shield', 'url': 'https://pokeapi.co/api/v2/version-group/20/'}}, {'level_learned_at': 1, 'move_learn_method': {'name': 'level-up', 'url': 'https://pokeapi.co/api/v2/move-learn-method/1/'}, 'version_group': {'name': 'brilliant-diamond-and-shining-pearl', 'url': 'https://pokeapi.co/api/v2/version-group/23/'}}, {'level_learned_at': 1, 'move_learn_method': {'name': 'level-up', 'url': 'https://pokeapi.co/api/v2/move-learn-method/1/'}, 'version_group': {'name': 'scarlet-violet', 'url': 'https://pokeapi.co/api/v2/version-group/25/'}}]}, {'move': {'name': 'confide', 'url': 'https://pokeapi.co/api/v2/move/590/'}, 'version_group_details': [{'level_learned_at': 0, 'move_learn_method': {'name': 'machine', 'url': 'https://pokeapi.co/api/v2/move-learn-method/4/'}, 'version_group': {'name': 'x-y', 'url': 'https://pokeapi.co/api/v2/version-group/15/'}}, {'level_learned_at': 0, 'move_learn_method': {'name': 'machine', 'url': 'https://pokeapi.co/api/v2/move-learn-method/4/'}, 'version_group': {'name': 'omega-ruby-alpha-sapphire', 'url': 'https://pokeapi.co/api/v2/version-group/16/'}}, {'level_learned_at': 0, 'move_learn_method': {'name': 'machine', 'url': 'https://pokeapi.co/api/v2/move-learn-method/4/'}, 'version_group': {'name': 'sun-moon', 'url': 'https://pokeapi.co/api/v2/version-group/17/'}}, {'level_learned_at': 0, 'move_learn_method': {'name': 'machine', 'url': 'https://pokeapi.co/api/v2/move-learn-method/4/'}, 'version_group': {'name': 'ultra-sun-ultra-moon', 'url': 'https://pokeapi.co/api/v2/version-group/18/'}}]}, {'move': {'name': 'eerie-impulse', 'url': 'https://pokeapi.co/api/v2/move/598/'}, 'version_group_details': [{'level_learned_at': 0, 'move_learn_method': {'name': 'machine', 'url': 'https://pokeapi.co/api/v2/move-learn-method/4/'}, 'version_group': {'name': 'scarlet-violet', 'url': 'https://pokeapi.co/api/v2/version-group/25/'}}]}, {'move': {'name': 'electric-terrain', 'url': 'https://pokeapi.co/api/v2/move/604/'}, 'version_group_details': [{'level_learned_at': 0, 'move_learn_method': {'name': 'machine', 'url': 'https://pokeapi.co/api/v2/move-learn-method/4/'}, 'version_group': {'name': 'sword-shield', 'url': 'https://pokeapi.co/api/v2/version-group/20/'}}, {'level_learned_at': 0, 'move_learn_method': {'name': 'machine', 'url': 'https://pokeapi.co/api/v2/move-learn-method/4/'}, 'version_group': {'name': 'scarlet-violet', 'url': 'https://pokeapi.co/api/v2/version-group/25/'}}]}, {'move': {'name': 'nuzzle', 'url': 'https://pokeapi.co/api/v2/move/609/'}, 'version_group_details': [{'level_learned_at': 23, 'move_learn_method': {'name': 'level-up', 'url': 'https://pokeapi.co/api/v2/move-learn-method/1/'}, 'version_group': {'name': 'x-y', 'url': 'https://pokeapi.co/api/v2/version-group/15/'}}, {'level_learned_at': 29, 'move_learn_method': {'name': 'level-up', 'url': 'https://pokeapi.co/api/v2/move-learn-method/1/'}, 'version_group': {'name': 'omega-ruby-alpha-sapphire', 'url': 'https://pokeapi.co/api/v2/version-group/16/'}}, {'level_learned_at': 29, 'move_learn_method': {'name': 'level-up', 'url': 'https://pokeapi.co/api/v2/move-learn-method/1/'}, 'version_group': {'name': 'sun-moon', 'url': 'https://pokeapi.co/api/v2/version-group/17/'}}, {'level_learned_at': 29, 'move_learn_method': {'name': 'level-up', 'url': 'https://pokeapi.co/api/v2/move-learn-method/1/'}, 'version_group': {'name': 'ultra-sun-ultra-moon', 'url': 'https://pokeapi.co/api/v2/version-group/18/'}}, {'level_learned_at': 1, 'move_learn_method': {'name': 'level-up', 'url': 'https://pokeapi.co/api/v2/move-learn-method/1/'}, 'version_group': {'name': 'sword-shield', 'url': 'https://pokeapi.co/api/v2/version-group/20/'}}, {'level_learned_at': 1, 'move_learn_method': {'name': 'level-up', 'url': 'https://pokeapi.co/api/v2/move-learn-method/1/'}, 'version_group': {'name': 'brilliant-diamond-and-shining-pearl', 'url': 'https://pokeapi.co/api/v2/version-group/23/'}}, {'level_learned_at': 1, 'move_learn_method': {'name': 'level-up', 'url': 'https://pokeapi.co/api/v2/move-learn-method/1/'}, 'version_group': {'name': 'scarlet-violet', 'url': 'https://pokeapi.co/api/v2/version-group/25/'}}]}, {'move': {'name': 'laser-focus', 'url': 'https://pokeapi.co/api/v2/move/673/'}, 'version_group_details': [{'level_learned_at': 0, 'move_learn_method': {'name': 'tutor', 'url': 'https://pokeapi.co/api/v2/move-learn-method/3/'}, 'version_group': {'name': 'ultra-sun-ultra-moon', 'url': 'https://pokeapi.co/api/v2/version-group/18/'}}]}, {'move': {'name': 'rising-voltage', 'url': 'https://pokeapi.co/api/v2/move/804/'}, 'version_group_details': [{'level_learned_at': 0, 'move_learn_method': {'name': 'tutor', 'url': 'https://pokeapi.co/api/v2/move-learn-method/3/'}, 'version_group': {'name': 'sword-shield', 'url': 'https://pokeapi.co/api/v2/version-group/20/'}}]}, {'move': {'name': 'tera-blast', 'url': 'https://pokeapi.co/api/v2/move/851/'}, 'version_group_details': [{'level_learned_at': 0, 'move_learn_method': {'name': 'machine', 'url': 'https://pokeapi.co/api/v2/move-learn-method/4/'}, 'version_group': {'name': 'scarlet-violet', 'url': 'https://pokeapi.co/api/v2/version-group/25/'}}]}, {'move': {'name': 'trailblaze', 'url': 'https://pokeapi.co/api/v2/move/885/'}, 'version_group_details': [{'level_learned_at': 0, 'move_learn_method': {'name': 'machine', 'url': 'https://pokeapi.co/api/v2/move-learn-method/4/'}, 'version_group': {'name': 'scarlet-violet', 'url': 'https://pokeapi.co/api/v2/version-group/25/'}}]}, {'move': {'name': 'alluring-voice', 'url': 'https://pokeapi.co/api/v2/move/914/'}, 'version_group_details': [{'level_learned_at': 0, 'move_learn_method': {'name': 'machine', 'url': 'https://pokeapi.co/api/v2/move-learn-method/4/'}, 'version_group': {'name': 'scarlet-violet', 'url': 'https://pokeapi.co/api/v2/version-group/25/'}}]}, {'move': {'name': 'upper-hand', 'url': 'https://pokeapi.co/api/v2/move/918/'}, 'version_group_details': [{'level_learned_at': 0, 'move_learn_method': {'name': 'machine', 'url': 'https://pokeapi.co/api/v2/move-learn-method/4/'}, 'version_group': {'name': 'scarlet-violet', 'url': 'https://pokeapi.co/api/v2/version-group/25/'}}]}], 'name': 'pikachu', 'order': 35, 'past_abilities': [], 'past_types': [], 'species': {'name': 'pikachu', 'url': 'https://pokeapi.co/api/v2/pokemon-species/25/'}, 'sprites': {'back_default': 'https://raw.githubusercontent.com/PokeAPI/sprites/master/sprites/pokemon/back/25.png', 'back_female': 'https://raw.githubusercontent.com/PokeAPI/sprites/master/sprites/pokemon/back/female/25.png', 'back_shiny': 'https://raw.githubusercontent.com/PokeAPI/sprites/master/sprites/pokemon/back/shiny/25.png', 'back_shiny_female': 'https://raw.githubusercontent.com/PokeAPI/sprites/master/sprites/pokemon/back/shiny/female/25.png', 'front_default': 'https://raw.githubusercontent.com/PokeAPI/sprites/master/sprites/pokemon/25.png', 'front_female': 'https://raw.githubusercontent.com/PokeAPI/sprites/master/sprites/pokemon/female/25.png', 'front_shiny': 'https://raw.githubusercontent.com/PokeAPI/sprites/master/sprites/pokemon/shiny/25.png', 'front_shiny_female': 'https://raw.githubusercontent.com/PokeAPI/sprites/master/sprites/pokemon/shiny/female/25.png', 'other': {'dream_world': {'front_default': 'https://raw.githubusercontent.com/PokeAPI/sprites/master/sprites/pokemon/other/dream-world/25.svg', 'front_female': None}, 'home': {'front_default': 'https://raw.githubusercontent.com/PokeAPI/sprites/master/sprites/pokemon/other/home/25.png', 'front_female': 'https://raw.githubusercontent.com/PokeAPI/sprites/master/sprites/pokemon/other/home/female/25.png', 'front_shiny': 'https://raw.githubusercontent.com/PokeAPI/sprites/master/sprites/pokemon/other/home/shiny/25.png', 'front_shiny_female': 'https://raw.githubusercontent.com/PokeAPI/sprites/master/sprites/pokemon/other/home/shiny/female/25.png'}, 'official-artwork': {'front_default': 'https://raw.githubusercontent.com/PokeAPI/sprites/master/sprites/pokemon/other/official-artwork/25.png', 'front_shiny': 'https://raw.githubusercontent.com/PokeAPI/sprites/master/sprites/pokemon/other/official-artwork/shiny/25.png'}, 'showdown': {'back_default': 'https://raw.githubusercontent.com/PokeAPI/sprites/master/sprites/pokemon/other/showdown/back/25.gif', 'back_female': 'https://raw.githubusercontent.com/PokeAPI/sprites/master/sprites/pokemon/other/showdown/back/female/25.gif', 'back_shiny': 'https://raw.githubusercontent.com/PokeAPI/sprites/master/sprites/pokemon/other/showdown/back/shiny/25.gif', 'back_shiny_female': None, 'front_default': 'https://raw.githubusercontent.com/PokeAPI/sprites/master/sprites/pokemon/other/showdown/25.gif', 'front_female': 'https://raw.githubusercontent.com/PokeAPI/sprites/master/sprites/pokemon/other/showdown/female/25.gif', 'front_shiny': 'https://raw.githubusercontent.com/PokeAPI/sprites/master/sprites/pokemon/other/showdown/shiny/25.gif', 'front_shiny_female': 'https://raw.githubusercontent.com/PokeAPI/sprites/master/sprites/pokemon/other/showdown/shiny/female/25.gif'}}, 'versions': {'generation-i': {'red-blue': {'back_default': 'https://raw.githubusercontent.com/PokeAPI/sprites/master/sprites/pokemon/versions/generation-i/red-blue/back/25.png', 'back_gray': 'https://raw.githubusercontent.com/PokeAPI/sprites/master/sprites/pokemon/versions/generation-i/red-blue/back/gray/25.png', 'back_transparent': 'https://raw.githubusercontent.com/PokeAPI/sprites/master/sprites/pokemon/versions/generation-i/red-blue/transparent/back/25.png', 'front_default': 'https://raw.githubusercontent.com/PokeAPI/sprites/master/sprites/pokemon/versions/generation-i/red-blue/25.png', 'front_gray': 'https://raw.githubusercontent.com/PokeAPI/sprites/master/sprites/pokemon/versions/generation-i/red-blue/gray/25.png', 'front_transparent': 'https://raw.githubusercontent.com/PokeAPI/sprites/master/sprites/pokemon/versions/generation-i/red-blue/transparent/25.png'}, 'yellow': {'back_default': 'https://raw.githubusercontent.com/PokeAPI/sprites/master/sprites/pokemon/versions/generation-i/yellow/back/25.png', 'back_gray': 'https://raw.githubusercontent.com/PokeAPI/sprites/master/sprites/pokemon/versions/generation-i/yellow/back/gray/25.png', 'back_transparent': 'https://raw.githubusercontent.com/PokeAPI/sprites/master/sprites/pokemon/versions/generation-i/yellow/transparent/back/25.png', 'front_default': 'https://raw.githubusercontent.com/PokeAPI/sprites/master/sprites/pokemon/versions/generation-i/yellow/25.png', 'front_gray': 'https://raw.githubusercontent.com/PokeAPI/sprites/master/sprites/pokemon/versions/generation-i/yellow/gray/25.png', 'front_transparent': 'https://raw.githubusercontent.com/PokeAPI/sprites/master/sprites/pokemon/versions/generation-i/yellow/transparent/25.png'}}, 'generation-ii': {'crystal': {'back_default': 'https://raw.githubusercontent.com/PokeAPI/sprites/master/sprites/pokemon/versions/generation-ii/crystal/back/25.png', 'back_shiny': 'https://raw.githubusercontent.com/PokeAPI/sprites/master/sprites/pokemon/versions/generation-ii/crystal/back/shiny/25.png', 'back_shiny_transparent': 'https://raw.githubusercontent.com/PokeAPI/sprites/master/sprites/pokemon/versions/generation-ii/crystal/transparent/back/shiny/25.png', 'back_transparent': 'https://raw.githubusercontent.com/PokeAPI/sprites/master/sprites/pokemon/versions/generation-ii/crystal/transparent/back/25.png', 'front_default': 'https://raw.githubusercontent.com/PokeAPI/sprites/master/sprites/pokemon/versions/generation-ii/crystal/25.png', 'front_shiny': 'https://raw.githubusercontent.com/PokeAPI/sprites/master/sprites/pokemon/versions/generation-ii/crystal/shiny/25.png', 'front_shiny_transparent': 'https://raw.githubusercontent.com/PokeAPI/sprites/master/sprites/pokemon/versions/generation-ii/crystal/transparent/shiny/25.png', 'front_transparent': 'https://raw.githubusercontent.com/PokeAPI/sprites/master/sprites/pokemon/versions/generation-ii/crystal/transparent/25.png'}, 'gold': {'back_default': 'https://raw.githubusercontent.com/PokeAPI/sprites/master/sprites/pokemon/versions/generation-ii/gold/back/25.png', 'back_shiny': 'https://raw.githubusercontent.com/PokeAPI/sprites/master/sprites/pokemon/versions/generation-ii/gold/back/shiny/25.png', 'front_default': 'https://raw.githubusercontent.com/PokeAPI/sprites/master/sprites/pokemon/versions/generation-ii/gold/25.png', 'front_shiny': 'https://raw.githubusercontent.com/PokeAPI/sprites/master/sprites/pokemon/versions/generation-ii/gold/shiny/25.png', 'front_transparent': 'https://raw.githubusercontent.com/PokeAPI/sprites/master/sprites/pokemon/versions/generation-ii/gold/transparent/25.png'}, 'silver': {'back_default': 'https://raw.githubusercontent.com/PokeAPI/sprites/master/sprites/pokemon/versions/generation-ii/silver/back/25.png', 'back_shiny': 'https://raw.githubusercontent.com/PokeAPI/sprites/master/sprites/pokemon/versions/generation-ii/silver/back/shiny/25.png', 'front_default': 'https://raw.githubusercontent.com/PokeAPI/sprites/master/sprites/pokemon/versions/generation-ii/silver/25.png', 'front_shiny': 'https://raw.githubusercontent.com/PokeAPI/sprites/master/sprites/pokemon/versions/generation-ii/silver/shiny/25.png', 'front_transparent': 'https://raw.githubusercontent.com/PokeAPI/sprites/master/sprites/pokemon/versions/generation-ii/silver/transparent/25.png'}}, 'generation-iii': {'emerald': {'front_default': 'https://raw.githubusercontent.com/PokeAPI/sprites/master/sprites/pokemon/versions/generation-iii/emerald/25.png', 'front_shiny': 'https://raw.githubusercontent.com/PokeAPI/sprites/master/sprites/pokemon/versions/generation-iii/emerald/shiny/25.png'}, 'firered-leafgreen': {'back_default': 'https://raw.githubusercontent.com/PokeAPI/sprites/master/sprites/pokemon/versions/generation-iii/firered-leafgreen/back/25.png', 'back_shiny': 'https://raw.githubusercontent.com/PokeAPI/sprites/master/sprites/pokemon/versions/generation-iii/firered-leafgreen/back/shiny/25.png', 'front_default': 'https://raw.githubusercontent.com/PokeAPI/sprites/master/sprites/pokemon/versions/generation-iii/firered-leafgreen/25.png', 'front_shiny': 'https://raw.githubusercontent.com/PokeAPI/sprites/master/sprites/pokemon/versions/generation-iii/firered-leafgreen/shiny/25.png'}, 'ruby-sapphire': {'back_default': 'https://raw.githubusercontent.com/PokeAPI/sprites/master/sprites/pokemon/versions/generation-iii/ruby-sapphire/back/25.png', 'back_shiny': 'https://raw.githubusercontent.com/PokeAPI/sprites/master/sprites/pokemon/versions/generation-iii/ruby-sapphire/back/shiny/25.png', 'front_default': 'https://raw.githubusercontent.com/PokeAPI/sprites/master/sprites/pokemon/versions/generation-iii/ruby-sapphire/25.png', 'front_shiny': 'https://raw.githubusercontent.com/PokeAPI/sprites/master/sprites/pokemon/versions/generation-iii/ruby-sapphire/shiny/25.png'}}, 'generation-iv': {'diamond-pearl': {'back_default': 'https://raw.githubusercontent.com/PokeAPI/sprites/master/sprites/pokemon/versions/generation-iv/diamond-pearl/back/25.png', 'back_female': 'https://raw.githubusercontent.com/PokeAPI/sprites/master/sprites/pokemon/versions/generation-iv/diamond-pearl/back/female/25.png', 'back_shiny': 'https://raw.githubusercontent.com/PokeAPI/sprites/master/sprites/pokemon/versions/generation-iv/diamond-pearl/back/shiny/25.png', 'back_shiny_female': 'https://raw.githubusercontent.com/PokeAPI/sprites/master/sprites/pokemon/versions/generation-iv/diamond-pearl/back/shiny/female/25.png', 'front_default': 'https://raw.githubusercontent.com/PokeAPI/sprites/master/sprites/pokemon/versions/generation-iv/diamond-pearl/25.png', 'front_female': 'https://raw.githubusercontent.com/PokeAPI/sprites/master/sprites/pokemon/versions/generation-iv/diamond-pearl/female/25.png', 'front_shiny': 'https://raw.githubusercontent.com/PokeAPI/sprites/master/sprites/pokemon/versions/generation-iv/diamond-pearl/shiny/25.png', 'front_shiny_female': 'https://raw.githubusercontent.com/PokeAPI/sprites/master/sprites/pokemon/versions/generation-iv/diamond-pearl/shiny/female/25.png'}, 'heartgold-soulsilver': {'back_default': 'https://raw.githubusercontent.com/PokeAPI/sprites/master/sprites/pokemon/versions/generation-iv/heartgold-soulsilver/back/25.png', 'back_female': 'https://raw.githubusercontent.com/PokeAPI/sprites/master/sprites/pokemon/versions/generation-iv/heartgold-soulsilver/back/female/25.png', 'back_shiny': 'https://raw.githubusercontent.com/PokeAPI/sprites/master/sprites/pokemon/versions/generation-iv/heartgold-soulsilver/back/shiny/25.png', 'back_shiny_female': 'https://raw.githubusercontent.com/PokeAPI/sprites/master/sprites/pokemon/versions/generation-iv/heartgold-soulsilver/back/shiny/female/25.png', 'front_default': 'https://raw.githubusercontent.com/PokeAPI/sprites/master/sprites/pokemon/versions/generation-iv/heartgold-soulsilver/25.png', 'front_female': 'https://raw.githubusercontent.com/PokeAPI/sprites/master/sprites/pokemon/versions/generation-iv/heartgold-soulsilver/female/25.png', 'front_shiny': 'https://raw.githubusercontent.com/PokeAPI/sprites/master/sprites/pokemon/versions/generation-iv/heartgold-soulsilver/shiny/25.png', 'front_shiny_female': 'https://raw.githubusercontent.com/PokeAPI/sprites/master/sprites/pokemon/versions/generation-iv/heartgold-soulsilver/shiny/female/25.png'}, 'platinum': {'back_default': 'https://raw.githubusercontent.com/PokeAPI/sprites/master/sprites/pokemon/versions/generation-iv/platinum/back/25.png', 'back_female': 'https://raw.githubusercontent.com/PokeAPI/sprites/master/sprites/pokemon/versions/generation-iv/platinum/back/female/25.png', 'back_shiny': 'https://raw.githubusercontent.com/PokeAPI/sprites/master/sprites/pokemon/versions/generation-iv/platinum/back/shiny/25.png', 'back_shiny_female': 'https://raw.githubusercontent.com/PokeAPI/sprites/master/sprites/pokemon/versions/generation-iv/platinum/back/shiny/female/25.png', 'front_default': 'https://raw.githubusercontent.com/PokeAPI/sprites/master/sprites/pokemon/versions/generation-iv/platinum/25.png', 'front_female': 'https://raw.githubusercontent.com/PokeAPI/sprites/master/sprites/pokemon/versions/generation-iv/platinum/female/25.png', 'front_shiny': 'https://raw.githubusercontent.com/PokeAPI/sprites/master/sprites/pokemon/versions/generation-iv/platinum/shiny/25.png', 'front_shiny_female': 'https://raw.githubusercontent.com/PokeAPI/sprites/master/sprites/pokemon/versions/generation-iv/platinum/shiny/female/25.png'}}, 'generation-v': {'black-white': {'animated': {'back_default': 'https://raw.githubusercontent.com/PokeAPI/sprites/master/sprites/pokemon/versions/generation-v/black-white/animated/back/25.gif', 'back_female': 'https://raw.githubusercontent.com/PokeAPI/sprites/master/sprites/pokemon/versions/generation-v/black-white/animated/back/female/25.gif', 'back_shiny': 'https://raw.githubusercontent.com/PokeAPI/sprites/master/sprites/pokemon/versions/generation-v/black-white/animated/back/shiny/25.gif', 'back_shiny_female': 'https://raw.githubusercontent.com/PokeAPI/sprites/master/sprites/pokemon/versions/generation-v/black-white/animated/back/shiny/female/25.gif', 'front_default': 'https://raw.githubusercontent.com/PokeAPI/sprites/master/sprites/pokemon/versions/generation-v/black-white/animated/25.gif', 'front_female': 'https://raw.githubusercontent.com/PokeAPI/sprites/master/sprites/pokemon/versions/generation-v/black-white/animated/female/25.gif', 'front_shiny': 'https://raw.githubusercontent.com/PokeAPI/sprites/master/sprites/pokemon/versions/generation-v/black-white/animated/shiny/25.gif', 'front_shiny_female': 'https://raw.githubusercontent.com/PokeAPI/sprites/master/sprites/pokemon/versions/generation-v/black-white/animated/shiny/female/25.gif'}, 'back_default': 'https://raw.githubusercontent.com/PokeAPI/sprites/master/sprites/pokemon/versions/generation-v/black-white/back/25.png', 'back_female': 'https://raw.githubusercontent.com/PokeAPI/sprites/master/sprites/pokemon/versions/generation-v/black-white/back/female/25.png', 'back_shiny': 'https://raw.githubusercontent.com/PokeAPI/sprites/master/sprites/pokemon/versions/generation-v/black-white/back/shiny/25.png', 'back_shiny_female': 'https://raw.githubusercontent.com/PokeAPI/sprites/master/sprites/pokemon/versions/generation-v/black-white/back/shiny/female/25.png', 'front_default': 'https://raw.githubusercontent.com/PokeAPI/sprites/master/sprites/pokemon/versions/generation-v/black-white/25.png', 'front_female': 'https://raw.githubusercontent.com/PokeAPI/sprites/master/sprites/pokemon/versions/generation-v/black-white/female/25.png', 'front_shiny': 'https://raw.githubusercontent.com/PokeAPI/sprites/master/sprites/pokemon/versions/generation-v/black-white/shiny/25.png', 'front_shiny_female': 'https://raw.githubusercontent.com/PokeAPI/sprites/master/sprites/pokemon/versions/generation-v/black-white/shiny/female/25.png'}}, 'generation-vi': {'omegaruby-alphasapphire': {'front_default': 'https://raw.githubusercontent.com/PokeAPI/sprites/master/sprites/pokemon/versions/generation-vi/omegaruby-alphasapphire/25.png', 'front_female': 'https://raw.githubusercontent.com/PokeAPI/sprites/master/sprites/pokemon/versions/generation-vi/omegaruby-alphasapphire/female/25.png', 'front_shiny': 'https://raw.githubusercontent.com/PokeAPI/sprites/master/sprites/pokemon/versions/generation-vi/omegaruby-alphasapphire/shiny/25.png', 'front_shiny_female': 'https://raw.githubusercontent.com/PokeAPI/sprites/master/sprites/pokemon/versions/generation-vi/omegaruby-alphasapphire/shiny/female/25.png'}, 'x-y': {'front_default': 'https://raw.githubusercontent.com/PokeAPI/sprites/master/sprites/pokemon/versions/generation-vi/x-y/25.png', 'front_female': 'https://raw.githubusercontent.com/PokeAPI/sprites/master/sprites/pokemon/versions/generation-vi/x-y/female/25.png', 'front_shiny': 'https://raw.githubusercontent.com/PokeAPI/sprites/master/sprites/pokemon/versions/generation-vi/x-y/shiny/25.png', 'front_shiny_female': 'https://raw.githubusercontent.com/PokeAPI/sprites/master/sprites/pokemon/versions/generation-vi/x-y/shiny/female/25.png'}}, 'generation-vii': {'icons': {'front_default': 'https://raw.githubusercontent.com/PokeAPI/sprites/master/sprites/pokemon/versions/generation-vii/icons/25.png', 'front_female': None}, 'ultra-sun-ultra-moon': {'front_default': 'https://raw.githubusercontent.com/PokeAPI/sprites/master/sprites/pokemon/versions/generation-vii/ultra-sun-ultra-moon/25.png', 'front_female': 'https://raw.githubusercontent.com/PokeAPI/sprites/master/sprites/pokemon/versions/generation-vii/ultra-sun-ultra-moon/female/25.png', 'front_shiny': 'https://raw.githubusercontent.com/PokeAPI/sprites/master/sprites/pokemon/versions/generation-vii/ultra-sun-ultra-moon/shiny/25.png', 'front_shiny_female': 'https://raw.githubusercontent.com/PokeAPI/sprites/master/sprites/pokemon/versions/generation-vii/ultra-sun-ultra-moon/shiny/female/25.png'}}, 'generation-viii': {'icons': {'front_default': 'https://raw.githubusercontent.com/PokeAPI/sprites/master/sprites/pokemon/versions/generation-viii/icons/25.png', 'front_female': 'https://raw.githubusercontent.com/PokeAPI/sprites/master/sprites/pokemon/versions/generation-viii/icons/female/25.png'}}}}, 'stats': [{'base_stat': 35, 'effort': 0, 'stat': {'name': 'hp', 'url': 'https://pokeapi.co/api/v2/stat/1/'}}, {'base_stat': 55, 'effort': 0, 'stat': {'name': 'attack', 'url': 'https://pokeapi.co/api/v2/stat/2/'}}, {'base_stat': 40, 'effort': 0, 'stat': {'name': 'defense', 'url': 'https://pokeapi.co/api/v2/stat/3/'}}, {'base_stat': 50, 'effort': 0, 'stat': {'name': 'special-attack', 'url': 'https://pokeapi.co/api/v2/stat/4/'}}, {'base_stat': 50, 'effort': 0, 'stat': {'name': 'special-defense', 'url': 'https://pokeapi.co/api/v2/stat/5/'}}, {'base_stat': 90, 'effort': 2, 'stat': {'name': 'speed', 'url': 'https://pokeapi.co/api/v2/stat/6/'}}], 'types': [{'slot': 1, 'type': {'name': 'electric', 'url': 'https://pokeapi.co/api/v2/type/13/'}}], 'weight': 60}\n"
     ]
    }
   ],
   "source": [
    "import requests\n",
    "url = 'https://pokeapi.co/api/v2/pokemon/pikachu'\n",
    "resp = requests.get(url)\n",
    "data = resp.json()\n",
    "print(data)"
   ]
  },
  {
   "cell_type": "code",
   "execution_count": 353,
   "metadata": {},
   "outputs": [
    {
     "name": "stdout",
     "output_type": "stream",
     "text": [
      "Data Scientist\n",
      "Tech Innovations\n",
      "New York\n"
     ]
    }
   ],
   "source": [
    "class JobPosting:\n",
    "    def __init__(self, title, company, location):\n",
    "        self.title = title\n",
    "        self.company =  company\n",
    "        self.location = location\n",
    "\n",
    "job = JobPosting('Data Scientist', 'Tech Innovations', 'New York')\n",
    "\n",
    "print(job.title)\n",
    "print(job.company)\n",
    "print(job.location)"
   ]
  },
  {
   "cell_type": "code",
   "execution_count": 354,
   "metadata": {},
   "outputs": [],
   "source": [
    "import numpy as np"
   ]
  },
  {
   "cell_type": "code",
   "execution_count": 355,
   "metadata": {},
   "outputs": [
    {
     "name": "stdout",
     "output_type": "stream",
     "text": [
      "[array([10, 15,  7, 20, 25, 30,  5])]\n"
     ]
    }
   ],
   "source": [
    "application_list = np.array([10, 15, 7, 20, 25, 30, 5])\n",
    "print([application_list])"
   ]
  },
  {
   "cell_type": "code",
   "execution_count": 356,
   "metadata": {},
   "outputs": [
    {
     "data": {
      "text/plain": [
       "array([10, 15,  7])"
      ]
     },
     "execution_count": 356,
     "metadata": {},
     "output_type": "execute_result"
    }
   ],
   "source": [
    "np.array([10, 15, 7, 20, 25, 30, 5])[:3]"
   ]
  },
  {
   "cell_type": "code",
   "execution_count": 357,
   "metadata": {},
   "outputs": [
    {
     "name": "stdout",
     "output_type": "stream",
     "text": [
      "The maximum salary is: 95000, The minimum salary is: 60000\n"
     ]
    }
   ],
   "source": [
    "import numpy as np\n",
    "salaries = np.array([70000, 85000, 60000, 95000, 80000])\n",
    "print(f'The maximum salary is: {salaries.max()}, The minimum salary is: {salaries.min()}')\n"
   ]
  },
  {
   "cell_type": "markdown",
   "metadata": {},
   "source": [
    "## Basic Pandas Start From Here "
   ]
  },
  {
   "cell_type": "code",
   "execution_count": 358,
   "metadata": {},
   "outputs": [],
   "source": [
    "import pandas as Pd"
   ]
  },
  {
   "cell_type": "code",
   "execution_count": 359,
   "metadata": {},
   "outputs": [
    {
     "name": "stdout",
     "output_type": "stream",
     "text": [
      "Requirement already satisfied: datasets in c:\\users\\darvi\\appdata\\local\\programs\\python\\python312\\lib\\site-packages (2.19.2)\n",
      "Requirement already satisfied: filelock in c:\\users\\darvi\\appdata\\local\\programs\\python\\python312\\lib\\site-packages (from datasets) (3.15.1)\n",
      "Requirement already satisfied: numpy>=1.17 in c:\\users\\darvi\\appdata\\local\\programs\\python\\python312\\lib\\site-packages (from datasets) (1.26.4)\n",
      "Requirement already satisfied: pyarrow>=12.0.0 in c:\\users\\darvi\\appdata\\local\\programs\\python\\python312\\lib\\site-packages (from datasets) (16.1.0)\n",
      "Requirement already satisfied: pyarrow-hotfix in c:\\users\\darvi\\appdata\\local\\programs\\python\\python312\\lib\\site-packages (from datasets) (0.6)\n",
      "Requirement already satisfied: dill<0.3.9,>=0.3.0 in c:\\users\\darvi\\appdata\\local\\programs\\python\\python312\\lib\\site-packages (from datasets) (0.3.8)\n",
      "Requirement already satisfied: pandas in c:\\users\\darvi\\appdata\\local\\programs\\python\\python312\\lib\\site-packages (from datasets) (2.2.2)\n",
      "Requirement already satisfied: requests>=2.32.1 in c:\\users\\darvi\\appdata\\local\\programs\\python\\python312\\lib\\site-packages (from datasets) (2.32.3)\n",
      "Requirement already satisfied: tqdm>=4.62.1 in c:\\users\\darvi\\appdata\\local\\programs\\python\\python312\\lib\\site-packages (from datasets) (4.66.4)\n",
      "Requirement already satisfied: xxhash in c:\\users\\darvi\\appdata\\local\\programs\\python\\python312\\lib\\site-packages (from datasets) (3.4.1)\n",
      "Requirement already satisfied: multiprocess in c:\\users\\darvi\\appdata\\local\\programs\\python\\python312\\lib\\site-packages (from datasets) (0.70.16)\n",
      "Requirement already satisfied: fsspec<=2024.3.1,>=2023.1.0 in c:\\users\\darvi\\appdata\\local\\programs\\python\\python312\\lib\\site-packages (from fsspec[http]<=2024.3.1,>=2023.1.0->datasets) (2024.3.1)\n",
      "Requirement already satisfied: aiohttp in c:\\users\\darvi\\appdata\\local\\programs\\python\\python312\\lib\\site-packages (from datasets) (3.9.5)\n",
      "Requirement already satisfied: huggingface-hub>=0.21.2 in c:\\users\\darvi\\appdata\\local\\programs\\python\\python312\\lib\\site-packages (from datasets) (0.23.3)\n",
      "Requirement already satisfied: packaging in c:\\users\\darvi\\appdata\\local\\programs\\python\\python312\\lib\\site-packages (from datasets) (23.2)\n",
      "Requirement already satisfied: pyyaml>=5.1 in c:\\users\\darvi\\appdata\\local\\programs\\python\\python312\\lib\\site-packages (from datasets) (6.0.1)\n",
      "Requirement already satisfied: aiosignal>=1.1.2 in c:\\users\\darvi\\appdata\\local\\programs\\python\\python312\\lib\\site-packages (from aiohttp->datasets) (1.3.1)\n",
      "Requirement already satisfied: attrs>=17.3.0 in c:\\users\\darvi\\appdata\\local\\programs\\python\\python312\\lib\\site-packages (from aiohttp->datasets) (23.2.0)\n",
      "Requirement already satisfied: frozenlist>=1.1.1 in c:\\users\\darvi\\appdata\\local\\programs\\python\\python312\\lib\\site-packages (from aiohttp->datasets) (1.4.1)\n",
      "Requirement already satisfied: multidict<7.0,>=4.5 in c:\\users\\darvi\\appdata\\local\\programs\\python\\python312\\lib\\site-packages (from aiohttp->datasets) (6.0.5)\n",
      "Requirement already satisfied: yarl<2.0,>=1.0 in c:\\users\\darvi\\appdata\\local\\programs\\python\\python312\\lib\\site-packages (from aiohttp->datasets) (1.9.4)\n",
      "Requirement already satisfied: typing-extensions>=3.7.4.3 in c:\\users\\darvi\\appdata\\local\\programs\\python\\python312\\lib\\site-packages (from huggingface-hub>=0.21.2->datasets) (4.12.1)\n",
      "Requirement already satisfied: charset-normalizer<4,>=2 in c:\\users\\darvi\\appdata\\local\\programs\\python\\python312\\lib\\site-packages (from requests>=2.32.1->datasets) (3.3.2)\n",
      "Requirement already satisfied: idna<4,>=2.5 in c:\\users\\darvi\\appdata\\local\\programs\\python\\python312\\lib\\site-packages (from requests>=2.32.1->datasets) (3.7)\n",
      "Requirement already satisfied: urllib3<3,>=1.21.1 in c:\\users\\darvi\\appdata\\local\\programs\\python\\python312\\lib\\site-packages (from requests>=2.32.1->datasets) (2.2.1)\n",
      "Requirement already satisfied: certifi>=2017.4.17 in c:\\users\\darvi\\appdata\\local\\programs\\python\\python312\\lib\\site-packages (from requests>=2.32.1->datasets) (2024.2.2)\n",
      "Requirement already satisfied: colorama in c:\\users\\darvi\\appdata\\roaming\\python\\python312\\site-packages (from tqdm>=4.62.1->datasets) (0.4.6)\n",
      "Requirement already satisfied: python-dateutil>=2.8.2 in c:\\users\\darvi\\appdata\\roaming\\python\\python312\\site-packages (from pandas->datasets) (2.9.0.post0)\n",
      "Requirement already satisfied: pytz>=2020.1 in c:\\users\\darvi\\appdata\\local\\programs\\python\\python312\\lib\\site-packages (from pandas->datasets) (2024.1)\n",
      "Requirement already satisfied: tzdata>=2022.7 in c:\\users\\darvi\\appdata\\local\\programs\\python\\python312\\lib\\site-packages (from pandas->datasets) (2024.1)\n",
      "Requirement already satisfied: six>=1.5 in c:\\users\\darvi\\appdata\\roaming\\python\\python312\\site-packages (from python-dateutil>=2.8.2->pandas->datasets) (1.16.0)\n",
      "Note: you may need to restart the kernel to use updated packages.\n"
     ]
    }
   ],
   "source": [
    "pip install datasets"
   ]
  },
  {
   "cell_type": "code",
   "execution_count": 360,
   "metadata": {},
   "outputs": [],
   "source": [
    "from datasets import load_dataset\n",
    "\n",
    "# Loading Data\n",
    "dataset = load_dataset('lukebarousse/data_jobs')\n",
    "df = dataset['train'].to_pandas()"
   ]
  },
  {
   "cell_type": "code",
   "execution_count": 361,
   "metadata": {},
   "outputs": [
    {
     "data": {
      "text/html": [
       "<div>\n",
       "<style scoped>\n",
       "    .dataframe tbody tr th:only-of-type {\n",
       "        vertical-align: middle;\n",
       "    }\n",
       "\n",
       "    .dataframe tbody tr th {\n",
       "        vertical-align: top;\n",
       "    }\n",
       "\n",
       "    .dataframe thead th {\n",
       "        text-align: right;\n",
       "    }\n",
       "</style>\n",
       "<table border=\"1\" class=\"dataframe\">\n",
       "  <thead>\n",
       "    <tr style=\"text-align: right;\">\n",
       "      <th></th>\n",
       "      <th>job_title_short</th>\n",
       "      <th>job_title</th>\n",
       "      <th>job_location</th>\n",
       "      <th>job_via</th>\n",
       "      <th>job_schedule_type</th>\n",
       "      <th>job_work_from_home</th>\n",
       "      <th>search_location</th>\n",
       "      <th>job_posted_date</th>\n",
       "      <th>job_no_degree_mention</th>\n",
       "      <th>job_health_insurance</th>\n",
       "      <th>job_country</th>\n",
       "      <th>salary_rate</th>\n",
       "      <th>salary_year_avg</th>\n",
       "      <th>salary_hour_avg</th>\n",
       "      <th>company_name</th>\n",
       "      <th>job_skills</th>\n",
       "      <th>job_type_skills</th>\n",
       "    </tr>\n",
       "  </thead>\n",
       "  <tbody>\n",
       "    <tr>\n",
       "      <th>0</th>\n",
       "      <td>Senior Data Engineer</td>\n",
       "      <td>Senior Clinical Data Engineer / Principal Clin...</td>\n",
       "      <td>Watertown, CT</td>\n",
       "      <td>via Work Nearby</td>\n",
       "      <td>Full-time</td>\n",
       "      <td>False</td>\n",
       "      <td>Texas, United States</td>\n",
       "      <td>2023-06-16 13:44:15</td>\n",
       "      <td>False</td>\n",
       "      <td>False</td>\n",
       "      <td>United States</td>\n",
       "      <td>None</td>\n",
       "      <td>NaN</td>\n",
       "      <td>NaN</td>\n",
       "      <td>Boehringer Ingelheim</td>\n",
       "      <td>None</td>\n",
       "      <td>None</td>\n",
       "    </tr>\n",
       "    <tr>\n",
       "      <th>1</th>\n",
       "      <td>Data Analyst</td>\n",
       "      <td>Data Analyst</td>\n",
       "      <td>Guadalajara, Jalisco, Mexico</td>\n",
       "      <td>via BeBee México</td>\n",
       "      <td>Full-time</td>\n",
       "      <td>False</td>\n",
       "      <td>Mexico</td>\n",
       "      <td>2023-01-14 13:18:07</td>\n",
       "      <td>False</td>\n",
       "      <td>False</td>\n",
       "      <td>Mexico</td>\n",
       "      <td>None</td>\n",
       "      <td>NaN</td>\n",
       "      <td>NaN</td>\n",
       "      <td>Hewlett Packard Enterprise</td>\n",
       "      <td>['r', 'python', 'sql', 'nosql', 'power bi', 't...</td>\n",
       "      <td>{'analyst_tools': ['power bi', 'tableau'], 'pr...</td>\n",
       "    </tr>\n",
       "    <tr>\n",
       "      <th>2</th>\n",
       "      <td>Data Engineer</td>\n",
       "      <td>Data Engineer/Scientist/Analyst, Mid or Senior...</td>\n",
       "      <td>Berlin, Germany</td>\n",
       "      <td>via LinkedIn</td>\n",
       "      <td>Full-time</td>\n",
       "      <td>False</td>\n",
       "      <td>Germany</td>\n",
       "      <td>2023-10-10 13:14:55</td>\n",
       "      <td>False</td>\n",
       "      <td>False</td>\n",
       "      <td>Germany</td>\n",
       "      <td>None</td>\n",
       "      <td>NaN</td>\n",
       "      <td>NaN</td>\n",
       "      <td>ALPHA Augmented Services</td>\n",
       "      <td>['python', 'sql', 'c#', 'azure', 'airflow', 'd...</td>\n",
       "      <td>{'analyst_tools': ['dax'], 'cloud': ['azure'],...</td>\n",
       "    </tr>\n",
       "    <tr>\n",
       "      <th>3</th>\n",
       "      <td>Data Engineer</td>\n",
       "      <td>LEAD ENGINEER - PRINCIPAL ANALYST - PRINCIPAL ...</td>\n",
       "      <td>San Antonio, TX</td>\n",
       "      <td>via Diversity.com</td>\n",
       "      <td>Full-time</td>\n",
       "      <td>False</td>\n",
       "      <td>Texas, United States</td>\n",
       "      <td>2023-07-04 13:01:41</td>\n",
       "      <td>True</td>\n",
       "      <td>False</td>\n",
       "      <td>United States</td>\n",
       "      <td>None</td>\n",
       "      <td>NaN</td>\n",
       "      <td>NaN</td>\n",
       "      <td>Southwest Research Institute</td>\n",
       "      <td>['python', 'c++', 'java', 'matlab', 'aws', 'te...</td>\n",
       "      <td>{'cloud': ['aws'], 'libraries': ['tensorflow',...</td>\n",
       "    </tr>\n",
       "    <tr>\n",
       "      <th>4</th>\n",
       "      <td>Data Engineer</td>\n",
       "      <td>Data Engineer- Sr Jobs</td>\n",
       "      <td>Washington, DC</td>\n",
       "      <td>via Clearance Jobs</td>\n",
       "      <td>Full-time</td>\n",
       "      <td>False</td>\n",
       "      <td>Sudan</td>\n",
       "      <td>2023-08-07 14:29:36</td>\n",
       "      <td>False</td>\n",
       "      <td>False</td>\n",
       "      <td>Sudan</td>\n",
       "      <td>None</td>\n",
       "      <td>NaN</td>\n",
       "      <td>NaN</td>\n",
       "      <td>Kristina Daniel</td>\n",
       "      <td>['bash', 'python', 'oracle', 'aws', 'ansible',...</td>\n",
       "      <td>{'cloud': ['oracle', 'aws'], 'other': ['ansibl...</td>\n",
       "    </tr>\n",
       "    <tr>\n",
       "      <th>...</th>\n",
       "      <td>...</td>\n",
       "      <td>...</td>\n",
       "      <td>...</td>\n",
       "      <td>...</td>\n",
       "      <td>...</td>\n",
       "      <td>...</td>\n",
       "      <td>...</td>\n",
       "      <td>...</td>\n",
       "      <td>...</td>\n",
       "      <td>...</td>\n",
       "      <td>...</td>\n",
       "      <td>...</td>\n",
       "      <td>...</td>\n",
       "      <td>...</td>\n",
       "      <td>...</td>\n",
       "      <td>...</td>\n",
       "      <td>...</td>\n",
       "    </tr>\n",
       "    <tr>\n",
       "      <th>785736</th>\n",
       "      <td>Software Engineer</td>\n",
       "      <td>DevOps Engineer</td>\n",
       "      <td>Singapura</td>\n",
       "      <td>melalui Trabajo.org</td>\n",
       "      <td>Pekerjaan tetap</td>\n",
       "      <td>False</td>\n",
       "      <td>Singapore</td>\n",
       "      <td>2023-03-13 06:16:16</td>\n",
       "      <td>False</td>\n",
       "      <td>False</td>\n",
       "      <td>Singapore</td>\n",
       "      <td>None</td>\n",
       "      <td>NaN</td>\n",
       "      <td>NaN</td>\n",
       "      <td>CAREERSTAR INTERNATIONAL PTE. LTD.</td>\n",
       "      <td>['bash', 'python', 'perl', 'linux', 'unix', 'k...</td>\n",
       "      <td>{'os': ['linux', 'unix'], 'other': ['kubernete...</td>\n",
       "    </tr>\n",
       "    <tr>\n",
       "      <th>785737</th>\n",
       "      <td>Data Analyst</td>\n",
       "      <td>CRM Data Analyst</td>\n",
       "      <td>Bad Rodach, Jerman</td>\n",
       "      <td>melalui BeBee Deutschland</td>\n",
       "      <td>Pekerjaan tetap</td>\n",
       "      <td>False</td>\n",
       "      <td>Germany</td>\n",
       "      <td>2023-03-12 06:18:18</td>\n",
       "      <td>False</td>\n",
       "      <td>False</td>\n",
       "      <td>Germany</td>\n",
       "      <td>None</td>\n",
       "      <td>NaN</td>\n",
       "      <td>NaN</td>\n",
       "      <td>HABA FAMILYGROUP</td>\n",
       "      <td>['sas', 'sas', 'sql', 'excel']</td>\n",
       "      <td>{'analyst_tools': ['sas', 'excel'], 'programmi...</td>\n",
       "    </tr>\n",
       "    <tr>\n",
       "      <th>785738</th>\n",
       "      <td>Business Analyst</td>\n",
       "      <td>Commercial Analyst - Start Now</td>\n",
       "      <td>Malaysia</td>\n",
       "      <td>melalui Ricebowl</td>\n",
       "      <td>Pekerjaan tetap</td>\n",
       "      <td>False</td>\n",
       "      <td>Malaysia</td>\n",
       "      <td>2023-03-12 06:32:36</td>\n",
       "      <td>False</td>\n",
       "      <td>False</td>\n",
       "      <td>Malaysia</td>\n",
       "      <td>None</td>\n",
       "      <td>NaN</td>\n",
       "      <td>NaN</td>\n",
       "      <td>Lendlease Corporation</td>\n",
       "      <td>['powerpoint', 'excel']</td>\n",
       "      <td>{'analyst_tools': ['powerpoint', 'excel']}</td>\n",
       "    </tr>\n",
       "    <tr>\n",
       "      <th>785739</th>\n",
       "      <td>Data Engineer</td>\n",
       "      <td>Principal Associate, Data Engineer (Remote-Eli...</td>\n",
       "      <td>Newark, New Jersey, Amerika Serikat</td>\n",
       "      <td>melalui Recruit.net</td>\n",
       "      <td>Pekerjaan tetap</td>\n",
       "      <td>False</td>\n",
       "      <td>Sudan</td>\n",
       "      <td>2023-03-12 06:32:15</td>\n",
       "      <td>False</td>\n",
       "      <td>False</td>\n",
       "      <td>Sudan</td>\n",
       "      <td>None</td>\n",
       "      <td>NaN</td>\n",
       "      <td>NaN</td>\n",
       "      <td>Capital One</td>\n",
       "      <td>['python', 'go', 'nosql', 'sql', 'mongo', 'she...</td>\n",
       "      <td>{'cloud': ['aws', 'snowflake', 'azure', 'redsh...</td>\n",
       "    </tr>\n",
       "    <tr>\n",
       "      <th>785740</th>\n",
       "      <td>Software Engineer</td>\n",
       "      <td>AWS System Analyst</td>\n",
       "      <td>India</td>\n",
       "      <td>melalui Trigyn</td>\n",
       "      <td>Pekerjaan tetap</td>\n",
       "      <td>False</td>\n",
       "      <td>India</td>\n",
       "      <td>2023-03-13 06:16:31</td>\n",
       "      <td>False</td>\n",
       "      <td>False</td>\n",
       "      <td>India</td>\n",
       "      <td>None</td>\n",
       "      <td>NaN</td>\n",
       "      <td>NaN</td>\n",
       "      <td>Trigyn</td>\n",
       "      <td>['aws', 'flow']</td>\n",
       "      <td>{'cloud': ['aws'], 'other': ['flow']}</td>\n",
       "    </tr>\n",
       "  </tbody>\n",
       "</table>\n",
       "<p>785741 rows × 17 columns</p>\n",
       "</div>"
      ],
      "text/plain": [
       "             job_title_short  \\\n",
       "0       Senior Data Engineer   \n",
       "1               Data Analyst   \n",
       "2              Data Engineer   \n",
       "3              Data Engineer   \n",
       "4              Data Engineer   \n",
       "...                      ...   \n",
       "785736     Software Engineer   \n",
       "785737          Data Analyst   \n",
       "785738      Business Analyst   \n",
       "785739         Data Engineer   \n",
       "785740     Software Engineer   \n",
       "\n",
       "                                                job_title  \\\n",
       "0       Senior Clinical Data Engineer / Principal Clin...   \n",
       "1                                            Data Analyst   \n",
       "2       Data Engineer/Scientist/Analyst, Mid or Senior...   \n",
       "3       LEAD ENGINEER - PRINCIPAL ANALYST - PRINCIPAL ...   \n",
       "4                                  Data Engineer- Sr Jobs   \n",
       "...                                                   ...   \n",
       "785736                                    DevOps Engineer   \n",
       "785737                                   CRM Data Analyst   \n",
       "785738                     Commercial Analyst - Start Now   \n",
       "785739  Principal Associate, Data Engineer (Remote-Eli...   \n",
       "785740                                 AWS System Analyst   \n",
       "\n",
       "                               job_location                    job_via  \\\n",
       "0                             Watertown, CT            via Work Nearby   \n",
       "1              Guadalajara, Jalisco, Mexico           via BeBee México   \n",
       "2                           Berlin, Germany               via LinkedIn   \n",
       "3                           San Antonio, TX          via Diversity.com   \n",
       "4                            Washington, DC         via Clearance Jobs   \n",
       "...                                     ...                        ...   \n",
       "785736                            Singapura        melalui Trabajo.org   \n",
       "785737                   Bad Rodach, Jerman  melalui BeBee Deutschland   \n",
       "785738                             Malaysia           melalui Ricebowl   \n",
       "785739  Newark, New Jersey, Amerika Serikat        melalui Recruit.net   \n",
       "785740                                India             melalui Trigyn   \n",
       "\n",
       "       job_schedule_type  job_work_from_home       search_location  \\\n",
       "0              Full-time               False  Texas, United States   \n",
       "1              Full-time               False                Mexico   \n",
       "2              Full-time               False               Germany   \n",
       "3              Full-time               False  Texas, United States   \n",
       "4              Full-time               False                 Sudan   \n",
       "...                  ...                 ...                   ...   \n",
       "785736   Pekerjaan tetap               False             Singapore   \n",
       "785737   Pekerjaan tetap               False               Germany   \n",
       "785738   Pekerjaan tetap               False              Malaysia   \n",
       "785739   Pekerjaan tetap               False                 Sudan   \n",
       "785740   Pekerjaan tetap               False                 India   \n",
       "\n",
       "            job_posted_date  job_no_degree_mention  job_health_insurance  \\\n",
       "0       2023-06-16 13:44:15                  False                 False   \n",
       "1       2023-01-14 13:18:07                  False                 False   \n",
       "2       2023-10-10 13:14:55                  False                 False   \n",
       "3       2023-07-04 13:01:41                   True                 False   \n",
       "4       2023-08-07 14:29:36                  False                 False   \n",
       "...                     ...                    ...                   ...   \n",
       "785736  2023-03-13 06:16:16                  False                 False   \n",
       "785737  2023-03-12 06:18:18                  False                 False   \n",
       "785738  2023-03-12 06:32:36                  False                 False   \n",
       "785739  2023-03-12 06:32:15                  False                 False   \n",
       "785740  2023-03-13 06:16:31                  False                 False   \n",
       "\n",
       "          job_country salary_rate  salary_year_avg  salary_hour_avg  \\\n",
       "0       United States        None              NaN              NaN   \n",
       "1              Mexico        None              NaN              NaN   \n",
       "2             Germany        None              NaN              NaN   \n",
       "3       United States        None              NaN              NaN   \n",
       "4               Sudan        None              NaN              NaN   \n",
       "...               ...         ...              ...              ...   \n",
       "785736      Singapore        None              NaN              NaN   \n",
       "785737        Germany        None              NaN              NaN   \n",
       "785738       Malaysia        None              NaN              NaN   \n",
       "785739          Sudan        None              NaN              NaN   \n",
       "785740          India        None              NaN              NaN   \n",
       "\n",
       "                              company_name  \\\n",
       "0                     Boehringer Ingelheim   \n",
       "1               Hewlett Packard Enterprise   \n",
       "2                 ALPHA Augmented Services   \n",
       "3             Southwest Research Institute   \n",
       "4                          Kristina Daniel   \n",
       "...                                    ...   \n",
       "785736  CAREERSTAR INTERNATIONAL PTE. LTD.   \n",
       "785737                    HABA FAMILYGROUP   \n",
       "785738               Lendlease Corporation   \n",
       "785739                         Capital One   \n",
       "785740                              Trigyn   \n",
       "\n",
       "                                               job_skills  \\\n",
       "0                                                    None   \n",
       "1       ['r', 'python', 'sql', 'nosql', 'power bi', 't...   \n",
       "2       ['python', 'sql', 'c#', 'azure', 'airflow', 'd...   \n",
       "3       ['python', 'c++', 'java', 'matlab', 'aws', 'te...   \n",
       "4       ['bash', 'python', 'oracle', 'aws', 'ansible',...   \n",
       "...                                                   ...   \n",
       "785736  ['bash', 'python', 'perl', 'linux', 'unix', 'k...   \n",
       "785737                     ['sas', 'sas', 'sql', 'excel']   \n",
       "785738                            ['powerpoint', 'excel']   \n",
       "785739  ['python', 'go', 'nosql', 'sql', 'mongo', 'she...   \n",
       "785740                                    ['aws', 'flow']   \n",
       "\n",
       "                                          job_type_skills  \n",
       "0                                                    None  \n",
       "1       {'analyst_tools': ['power bi', 'tableau'], 'pr...  \n",
       "2       {'analyst_tools': ['dax'], 'cloud': ['azure'],...  \n",
       "3       {'cloud': ['aws'], 'libraries': ['tensorflow',...  \n",
       "4       {'cloud': ['oracle', 'aws'], 'other': ['ansibl...  \n",
       "...                                                   ...  \n",
       "785736  {'os': ['linux', 'unix'], 'other': ['kubernete...  \n",
       "785737  {'analyst_tools': ['sas', 'excel'], 'programmi...  \n",
       "785738         {'analyst_tools': ['powerpoint', 'excel']}  \n",
       "785739  {'cloud': ['aws', 'snowflake', 'azure', 'redsh...  \n",
       "785740              {'cloud': ['aws'], 'other': ['flow']}  \n",
       "\n",
       "[785741 rows x 17 columns]"
      ]
     },
     "execution_count": 361,
     "metadata": {},
     "output_type": "execute_result"
    }
   ],
   "source": [
    "df"
   ]
  },
  {
   "cell_type": "code",
   "execution_count": 362,
   "metadata": {},
   "outputs": [
    {
     "data": {
      "text/html": [
       "<div>\n",
       "<style scoped>\n",
       "    .dataframe tbody tr th:only-of-type {\n",
       "        vertical-align: middle;\n",
       "    }\n",
       "\n",
       "    .dataframe tbody tr th {\n",
       "        vertical-align: top;\n",
       "    }\n",
       "\n",
       "    .dataframe thead th {\n",
       "        text-align: right;\n",
       "    }\n",
       "</style>\n",
       "<table border=\"1\" class=\"dataframe\">\n",
       "  <thead>\n",
       "    <tr style=\"text-align: right;\">\n",
       "      <th></th>\n",
       "      <th>job_title_short</th>\n",
       "      <th>job_title</th>\n",
       "      <th>job_location</th>\n",
       "      <th>job_via</th>\n",
       "      <th>job_schedule_type</th>\n",
       "      <th>job_work_from_home</th>\n",
       "      <th>search_location</th>\n",
       "      <th>job_posted_date</th>\n",
       "      <th>job_no_degree_mention</th>\n",
       "      <th>job_health_insurance</th>\n",
       "      <th>job_country</th>\n",
       "      <th>salary_rate</th>\n",
       "      <th>salary_year_avg</th>\n",
       "      <th>salary_hour_avg</th>\n",
       "      <th>company_name</th>\n",
       "      <th>job_skills</th>\n",
       "      <th>job_type_skills</th>\n",
       "    </tr>\n",
       "  </thead>\n",
       "  <tbody>\n",
       "    <tr>\n",
       "      <th>785736</th>\n",
       "      <td>Software Engineer</td>\n",
       "      <td>DevOps Engineer</td>\n",
       "      <td>Singapura</td>\n",
       "      <td>melalui Trabajo.org</td>\n",
       "      <td>Pekerjaan tetap</td>\n",
       "      <td>False</td>\n",
       "      <td>Singapore</td>\n",
       "      <td>2023-03-13 06:16:16</td>\n",
       "      <td>False</td>\n",
       "      <td>False</td>\n",
       "      <td>Singapore</td>\n",
       "      <td>None</td>\n",
       "      <td>NaN</td>\n",
       "      <td>NaN</td>\n",
       "      <td>CAREERSTAR INTERNATIONAL PTE. LTD.</td>\n",
       "      <td>['bash', 'python', 'perl', 'linux', 'unix', 'k...</td>\n",
       "      <td>{'os': ['linux', 'unix'], 'other': ['kubernete...</td>\n",
       "    </tr>\n",
       "    <tr>\n",
       "      <th>785737</th>\n",
       "      <td>Data Analyst</td>\n",
       "      <td>CRM Data Analyst</td>\n",
       "      <td>Bad Rodach, Jerman</td>\n",
       "      <td>melalui BeBee Deutschland</td>\n",
       "      <td>Pekerjaan tetap</td>\n",
       "      <td>False</td>\n",
       "      <td>Germany</td>\n",
       "      <td>2023-03-12 06:18:18</td>\n",
       "      <td>False</td>\n",
       "      <td>False</td>\n",
       "      <td>Germany</td>\n",
       "      <td>None</td>\n",
       "      <td>NaN</td>\n",
       "      <td>NaN</td>\n",
       "      <td>HABA FAMILYGROUP</td>\n",
       "      <td>['sas', 'sas', 'sql', 'excel']</td>\n",
       "      <td>{'analyst_tools': ['sas', 'excel'], 'programmi...</td>\n",
       "    </tr>\n",
       "    <tr>\n",
       "      <th>785738</th>\n",
       "      <td>Business Analyst</td>\n",
       "      <td>Commercial Analyst - Start Now</td>\n",
       "      <td>Malaysia</td>\n",
       "      <td>melalui Ricebowl</td>\n",
       "      <td>Pekerjaan tetap</td>\n",
       "      <td>False</td>\n",
       "      <td>Malaysia</td>\n",
       "      <td>2023-03-12 06:32:36</td>\n",
       "      <td>False</td>\n",
       "      <td>False</td>\n",
       "      <td>Malaysia</td>\n",
       "      <td>None</td>\n",
       "      <td>NaN</td>\n",
       "      <td>NaN</td>\n",
       "      <td>Lendlease Corporation</td>\n",
       "      <td>['powerpoint', 'excel']</td>\n",
       "      <td>{'analyst_tools': ['powerpoint', 'excel']}</td>\n",
       "    </tr>\n",
       "    <tr>\n",
       "      <th>785739</th>\n",
       "      <td>Data Engineer</td>\n",
       "      <td>Principal Associate, Data Engineer (Remote-Eli...</td>\n",
       "      <td>Newark, New Jersey, Amerika Serikat</td>\n",
       "      <td>melalui Recruit.net</td>\n",
       "      <td>Pekerjaan tetap</td>\n",
       "      <td>False</td>\n",
       "      <td>Sudan</td>\n",
       "      <td>2023-03-12 06:32:15</td>\n",
       "      <td>False</td>\n",
       "      <td>False</td>\n",
       "      <td>Sudan</td>\n",
       "      <td>None</td>\n",
       "      <td>NaN</td>\n",
       "      <td>NaN</td>\n",
       "      <td>Capital One</td>\n",
       "      <td>['python', 'go', 'nosql', 'sql', 'mongo', 'she...</td>\n",
       "      <td>{'cloud': ['aws', 'snowflake', 'azure', 'redsh...</td>\n",
       "    </tr>\n",
       "    <tr>\n",
       "      <th>785740</th>\n",
       "      <td>Software Engineer</td>\n",
       "      <td>AWS System Analyst</td>\n",
       "      <td>India</td>\n",
       "      <td>melalui Trigyn</td>\n",
       "      <td>Pekerjaan tetap</td>\n",
       "      <td>False</td>\n",
       "      <td>India</td>\n",
       "      <td>2023-03-13 06:16:31</td>\n",
       "      <td>False</td>\n",
       "      <td>False</td>\n",
       "      <td>India</td>\n",
       "      <td>None</td>\n",
       "      <td>NaN</td>\n",
       "      <td>NaN</td>\n",
       "      <td>Trigyn</td>\n",
       "      <td>['aws', 'flow']</td>\n",
       "      <td>{'cloud': ['aws'], 'other': ['flow']}</td>\n",
       "    </tr>\n",
       "  </tbody>\n",
       "</table>\n",
       "</div>"
      ],
      "text/plain": [
       "          job_title_short                                          job_title  \\\n",
       "785736  Software Engineer                                    DevOps Engineer   \n",
       "785737       Data Analyst                                   CRM Data Analyst   \n",
       "785738   Business Analyst                     Commercial Analyst - Start Now   \n",
       "785739      Data Engineer  Principal Associate, Data Engineer (Remote-Eli...   \n",
       "785740  Software Engineer                                 AWS System Analyst   \n",
       "\n",
       "                               job_location                    job_via  \\\n",
       "785736                            Singapura        melalui Trabajo.org   \n",
       "785737                   Bad Rodach, Jerman  melalui BeBee Deutschland   \n",
       "785738                             Malaysia           melalui Ricebowl   \n",
       "785739  Newark, New Jersey, Amerika Serikat        melalui Recruit.net   \n",
       "785740                                India             melalui Trigyn   \n",
       "\n",
       "       job_schedule_type  job_work_from_home search_location  \\\n",
       "785736   Pekerjaan tetap               False       Singapore   \n",
       "785737   Pekerjaan tetap               False         Germany   \n",
       "785738   Pekerjaan tetap               False        Malaysia   \n",
       "785739   Pekerjaan tetap               False           Sudan   \n",
       "785740   Pekerjaan tetap               False           India   \n",
       "\n",
       "            job_posted_date  job_no_degree_mention  job_health_insurance  \\\n",
       "785736  2023-03-13 06:16:16                  False                 False   \n",
       "785737  2023-03-12 06:18:18                  False                 False   \n",
       "785738  2023-03-12 06:32:36                  False                 False   \n",
       "785739  2023-03-12 06:32:15                  False                 False   \n",
       "785740  2023-03-13 06:16:31                  False                 False   \n",
       "\n",
       "       job_country salary_rate  salary_year_avg  salary_hour_avg  \\\n",
       "785736   Singapore        None              NaN              NaN   \n",
       "785737     Germany        None              NaN              NaN   \n",
       "785738    Malaysia        None              NaN              NaN   \n",
       "785739       Sudan        None              NaN              NaN   \n",
       "785740       India        None              NaN              NaN   \n",
       "\n",
       "                              company_name  \\\n",
       "785736  CAREERSTAR INTERNATIONAL PTE. LTD.   \n",
       "785737                    HABA FAMILYGROUP   \n",
       "785738               Lendlease Corporation   \n",
       "785739                         Capital One   \n",
       "785740                              Trigyn   \n",
       "\n",
       "                                               job_skills  \\\n",
       "785736  ['bash', 'python', 'perl', 'linux', 'unix', 'k...   \n",
       "785737                     ['sas', 'sas', 'sql', 'excel']   \n",
       "785738                            ['powerpoint', 'excel']   \n",
       "785739  ['python', 'go', 'nosql', 'sql', 'mongo', 'she...   \n",
       "785740                                    ['aws', 'flow']   \n",
       "\n",
       "                                          job_type_skills  \n",
       "785736  {'os': ['linux', 'unix'], 'other': ['kubernete...  \n",
       "785737  {'analyst_tools': ['sas', 'excel'], 'programmi...  \n",
       "785738         {'analyst_tools': ['powerpoint', 'excel']}  \n",
       "785739  {'cloud': ['aws', 'snowflake', 'azure', 'redsh...  \n",
       "785740              {'cloud': ['aws'], 'other': ['flow']}  "
      ]
     },
     "execution_count": 362,
     "metadata": {},
     "output_type": "execute_result"
    }
   ],
   "source": [
    "df.tail(5)"
   ]
  },
  {
   "cell_type": "code",
   "execution_count": 363,
   "metadata": {},
   "outputs": [
    {
     "data": {
      "text/plain": [
       "0                               Watertown, CT\n",
       "1                Guadalajara, Jalisco, Mexico\n",
       "2                             Berlin, Germany\n",
       "3                             San Antonio, TX\n",
       "4                              Washington, DC\n",
       "                         ...                 \n",
       "785736                              Singapura\n",
       "785737                     Bad Rodach, Jerman\n",
       "785738                               Malaysia\n",
       "785739    Newark, New Jersey, Amerika Serikat\n",
       "785740                                  India\n",
       "Name: job_location, Length: 785741, dtype: object"
      ]
     },
     "execution_count": 363,
     "metadata": {},
     "output_type": "execute_result"
    }
   ],
   "source": [
    "df['job_location']"
   ]
  },
  {
   "cell_type": "code",
   "execution_count": 364,
   "metadata": {},
   "outputs": [
    {
     "data": {
      "text/plain": [
       "0         Texas, United States\n",
       "1                       Mexico\n",
       "2                      Germany\n",
       "3         Texas, United States\n",
       "4                        Sudan\n",
       "                  ...         \n",
       "785736               Singapore\n",
       "785737                 Germany\n",
       "785738                Malaysia\n",
       "785739                   Sudan\n",
       "785740                   India\n",
       "Name: search_location, Length: 785741, dtype: object"
      ]
     },
     "execution_count": 364,
     "metadata": {},
     "output_type": "execute_result"
    }
   ],
   "source": [
    "df.search_location"
   ]
  },
  {
   "cell_type": "code",
   "execution_count": 365,
   "metadata": {},
   "outputs": [
    {
     "data": {
      "text/plain": [
       "'Principal Statistical Scientist'"
      ]
     },
     "execution_count": 365,
     "metadata": {},
     "output_type": "execute_result"
    }
   ],
   "source": [
    "df.job_title[56]"
   ]
  },
  {
   "cell_type": "code",
   "execution_count": 366,
   "metadata": {},
   "outputs": [
    {
     "data": {
      "text/plain": [
       "job_title_short                                              Data Engineer\n",
       "job_title                Data Engineer/Scientist/Analyst, Mid or Senior...\n",
       "job_location                                               Berlin, Germany\n",
       "job_via                                                       via LinkedIn\n",
       "job_schedule_type                                                Full-time\n",
       "job_work_from_home                                                   False\n",
       "search_location                                                    Germany\n",
       "job_posted_date                                        2023-10-10 13:14:55\n",
       "job_no_degree_mention                                                False\n",
       "job_health_insurance                                                 False\n",
       "job_country                                                        Germany\n",
       "salary_rate                                                           None\n",
       "salary_year_avg                                                        NaN\n",
       "salary_hour_avg                                                        NaN\n",
       "company_name                                      ALPHA Augmented Services\n",
       "job_skills               ['python', 'sql', 'c#', 'azure', 'airflow', 'd...\n",
       "job_type_skills          {'analyst_tools': ['dax'], 'cloud': ['azure'],...\n",
       "Name: 2, dtype: object"
      ]
     },
     "execution_count": 366,
     "metadata": {},
     "output_type": "execute_result"
    }
   ],
   "source": [
    "df.iloc[2]"
   ]
  },
  {
   "cell_type": "code",
   "execution_count": 367,
   "metadata": {},
   "outputs": [
    {
     "data": {
      "text/plain": [
       "array(['United States', 'Mexico', 'Germany', 'Sudan', 'Romania',\n",
       "       'Denmark', 'Switzerland', 'France', 'Brazil', 'United Kingdom',\n",
       "       'India', 'Poland', 'Belgium', 'Russia', 'Serbia', 'Singapore',\n",
       "       'Costa Rica', 'Ireland', 'Italy', 'Malaysia', 'Canada', 'Uruguay',\n",
       "       'Namibia', 'Estonia', 'Israel', 'Hungary', 'Austria',\n",
       "       'Philippines', 'Egypt', 'Australia', 'Chile', 'Spain',\n",
       "       'Netherlands', 'South Africa', 'Colombia', 'Hong Kong', 'Kuwait',\n",
       "       'Finland', 'Luxembourg', 'China', 'Puerto Rico', 'Sweden',\n",
       "       'Saudi Arabia', 'Argentina', 'Turkey', 'Panama', 'Nigeria',\n",
       "       'New Zealand', 'Ukraine', 'Jordan', 'United Arab Emirates',\n",
       "       'Armenia', 'Pakistan', 'Lesotho', 'Mauritius', 'Portugal',\n",
       "       'Bahrain', 'Taiwan', \"Côte d'Ivoire\", 'U.S. Virgin Islands',\n",
       "       'Réunion', 'Kazakhstan', 'Lithuania', 'Moldova', 'Belarus',\n",
       "       'Cyprus', 'Bulgaria', 'Honduras', 'Czechia', 'Peru', 'South Korea',\n",
       "       'Malta', 'Indonesia', 'Tunisia', 'Latvia', 'Slovakia', 'Lebanon',\n",
       "       'Japan', 'Sri Lanka', 'Slovenia', 'Bangladesh', 'Greece',\n",
       "       'Ecuador', 'Oman', 'Kenya', 'Guyana', 'Vietnam', 'Norway',\n",
       "       'Senegal', 'El Salvador', 'Iceland', 'Thailand', 'Ghana',\n",
       "       'Croatia', 'Myanmar', 'Nepal', 'Morocco', 'Guadeloupe', 'Iraq',\n",
       "       'Palestine', 'Guinea', 'Albania', 'Guatemala', 'Qatar', 'Uganda',\n",
       "       'Bolivia', None, 'Dominican Republic', 'Ethiopia', 'Haiti',\n",
       "       'Uzbekistan', 'Bahamas', 'Liberia', 'Montenegro', 'Cayman Islands',\n",
       "       'Mongolia', 'Macedonia (FYROM)', 'Azerbaijan', 'Burkina Faso',\n",
       "       'Guam', 'Trinidad and Tobago', 'Benin', 'Kyrgyzstan',\n",
       "       'Bosnia and Herzegovina', 'Zambia', 'Cameroon', 'Venezuela',\n",
       "       'Barbados', 'Togo', 'Rwanda', 'Cambodia', 'Algeria', 'Afghanistan',\n",
       "       'Congo, Democratic Republic of the', 'Zimbabwe', 'Jamaica',\n",
       "       'Suriname', 'Mozambique', 'Yemen', 'Tanzania', 'Madagascar',\n",
       "       'Mali', 'Paraguay', 'Brunei', 'Malawi', 'Nicaragua', 'Libya',\n",
       "       'Tajikistan', 'Mauritania', 'Botswana', 'Fiji',\n",
       "       'Northern Mariana Islands', 'Angola', 'Somalia',\n",
       "       'Papua New Guinea', 'Gambia', 'Djibouti', 'Laos', 'Curaçao',\n",
       "       'Maldives', 'Bhutan'], dtype=object)"
      ]
     },
     "execution_count": 367,
     "metadata": {},
     "output_type": "execute_result"
    }
   ],
   "source": [
    "df['job_country'].unique()"
   ]
  },
  {
   "cell_type": "code",
   "execution_count": 368,
   "metadata": {},
   "outputs": [
    {
     "data": {
      "text/html": [
       "<div>\n",
       "<style scoped>\n",
       "    .dataframe tbody tr th:only-of-type {\n",
       "        vertical-align: middle;\n",
       "    }\n",
       "\n",
       "    .dataframe tbody tr th {\n",
       "        vertical-align: top;\n",
       "    }\n",
       "\n",
       "    .dataframe thead th {\n",
       "        text-align: right;\n",
       "    }\n",
       "</style>\n",
       "<table border=\"1\" class=\"dataframe\">\n",
       "  <thead>\n",
       "    <tr style=\"text-align: right;\">\n",
       "      <th></th>\n",
       "      <th>job_title_short</th>\n",
       "      <th>job_title</th>\n",
       "      <th>job_location</th>\n",
       "      <th>job_via</th>\n",
       "      <th>job_schedule_type</th>\n",
       "      <th>job_work_from_home</th>\n",
       "      <th>search_location</th>\n",
       "      <th>job_posted_date</th>\n",
       "      <th>job_no_degree_mention</th>\n",
       "      <th>job_health_insurance</th>\n",
       "      <th>job_country</th>\n",
       "      <th>salary_rate</th>\n",
       "      <th>salary_year_avg</th>\n",
       "      <th>salary_hour_avg</th>\n",
       "      <th>company_name</th>\n",
       "      <th>job_skills</th>\n",
       "      <th>job_type_skills</th>\n",
       "    </tr>\n",
       "  </thead>\n",
       "  <tbody>\n",
       "    <tr>\n",
       "      <th>0</th>\n",
       "      <td>Senior Data Engineer</td>\n",
       "      <td>Senior Clinical Data Engineer / Principal Clin...</td>\n",
       "      <td>Watertown, CT</td>\n",
       "      <td>via Work Nearby</td>\n",
       "      <td>Full-time</td>\n",
       "      <td>False</td>\n",
       "      <td>Texas, United States</td>\n",
       "      <td>2023-06-16 13:44:15</td>\n",
       "      <td>False</td>\n",
       "      <td>False</td>\n",
       "      <td>United States</td>\n",
       "      <td>None</td>\n",
       "      <td>NaN</td>\n",
       "      <td>NaN</td>\n",
       "      <td>Boehringer Ingelheim</td>\n",
       "      <td>None</td>\n",
       "      <td>None</td>\n",
       "    </tr>\n",
       "    <tr>\n",
       "      <th>1</th>\n",
       "      <td>Data Analyst</td>\n",
       "      <td>Data Analyst</td>\n",
       "      <td>Guadalajara, Jalisco, Mexico</td>\n",
       "      <td>via BeBee México</td>\n",
       "      <td>Full-time</td>\n",
       "      <td>False</td>\n",
       "      <td>Mexico</td>\n",
       "      <td>2023-01-14 13:18:07</td>\n",
       "      <td>False</td>\n",
       "      <td>False</td>\n",
       "      <td>Mexico</td>\n",
       "      <td>None</td>\n",
       "      <td>NaN</td>\n",
       "      <td>NaN</td>\n",
       "      <td>Hewlett Packard Enterprise</td>\n",
       "      <td>['r', 'python', 'sql', 'nosql', 'power bi', 't...</td>\n",
       "      <td>{'analyst_tools': ['power bi', 'tableau'], 'pr...</td>\n",
       "    </tr>\n",
       "    <tr>\n",
       "      <th>2</th>\n",
       "      <td>Data Engineer</td>\n",
       "      <td>Data Engineer/Scientist/Analyst, Mid or Senior...</td>\n",
       "      <td>Berlin, Germany</td>\n",
       "      <td>via LinkedIn</td>\n",
       "      <td>Full-time</td>\n",
       "      <td>False</td>\n",
       "      <td>Germany</td>\n",
       "      <td>2023-10-10 13:14:55</td>\n",
       "      <td>False</td>\n",
       "      <td>False</td>\n",
       "      <td>Germany</td>\n",
       "      <td>None</td>\n",
       "      <td>NaN</td>\n",
       "      <td>NaN</td>\n",
       "      <td>ALPHA Augmented Services</td>\n",
       "      <td>['python', 'sql', 'c#', 'azure', 'airflow', 'd...</td>\n",
       "      <td>{'analyst_tools': ['dax'], 'cloud': ['azure'],...</td>\n",
       "    </tr>\n",
       "  </tbody>\n",
       "</table>\n",
       "</div>"
      ],
      "text/plain": [
       "        job_title_short                                          job_title  \\\n",
       "0  Senior Data Engineer  Senior Clinical Data Engineer / Principal Clin...   \n",
       "1          Data Analyst                                       Data Analyst   \n",
       "2         Data Engineer  Data Engineer/Scientist/Analyst, Mid or Senior...   \n",
       "\n",
       "                   job_location           job_via job_schedule_type  \\\n",
       "0                 Watertown, CT   via Work Nearby         Full-time   \n",
       "1  Guadalajara, Jalisco, Mexico  via BeBee México         Full-time   \n",
       "2               Berlin, Germany      via LinkedIn         Full-time   \n",
       "\n",
       "   job_work_from_home       search_location      job_posted_date  \\\n",
       "0               False  Texas, United States  2023-06-16 13:44:15   \n",
       "1               False                Mexico  2023-01-14 13:18:07   \n",
       "2               False               Germany  2023-10-10 13:14:55   \n",
       "\n",
       "   job_no_degree_mention  job_health_insurance    job_country salary_rate  \\\n",
       "0                  False                 False  United States        None   \n",
       "1                  False                 False         Mexico        None   \n",
       "2                  False                 False        Germany        None   \n",
       "\n",
       "   salary_year_avg  salary_hour_avg                company_name  \\\n",
       "0              NaN              NaN        Boehringer Ingelheim   \n",
       "1              NaN              NaN  Hewlett Packard Enterprise   \n",
       "2              NaN              NaN    ALPHA Augmented Services   \n",
       "\n",
       "                                          job_skills  \\\n",
       "0                                               None   \n",
       "1  ['r', 'python', 'sql', 'nosql', 'power bi', 't...   \n",
       "2  ['python', 'sql', 'c#', 'azure', 'airflow', 'd...   \n",
       "\n",
       "                                     job_type_skills  \n",
       "0                                               None  \n",
       "1  {'analyst_tools': ['power bi', 'tableau'], 'pr...  \n",
       "2  {'analyst_tools': ['dax'], 'cloud': ['azure'],...  "
      ]
     },
     "execution_count": 368,
     "metadata": {},
     "output_type": "execute_result"
    }
   ],
   "source": [
    "df[df['job_schedule_type'] == 'Full-time'].head(3)"
   ]
  },
  {
   "cell_type": "code",
   "execution_count": 369,
   "metadata": {},
   "outputs": [
    {
     "data": {
      "text/html": [
       "<div>\n",
       "<style scoped>\n",
       "    .dataframe tbody tr th:only-of-type {\n",
       "        vertical-align: middle;\n",
       "    }\n",
       "\n",
       "    .dataframe tbody tr th {\n",
       "        vertical-align: top;\n",
       "    }\n",
       "\n",
       "    .dataframe thead th {\n",
       "        text-align: right;\n",
       "    }\n",
       "</style>\n",
       "<table border=\"1\" class=\"dataframe\">\n",
       "  <thead>\n",
       "    <tr style=\"text-align: right;\">\n",
       "      <th></th>\n",
       "      <th>job_title_short</th>\n",
       "      <th>job_title</th>\n",
       "      <th>job_location</th>\n",
       "      <th>job_via</th>\n",
       "      <th>job_schedule_type</th>\n",
       "      <th>job_work_from_home</th>\n",
       "      <th>search_location</th>\n",
       "      <th>job_posted_date</th>\n",
       "      <th>job_no_degree_mention</th>\n",
       "      <th>job_health_insurance</th>\n",
       "      <th>job_country</th>\n",
       "      <th>salary_rate</th>\n",
       "      <th>salary_year_avg</th>\n",
       "      <th>salary_hour_avg</th>\n",
       "      <th>company_name</th>\n",
       "      <th>job_skills</th>\n",
       "      <th>job_type_skills</th>\n",
       "    </tr>\n",
       "  </thead>\n",
       "  <tbody>\n",
       "    <tr>\n",
       "      <th>1</th>\n",
       "      <td>Data Analyst</td>\n",
       "      <td>Data Analyst</td>\n",
       "      <td>Guadalajara, Jalisco, Mexico</td>\n",
       "      <td>via BeBee México</td>\n",
       "      <td>Full-time</td>\n",
       "      <td>False</td>\n",
       "      <td>Mexico</td>\n",
       "      <td>2023-01-14 13:18:07</td>\n",
       "      <td>False</td>\n",
       "      <td>False</td>\n",
       "      <td>Mexico</td>\n",
       "      <td>None</td>\n",
       "      <td>NaN</td>\n",
       "      <td>NaN</td>\n",
       "      <td>Hewlett Packard Enterprise</td>\n",
       "      <td>['r', 'python', 'sql', 'nosql', 'power bi', 't...</td>\n",
       "      <td>{'analyst_tools': ['power bi', 'tableau'], 'pr...</td>\n",
       "    </tr>\n",
       "    <tr>\n",
       "      <th>2</th>\n",
       "      <td>Data Engineer</td>\n",
       "      <td>Data Engineer/Scientist/Analyst, Mid or Senior...</td>\n",
       "      <td>Berlin, Germany</td>\n",
       "      <td>via LinkedIn</td>\n",
       "      <td>Full-time</td>\n",
       "      <td>False</td>\n",
       "      <td>Germany</td>\n",
       "      <td>2023-10-10 13:14:55</td>\n",
       "      <td>False</td>\n",
       "      <td>False</td>\n",
       "      <td>Germany</td>\n",
       "      <td>None</td>\n",
       "      <td>NaN</td>\n",
       "      <td>NaN</td>\n",
       "      <td>ALPHA Augmented Services</td>\n",
       "      <td>['python', 'sql', 'c#', 'azure', 'airflow', 'd...</td>\n",
       "      <td>{'analyst_tools': ['dax'], 'cloud': ['azure'],...</td>\n",
       "    </tr>\n",
       "    <tr>\n",
       "      <th>3</th>\n",
       "      <td>Data Engineer</td>\n",
       "      <td>LEAD ENGINEER - PRINCIPAL ANALYST - PRINCIPAL ...</td>\n",
       "      <td>San Antonio, TX</td>\n",
       "      <td>via Diversity.com</td>\n",
       "      <td>Full-time</td>\n",
       "      <td>False</td>\n",
       "      <td>Texas, United States</td>\n",
       "      <td>2023-07-04 13:01:41</td>\n",
       "      <td>True</td>\n",
       "      <td>False</td>\n",
       "      <td>United States</td>\n",
       "      <td>None</td>\n",
       "      <td>NaN</td>\n",
       "      <td>NaN</td>\n",
       "      <td>Southwest Research Institute</td>\n",
       "      <td>['python', 'c++', 'java', 'matlab', 'aws', 'te...</td>\n",
       "      <td>{'cloud': ['aws'], 'libraries': ['tensorflow',...</td>\n",
       "    </tr>\n",
       "    <tr>\n",
       "      <th>4</th>\n",
       "      <td>Data Engineer</td>\n",
       "      <td>Data Engineer- Sr Jobs</td>\n",
       "      <td>Washington, DC</td>\n",
       "      <td>via Clearance Jobs</td>\n",
       "      <td>Full-time</td>\n",
       "      <td>False</td>\n",
       "      <td>Sudan</td>\n",
       "      <td>2023-08-07 14:29:36</td>\n",
       "      <td>False</td>\n",
       "      <td>False</td>\n",
       "      <td>Sudan</td>\n",
       "      <td>None</td>\n",
       "      <td>NaN</td>\n",
       "      <td>NaN</td>\n",
       "      <td>Kristina Daniel</td>\n",
       "      <td>['bash', 'python', 'oracle', 'aws', 'ansible',...</td>\n",
       "      <td>{'cloud': ['oracle', 'aws'], 'other': ['ansibl...</td>\n",
       "    </tr>\n",
       "    <tr>\n",
       "      <th>5</th>\n",
       "      <td>Data Engineer</td>\n",
       "      <td>GCP Data Engineer</td>\n",
       "      <td>Anywhere</td>\n",
       "      <td>via ZipRecruiter</td>\n",
       "      <td>Contractor and Temp work</td>\n",
       "      <td>True</td>\n",
       "      <td>Georgia</td>\n",
       "      <td>2023-11-07 14:01:59</td>\n",
       "      <td>False</td>\n",
       "      <td>False</td>\n",
       "      <td>United States</td>\n",
       "      <td>None</td>\n",
       "      <td>NaN</td>\n",
       "      <td>NaN</td>\n",
       "      <td>smart folks inc</td>\n",
       "      <td>['python', 'sql', 'gcp']</td>\n",
       "      <td>{'cloud': ['gcp'], 'programming': ['python', '...</td>\n",
       "    </tr>\n",
       "    <tr>\n",
       "      <th>...</th>\n",
       "      <td>...</td>\n",
       "      <td>...</td>\n",
       "      <td>...</td>\n",
       "      <td>...</td>\n",
       "      <td>...</td>\n",
       "      <td>...</td>\n",
       "      <td>...</td>\n",
       "      <td>...</td>\n",
       "      <td>...</td>\n",
       "      <td>...</td>\n",
       "      <td>...</td>\n",
       "      <td>...</td>\n",
       "      <td>...</td>\n",
       "      <td>...</td>\n",
       "      <td>...</td>\n",
       "      <td>...</td>\n",
       "      <td>...</td>\n",
       "    </tr>\n",
       "    <tr>\n",
       "      <th>785736</th>\n",
       "      <td>Software Engineer</td>\n",
       "      <td>DevOps Engineer</td>\n",
       "      <td>Singapura</td>\n",
       "      <td>melalui Trabajo.org</td>\n",
       "      <td>Pekerjaan tetap</td>\n",
       "      <td>False</td>\n",
       "      <td>Singapore</td>\n",
       "      <td>2023-03-13 06:16:16</td>\n",
       "      <td>False</td>\n",
       "      <td>False</td>\n",
       "      <td>Singapore</td>\n",
       "      <td>None</td>\n",
       "      <td>NaN</td>\n",
       "      <td>NaN</td>\n",
       "      <td>CAREERSTAR INTERNATIONAL PTE. LTD.</td>\n",
       "      <td>['bash', 'python', 'perl', 'linux', 'unix', 'k...</td>\n",
       "      <td>{'os': ['linux', 'unix'], 'other': ['kubernete...</td>\n",
       "    </tr>\n",
       "    <tr>\n",
       "      <th>785737</th>\n",
       "      <td>Data Analyst</td>\n",
       "      <td>CRM Data Analyst</td>\n",
       "      <td>Bad Rodach, Jerman</td>\n",
       "      <td>melalui BeBee Deutschland</td>\n",
       "      <td>Pekerjaan tetap</td>\n",
       "      <td>False</td>\n",
       "      <td>Germany</td>\n",
       "      <td>2023-03-12 06:18:18</td>\n",
       "      <td>False</td>\n",
       "      <td>False</td>\n",
       "      <td>Germany</td>\n",
       "      <td>None</td>\n",
       "      <td>NaN</td>\n",
       "      <td>NaN</td>\n",
       "      <td>HABA FAMILYGROUP</td>\n",
       "      <td>['sas', 'sas', 'sql', 'excel']</td>\n",
       "      <td>{'analyst_tools': ['sas', 'excel'], 'programmi...</td>\n",
       "    </tr>\n",
       "    <tr>\n",
       "      <th>785738</th>\n",
       "      <td>Business Analyst</td>\n",
       "      <td>Commercial Analyst - Start Now</td>\n",
       "      <td>Malaysia</td>\n",
       "      <td>melalui Ricebowl</td>\n",
       "      <td>Pekerjaan tetap</td>\n",
       "      <td>False</td>\n",
       "      <td>Malaysia</td>\n",
       "      <td>2023-03-12 06:32:36</td>\n",
       "      <td>False</td>\n",
       "      <td>False</td>\n",
       "      <td>Malaysia</td>\n",
       "      <td>None</td>\n",
       "      <td>NaN</td>\n",
       "      <td>NaN</td>\n",
       "      <td>Lendlease Corporation</td>\n",
       "      <td>['powerpoint', 'excel']</td>\n",
       "      <td>{'analyst_tools': ['powerpoint', 'excel']}</td>\n",
       "    </tr>\n",
       "    <tr>\n",
       "      <th>785739</th>\n",
       "      <td>Data Engineer</td>\n",
       "      <td>Principal Associate, Data Engineer (Remote-Eli...</td>\n",
       "      <td>Newark, New Jersey, Amerika Serikat</td>\n",
       "      <td>melalui Recruit.net</td>\n",
       "      <td>Pekerjaan tetap</td>\n",
       "      <td>False</td>\n",
       "      <td>Sudan</td>\n",
       "      <td>2023-03-12 06:32:15</td>\n",
       "      <td>False</td>\n",
       "      <td>False</td>\n",
       "      <td>Sudan</td>\n",
       "      <td>None</td>\n",
       "      <td>NaN</td>\n",
       "      <td>NaN</td>\n",
       "      <td>Capital One</td>\n",
       "      <td>['python', 'go', 'nosql', 'sql', 'mongo', 'she...</td>\n",
       "      <td>{'cloud': ['aws', 'snowflake', 'azure', 'redsh...</td>\n",
       "    </tr>\n",
       "    <tr>\n",
       "      <th>785740</th>\n",
       "      <td>Software Engineer</td>\n",
       "      <td>AWS System Analyst</td>\n",
       "      <td>India</td>\n",
       "      <td>melalui Trigyn</td>\n",
       "      <td>Pekerjaan tetap</td>\n",
       "      <td>False</td>\n",
       "      <td>India</td>\n",
       "      <td>2023-03-13 06:16:31</td>\n",
       "      <td>False</td>\n",
       "      <td>False</td>\n",
       "      <td>India</td>\n",
       "      <td>None</td>\n",
       "      <td>NaN</td>\n",
       "      <td>NaN</td>\n",
       "      <td>Trigyn</td>\n",
       "      <td>['aws', 'flow']</td>\n",
       "      <td>{'cloud': ['aws'], 'other': ['flow']}</td>\n",
       "    </tr>\n",
       "  </tbody>\n",
       "</table>\n",
       "<p>668704 rows × 17 columns</p>\n",
       "</div>"
      ],
      "text/plain": [
       "          job_title_short                                          job_title  \\\n",
       "1            Data Analyst                                       Data Analyst   \n",
       "2           Data Engineer  Data Engineer/Scientist/Analyst, Mid or Senior...   \n",
       "3           Data Engineer  LEAD ENGINEER - PRINCIPAL ANALYST - PRINCIPAL ...   \n",
       "4           Data Engineer                             Data Engineer- Sr Jobs   \n",
       "5           Data Engineer                                  GCP Data Engineer   \n",
       "...                   ...                                                ...   \n",
       "785736  Software Engineer                                    DevOps Engineer   \n",
       "785737       Data Analyst                                   CRM Data Analyst   \n",
       "785738   Business Analyst                     Commercial Analyst - Start Now   \n",
       "785739      Data Engineer  Principal Associate, Data Engineer (Remote-Eli...   \n",
       "785740  Software Engineer                                 AWS System Analyst   \n",
       "\n",
       "                               job_location                    job_via  \\\n",
       "1              Guadalajara, Jalisco, Mexico           via BeBee México   \n",
       "2                           Berlin, Germany               via LinkedIn   \n",
       "3                           San Antonio, TX          via Diversity.com   \n",
       "4                            Washington, DC         via Clearance Jobs   \n",
       "5                                  Anywhere           via ZipRecruiter   \n",
       "...                                     ...                        ...   \n",
       "785736                            Singapura        melalui Trabajo.org   \n",
       "785737                   Bad Rodach, Jerman  melalui BeBee Deutschland   \n",
       "785738                             Malaysia           melalui Ricebowl   \n",
       "785739  Newark, New Jersey, Amerika Serikat        melalui Recruit.net   \n",
       "785740                                India             melalui Trigyn   \n",
       "\n",
       "               job_schedule_type  job_work_from_home       search_location  \\\n",
       "1                      Full-time               False                Mexico   \n",
       "2                      Full-time               False               Germany   \n",
       "3                      Full-time               False  Texas, United States   \n",
       "4                      Full-time               False                 Sudan   \n",
       "5       Contractor and Temp work                True               Georgia   \n",
       "...                          ...                 ...                   ...   \n",
       "785736           Pekerjaan tetap               False             Singapore   \n",
       "785737           Pekerjaan tetap               False               Germany   \n",
       "785738           Pekerjaan tetap               False              Malaysia   \n",
       "785739           Pekerjaan tetap               False                 Sudan   \n",
       "785740           Pekerjaan tetap               False                 India   \n",
       "\n",
       "            job_posted_date  job_no_degree_mention  job_health_insurance  \\\n",
       "1       2023-01-14 13:18:07                  False                 False   \n",
       "2       2023-10-10 13:14:55                  False                 False   \n",
       "3       2023-07-04 13:01:41                   True                 False   \n",
       "4       2023-08-07 14:29:36                  False                 False   \n",
       "5       2023-11-07 14:01:59                  False                 False   \n",
       "...                     ...                    ...                   ...   \n",
       "785736  2023-03-13 06:16:16                  False                 False   \n",
       "785737  2023-03-12 06:18:18                  False                 False   \n",
       "785738  2023-03-12 06:32:36                  False                 False   \n",
       "785739  2023-03-12 06:32:15                  False                 False   \n",
       "785740  2023-03-13 06:16:31                  False                 False   \n",
       "\n",
       "          job_country salary_rate  salary_year_avg  salary_hour_avg  \\\n",
       "1              Mexico        None              NaN              NaN   \n",
       "2             Germany        None              NaN              NaN   \n",
       "3       United States        None              NaN              NaN   \n",
       "4               Sudan        None              NaN              NaN   \n",
       "5       United States        None              NaN              NaN   \n",
       "...               ...         ...              ...              ...   \n",
       "785736      Singapore        None              NaN              NaN   \n",
       "785737        Germany        None              NaN              NaN   \n",
       "785738       Malaysia        None              NaN              NaN   \n",
       "785739          Sudan        None              NaN              NaN   \n",
       "785740          India        None              NaN              NaN   \n",
       "\n",
       "                              company_name  \\\n",
       "1               Hewlett Packard Enterprise   \n",
       "2                 ALPHA Augmented Services   \n",
       "3             Southwest Research Institute   \n",
       "4                          Kristina Daniel   \n",
       "5                          smart folks inc   \n",
       "...                                    ...   \n",
       "785736  CAREERSTAR INTERNATIONAL PTE. LTD.   \n",
       "785737                    HABA FAMILYGROUP   \n",
       "785738               Lendlease Corporation   \n",
       "785739                         Capital One   \n",
       "785740                              Trigyn   \n",
       "\n",
       "                                               job_skills  \\\n",
       "1       ['r', 'python', 'sql', 'nosql', 'power bi', 't...   \n",
       "2       ['python', 'sql', 'c#', 'azure', 'airflow', 'd...   \n",
       "3       ['python', 'c++', 'java', 'matlab', 'aws', 'te...   \n",
       "4       ['bash', 'python', 'oracle', 'aws', 'ansible',...   \n",
       "5                                ['python', 'sql', 'gcp']   \n",
       "...                                                   ...   \n",
       "785736  ['bash', 'python', 'perl', 'linux', 'unix', 'k...   \n",
       "785737                     ['sas', 'sas', 'sql', 'excel']   \n",
       "785738                            ['powerpoint', 'excel']   \n",
       "785739  ['python', 'go', 'nosql', 'sql', 'mongo', 'she...   \n",
       "785740                                    ['aws', 'flow']   \n",
       "\n",
       "                                          job_type_skills  \n",
       "1       {'analyst_tools': ['power bi', 'tableau'], 'pr...  \n",
       "2       {'analyst_tools': ['dax'], 'cloud': ['azure'],...  \n",
       "3       {'cloud': ['aws'], 'libraries': ['tensorflow',...  \n",
       "4       {'cloud': ['oracle', 'aws'], 'other': ['ansibl...  \n",
       "5       {'cloud': ['gcp'], 'programming': ['python', '...  \n",
       "...                                                   ...  \n",
       "785736  {'os': ['linux', 'unix'], 'other': ['kubernete...  \n",
       "785737  {'analyst_tools': ['sas', 'excel'], 'programmi...  \n",
       "785738         {'analyst_tools': ['powerpoint', 'excel']}  \n",
       "785739  {'cloud': ['aws', 'snowflake', 'azure', 'redsh...  \n",
       "785740              {'cloud': ['aws'], 'other': ['flow']}  \n",
       "\n",
       "[668704 rows x 17 columns]"
      ]
     },
     "execution_count": 369,
     "metadata": {},
     "output_type": "execute_result"
    }
   ],
   "source": [
    "df[df[\"job_skills\"].notna()]"
   ]
  },
  {
   "cell_type": "code",
   "execution_count": 370,
   "metadata": {},
   "outputs": [
    {
     "data": {
      "text/html": [
       "<div>\n",
       "<style scoped>\n",
       "    .dataframe tbody tr th:only-of-type {\n",
       "        vertical-align: middle;\n",
       "    }\n",
       "\n",
       "    .dataframe tbody tr th {\n",
       "        vertical-align: top;\n",
       "    }\n",
       "\n",
       "    .dataframe thead th {\n",
       "        text-align: right;\n",
       "    }\n",
       "</style>\n",
       "<table border=\"1\" class=\"dataframe\">\n",
       "  <thead>\n",
       "    <tr style=\"text-align: right;\">\n",
       "      <th></th>\n",
       "      <th>job_title_short</th>\n",
       "      <th>job_title</th>\n",
       "      <th>job_location</th>\n",
       "      <th>job_via</th>\n",
       "      <th>job_schedule_type</th>\n",
       "      <th>job_work_from_home</th>\n",
       "      <th>search_location</th>\n",
       "      <th>job_posted_date</th>\n",
       "      <th>job_no_degree_mention</th>\n",
       "      <th>job_health_insurance</th>\n",
       "      <th>job_country</th>\n",
       "      <th>salary_rate</th>\n",
       "      <th>salary_year_avg</th>\n",
       "      <th>salary_hour_avg</th>\n",
       "      <th>company_name</th>\n",
       "      <th>job_skills</th>\n",
       "      <th>job_type_skills</th>\n",
       "    </tr>\n",
       "  </thead>\n",
       "  <tbody>\n",
       "    <tr>\n",
       "      <th>554784</th>\n",
       "      <td>Data Scientist</td>\n",
       "      <td>Data Scientist</td>\n",
       "      <td>Madison, SD</td>\n",
       "      <td>via Cooperative Career Center</td>\n",
       "      <td>Full-time</td>\n",
       "      <td>False</td>\n",
       "      <td>Illinois, United States</td>\n",
       "      <td>2023-05-04 19:06:06</td>\n",
       "      <td>False</td>\n",
       "      <td>True</td>\n",
       "      <td>United States</td>\n",
       "      <td>year</td>\n",
       "      <td>960000.0</td>\n",
       "      <td>NaN</td>\n",
       "      <td>East River Electric Power Cooperative, Inc.</td>\n",
       "      <td>['java', 'c++', 'python', 'r']</td>\n",
       "      <td>{'programming': ['java', 'c++', 'python', 'r']}</td>\n",
       "    </tr>\n",
       "    <tr>\n",
       "      <th>665811</th>\n",
       "      <td>Senior Data Scientist</td>\n",
       "      <td>Senior Data Scientist</td>\n",
       "      <td>Pretoria, South Africa</td>\n",
       "      <td>via Adzuna</td>\n",
       "      <td>Full-time</td>\n",
       "      <td>False</td>\n",
       "      <td>South Africa</td>\n",
       "      <td>2023-11-02 10:31:43</td>\n",
       "      <td>False</td>\n",
       "      <td>False</td>\n",
       "      <td>South Africa</td>\n",
       "      <td>year</td>\n",
       "      <td>890000.0</td>\n",
       "      <td>NaN</td>\n",
       "      <td>MSP Staffing  LTD</td>\n",
       "      <td>['python', 'sql', 'java', 'c#', 'databricks', ...</td>\n",
       "      <td>{'cloud': ['databricks', 'azure'], 'libraries'...</td>\n",
       "    </tr>\n",
       "    <tr>\n",
       "      <th>168402</th>\n",
       "      <td>Data Analyst</td>\n",
       "      <td>Data Analyst</td>\n",
       "      <td>Anywhere</td>\n",
       "      <td>via Y Combinator</td>\n",
       "      <td>Full-time</td>\n",
       "      <td>True</td>\n",
       "      <td>India</td>\n",
       "      <td>2023-02-20 15:13:44</td>\n",
       "      <td>True</td>\n",
       "      <td>False</td>\n",
       "      <td>India</td>\n",
       "      <td>year</td>\n",
       "      <td>650000.0</td>\n",
       "      <td>NaN</td>\n",
       "      <td>Mantys</td>\n",
       "      <td>None</td>\n",
       "      <td>None</td>\n",
       "    </tr>\n",
       "    <tr>\n",
       "      <th>387378</th>\n",
       "      <td>Data Scientist</td>\n",
       "      <td>Geographic Information Systems Analyst - GIS A...</td>\n",
       "      <td>New York, NY</td>\n",
       "      <td>via ZipRecruiter</td>\n",
       "      <td>Full-time</td>\n",
       "      <td>False</td>\n",
       "      <td>New York, United States</td>\n",
       "      <td>2023-12-27 18:00:12</td>\n",
       "      <td>False</td>\n",
       "      <td>False</td>\n",
       "      <td>United States</td>\n",
       "      <td>year</td>\n",
       "      <td>585000.0</td>\n",
       "      <td>NaN</td>\n",
       "      <td>ReServe</td>\n",
       "      <td>['excel']</td>\n",
       "      <td>{'analyst_tools': ['excel']}</td>\n",
       "    </tr>\n",
       "    <tr>\n",
       "      <th>160521</th>\n",
       "      <td>Data Scientist</td>\n",
       "      <td>Staff Data Scientist/Quant Researcher</td>\n",
       "      <td>Anywhere</td>\n",
       "      <td>via LinkedIn</td>\n",
       "      <td>Full-time</td>\n",
       "      <td>True</td>\n",
       "      <td>Sudan</td>\n",
       "      <td>2023-08-16 16:11:58</td>\n",
       "      <td>False</td>\n",
       "      <td>False</td>\n",
       "      <td>Sudan</td>\n",
       "      <td>year</td>\n",
       "      <td>550000.0</td>\n",
       "      <td>NaN</td>\n",
       "      <td>Selby Jennings</td>\n",
       "      <td>['python', 'sql']</td>\n",
       "      <td>{'programming': ['python', 'sql']}</td>\n",
       "    </tr>\n",
       "  </tbody>\n",
       "</table>\n",
       "</div>"
      ],
      "text/plain": [
       "              job_title_short  \\\n",
       "554784         Data Scientist   \n",
       "665811  Senior Data Scientist   \n",
       "168402           Data Analyst   \n",
       "387378         Data Scientist   \n",
       "160521         Data Scientist   \n",
       "\n",
       "                                                job_title  \\\n",
       "554784                                     Data Scientist   \n",
       "665811                              Senior Data Scientist   \n",
       "168402                                       Data Analyst   \n",
       "387378  Geographic Information Systems Analyst - GIS A...   \n",
       "160521              Staff Data Scientist/Quant Researcher   \n",
       "\n",
       "                  job_location                        job_via  \\\n",
       "554784             Madison, SD  via Cooperative Career Center   \n",
       "665811  Pretoria, South Africa                     via Adzuna   \n",
       "168402                Anywhere               via Y Combinator   \n",
       "387378            New York, NY               via ZipRecruiter   \n",
       "160521                Anywhere                   via LinkedIn   \n",
       "\n",
       "       job_schedule_type  job_work_from_home          search_location  \\\n",
       "554784         Full-time               False  Illinois, United States   \n",
       "665811         Full-time               False             South Africa   \n",
       "168402         Full-time                True                    India   \n",
       "387378         Full-time               False  New York, United States   \n",
       "160521         Full-time                True                    Sudan   \n",
       "\n",
       "            job_posted_date  job_no_degree_mention  job_health_insurance  \\\n",
       "554784  2023-05-04 19:06:06                  False                  True   \n",
       "665811  2023-11-02 10:31:43                  False                 False   \n",
       "168402  2023-02-20 15:13:44                   True                 False   \n",
       "387378  2023-12-27 18:00:12                  False                 False   \n",
       "160521  2023-08-16 16:11:58                  False                 False   \n",
       "\n",
       "          job_country salary_rate  salary_year_avg  salary_hour_avg  \\\n",
       "554784  United States        year         960000.0              NaN   \n",
       "665811   South Africa        year         890000.0              NaN   \n",
       "168402          India        year         650000.0              NaN   \n",
       "387378  United States        year         585000.0              NaN   \n",
       "160521          Sudan        year         550000.0              NaN   \n",
       "\n",
       "                                       company_name  \\\n",
       "554784  East River Electric Power Cooperative, Inc.   \n",
       "665811                            MSP Staffing  LTD   \n",
       "168402                                       Mantys   \n",
       "387378                                      ReServe   \n",
       "160521                               Selby Jennings   \n",
       "\n",
       "                                               job_skills  \\\n",
       "554784                     ['java', 'c++', 'python', 'r']   \n",
       "665811  ['python', 'sql', 'java', 'c#', 'databricks', ...   \n",
       "168402                                               None   \n",
       "387378                                          ['excel']   \n",
       "160521                                  ['python', 'sql']   \n",
       "\n",
       "                                          job_type_skills  \n",
       "554784    {'programming': ['java', 'c++', 'python', 'r']}  \n",
       "665811  {'cloud': ['databricks', 'azure'], 'libraries'...  \n",
       "168402                                               None  \n",
       "387378                       {'analyst_tools': ['excel']}  \n",
       "160521                 {'programming': ['python', 'sql']}  "
      ]
     },
     "execution_count": 370,
     "metadata": {},
     "output_type": "execute_result"
    }
   ],
   "source": [
    "df.sort_values(by='salary_year_avg', ascending=False, inplace=True)\n",
    "df.head(5)"
   ]
  },
  {
   "cell_type": "code",
   "execution_count": 371,
   "metadata": {},
   "outputs": [
    {
     "data": {
      "text/html": [
       "<div>\n",
       "<style scoped>\n",
       "    .dataframe tbody tr th:only-of-type {\n",
       "        vertical-align: middle;\n",
       "    }\n",
       "\n",
       "    .dataframe tbody tr th {\n",
       "        vertical-align: top;\n",
       "    }\n",
       "\n",
       "    .dataframe thead th {\n",
       "        text-align: right;\n",
       "    }\n",
       "</style>\n",
       "<table border=\"1\" class=\"dataframe\">\n",
       "  <thead>\n",
       "    <tr style=\"text-align: right;\">\n",
       "      <th></th>\n",
       "      <th>job_title_short</th>\n",
       "      <th>job_title</th>\n",
       "      <th>job_location</th>\n",
       "      <th>job_via</th>\n",
       "      <th>job_schedule_type</th>\n",
       "      <th>job_work_from_home</th>\n",
       "      <th>search_location</th>\n",
       "      <th>job_posted_date</th>\n",
       "      <th>job_no_degree_mention</th>\n",
       "      <th>job_health_insurance</th>\n",
       "      <th>job_country</th>\n",
       "      <th>salary_rate</th>\n",
       "      <th>salary_year_avg</th>\n",
       "      <th>salary_hour_avg</th>\n",
       "      <th>company_name</th>\n",
       "      <th>job_skills</th>\n",
       "      <th>job_type_skills</th>\n",
       "      <th>is_remote</th>\n",
       "    </tr>\n",
       "  </thead>\n",
       "  <tbody>\n",
       "    <tr>\n",
       "      <th>554784</th>\n",
       "      <td>Data Scientist</td>\n",
       "      <td>Data Scientist</td>\n",
       "      <td>Madison, SD</td>\n",
       "      <td>via Cooperative Career Center</td>\n",
       "      <td>Full-time</td>\n",
       "      <td>False</td>\n",
       "      <td>Illinois, United States</td>\n",
       "      <td>2023-05-04 19:06:06</td>\n",
       "      <td>False</td>\n",
       "      <td>True</td>\n",
       "      <td>United States</td>\n",
       "      <td>year</td>\n",
       "      <td>960000.0</td>\n",
       "      <td>NaN</td>\n",
       "      <td>East River Electric Power Cooperative, Inc.</td>\n",
       "      <td>['java', 'c++', 'python', 'r']</td>\n",
       "      <td>{'programming': ['java', 'c++', 'python', 'r']}</td>\n",
       "      <td>False</td>\n",
       "    </tr>\n",
       "    <tr>\n",
       "      <th>665811</th>\n",
       "      <td>Senior Data Scientist</td>\n",
       "      <td>Senior Data Scientist</td>\n",
       "      <td>Pretoria, South Africa</td>\n",
       "      <td>via Adzuna</td>\n",
       "      <td>Full-time</td>\n",
       "      <td>False</td>\n",
       "      <td>South Africa</td>\n",
       "      <td>2023-11-02 10:31:43</td>\n",
       "      <td>False</td>\n",
       "      <td>False</td>\n",
       "      <td>South Africa</td>\n",
       "      <td>year</td>\n",
       "      <td>890000.0</td>\n",
       "      <td>NaN</td>\n",
       "      <td>MSP Staffing  LTD</td>\n",
       "      <td>['python', 'sql', 'java', 'c#', 'databricks', ...</td>\n",
       "      <td>{'cloud': ['databricks', 'azure'], 'libraries'...</td>\n",
       "      <td>False</td>\n",
       "    </tr>\n",
       "    <tr>\n",
       "      <th>168402</th>\n",
       "      <td>Data Analyst</td>\n",
       "      <td>Data Analyst</td>\n",
       "      <td>Anywhere</td>\n",
       "      <td>via Y Combinator</td>\n",
       "      <td>Full-time</td>\n",
       "      <td>True</td>\n",
       "      <td>India</td>\n",
       "      <td>2023-02-20 15:13:44</td>\n",
       "      <td>True</td>\n",
       "      <td>False</td>\n",
       "      <td>India</td>\n",
       "      <td>year</td>\n",
       "      <td>650000.0</td>\n",
       "      <td>NaN</td>\n",
       "      <td>Mantys</td>\n",
       "      <td>None</td>\n",
       "      <td>None</td>\n",
       "      <td>True</td>\n",
       "    </tr>\n",
       "    <tr>\n",
       "      <th>387378</th>\n",
       "      <td>Data Scientist</td>\n",
       "      <td>Geographic Information Systems Analyst - GIS A...</td>\n",
       "      <td>New York, NY</td>\n",
       "      <td>via ZipRecruiter</td>\n",
       "      <td>Full-time</td>\n",
       "      <td>False</td>\n",
       "      <td>New York, United States</td>\n",
       "      <td>2023-12-27 18:00:12</td>\n",
       "      <td>False</td>\n",
       "      <td>False</td>\n",
       "      <td>United States</td>\n",
       "      <td>year</td>\n",
       "      <td>585000.0</td>\n",
       "      <td>NaN</td>\n",
       "      <td>ReServe</td>\n",
       "      <td>['excel']</td>\n",
       "      <td>{'analyst_tools': ['excel']}</td>\n",
       "      <td>False</td>\n",
       "    </tr>\n",
       "    <tr>\n",
       "      <th>160521</th>\n",
       "      <td>Data Scientist</td>\n",
       "      <td>Staff Data Scientist/Quant Researcher</td>\n",
       "      <td>Anywhere</td>\n",
       "      <td>via LinkedIn</td>\n",
       "      <td>Full-time</td>\n",
       "      <td>True</td>\n",
       "      <td>Sudan</td>\n",
       "      <td>2023-08-16 16:11:58</td>\n",
       "      <td>False</td>\n",
       "      <td>False</td>\n",
       "      <td>Sudan</td>\n",
       "      <td>year</td>\n",
       "      <td>550000.0</td>\n",
       "      <td>NaN</td>\n",
       "      <td>Selby Jennings</td>\n",
       "      <td>['python', 'sql']</td>\n",
       "      <td>{'programming': ['python', 'sql']}</td>\n",
       "      <td>True</td>\n",
       "    </tr>\n",
       "  </tbody>\n",
       "</table>\n",
       "</div>"
      ],
      "text/plain": [
       "              job_title_short  \\\n",
       "554784         Data Scientist   \n",
       "665811  Senior Data Scientist   \n",
       "168402           Data Analyst   \n",
       "387378         Data Scientist   \n",
       "160521         Data Scientist   \n",
       "\n",
       "                                                job_title  \\\n",
       "554784                                     Data Scientist   \n",
       "665811                              Senior Data Scientist   \n",
       "168402                                       Data Analyst   \n",
       "387378  Geographic Information Systems Analyst - GIS A...   \n",
       "160521              Staff Data Scientist/Quant Researcher   \n",
       "\n",
       "                  job_location                        job_via  \\\n",
       "554784             Madison, SD  via Cooperative Career Center   \n",
       "665811  Pretoria, South Africa                     via Adzuna   \n",
       "168402                Anywhere               via Y Combinator   \n",
       "387378            New York, NY               via ZipRecruiter   \n",
       "160521                Anywhere                   via LinkedIn   \n",
       "\n",
       "       job_schedule_type  job_work_from_home          search_location  \\\n",
       "554784         Full-time               False  Illinois, United States   \n",
       "665811         Full-time               False             South Africa   \n",
       "168402         Full-time                True                    India   \n",
       "387378         Full-time               False  New York, United States   \n",
       "160521         Full-time                True                    Sudan   \n",
       "\n",
       "            job_posted_date  job_no_degree_mention  job_health_insurance  \\\n",
       "554784  2023-05-04 19:06:06                  False                  True   \n",
       "665811  2023-11-02 10:31:43                  False                 False   \n",
       "168402  2023-02-20 15:13:44                   True                 False   \n",
       "387378  2023-12-27 18:00:12                  False                 False   \n",
       "160521  2023-08-16 16:11:58                  False                 False   \n",
       "\n",
       "          job_country salary_rate  salary_year_avg  salary_hour_avg  \\\n",
       "554784  United States        year         960000.0              NaN   \n",
       "665811   South Africa        year         890000.0              NaN   \n",
       "168402          India        year         650000.0              NaN   \n",
       "387378  United States        year         585000.0              NaN   \n",
       "160521          Sudan        year         550000.0              NaN   \n",
       "\n",
       "                                       company_name  \\\n",
       "554784  East River Electric Power Cooperative, Inc.   \n",
       "665811                            MSP Staffing  LTD   \n",
       "168402                                       Mantys   \n",
       "387378                                      ReServe   \n",
       "160521                               Selby Jennings   \n",
       "\n",
       "                                               job_skills  \\\n",
       "554784                     ['java', 'c++', 'python', 'r']   \n",
       "665811  ['python', 'sql', 'java', 'c#', 'databricks', ...   \n",
       "168402                                               None   \n",
       "387378                                          ['excel']   \n",
       "160521                                  ['python', 'sql']   \n",
       "\n",
       "                                          job_type_skills  is_remote  \n",
       "554784    {'programming': ['java', 'c++', 'python', 'r']}      False  \n",
       "665811  {'cloud': ['databricks', 'azure'], 'libraries'...      False  \n",
       "168402                                               None       True  \n",
       "387378                       {'analyst_tools': ['excel']}      False  \n",
       "160521                 {'programming': ['python', 'sql']}       True  "
      ]
     },
     "execution_count": 371,
     "metadata": {},
     "output_type": "execute_result"
    }
   ],
   "source": [
    "df['is_remote'] = df['job_work_from_home']\n",
    "df.head(5)"
   ]
  },
  {
   "cell_type": "code",
   "execution_count": 372,
   "metadata": {},
   "outputs": [
    {
     "data": {
      "text/html": [
       "<div>\n",
       "<style scoped>\n",
       "    .dataframe tbody tr th:only-of-type {\n",
       "        vertical-align: middle;\n",
       "    }\n",
       "\n",
       "    .dataframe tbody tr th {\n",
       "        vertical-align: top;\n",
       "    }\n",
       "\n",
       "    .dataframe thead th {\n",
       "        text-align: right;\n",
       "    }\n",
       "</style>\n",
       "<table border=\"1\" class=\"dataframe\">\n",
       "  <thead>\n",
       "    <tr style=\"text-align: right;\">\n",
       "      <th></th>\n",
       "      <th>job_title_short</th>\n",
       "      <th>job_title</th>\n",
       "      <th>job_location</th>\n",
       "      <th>job_via</th>\n",
       "      <th>job_schedule_type</th>\n",
       "      <th>job_work_from_home</th>\n",
       "      <th>search_location</th>\n",
       "      <th>job_posted_date</th>\n",
       "      <th>job_no_degree_mention</th>\n",
       "      <th>job_health_insurance</th>\n",
       "      <th>job_country</th>\n",
       "      <th>salary_rate</th>\n",
       "      <th>salary_year_avg</th>\n",
       "      <th>salary_hour_avg</th>\n",
       "      <th>company_name</th>\n",
       "      <th>job_skills</th>\n",
       "      <th>job_type_skills</th>\n",
       "      <th>is_remote</th>\n",
       "      <th>job_posted_year</th>\n",
       "    </tr>\n",
       "  </thead>\n",
       "  <tbody>\n",
       "    <tr>\n",
       "      <th>554784</th>\n",
       "      <td>Data Scientist</td>\n",
       "      <td>Data Scientist</td>\n",
       "      <td>Madison, SD</td>\n",
       "      <td>via Cooperative Career Center</td>\n",
       "      <td>Full-time</td>\n",
       "      <td>False</td>\n",
       "      <td>Illinois, United States</td>\n",
       "      <td>2023-05-04 19:06:06</td>\n",
       "      <td>False</td>\n",
       "      <td>True</td>\n",
       "      <td>United States</td>\n",
       "      <td>year</td>\n",
       "      <td>960000.0</td>\n",
       "      <td>NaN</td>\n",
       "      <td>East River Electric Power Cooperative, Inc.</td>\n",
       "      <td>['java', 'c++', 'python', 'r']</td>\n",
       "      <td>{'programming': ['java', 'c++', 'python', 'r']}</td>\n",
       "      <td>False</td>\n",
       "      <td>2023</td>\n",
       "    </tr>\n",
       "    <tr>\n",
       "      <th>665811</th>\n",
       "      <td>Senior Data Scientist</td>\n",
       "      <td>Senior Data Scientist</td>\n",
       "      <td>Pretoria, South Africa</td>\n",
       "      <td>via Adzuna</td>\n",
       "      <td>Full-time</td>\n",
       "      <td>False</td>\n",
       "      <td>South Africa</td>\n",
       "      <td>2023-11-02 10:31:43</td>\n",
       "      <td>False</td>\n",
       "      <td>False</td>\n",
       "      <td>South Africa</td>\n",
       "      <td>year</td>\n",
       "      <td>890000.0</td>\n",
       "      <td>NaN</td>\n",
       "      <td>MSP Staffing  LTD</td>\n",
       "      <td>['python', 'sql', 'java', 'c#', 'databricks', ...</td>\n",
       "      <td>{'cloud': ['databricks', 'azure'], 'libraries'...</td>\n",
       "      <td>False</td>\n",
       "      <td>2023</td>\n",
       "    </tr>\n",
       "    <tr>\n",
       "      <th>168402</th>\n",
       "      <td>Data Analyst</td>\n",
       "      <td>Data Analyst</td>\n",
       "      <td>Anywhere</td>\n",
       "      <td>via Y Combinator</td>\n",
       "      <td>Full-time</td>\n",
       "      <td>True</td>\n",
       "      <td>India</td>\n",
       "      <td>2023-02-20 15:13:44</td>\n",
       "      <td>True</td>\n",
       "      <td>False</td>\n",
       "      <td>India</td>\n",
       "      <td>year</td>\n",
       "      <td>650000.0</td>\n",
       "      <td>NaN</td>\n",
       "      <td>Mantys</td>\n",
       "      <td>None</td>\n",
       "      <td>None</td>\n",
       "      <td>True</td>\n",
       "      <td>2023</td>\n",
       "    </tr>\n",
       "    <tr>\n",
       "      <th>387378</th>\n",
       "      <td>Data Scientist</td>\n",
       "      <td>Geographic Information Systems Analyst - GIS A...</td>\n",
       "      <td>New York, NY</td>\n",
       "      <td>via ZipRecruiter</td>\n",
       "      <td>Full-time</td>\n",
       "      <td>False</td>\n",
       "      <td>New York, United States</td>\n",
       "      <td>2023-12-27 18:00:12</td>\n",
       "      <td>False</td>\n",
       "      <td>False</td>\n",
       "      <td>United States</td>\n",
       "      <td>year</td>\n",
       "      <td>585000.0</td>\n",
       "      <td>NaN</td>\n",
       "      <td>ReServe</td>\n",
       "      <td>['excel']</td>\n",
       "      <td>{'analyst_tools': ['excel']}</td>\n",
       "      <td>False</td>\n",
       "      <td>2023</td>\n",
       "    </tr>\n",
       "    <tr>\n",
       "      <th>160521</th>\n",
       "      <td>Data Scientist</td>\n",
       "      <td>Staff Data Scientist/Quant Researcher</td>\n",
       "      <td>Anywhere</td>\n",
       "      <td>via LinkedIn</td>\n",
       "      <td>Full-time</td>\n",
       "      <td>True</td>\n",
       "      <td>Sudan</td>\n",
       "      <td>2023-08-16 16:11:58</td>\n",
       "      <td>False</td>\n",
       "      <td>False</td>\n",
       "      <td>Sudan</td>\n",
       "      <td>year</td>\n",
       "      <td>550000.0</td>\n",
       "      <td>NaN</td>\n",
       "      <td>Selby Jennings</td>\n",
       "      <td>['python', 'sql']</td>\n",
       "      <td>{'programming': ['python', 'sql']}</td>\n",
       "      <td>True</td>\n",
       "      <td>2023</td>\n",
       "    </tr>\n",
       "  </tbody>\n",
       "</table>\n",
       "</div>"
      ],
      "text/plain": [
       "              job_title_short  \\\n",
       "554784         Data Scientist   \n",
       "665811  Senior Data Scientist   \n",
       "168402           Data Analyst   \n",
       "387378         Data Scientist   \n",
       "160521         Data Scientist   \n",
       "\n",
       "                                                job_title  \\\n",
       "554784                                     Data Scientist   \n",
       "665811                              Senior Data Scientist   \n",
       "168402                                       Data Analyst   \n",
       "387378  Geographic Information Systems Analyst - GIS A...   \n",
       "160521              Staff Data Scientist/Quant Researcher   \n",
       "\n",
       "                  job_location                        job_via  \\\n",
       "554784             Madison, SD  via Cooperative Career Center   \n",
       "665811  Pretoria, South Africa                     via Adzuna   \n",
       "168402                Anywhere               via Y Combinator   \n",
       "387378            New York, NY               via ZipRecruiter   \n",
       "160521                Anywhere                   via LinkedIn   \n",
       "\n",
       "       job_schedule_type  job_work_from_home          search_location  \\\n",
       "554784         Full-time               False  Illinois, United States   \n",
       "665811         Full-time               False             South Africa   \n",
       "168402         Full-time                True                    India   \n",
       "387378         Full-time               False  New York, United States   \n",
       "160521         Full-time                True                    Sudan   \n",
       "\n",
       "           job_posted_date  job_no_degree_mention  job_health_insurance  \\\n",
       "554784 2023-05-04 19:06:06                  False                  True   \n",
       "665811 2023-11-02 10:31:43                  False                 False   \n",
       "168402 2023-02-20 15:13:44                   True                 False   \n",
       "387378 2023-12-27 18:00:12                  False                 False   \n",
       "160521 2023-08-16 16:11:58                  False                 False   \n",
       "\n",
       "          job_country salary_rate  salary_year_avg  salary_hour_avg  \\\n",
       "554784  United States        year         960000.0              NaN   \n",
       "665811   South Africa        year         890000.0              NaN   \n",
       "168402          India        year         650000.0              NaN   \n",
       "387378  United States        year         585000.0              NaN   \n",
       "160521          Sudan        year         550000.0              NaN   \n",
       "\n",
       "                                       company_name  \\\n",
       "554784  East River Electric Power Cooperative, Inc.   \n",
       "665811                            MSP Staffing  LTD   \n",
       "168402                                       Mantys   \n",
       "387378                                      ReServe   \n",
       "160521                               Selby Jennings   \n",
       "\n",
       "                                               job_skills  \\\n",
       "554784                     ['java', 'c++', 'python', 'r']   \n",
       "665811  ['python', 'sql', 'java', 'c#', 'databricks', ...   \n",
       "168402                                               None   \n",
       "387378                                          ['excel']   \n",
       "160521                                  ['python', 'sql']   \n",
       "\n",
       "                                          job_type_skills  is_remote  \\\n",
       "554784    {'programming': ['java', 'c++', 'python', 'r']}      False   \n",
       "665811  {'cloud': ['databricks', 'azure'], 'libraries'...      False   \n",
       "168402                                               None       True   \n",
       "387378                       {'analyst_tools': ['excel']}      False   \n",
       "160521                 {'programming': ['python', 'sql']}       True   \n",
       "\n",
       "        job_posted_year  \n",
       "554784             2023  \n",
       "665811             2023  \n",
       "168402             2023  \n",
       "387378             2023  \n",
       "160521             2023  "
      ]
     },
     "execution_count": 372,
     "metadata": {},
     "output_type": "execute_result"
    }
   ],
   "source": [
    "import pandas as pd\n",
    "df['job_posted_date'] = pd.to_datetime(df['job_posted_date'], errors='coerce')\n",
    "df['job_posted_year'] = df['job_posted_date'].dt.year\n",
    "df.head(5)"
   ]
  },
  {
   "cell_type": "code",
   "execution_count": 373,
   "metadata": {},
   "outputs": [
    {
     "data": {
      "text/html": [
       "<div>\n",
       "<style scoped>\n",
       "    .dataframe tbody tr th:only-of-type {\n",
       "        vertical-align: middle;\n",
       "    }\n",
       "\n",
       "    .dataframe tbody tr th {\n",
       "        vertical-align: top;\n",
       "    }\n",
       "\n",
       "    .dataframe thead th {\n",
       "        text-align: right;\n",
       "    }\n",
       "</style>\n",
       "<table border=\"1\" class=\"dataframe\">\n",
       "  <thead>\n",
       "    <tr style=\"text-align: right;\">\n",
       "      <th></th>\n",
       "      <th>job_title_short</th>\n",
       "      <th>job_title</th>\n",
       "      <th>job_location</th>\n",
       "      <th>job_via</th>\n",
       "      <th>job_schedule_type</th>\n",
       "      <th>job_work_from_home</th>\n",
       "      <th>search_location</th>\n",
       "      <th>job_posted_date</th>\n",
       "      <th>job_no_degree_mention</th>\n",
       "      <th>job_health_insurance</th>\n",
       "      <th>job_country</th>\n",
       "      <th>salary_rate</th>\n",
       "      <th>salary_year_avg</th>\n",
       "      <th>salary_hour_avg</th>\n",
       "      <th>company_name</th>\n",
       "      <th>job_skills</th>\n",
       "      <th>job_type_skills</th>\n",
       "      <th>is_remote</th>\n",
       "      <th>job_posted_year</th>\n",
       "    </tr>\n",
       "  </thead>\n",
       "  <tbody>\n",
       "    <tr>\n",
       "      <th>554784</th>\n",
       "      <td>Data Scientist</td>\n",
       "      <td>Data Scientist</td>\n",
       "      <td>Madison, SD</td>\n",
       "      <td>via Cooperative Career Center</td>\n",
       "      <td>Full-time</td>\n",
       "      <td>False</td>\n",
       "      <td>Illinois, United States</td>\n",
       "      <td>2023-05-04 19:06:06</td>\n",
       "      <td>False</td>\n",
       "      <td>True</td>\n",
       "      <td>United States</td>\n",
       "      <td>year</td>\n",
       "      <td>960000.0</td>\n",
       "      <td>NaN</td>\n",
       "      <td>East River Electric Power Cooperative, Inc.</td>\n",
       "      <td>['java', 'c++', 'python', 'r']</td>\n",
       "      <td>{'programming': ['java', 'c++', 'python', 'r']}</td>\n",
       "      <td>False</td>\n",
       "      <td>2023</td>\n",
       "    </tr>\n",
       "    <tr>\n",
       "      <th>665811</th>\n",
       "      <td>Senior Data Scientist</td>\n",
       "      <td>Senior Data Scientist</td>\n",
       "      <td>Pretoria, South Africa</td>\n",
       "      <td>via Adzuna</td>\n",
       "      <td>Full-time</td>\n",
       "      <td>False</td>\n",
       "      <td>South Africa</td>\n",
       "      <td>2023-11-02 10:31:43</td>\n",
       "      <td>False</td>\n",
       "      <td>False</td>\n",
       "      <td>South Africa</td>\n",
       "      <td>year</td>\n",
       "      <td>890000.0</td>\n",
       "      <td>NaN</td>\n",
       "      <td>MSP Staffing  LTD</td>\n",
       "      <td>['python', 'sql', 'java', 'c#', 'databricks', ...</td>\n",
       "      <td>{'cloud': ['databricks', 'azure'], 'libraries'...</td>\n",
       "      <td>False</td>\n",
       "      <td>2023</td>\n",
       "    </tr>\n",
       "    <tr>\n",
       "      <th>168402</th>\n",
       "      <td>Data Analyst</td>\n",
       "      <td>Data Analyst</td>\n",
       "      <td>Anywhere</td>\n",
       "      <td>via Y Combinator</td>\n",
       "      <td>Full-time</td>\n",
       "      <td>True</td>\n",
       "      <td>India</td>\n",
       "      <td>2023-02-20 15:13:44</td>\n",
       "      <td>True</td>\n",
       "      <td>False</td>\n",
       "      <td>India</td>\n",
       "      <td>year</td>\n",
       "      <td>650000.0</td>\n",
       "      <td>NaN</td>\n",
       "      <td>Mantys</td>\n",
       "      <td>None</td>\n",
       "      <td>None</td>\n",
       "      <td>True</td>\n",
       "      <td>2023</td>\n",
       "    </tr>\n",
       "    <tr>\n",
       "      <th>387378</th>\n",
       "      <td>Data Scientist</td>\n",
       "      <td>Geographic Information Systems Analyst - GIS A...</td>\n",
       "      <td>New York, NY</td>\n",
       "      <td>via ZipRecruiter</td>\n",
       "      <td>Full-time</td>\n",
       "      <td>False</td>\n",
       "      <td>New York, United States</td>\n",
       "      <td>2023-12-27 18:00:12</td>\n",
       "      <td>False</td>\n",
       "      <td>False</td>\n",
       "      <td>United States</td>\n",
       "      <td>year</td>\n",
       "      <td>585000.0</td>\n",
       "      <td>NaN</td>\n",
       "      <td>ReServe</td>\n",
       "      <td>['excel']</td>\n",
       "      <td>{'analyst_tools': ['excel']}</td>\n",
       "      <td>False</td>\n",
       "      <td>2023</td>\n",
       "    </tr>\n",
       "    <tr>\n",
       "      <th>160521</th>\n",
       "      <td>Data Scientist</td>\n",
       "      <td>Staff Data Scientist/Quant Researcher</td>\n",
       "      <td>Anywhere</td>\n",
       "      <td>via LinkedIn</td>\n",
       "      <td>Full-time</td>\n",
       "      <td>True</td>\n",
       "      <td>Sudan</td>\n",
       "      <td>2023-08-16 16:11:58</td>\n",
       "      <td>False</td>\n",
       "      <td>False</td>\n",
       "      <td>Sudan</td>\n",
       "      <td>year</td>\n",
       "      <td>550000.0</td>\n",
       "      <td>NaN</td>\n",
       "      <td>Selby Jennings</td>\n",
       "      <td>['python', 'sql']</td>\n",
       "      <td>{'programming': ['python', 'sql']}</td>\n",
       "      <td>True</td>\n",
       "      <td>2023</td>\n",
       "    </tr>\n",
       "  </tbody>\n",
       "</table>\n",
       "</div>"
      ],
      "text/plain": [
       "              job_title_short  \\\n",
       "554784         Data Scientist   \n",
       "665811  Senior Data Scientist   \n",
       "168402           Data Analyst   \n",
       "387378         Data Scientist   \n",
       "160521         Data Scientist   \n",
       "\n",
       "                                                job_title  \\\n",
       "554784                                     Data Scientist   \n",
       "665811                              Senior Data Scientist   \n",
       "168402                                       Data Analyst   \n",
       "387378  Geographic Information Systems Analyst - GIS A...   \n",
       "160521              Staff Data Scientist/Quant Researcher   \n",
       "\n",
       "                  job_location                        job_via  \\\n",
       "554784             Madison, SD  via Cooperative Career Center   \n",
       "665811  Pretoria, South Africa                     via Adzuna   \n",
       "168402                Anywhere               via Y Combinator   \n",
       "387378            New York, NY               via ZipRecruiter   \n",
       "160521                Anywhere                   via LinkedIn   \n",
       "\n",
       "       job_schedule_type  job_work_from_home          search_location  \\\n",
       "554784         Full-time               False  Illinois, United States   \n",
       "665811         Full-time               False             South Africa   \n",
       "168402         Full-time                True                    India   \n",
       "387378         Full-time               False  New York, United States   \n",
       "160521         Full-time                True                    Sudan   \n",
       "\n",
       "           job_posted_date  job_no_degree_mention  job_health_insurance  \\\n",
       "554784 2023-05-04 19:06:06                  False                  True   \n",
       "665811 2023-11-02 10:31:43                  False                 False   \n",
       "168402 2023-02-20 15:13:44                   True                 False   \n",
       "387378 2023-12-27 18:00:12                  False                 False   \n",
       "160521 2023-08-16 16:11:58                  False                 False   \n",
       "\n",
       "          job_country salary_rate  salary_year_avg  salary_hour_avg  \\\n",
       "554784  United States        year         960000.0              NaN   \n",
       "665811   South Africa        year         890000.0              NaN   \n",
       "168402          India        year         650000.0              NaN   \n",
       "387378  United States        year         585000.0              NaN   \n",
       "160521          Sudan        year         550000.0              NaN   \n",
       "\n",
       "                                       company_name  \\\n",
       "554784  East River Electric Power Cooperative, Inc.   \n",
       "665811                            MSP Staffing  LTD   \n",
       "168402                                       Mantys   \n",
       "387378                                      ReServe   \n",
       "160521                               Selby Jennings   \n",
       "\n",
       "                                               job_skills  \\\n",
       "554784                     ['java', 'c++', 'python', 'r']   \n",
       "665811  ['python', 'sql', 'java', 'c#', 'databricks', ...   \n",
       "168402                                               None   \n",
       "387378                                          ['excel']   \n",
       "160521                                  ['python', 'sql']   \n",
       "\n",
       "                                          job_type_skills  is_remote  \\\n",
       "554784    {'programming': ['java', 'c++', 'python', 'r']}      False   \n",
       "665811  {'cloud': ['databricks', 'azure'], 'libraries'...      False   \n",
       "168402                                               None       True   \n",
       "387378                       {'analyst_tools': ['excel']}      False   \n",
       "160521                 {'programming': ['python', 'sql']}       True   \n",
       "\n",
       "        job_posted_year  \n",
       "554784             2023  \n",
       "665811             2023  \n",
       "168402             2023  \n",
       "387378             2023  \n",
       "160521             2023  "
      ]
     },
     "execution_count": 373,
     "metadata": {},
     "output_type": "execute_result"
    }
   ],
   "source": [
    "df['job_posted_year'] = df['job_posted_date'].dt.year\n",
    "df.head(5)\n"
   ]
  },
  {
   "cell_type": "code",
   "execution_count": 374,
   "metadata": {},
   "outputs": [
    {
     "data": {
      "text/html": [
       "<div>\n",
       "<style scoped>\n",
       "    .dataframe tbody tr th:only-of-type {\n",
       "        vertical-align: middle;\n",
       "    }\n",
       "\n",
       "    .dataframe tbody tr th {\n",
       "        vertical-align: top;\n",
       "    }\n",
       "\n",
       "    .dataframe thead th {\n",
       "        text-align: right;\n",
       "    }\n",
       "</style>\n",
       "<table border=\"1\" class=\"dataframe\">\n",
       "  <thead>\n",
       "    <tr style=\"text-align: right;\">\n",
       "      <th></th>\n",
       "      <th>job_title_short</th>\n",
       "      <th>job_title</th>\n",
       "      <th>job_location</th>\n",
       "      <th>job_via</th>\n",
       "      <th>job_schedule_type</th>\n",
       "      <th>job_work_from_home</th>\n",
       "      <th>search_location</th>\n",
       "      <th>job_posted_date</th>\n",
       "      <th>job_no_degree_mention</th>\n",
       "      <th>job_health_insurance</th>\n",
       "      <th>job_country</th>\n",
       "      <th>salary_rate</th>\n",
       "      <th>salary_year_avg</th>\n",
       "      <th>salary_hour_avg</th>\n",
       "      <th>company_name</th>\n",
       "      <th>job_skills</th>\n",
       "      <th>job_type_skills</th>\n",
       "      <th>is_remote</th>\n",
       "      <th>job_posted_year</th>\n",
       "    </tr>\n",
       "  </thead>\n",
       "  <tbody>\n",
       "    <tr>\n",
       "      <th>554784</th>\n",
       "      <td>Data Scientist</td>\n",
       "      <td>Data Scientist</td>\n",
       "      <td>Madison, SD</td>\n",
       "      <td>via Cooperative Career Center</td>\n",
       "      <td>Full-time</td>\n",
       "      <td>False</td>\n",
       "      <td>Illinois, United States</td>\n",
       "      <td>2023-05-04 19:06:06</td>\n",
       "      <td>False</td>\n",
       "      <td>True</td>\n",
       "      <td>United States</td>\n",
       "      <td>year</td>\n",
       "      <td>960000.0</td>\n",
       "      <td>NaN</td>\n",
       "      <td>East River Electric Power Cooperative, Inc.</td>\n",
       "      <td>['java', 'c++', 'python', 'r']</td>\n",
       "      <td>{'programming': ['java', 'c++', 'python', 'r']}</td>\n",
       "      <td>False</td>\n",
       "      <td>2023</td>\n",
       "    </tr>\n",
       "    <tr>\n",
       "      <th>665811</th>\n",
       "      <td>Senior Data Scientist</td>\n",
       "      <td>Senior Data Scientist</td>\n",
       "      <td>Pretoria, South Africa</td>\n",
       "      <td>via Adzuna</td>\n",
       "      <td>Full-time</td>\n",
       "      <td>False</td>\n",
       "      <td>South Africa</td>\n",
       "      <td>2023-11-02 10:31:43</td>\n",
       "      <td>False</td>\n",
       "      <td>False</td>\n",
       "      <td>South Africa</td>\n",
       "      <td>year</td>\n",
       "      <td>890000.0</td>\n",
       "      <td>NaN</td>\n",
       "      <td>MSP Staffing  LTD</td>\n",
       "      <td>['python', 'sql', 'java', 'c#', 'databricks', ...</td>\n",
       "      <td>{'cloud': ['databricks', 'azure'], 'libraries'...</td>\n",
       "      <td>False</td>\n",
       "      <td>2023</td>\n",
       "    </tr>\n",
       "    <tr>\n",
       "      <th>168402</th>\n",
       "      <td>Data Analyst</td>\n",
       "      <td>Data Analyst</td>\n",
       "      <td>Anywhere</td>\n",
       "      <td>via Y Combinator</td>\n",
       "      <td>Full-time</td>\n",
       "      <td>True</td>\n",
       "      <td>India</td>\n",
       "      <td>2023-02-20 15:13:44</td>\n",
       "      <td>True</td>\n",
       "      <td>False</td>\n",
       "      <td>India</td>\n",
       "      <td>year</td>\n",
       "      <td>650000.0</td>\n",
       "      <td>NaN</td>\n",
       "      <td>Mantys</td>\n",
       "      <td>None</td>\n",
       "      <td>None</td>\n",
       "      <td>True</td>\n",
       "      <td>2023</td>\n",
       "    </tr>\n",
       "    <tr>\n",
       "      <th>387378</th>\n",
       "      <td>Data Scientist</td>\n",
       "      <td>Geographic Information Systems Analyst - GIS A...</td>\n",
       "      <td>New York, NY</td>\n",
       "      <td>via ZipRecruiter</td>\n",
       "      <td>Full-time</td>\n",
       "      <td>False</td>\n",
       "      <td>New York, United States</td>\n",
       "      <td>2023-12-27 18:00:12</td>\n",
       "      <td>False</td>\n",
       "      <td>False</td>\n",
       "      <td>United States</td>\n",
       "      <td>year</td>\n",
       "      <td>585000.0</td>\n",
       "      <td>NaN</td>\n",
       "      <td>ReServe</td>\n",
       "      <td>['excel']</td>\n",
       "      <td>{'analyst_tools': ['excel']}</td>\n",
       "      <td>False</td>\n",
       "      <td>2023</td>\n",
       "    </tr>\n",
       "    <tr>\n",
       "      <th>160521</th>\n",
       "      <td>Data Scientist</td>\n",
       "      <td>Staff Data Scientist/Quant Researcher</td>\n",
       "      <td>Anywhere</td>\n",
       "      <td>via LinkedIn</td>\n",
       "      <td>Full-time</td>\n",
       "      <td>True</td>\n",
       "      <td>Sudan</td>\n",
       "      <td>2023-08-16 16:11:58</td>\n",
       "      <td>False</td>\n",
       "      <td>False</td>\n",
       "      <td>Sudan</td>\n",
       "      <td>year</td>\n",
       "      <td>550000.0</td>\n",
       "      <td>NaN</td>\n",
       "      <td>Selby Jennings</td>\n",
       "      <td>['python', 'sql']</td>\n",
       "      <td>{'programming': ['python', 'sql']}</td>\n",
       "      <td>True</td>\n",
       "      <td>2023</td>\n",
       "    </tr>\n",
       "  </tbody>\n",
       "</table>\n",
       "</div>"
      ],
      "text/plain": [
       "              job_title_short  \\\n",
       "554784         Data Scientist   \n",
       "665811  Senior Data Scientist   \n",
       "168402           Data Analyst   \n",
       "387378         Data Scientist   \n",
       "160521         Data Scientist   \n",
       "\n",
       "                                                job_title  \\\n",
       "554784                                     Data Scientist   \n",
       "665811                              Senior Data Scientist   \n",
       "168402                                       Data Analyst   \n",
       "387378  Geographic Information Systems Analyst - GIS A...   \n",
       "160521              Staff Data Scientist/Quant Researcher   \n",
       "\n",
       "                  job_location                        job_via  \\\n",
       "554784             Madison, SD  via Cooperative Career Center   \n",
       "665811  Pretoria, South Africa                     via Adzuna   \n",
       "168402                Anywhere               via Y Combinator   \n",
       "387378            New York, NY               via ZipRecruiter   \n",
       "160521                Anywhere                   via LinkedIn   \n",
       "\n",
       "       job_schedule_type  job_work_from_home          search_location  \\\n",
       "554784         Full-time               False  Illinois, United States   \n",
       "665811         Full-time               False             South Africa   \n",
       "168402         Full-time                True                    India   \n",
       "387378         Full-time               False  New York, United States   \n",
       "160521         Full-time                True                    Sudan   \n",
       "\n",
       "           job_posted_date  job_no_degree_mention  job_health_insurance  \\\n",
       "554784 2023-05-04 19:06:06                  False                  True   \n",
       "665811 2023-11-02 10:31:43                  False                 False   \n",
       "168402 2023-02-20 15:13:44                   True                 False   \n",
       "387378 2023-12-27 18:00:12                  False                 False   \n",
       "160521 2023-08-16 16:11:58                  False                 False   \n",
       "\n",
       "          job_country salary_rate  salary_year_avg  salary_hour_avg  \\\n",
       "554784  United States        year         960000.0              NaN   \n",
       "665811   South Africa        year         890000.0              NaN   \n",
       "168402          India        year         650000.0              NaN   \n",
       "387378  United States        year         585000.0              NaN   \n",
       "160521          Sudan        year         550000.0              NaN   \n",
       "\n",
       "                                       company_name  \\\n",
       "554784  East River Electric Power Cooperative, Inc.   \n",
       "665811                            MSP Staffing  LTD   \n",
       "168402                                       Mantys   \n",
       "387378                                      ReServe   \n",
       "160521                               Selby Jennings   \n",
       "\n",
       "                                               job_skills  \\\n",
       "554784                     ['java', 'c++', 'python', 'r']   \n",
       "665811  ['python', 'sql', 'java', 'c#', 'databricks', ...   \n",
       "168402                                               None   \n",
       "387378                                          ['excel']   \n",
       "160521                                  ['python', 'sql']   \n",
       "\n",
       "                                          job_type_skills  is_remote  \\\n",
       "554784    {'programming': ['java', 'c++', 'python', 'r']}      False   \n",
       "665811  {'cloud': ['databricks', 'azure'], 'libraries'...      False   \n",
       "168402                                               None       True   \n",
       "387378                       {'analyst_tools': ['excel']}      False   \n",
       "160521                 {'programming': ['python', 'sql']}       True   \n",
       "\n",
       "        job_posted_year  \n",
       "554784             2023  \n",
       "665811             2023  \n",
       "168402             2023  \n",
       "387378             2023  \n",
       "160521             2023  "
      ]
     },
     "execution_count": 374,
     "metadata": {},
     "output_type": "execute_result"
    }
   ],
   "source": [
    "df.dropna(subset=['salary_year_avg'], inplace=True)\n",
    "df.head(5)"
   ]
  },
  {
   "cell_type": "code",
   "execution_count": 375,
   "metadata": {},
   "outputs": [
    {
     "data": {
      "text/plain": [
       "123286.27407182401"
      ]
     },
     "execution_count": 375,
     "metadata": {},
     "output_type": "execute_result"
    }
   ],
   "source": [
    "df['salary_year_avg'].mean()\n"
   ]
  },
  {
   "cell_type": "code",
   "execution_count": 376,
   "metadata": {},
   "outputs": [
    {
     "data": {
      "text/plain": [
       "115000.0"
      ]
     },
     "execution_count": 376,
     "metadata": {},
     "output_type": "execute_result"
    }
   ],
   "source": [
    "df['salary_year_avg'].median()"
   ]
  },
  {
   "cell_type": "code",
   "execution_count": 377,
   "metadata": {},
   "outputs": [
    {
     "data": {
      "text/plain": [
       "job_title_short\n",
       "Business Analyst            NaN\n",
       "Cloud Engineer              NaN\n",
       "Data Analyst                NaN\n",
       "Data Engineer               NaN\n",
       "Data Scientist              NaN\n",
       "Machine Learning Engineer   NaN\n",
       "Senior Data Analyst         NaN\n",
       "Senior Data Engineer        NaN\n",
       "Senior Data Scientist       NaN\n",
       "Software Engineer           NaN\n",
       "Name: salary_hour_avg, dtype: float64"
      ]
     },
     "execution_count": 377,
     "metadata": {},
     "output_type": "execute_result"
    }
   ],
   "source": [
    "avg_hourly_by_job = df.groupby('job_title_short')['salary_hour_avg'].mean()\n",
    "avg_hourly_by_job"
   ]
  },
  {
   "cell_type": "code",
   "execution_count": 378,
   "metadata": {},
   "outputs": [
    {
     "name": "stdout",
     "output_type": "stream",
     "text": [
      "job_title_short    Job3\n",
      "salary_hour_avg    15.0\n",
      "Name: 1, dtype: object\n"
     ]
    }
   ],
   "source": [
    "import pandas as pd\n",
    "\n",
    "# Sample DataFrame for demonstration\n",
    "data = {\n",
    "    'job_title_short': ['Job1', 'Job2', 'Job3'],\n",
    "    'salary_hour_avg': [20, float('nan'), 15]\n",
    "}\n",
    "df = pd.DataFrame(data)\n",
    "\n",
    "# Clean the data by removing rows with NaN values in 'salary_hour_avg'\n",
    "df_cleaned = df.dropna(subset=['salary_hour_avg'])\n",
    "\n",
    "# Reset the index to ensure it's an integer index\n",
    "df_reset = df_cleaned.reset_index(drop=True)\n",
    "\n",
    "# Find the index of the minimum value in 'salary_hour_avg'\n",
    "min_hourly_index = df_reset['salary_hour_avg'].idxmin()\n",
    "\n",
    "# Retrieve the row with the minimum 'salary_hour_avg'\n",
    "min_hourly_job = df_reset.loc[min_hourly_index, ['job_title_short', 'salary_hour_avg']]\n",
    "\n",
    "print(min_hourly_job)\n"
   ]
  },
  {
   "cell_type": "markdown",
   "metadata": {},
   "source": [
    "#  Matplotlib"
   ]
  },
  {
   "cell_type": "code",
   "execution_count": 379,
   "metadata": {},
   "outputs": [
    {
     "name": "stdout",
     "output_type": "stream",
     "text": [
      "Requirement already satisfied: matplotlib in c:\\users\\darvi\\appdata\\local\\programs\\python\\python312\\lib\\site-packages (3.9.0)\n",
      "Requirement already satisfied: contourpy>=1.0.1 in c:\\users\\darvi\\appdata\\local\\programs\\python\\python312\\lib\\site-packages (from matplotlib) (1.2.1)\n",
      "Requirement already satisfied: cycler>=0.10 in c:\\users\\darvi\\appdata\\local\\programs\\python\\python312\\lib\\site-packages (from matplotlib) (0.12.1)\n",
      "Requirement already satisfied: fonttools>=4.22.0 in c:\\users\\darvi\\appdata\\local\\programs\\python\\python312\\lib\\site-packages (from matplotlib) (4.53.0)\n",
      "Requirement already satisfied: kiwisolver>=1.3.1 in c:\\users\\darvi\\appdata\\local\\programs\\python\\python312\\lib\\site-packages (from matplotlib) (1.4.5)\n",
      "Requirement already satisfied: numpy>=1.23 in c:\\users\\darvi\\appdata\\local\\programs\\python\\python312\\lib\\site-packages (from matplotlib) (1.26.4)\n",
      "Requirement already satisfied: packaging>=20.0 in c:\\users\\darvi\\appdata\\local\\programs\\python\\python312\\lib\\site-packages (from matplotlib) (23.2)\n",
      "Requirement already satisfied: pillow>=8 in c:\\users\\darvi\\appdata\\local\\programs\\python\\python312\\lib\\site-packages (from matplotlib) (10.3.0)\n",
      "Requirement already satisfied: pyparsing>=2.3.1 in c:\\users\\darvi\\appdata\\local\\programs\\python\\python312\\lib\\site-packages (from matplotlib) (3.1.2)\n",
      "Requirement already satisfied: python-dateutil>=2.7 in c:\\users\\darvi\\appdata\\roaming\\python\\python312\\site-packages (from matplotlib) (2.9.0.post0)\n",
      "Requirement already satisfied: six>=1.5 in c:\\users\\darvi\\appdata\\roaming\\python\\python312\\site-packages (from python-dateutil>=2.7->matplotlib) (1.16.0)\n",
      "Note: you may need to restart the kernel to use updated packages.\n"
     ]
    }
   ],
   "source": [
    "pip install matplotlib"
   ]
  },
  {
   "cell_type": "code",
   "execution_count": 380,
   "metadata": {},
   "outputs": [],
   "source": [
    "import matplotlib.pyplot as plt"
   ]
  },
  {
   "cell_type": "code",
   "execution_count": 381,
   "metadata": {},
   "outputs": [
    {
     "data": {
      "image/png": "[encoded data removed]",
      "text/plain": [
       "<Figure size 640x480 with 1 Axes>"
      ]
     },
     "metadata": {},
     "output_type": "display_data"
    }
   ],
   "source": [
    "months = ['January','Feburary','March','April']\n",
    "postings = [120,150,100,130]\n",
    "plt.plot(months,postings)\n",
    "plt.show()"
   ]
  },
  {
   "cell_type": "code",
   "execution_count": 382,
   "metadata": {},
   "outputs": [
    {
     "data": {
      "text/plain": [
       "<BarContainer object of 3 artists>"
      ]
     },
     "execution_count": 382,
     "metadata": {},
     "output_type": "execute_result"
    },
    {
     "data": {
      "image/png": "[encoded data removed]",
      "text/plain": [
       "<Figure size 640x480 with 1 Axes>"
      ]
     },
     "metadata": {},
     "output_type": "display_data"
    }
   ],
   "source": [
    "job_titles = ['Data Analyst', 'Data Scientist', 'Data Engineer'] \n",
    "postings = [50, 75, 60]\n",
    "plt.bar(job_titles,postings)\n"
   ]
  },
  {
   "cell_type": "code",
   "execution_count": 383,
   "metadata": {},
   "outputs": [],
   "source": [
    "import pandas as pd\n",
    "from datasets import load_dataset\n",
    "import matplotlib.pyplot as plt\n",
    "\n",
    "dataset = load_dataset('lukebarousse/data_jobs')\n",
    "df = dataset['train'].to_pandas()\n",
    "\n",
    "df['job_posted_date'] = pd.to_datetime(df['job_posted_date'])"
   ]
  },
  {
   "cell_type": "code",
   "execution_count": 384,
   "metadata": {},
   "outputs": [
    {
     "data": {
      "image/png": "[encoded data removed]",
      "text/plain": [
       "<Figure size 640x480 with 1 Axes>"
      ]
     },
     "metadata": {},
     "output_type": "display_data"
    }
   ],
   "source": [
    "location_count = df['job_country'].value_counts().head(5)\n",
    "plt.bar(location_count.index , location_count.values, color='orange')\n",
    "plt.show()"
   ]
  },
  {
   "cell_type": "code",
   "execution_count": 385,
   "metadata": {},
   "outputs": [
    {
     "data": {
      "image/png": "[encoded data removed]",
      "text/plain": [
       "<Figure size 640x480 with 1 Axes>"
      ]
     },
     "metadata": {},
     "output_type": "display_data"
    }
   ],
   "source": [
    "job_counts = (\n",
    "    df['job_title_short']\n",
    "    .value_counts()\n",
    "    .sort_values(ascending=True)\n",
    ")\n",
    "\n",
    "job_counts\n",
    "\n",
    "plt.barh(job_counts.index,job_counts)\n",
    "plt.show()"
   ]
  },
  {
   "cell_type": "code",
   "execution_count": 386,
   "metadata": {},
   "outputs": [],
   "source": [
    "import pandas as pd\n",
    "from datasets import load_dataset\n",
    "import matplotlib.pyplot as plt\n",
    "\n",
    "dataset = load_dataset('lukebarousse/data_jobs')\n",
    "df = dataset['train'].to_pandas()\n",
    "\n"
   ]
  },
  {
   "cell_type": "code",
   "execution_count": 387,
   "metadata": {},
   "outputs": [
    {
     "data": {
      "image/png": "[encoded data removed]",
      "text/plain": [
       "<Figure size 640x480 with 1 Axes>"
      ]
     },
     "metadata": {},
     "output_type": "display_data"
    }
   ],
   "source": [
    "# Data Cleanup\n",
    "df['job_posted_date'] = pd.to_datetime(df['job_posted_date'])\n",
    "df['job_posted_month'] = df['job_posted_date'].dt.month\n",
    "monthly_avg_salary = df.groupby('job_posted_month')['salary_year_avg'].mean().sort_index()\n",
    "monthly_avg_salary\n",
    "\n",
    "plt.plot(monthly_avg_salary.index, monthly_avg_salary.values, color='green', label='Average Salary')\n",
    "plt.show()"
   ]
  },
  {
   "cell_type": "code",
   "execution_count": 388,
   "metadata": {},
   "outputs": [
    {
     "data": {
      "text/plain": [
       "<BarContainer object of 1 artists>"
      ]
     },
     "execution_count": 388,
     "metadata": {},
     "output_type": "execute_result"
    },
    {
     "data": {
      "image/png": "[encoded data removed]",
      "text/plain": [
       "<Figure size 640x480 with 1 Axes>"
      ]
     },
     "metadata": {},
     "output_type": "display_data"
    }
   ],
   "source": [
    "df['job_posted_year'] = df['job_posted_date'].dt.year\n",
    "Yearly_avg_salary = df.groupby('job_posted_year')['salary_year_avg'].mean().sort_index()\n",
    "Yearly_avg_salary\n",
    "plt.barh(Yearly_avg_salary.index,Yearly_avg_salary.values, color='Red')"
   ]
  },
  {
   "cell_type": "code",
   "execution_count": 389,
   "metadata": {},
   "outputs": [],
   "source": [
    "import pandas as pd\n",
    "from datasets import load_dataset\n",
    "import matplotlib.pyplot as plt\n",
    "\n",
    "dataset = load_dataset('lukebarousse/data_jobs')\n",
    "df = dataset['train'].to_pandas()\n",
    "\n",
    "df['job_posted_date'] = pd.to_datetime(df['job_posted_date'])\n"
   ]
  },
  {
   "cell_type": "code",
   "execution_count": 390,
   "metadata": {},
   "outputs": [
    {
     "data": {
      "image/png": "[encoded data removed]",
      "text/plain": [
       "<Figure size 640x480 with 1 Axes>"
      ]
     },
     "metadata": {},
     "output_type": "display_data"
    }
   ],
   "source": [
    "location_count = df['job_country'].value_counts().head(5)\n",
    "plt.bar(location_count.index , location_count.values, color='orange')\n",
    "plt.xlabel('Country')\n",
    "plt.ylabel('Number of Postings')\n",
    "plt.title('Number of Jobs per country')\n",
    "plt.xticks(rotation=45, ha='right')\n",
    "plt.show()"
   ]
  },
  {
   "cell_type": "code",
   "execution_count": 391,
   "metadata": {},
   "outputs": [
    {
     "data": {
      "image/png": "[encoded data removed]",
      "text/plain": [
       "<Figure size 640x480 with 1 Axes>"
      ]
     },
     "metadata": {},
     "output_type": "display_data"
    }
   ],
   "source": [
    "avg_salary_by_job = df.groupby('job_title_short')['salary_year_avg'].mean().sort_values()\n",
    "plt.barh(avg_salary_by_job.index,avg_salary_by_job.values, color='orange')\n",
    "plt.xlabel('Average Salary')\n",
    "plt.title('Average Salary by Job Title')\n",
    "plt.show()\n"
   ]
  },
  {
   "cell_type": "code",
   "execution_count": 392,
   "metadata": {},
   "outputs": [
    {
     "data": {
      "text/html": [
       "<div>\n",
       "<style scoped>\n",
       "    .dataframe tbody tr th:only-of-type {\n",
       "        vertical-align: middle;\n",
       "    }\n",
       "\n",
       "    .dataframe tbody tr th {\n",
       "        vertical-align: top;\n",
       "    }\n",
       "\n",
       "    .dataframe thead th {\n",
       "        text-align: right;\n",
       "    }\n",
       "</style>\n",
       "<table border=\"1\" class=\"dataframe\">\n",
       "  <thead>\n",
       "    <tr style=\"text-align: right;\">\n",
       "      <th></th>\n",
       "      <th>job_title_short</th>\n",
       "      <th>job_title</th>\n",
       "      <th>job_location</th>\n",
       "      <th>job_via</th>\n",
       "      <th>job_schedule_type</th>\n",
       "      <th>job_work_from_home</th>\n",
       "      <th>search_location</th>\n",
       "      <th>job_posted_date</th>\n",
       "      <th>job_no_degree_mention</th>\n",
       "      <th>job_health_insurance</th>\n",
       "      <th>job_country</th>\n",
       "      <th>salary_rate</th>\n",
       "      <th>salary_year_avg</th>\n",
       "      <th>salary_hour_avg</th>\n",
       "      <th>company_name</th>\n",
       "      <th>job_skills</th>\n",
       "      <th>job_type_skills</th>\n",
       "    </tr>\n",
       "  </thead>\n",
       "  <tbody>\n",
       "    <tr>\n",
       "      <th>0</th>\n",
       "      <td>Senior Data Engineer</td>\n",
       "      <td>Senior Clinical Data Engineer / Principal Clin...</td>\n",
       "      <td>Watertown, CT</td>\n",
       "      <td>via Work Nearby</td>\n",
       "      <td>Full-time</td>\n",
       "      <td>False</td>\n",
       "      <td>Texas, United States</td>\n",
       "      <td>2023-06-16 13:44:15</td>\n",
       "      <td>False</td>\n",
       "      <td>False</td>\n",
       "      <td>United States</td>\n",
       "      <td>None</td>\n",
       "      <td>NaN</td>\n",
       "      <td>NaN</td>\n",
       "      <td>Boehringer Ingelheim</td>\n",
       "      <td>None</td>\n",
       "      <td>None</td>\n",
       "    </tr>\n",
       "    <tr>\n",
       "      <th>1</th>\n",
       "      <td>Data Analyst</td>\n",
       "      <td>Data Analyst</td>\n",
       "      <td>Guadalajara, Jalisco, Mexico</td>\n",
       "      <td>via BeBee México</td>\n",
       "      <td>Full-time</td>\n",
       "      <td>False</td>\n",
       "      <td>Mexico</td>\n",
       "      <td>2023-01-14 13:18:07</td>\n",
       "      <td>False</td>\n",
       "      <td>False</td>\n",
       "      <td>Mexico</td>\n",
       "      <td>None</td>\n",
       "      <td>NaN</td>\n",
       "      <td>NaN</td>\n",
       "      <td>Hewlett Packard Enterprise</td>\n",
       "      <td>['r', 'python', 'sql', 'nosql', 'power bi', 't...</td>\n",
       "      <td>{'analyst_tools': ['power bi', 'tableau'], 'pr...</td>\n",
       "    </tr>\n",
       "    <tr>\n",
       "      <th>2</th>\n",
       "      <td>Data Engineer</td>\n",
       "      <td>Data Engineer/Scientist/Analyst, Mid or Senior...</td>\n",
       "      <td>Berlin, Germany</td>\n",
       "      <td>via LinkedIn</td>\n",
       "      <td>Full-time</td>\n",
       "      <td>False</td>\n",
       "      <td>Germany</td>\n",
       "      <td>2023-10-10 13:14:55</td>\n",
       "      <td>False</td>\n",
       "      <td>False</td>\n",
       "      <td>Germany</td>\n",
       "      <td>None</td>\n",
       "      <td>NaN</td>\n",
       "      <td>NaN</td>\n",
       "      <td>ALPHA Augmented Services</td>\n",
       "      <td>['python', 'sql', 'c#', 'azure', 'airflow', 'd...</td>\n",
       "      <td>{'analyst_tools': ['dax'], 'cloud': ['azure'],...</td>\n",
       "    </tr>\n",
       "  </tbody>\n",
       "</table>\n",
       "</div>"
      ],
      "text/plain": [
       "        job_title_short                                          job_title  \\\n",
       "0  Senior Data Engineer  Senior Clinical Data Engineer / Principal Clin...   \n",
       "1          Data Analyst                                       Data Analyst   \n",
       "2         Data Engineer  Data Engineer/Scientist/Analyst, Mid or Senior...   \n",
       "\n",
       "                   job_location           job_via job_schedule_type  \\\n",
       "0                 Watertown, CT   via Work Nearby         Full-time   \n",
       "1  Guadalajara, Jalisco, Mexico  via BeBee México         Full-time   \n",
       "2               Berlin, Germany      via LinkedIn         Full-time   \n",
       "\n",
       "   job_work_from_home       search_location     job_posted_date  \\\n",
       "0               False  Texas, United States 2023-06-16 13:44:15   \n",
       "1               False                Mexico 2023-01-14 13:18:07   \n",
       "2               False               Germany 2023-10-10 13:14:55   \n",
       "\n",
       "   job_no_degree_mention  job_health_insurance    job_country salary_rate  \\\n",
       "0                  False                 False  United States        None   \n",
       "1                  False                 False         Mexico        None   \n",
       "2                  False                 False        Germany        None   \n",
       "\n",
       "   salary_year_avg  salary_hour_avg                company_name  \\\n",
       "0              NaN              NaN        Boehringer Ingelheim   \n",
       "1              NaN              NaN  Hewlett Packard Enterprise   \n",
       "2              NaN              NaN    ALPHA Augmented Services   \n",
       "\n",
       "                                          job_skills  \\\n",
       "0                                               None   \n",
       "1  ['r', 'python', 'sql', 'nosql', 'power bi', 't...   \n",
       "2  ['python', 'sql', 'c#', 'azure', 'airflow', 'd...   \n",
       "\n",
       "                                     job_type_skills  \n",
       "0                                               None  \n",
       "1  {'analyst_tools': ['power bi', 'tableau'], 'pr...  \n",
       "2  {'analyst_tools': ['dax'], 'cloud': ['azure'],...  "
      ]
     },
     "execution_count": 392,
     "metadata": {},
     "output_type": "execute_result"
    }
   ],
   "source": [
    "df.head(3)"
   ]
  },
  {
   "cell_type": "code",
   "execution_count": 393,
   "metadata": {},
   "outputs": [
    {
     "name": "stdout",
     "output_type": "stream",
     "text": [
      "job_title_short\n",
      "Business Analyst             42.723415\n",
      "Cloud Engineer               45.560715\n",
      "Data Analyst                 38.106918\n",
      "Data Engineer                57.196998\n",
      "Data Scientist               49.361403\n",
      "Machine Learning Engineer    48.477935\n",
      "Senior Data Analyst          47.661218\n",
      "Senior Data Engineer         62.848496\n",
      "Senior Data Scientist        54.105631\n",
      "Software Engineer            46.452019\n",
      "Name: salary_hour_avg, dtype: float64\n"
     ]
    },
    {
     "data": {
      "text/plain": [
       "([0, 1, 2, 3, 4, 5, 6, 7, 8, 9],\n",
       " [Text(0, 0, 'Business Analyst'),\n",
       "  Text(1, 0, 'Cloud Engineer'),\n",
       "  Text(2, 0, 'Data Analyst'),\n",
       "  Text(3, 0, 'Data Engineer'),\n",
       "  Text(4, 0, 'Data Scientist'),\n",
       "  Text(5, 0, 'Machine Learning Engineer'),\n",
       "  Text(6, 0, 'Senior Data Analyst'),\n",
       "  Text(7, 0, 'Senior Data Engineer'),\n",
       "  Text(8, 0, 'Senior Data Scientist'),\n",
       "  Text(9, 0, 'Software Engineer')])"
      ]
     },
     "execution_count": 393,
     "metadata": {},
     "output_type": "execute_result"
    },
    {
     "data": {
      "image/png": "[encoded data removed]",
      "text/plain": [
       "<Figure size 640x480 with 1 Axes>"
      ]
     },
     "metadata": {},
     "output_type": "display_data"
    }
   ],
   "source": [
    "result = df.groupby('job_title_short')['salary_hour_avg'].mean()\n",
    "\n",
    "# Display the result\n",
    "print(result)\n",
    "\n",
    "plt.plot(result.index,result.values, color='lightblue')\n",
    "plt.xticks(rotation=45,ha ='right')"
   ]
  },
  {
   "cell_type": "code",
   "execution_count": 394,
   "metadata": {},
   "outputs": [
    {
     "data": {
      "image/png": "[encoded data removed]",
      "text/plain": [
       "<Figure size 640x480 with 1 Axes>"
      ]
     },
     "metadata": {},
     "output_type": "display_data"
    }
   ],
   "source": [
    "df['job_posted_month'] = df['job_posted_date'].dt.month\n",
    "monthly_avg_salary = df.groupby('job_posted_month')['salary_year_avg'].mean().sort_index()\n",
    "plt.plot(monthly_avg_salary.index,monthly_avg_salary.values, color='red', label='Average Salary')\n",
    "plt.show()\n"
   ]
  },
  {
   "cell_type": "code",
   "execution_count": 395,
   "metadata": {},
   "outputs": [
    {
     "data": {
      "image/png": "[encoded data removed]",
      "text/plain": [
       "<Figure size 640x480 with 1 Axes>"
      ]
     },
     "metadata": {},
     "output_type": "display_data"
    }
   ],
   "source": [
    "import pandas as pd\n",
    "from datasets import load_dataset\n",
    "\n",
    "dataset = load_dataset('lukebarousse/data_jobs')\n",
    "df =dataset['train'].to_pandas()\n",
    "\n",
    "job_counts = df['job_via'].value_counts().head(5).plot(kind='bar')\n",
    "plt.show()"
   ]
  },
  {
   "cell_type": "code",
   "execution_count": 396,
   "metadata": {},
   "outputs": [
    {
     "data": {
      "image/png": "[encoded data removed]",
      "text/plain": [
       "<Figure size 640x480 with 1 Axes>"
      ]
     },
     "metadata": {},
     "output_type": "display_data"
    }
   ],
   "source": [
    "df['job_posted_date']= pd.to_datetime(df['job_posted_date'])\n",
    "\n",
    "df['job_posted_month'] = df['job_posted_date'].dt.to_period('M')\n",
    "monthly_job_counts = df['job_posted_month'].value_counts().sort_index()\n",
    "monthly_job_counts.plot(kind='line')\n",
    "plt.xlabel('month')\n",
    "plt.ylabel('Number of Job Postings')\n",
    "plt.title('Trend of Job Posting Over Time')\n",
    "plt.show()"
   ]
  },
  {
   "cell_type": "code",
   "execution_count": 397,
   "metadata": {},
   "outputs": [
    {
     "data": {
      "image/png": "[encoded data removed]",
      "text/plain": [
       "<Figure size 640x480 with 1 Axes>"
      ]
     },
     "metadata": {},
     "output_type": "display_data"
    }
   ],
   "source": [
    "loc_coun=df['job_location'].value_counts().head(5)\n",
    "loc_coun.plot(kind='barh')\n",
    "plt.xlabel(\"Count of Jobs\")\n",
    "plt.ylabel(\"Job Location\")\n",
    "plt.title(\"Number of JOb Postings by Job Loacations\")\n",
    "plt.show()"
   ]
  },
  {
   "cell_type": "code",
   "execution_count": null,
   "metadata": {},
   "outputs": [],
   "source": []
  }
 ],
 "metadata": {
  "kernelspec": {
   "display_name": "Python 3",
   "language": "python",
   "name": "python3"
  },
  "language_info": {
   "codemirror_mode": {
    "name": "ipython",
    "version": 3
   },
   "file_extension": ".py",
   "mimetype": "text/x-python",
   "name": "python",
   "nbconvert_exporter": "python",
   "pygments_lexer": "ipython3",
   "version": "3.12.0"
  }
 },
 "nbformat": 4,
 "nbformat_minor": 2
}
